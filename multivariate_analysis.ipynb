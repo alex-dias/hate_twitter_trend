{
 "cells": [
  {
   "cell_type": "code",
   "execution_count": 1,
   "metadata": {},
   "outputs": [
    {
     "name": "stderr",
     "output_type": "stream",
     "text": [
      "c:\\Users\\Alexandre\\anaconda3\\envs\\tf10\\lib\\site-packages\\tqdm\\auto.py:22: TqdmWarning: IProgress not found. Please update jupyter and ipywidgets. See https://ipywidgets.readthedocs.io/en/stable/user_install.html\n",
      "  from .autonotebook import tqdm as notebook_tqdm\n",
      "C:\\Users\\Alexandre\\AppData\\Local\\Temp\\ipykernel_18748\\82198243.py:6: FutureWarning: The pandas.datetime class is deprecated and will be removed from pandas in a future version. Import from datetime module instead.\n",
      "  from pandas import datetime\n"
     ]
    }
   ],
   "source": [
    "import numpy as np\n",
    "import pandas as pd \n",
    "import matplotlib.pyplot as plt\n",
    "import optuna\n",
    "%matplotlib inline\n",
    "from pandas import datetime\n",
    "import math, time\n",
    "import itertools\n",
    "from sklearn import preprocessing\n",
    "import datetime\n",
    "from operator import itemgetter\n",
    "from sklearn.preprocessing import MinMaxScaler\n",
    "from sklearn.metrics import mean_squared_error\n",
    "from math import sqrt\n",
    "from keras.models import Sequential\n",
    "from keras.layers.core import Dense, Dropout, Activation\n",
    "from keras.layers import LSTM\n",
    "from keras.models import load_model\n",
    "import statsmodels.api as sm"
   ]
  },
  {
   "cell_type": "code",
   "execution_count": 2,
   "metadata": {},
   "outputs": [],
   "source": [
    "def merge_dfs(list_df):\n",
    "    df = list_df[0]\n",
    "\n",
    "    for i in range(1, len(list_df)):\n",
    "        df = pd.merge(df, list_df[i], how='outer', on='date')\n",
    "\n",
    "    df = df.fillna(df.mean())\n",
    "\n",
    "    return df.sort_values(by='date').reset_index(drop=True)"
   ]
  },
  {
   "cell_type": "code",
   "execution_count": 3,
   "metadata": {},
   "outputs": [],
   "source": [
    "cnt_join = pd.read_csv(\"series/count_join.csv\")\n",
    "max_hate = pd.read_csv(\"series/max_hate.csv\")\n",
    "sum_hate = pd.read_csv(\"series/sum_hate.csv\")\n",
    "avg_hate = pd.read_csv(\"series/avg_hate.csv\")\n",
    "max_news = pd.read_csv(\"series/max_news.csv\")\n",
    "sum_news = pd.read_csv(\"series/sum_news.csv\")\n",
    "avg_news = pd.read_csv(\"series/avg_news.csv\")\n",
    "cnt_news = pd.read_csv(\"series/cnt_news.csv\")\n",
    "per25_hate = pd.read_csv(\"series/per25_hate.csv\")\n",
    "per75_hate = pd.read_csv(\"series/per75_hate.csv\")\n",
    "per90_hate = pd.read_csv(\"series/per90_hate.csv\")\n",
    "per99_hate = pd.read_csv(\"series/per99_hate.csv\")"
   ]
  },
  {
   "cell_type": "code",
   "execution_count": 4,
   "metadata": {},
   "outputs": [
    {
     "name": "stderr",
     "output_type": "stream",
     "text": [
      "C:\\Users\\Alexandre\\AppData\\Local\\Temp\\ipykernel_18748\\1584734230.py:5: FutureWarning: Passing 'suffixes' which cause duplicate columns {'per_x'} in the result is deprecated and will raise a MergeError in a future version.\n",
      "  df = pd.merge(df, list_df[i], how='outer', on='date')\n",
      "C:\\Users\\Alexandre\\AppData\\Local\\Temp\\ipykernel_18748\\1584734230.py:7: FutureWarning: The default value of numeric_only in DataFrame.mean is deprecated. In a future version, it will default to False. In addition, specifying 'numeric_only=None' is deprecated. Select only valid columns or specify the value of numeric_only to silence this warning.\n",
      "  df = df.fillna(df.mean())\n"
     ]
    }
   ],
   "source": [
    "merge_df = merge_dfs([cnt_join[['date', 'rate']], max_hate, sum_hate, avg_hate, max_news, sum_news, avg_news, cnt_news, per25_hate, per75_hate, per90_hate, per99_hate])\n",
    "merge_df['date'] = pd.to_datetime(merge_df['date'])"
   ]
  },
  {
   "cell_type": "code",
   "execution_count": 5,
   "metadata": {},
   "outputs": [
    {
     "name": "stderr",
     "output_type": "stream",
     "text": [
      "C:\\Users\\Alexandre\\AppData\\Local\\Temp\\ipykernel_18748\\188536859.py:5: FutureWarning: Series.dt.weekofyear and Series.dt.week have been deprecated. Please use Series.dt.isocalendar().week instead.\n",
      "  merge_df['week_of_year'] = merge_df['date'].dt.weekofyear\n"
     ]
    }
   ],
   "source": [
    "merge_df['day_of_week'] = merge_df['date'].dt.dayofweek\n",
    "merge_df['day_of_month'] = merge_df['date'].dt.day\n",
    "merge_df['month'] = merge_df['date'].dt.month\n",
    "merge_df['day_of_year'] = merge_df['date'].dt.dayofyear\n",
    "merge_df['week_of_year'] = merge_df['date'].dt.weekofyear\n",
    "merge_df['quarter'] = merge_df['date'].dt.quarter"
   ]
  },
  {
   "cell_type": "code",
   "execution_count": 6,
   "metadata": {},
   "outputs": [],
   "source": [
    "merge_df['day_of_week_sin'] = np.sin(merge_df['day_of_week']*(2.*np.pi/7))\n",
    "merge_df['day_of_week_cos'] = np.cos(merge_df['day_of_week']*(2.*np.pi/7))\n",
    "merge_df['day_of_month_sin'] = np.sin(merge_df['day_of_month']*(2.*np.pi/30))\n",
    "merge_df['day_of_month_cos'] = np.cos(merge_df['day_of_month']*(2.*np.pi/30))\n",
    "merge_df['month_sin'] = np.sin((merge_df['month']-1)*(2.*np.pi/12))\n",
    "merge_df['month_cos'] = np.cos((merge_df['month']-1)*(2.*np.pi/12))\n",
    "merge_df['day_of_year_sin'] = np.sin(merge_df['day_of_year']*(2.*np.pi/365))\n",
    "merge_df['day_of_year_cos'] = np.cos(merge_df['day_of_year']*(2.*np.pi/365))\n",
    "merge_df['week_of_year_sin'] = np.sin(merge_df['week_of_year']*(2.*np.pi/52))\n",
    "merge_df['week_of_year_cos'] = np.cos(merge_df['week_of_year']*(2.*np.pi/52))\n",
    "merge_df['quarter_sin'] = np.sin((merge_df['quarter']-1)*(2.*np.pi/4))\n",
    "merge_df['quarter_cos'] = np.cos((merge_df['quarter']-1)*(2.*np.pi/4))"
   ]
  },
  {
   "cell_type": "code",
   "execution_count": 7,
   "metadata": {},
   "outputs": [
    {
     "data": {
      "text/html": [
       "<div>\n",
       "<style scoped>\n",
       "    .dataframe tbody tr th:only-of-type {\n",
       "        vertical-align: middle;\n",
       "    }\n",
       "\n",
       "    .dataframe tbody tr th {\n",
       "        vertical-align: top;\n",
       "    }\n",
       "\n",
       "    .dataframe thead th {\n",
       "        text-align: right;\n",
       "    }\n",
       "</style>\n",
       "<table border=\"1\" class=\"dataframe\">\n",
       "  <thead>\n",
       "    <tr style=\"text-align: right;\">\n",
       "      <th></th>\n",
       "      <th>rate</th>\n",
       "      <th>max_x</th>\n",
       "      <th>sum_x</th>\n",
       "      <th>avg_x</th>\n",
       "      <th>max_y</th>\n",
       "      <th>sum_y</th>\n",
       "      <th>avg_y</th>\n",
       "      <th>cnt</th>\n",
       "      <th>per_x</th>\n",
       "      <th>per_y</th>\n",
       "      <th>...</th>\n",
       "      <th>day_of_month_sin</th>\n",
       "      <th>day_of_month_cos</th>\n",
       "      <th>month_sin</th>\n",
       "      <th>month_cos</th>\n",
       "      <th>day_of_year_sin</th>\n",
       "      <th>day_of_year_cos</th>\n",
       "      <th>week_of_year_sin</th>\n",
       "      <th>week_of_year_cos</th>\n",
       "      <th>quarter_sin</th>\n",
       "      <th>quarter_cos</th>\n",
       "    </tr>\n",
       "  </thead>\n",
       "  <tbody>\n",
       "    <tr>\n",
       "      <th>0</th>\n",
       "      <td>28.485294</td>\n",
       "      <td>0.9907</td>\n",
       "      <td>92.8908</td>\n",
       "      <td>0.047956</td>\n",
       "      <td>458</td>\n",
       "      <td>799</td>\n",
       "      <td>266.333333</td>\n",
       "      <td>3</td>\n",
       "      <td>0.0003</td>\n",
       "      <td>0.008400</td>\n",
       "      <td>...</td>\n",
       "      <td>0.207912</td>\n",
       "      <td>0.978148</td>\n",
       "      <td>0.0</td>\n",
       "      <td>1.000000e+00</td>\n",
       "      <td>0.017213</td>\n",
       "      <td>0.999852</td>\n",
       "      <td>-2.449294e-16</td>\n",
       "      <td>1.000000</td>\n",
       "      <td>0.0</td>\n",
       "      <td>1.000000e+00</td>\n",
       "    </tr>\n",
       "    <tr>\n",
       "      <th>1</th>\n",
       "      <td>23.651163</td>\n",
       "      <td>0.9950</td>\n",
       "      <td>51.2714</td>\n",
       "      <td>0.050414</td>\n",
       "      <td>589</td>\n",
       "      <td>1644</td>\n",
       "      <td>234.857143</td>\n",
       "      <td>7</td>\n",
       "      <td>0.0003</td>\n",
       "      <td>0.008300</td>\n",
       "      <td>...</td>\n",
       "      <td>0.406737</td>\n",
       "      <td>0.913545</td>\n",
       "      <td>0.0</td>\n",
       "      <td>1.000000e+00</td>\n",
       "      <td>0.034422</td>\n",
       "      <td>0.999407</td>\n",
       "      <td>-2.449294e-16</td>\n",
       "      <td>1.000000</td>\n",
       "      <td>0.0</td>\n",
       "      <td>1.000000e+00</td>\n",
       "    </tr>\n",
       "    <tr>\n",
       "      <th>2</th>\n",
       "      <td>27.139241</td>\n",
       "      <td>0.9959</td>\n",
       "      <td>99.9323</td>\n",
       "      <td>0.046610</td>\n",
       "      <td>257</td>\n",
       "      <td>1099</td>\n",
       "      <td>137.375000</td>\n",
       "      <td>8</td>\n",
       "      <td>0.0003</td>\n",
       "      <td>0.007400</td>\n",
       "      <td>...</td>\n",
       "      <td>0.587785</td>\n",
       "      <td>0.809017</td>\n",
       "      <td>0.0</td>\n",
       "      <td>1.000000e+00</td>\n",
       "      <td>0.051620</td>\n",
       "      <td>0.998667</td>\n",
       "      <td>1.205367e-01</td>\n",
       "      <td>0.992709</td>\n",
       "      <td>0.0</td>\n",
       "      <td>1.000000e+00</td>\n",
       "    </tr>\n",
       "    <tr>\n",
       "      <th>3</th>\n",
       "      <td>35.594595</td>\n",
       "      <td>0.9975</td>\n",
       "      <td>49.3796</td>\n",
       "      <td>0.037494</td>\n",
       "      <td>282</td>\n",
       "      <td>887</td>\n",
       "      <td>98.555556</td>\n",
       "      <td>9</td>\n",
       "      <td>0.0002</td>\n",
       "      <td>0.005000</td>\n",
       "      <td>...</td>\n",
       "      <td>0.743145</td>\n",
       "      <td>0.669131</td>\n",
       "      <td>0.0</td>\n",
       "      <td>1.000000e+00</td>\n",
       "      <td>0.068802</td>\n",
       "      <td>0.997630</td>\n",
       "      <td>1.205367e-01</td>\n",
       "      <td>0.992709</td>\n",
       "      <td>0.0</td>\n",
       "      <td>1.000000e+00</td>\n",
       "    </tr>\n",
       "    <tr>\n",
       "      <th>4</th>\n",
       "      <td>29.492308</td>\n",
       "      <td>0.9928</td>\n",
       "      <td>81.8804</td>\n",
       "      <td>0.042713</td>\n",
       "      <td>143</td>\n",
       "      <td>769</td>\n",
       "      <td>69.909091</td>\n",
       "      <td>11</td>\n",
       "      <td>0.0002</td>\n",
       "      <td>0.007700</td>\n",
       "      <td>...</td>\n",
       "      <td>0.866025</td>\n",
       "      <td>0.500000</td>\n",
       "      <td>0.0</td>\n",
       "      <td>1.000000e+00</td>\n",
       "      <td>0.085965</td>\n",
       "      <td>0.996298</td>\n",
       "      <td>1.205367e-01</td>\n",
       "      <td>0.992709</td>\n",
       "      <td>0.0</td>\n",
       "      <td>1.000000e+00</td>\n",
       "    </tr>\n",
       "    <tr>\n",
       "      <th>...</th>\n",
       "      <td>...</td>\n",
       "      <td>...</td>\n",
       "      <td>...</td>\n",
       "      <td>...</td>\n",
       "      <td>...</td>\n",
       "      <td>...</td>\n",
       "      <td>...</td>\n",
       "      <td>...</td>\n",
       "      <td>...</td>\n",
       "      <td>...</td>\n",
       "      <td>...</td>\n",
       "      <td>...</td>\n",
       "      <td>...</td>\n",
       "      <td>...</td>\n",
       "      <td>...</td>\n",
       "      <td>...</td>\n",
       "      <td>...</td>\n",
       "      <td>...</td>\n",
       "      <td>...</td>\n",
       "      <td>...</td>\n",
       "      <td>...</td>\n",
       "    </tr>\n",
       "    <tr>\n",
       "      <th>479</th>\n",
       "      <td>12.064171</td>\n",
       "      <td>0.9989</td>\n",
       "      <td>210.0204</td>\n",
       "      <td>0.093094</td>\n",
       "      <td>453</td>\n",
       "      <td>1223</td>\n",
       "      <td>61.150000</td>\n",
       "      <td>20</td>\n",
       "      <td>0.0004</td>\n",
       "      <td>0.026925</td>\n",
       "      <td>...</td>\n",
       "      <td>-0.866025</td>\n",
       "      <td>0.500000</td>\n",
       "      <td>1.0</td>\n",
       "      <td>6.123234e-17</td>\n",
       "      <td>0.917584</td>\n",
       "      <td>-0.397543</td>\n",
       "      <td>8.854560e-01</td>\n",
       "      <td>-0.464723</td>\n",
       "      <td>1.0</td>\n",
       "      <td>6.123234e-17</td>\n",
       "    </tr>\n",
       "    <tr>\n",
       "      <th>480</th>\n",
       "      <td>15.239726</td>\n",
       "      <td>0.9989</td>\n",
       "      <td>177.5287</td>\n",
       "      <td>0.079788</td>\n",
       "      <td>789</td>\n",
       "      <td>3455</td>\n",
       "      <td>98.714286</td>\n",
       "      <td>35</td>\n",
       "      <td>0.0004</td>\n",
       "      <td>0.023700</td>\n",
       "      <td>...</td>\n",
       "      <td>-0.743145</td>\n",
       "      <td>0.669131</td>\n",
       "      <td>1.0</td>\n",
       "      <td>6.123234e-17</td>\n",
       "      <td>0.910605</td>\n",
       "      <td>-0.413279</td>\n",
       "      <td>8.854560e-01</td>\n",
       "      <td>-0.464723</td>\n",
       "      <td>1.0</td>\n",
       "      <td>6.123234e-17</td>\n",
       "    </tr>\n",
       "    <tr>\n",
       "      <th>481</th>\n",
       "      <td>15.489655</td>\n",
       "      <td>0.9984</td>\n",
       "      <td>169.6245</td>\n",
       "      <td>0.075523</td>\n",
       "      <td>485</td>\n",
       "      <td>3382</td>\n",
       "      <td>86.717949</td>\n",
       "      <td>39</td>\n",
       "      <td>0.0004</td>\n",
       "      <td>0.020975</td>\n",
       "      <td>...</td>\n",
       "      <td>-0.587785</td>\n",
       "      <td>0.809017</td>\n",
       "      <td>1.0</td>\n",
       "      <td>6.123234e-17</td>\n",
       "      <td>0.903356</td>\n",
       "      <td>-0.428892</td>\n",
       "      <td>8.854560e-01</td>\n",
       "      <td>-0.464723</td>\n",
       "      <td>1.0</td>\n",
       "      <td>6.123234e-17</td>\n",
       "    </tr>\n",
       "    <tr>\n",
       "      <th>482</th>\n",
       "      <td>11.074627</td>\n",
       "      <td>0.9988</td>\n",
       "      <td>222.3370</td>\n",
       "      <td>0.099882</td>\n",
       "      <td>521</td>\n",
       "      <td>2535</td>\n",
       "      <td>74.558824</td>\n",
       "      <td>34</td>\n",
       "      <td>0.0004</td>\n",
       "      <td>0.028800</td>\n",
       "      <td>...</td>\n",
       "      <td>-0.406737</td>\n",
       "      <td>0.913545</td>\n",
       "      <td>1.0</td>\n",
       "      <td>6.123234e-17</td>\n",
       "      <td>0.895839</td>\n",
       "      <td>-0.444378</td>\n",
       "      <td>8.854560e-01</td>\n",
       "      <td>-0.464723</td>\n",
       "      <td>1.0</td>\n",
       "      <td>6.123234e-17</td>\n",
       "    </tr>\n",
       "    <tr>\n",
       "      <th>483</th>\n",
       "      <td>14.208861</td>\n",
       "      <td>0.9987</td>\n",
       "      <td>193.0984</td>\n",
       "      <td>0.086013</td>\n",
       "      <td>456</td>\n",
       "      <td>2029</td>\n",
       "      <td>225.444444</td>\n",
       "      <td>9</td>\n",
       "      <td>0.0005</td>\n",
       "      <td>0.027400</td>\n",
       "      <td>...</td>\n",
       "      <td>-0.207912</td>\n",
       "      <td>0.978148</td>\n",
       "      <td>1.0</td>\n",
       "      <td>6.123234e-17</td>\n",
       "      <td>0.888057</td>\n",
       "      <td>-0.459733</td>\n",
       "      <td>8.854560e-01</td>\n",
       "      <td>-0.464723</td>\n",
       "      <td>1.0</td>\n",
       "      <td>6.123234e-17</td>\n",
       "    </tr>\n",
       "  </tbody>\n",
       "</table>\n",
       "<p>484 rows × 30 columns</p>\n",
       "</div>"
      ],
      "text/plain": [
       "          rate   max_x     sum_x     avg_x  max_y  sum_y       avg_y  cnt  \\\n",
       "0    28.485294  0.9907   92.8908  0.047956    458    799  266.333333    3   \n",
       "1    23.651163  0.9950   51.2714  0.050414    589   1644  234.857143    7   \n",
       "2    27.139241  0.9959   99.9323  0.046610    257   1099  137.375000    8   \n",
       "3    35.594595  0.9975   49.3796  0.037494    282    887   98.555556    9   \n",
       "4    29.492308  0.9928   81.8804  0.042713    143    769   69.909091   11   \n",
       "..         ...     ...       ...       ...    ...    ...         ...  ...   \n",
       "479  12.064171  0.9989  210.0204  0.093094    453   1223   61.150000   20   \n",
       "480  15.239726  0.9989  177.5287  0.079788    789   3455   98.714286   35   \n",
       "481  15.489655  0.9984  169.6245  0.075523    485   3382   86.717949   39   \n",
       "482  11.074627  0.9988  222.3370  0.099882    521   2535   74.558824   34   \n",
       "483  14.208861  0.9987  193.0984  0.086013    456   2029  225.444444    9   \n",
       "\n",
       "      per_x     per_y  ...  day_of_month_sin  day_of_month_cos  month_sin  \\\n",
       "0    0.0003  0.008400  ...          0.207912          0.978148        0.0   \n",
       "1    0.0003  0.008300  ...          0.406737          0.913545        0.0   \n",
       "2    0.0003  0.007400  ...          0.587785          0.809017        0.0   \n",
       "3    0.0002  0.005000  ...          0.743145          0.669131        0.0   \n",
       "4    0.0002  0.007700  ...          0.866025          0.500000        0.0   \n",
       "..      ...       ...  ...               ...               ...        ...   \n",
       "479  0.0004  0.026925  ...         -0.866025          0.500000        1.0   \n",
       "480  0.0004  0.023700  ...         -0.743145          0.669131        1.0   \n",
       "481  0.0004  0.020975  ...         -0.587785          0.809017        1.0   \n",
       "482  0.0004  0.028800  ...         -0.406737          0.913545        1.0   \n",
       "483  0.0005  0.027400  ...         -0.207912          0.978148        1.0   \n",
       "\n",
       "        month_cos  day_of_year_sin  day_of_year_cos  week_of_year_sin  \\\n",
       "0    1.000000e+00         0.017213         0.999852     -2.449294e-16   \n",
       "1    1.000000e+00         0.034422         0.999407     -2.449294e-16   \n",
       "2    1.000000e+00         0.051620         0.998667      1.205367e-01   \n",
       "3    1.000000e+00         0.068802         0.997630      1.205367e-01   \n",
       "4    1.000000e+00         0.085965         0.996298      1.205367e-01   \n",
       "..            ...              ...              ...               ...   \n",
       "479  6.123234e-17         0.917584        -0.397543      8.854560e-01   \n",
       "480  6.123234e-17         0.910605        -0.413279      8.854560e-01   \n",
       "481  6.123234e-17         0.903356        -0.428892      8.854560e-01   \n",
       "482  6.123234e-17         0.895839        -0.444378      8.854560e-01   \n",
       "483  6.123234e-17         0.888057        -0.459733      8.854560e-01   \n",
       "\n",
       "     week_of_year_cos  quarter_sin   quarter_cos  \n",
       "0            1.000000          0.0  1.000000e+00  \n",
       "1            1.000000          0.0  1.000000e+00  \n",
       "2            0.992709          0.0  1.000000e+00  \n",
       "3            0.992709          0.0  1.000000e+00  \n",
       "4            0.992709          0.0  1.000000e+00  \n",
       "..                ...          ...           ...  \n",
       "479         -0.464723          1.0  6.123234e-17  \n",
       "480         -0.464723          1.0  6.123234e-17  \n",
       "481         -0.464723          1.0  6.123234e-17  \n",
       "482         -0.464723          1.0  6.123234e-17  \n",
       "483         -0.464723          1.0  6.123234e-17  \n",
       "\n",
       "[484 rows x 30 columns]"
      ]
     },
     "execution_count": 7,
     "metadata": {},
     "output_type": "execute_result"
    }
   ],
   "source": [
    "merge_df.drop(['date'], axis=1, inplace=True)\n",
    "merge_df"
   ]
  },
  {
   "cell_type": "code",
   "execution_count": 121,
   "metadata": {},
   "outputs": [
    {
     "data": {
      "image/png": "[encoded data removed]",
      "text/plain": [
       "<Figure size 1800x600 with 1 Axes>"
      ]
     },
     "metadata": {},
     "output_type": "display_data"
    }
   ],
   "source": [
    "plt.figure(figsize=(18, 6))\n",
    "plt.plot(merge_df['day_of_month'])\n",
    "plt.show()"
   ]
  },
  {
   "cell_type": "code",
   "execution_count": 37,
   "metadata": {},
   "outputs": [],
   "source": [
    "from sklearn.model_selection import train_test_split\n",
    "\n",
    "X_train, X_temp, y_train, y_temp = train_test_split(X, y, test_size=0.2, random_state=42)\n",
    "X_test, X_val, y_test, y_val = train_test_split(X_temp, y_temp, test_size=0.5, random_state=42)"
   ]
  },
  {
   "cell_type": "code",
   "execution_count": 186,
   "metadata": {},
   "outputs": [
    {
     "name": "stdout",
     "output_type": "stream",
     "text": [
      "Epoch 1/10\n",
      "144/144 [==============================] - 3s 8ms/step - loss: 0.1317 - val_loss: 0.0981\n",
      "Epoch 2/10\n",
      "144/144 [==============================] - 1s 6ms/step - loss: 0.0853 - val_loss: 0.0944\n",
      "Epoch 3/10\n",
      "144/144 [==============================] - 1s 6ms/step - loss: 0.0762 - val_loss: 0.0865\n",
      "Epoch 4/10\n",
      "144/144 [==============================] - 1s 6ms/step - loss: 0.0703 - val_loss: 0.0837\n",
      "Epoch 5/10\n",
      "144/144 [==============================] - 1s 6ms/step - loss: 0.0686 - val_loss: 0.0844\n",
      "Epoch 6/10\n",
      "144/144 [==============================] - 1s 6ms/step - loss: 0.0673 - val_loss: 0.0767\n",
      "Epoch 7/10\n",
      "144/144 [==============================] - 1s 6ms/step - loss: 0.0665 - val_loss: 0.0830\n",
      "Epoch 8/10\n",
      "144/144 [==============================] - 1s 6ms/step - loss: 0.0641 - val_loss: 0.0689\n",
      "Epoch 9/10\n",
      "144/144 [==============================] - 1s 6ms/step - loss: 0.0627 - val_loss: 0.0770\n",
      "Epoch 10/10\n",
      "144/144 [==============================] - 1s 6ms/step - loss: 0.0610 - val_loss: 0.0692\n"
     ]
    }
   ],
   "source": [
    "import numpy as np\n",
    "import pandas as pd\n",
    "import tensorflow as tf\n",
    "from tensorflow.keras.models import Sequential\n",
    "from tensorflow.keras.layers import LSTM, Dense\n",
    "from tensorflow.keras.optimizers import Adam\n",
    "from sklearn.preprocessing import MinMaxScaler, StandardScaler\n",
    "from sklearn.metrics import mean_squared_error\n",
    "from sklearn.model_selection import train_test_split\n",
    "import plotly.graph_objects as go\n",
    "\n",
    "\n",
    "# Normalize the data\n",
    "scaler = MinMaxScaler()\n",
    "scaled_data = scaler.fit_transform(merge_df)\n",
    "\n",
    "# Define sequence length and forecasting horizon\n",
    "sequence_length = 5\n",
    "forecast_horizon = 1\n",
    "\n",
    "# Create input-output pairs\n",
    "X, y = [], []\n",
    "for i in range(len(scaled_data) - sequence_length - forecast_horizon + 1):\n",
    "    X.append(scaled_data[i:i+sequence_length])\n",
    "    y.append(scaled_data[i+sequence_length:i+sequence_length+forecast_horizon])\n",
    "\n",
    "X, y = np.array(X), np.array(y)\n",
    "\n",
    "# Split the data into training and testing sets\n",
    "# split_ratio = 0.8\n",
    "# split_index = int(split_ratio * len(X))\n",
    "# X_train, X_test, y_train, y_test = train_test_split(X, y, test_size=0.2, random_state=42)\n",
    "\n",
    "split_train = 0.6\n",
    "split_val = 0.8\n",
    "split_index_train = int(split_train * len(X))\n",
    "split_index_val = int(split_val * len(X))\n",
    "X_train, X_val, X_test = X[:split_index_train], X[split_index_train:split_index_val], X[split_index_val:]\n",
    "y_train, y_val, y_test = y[:split_index_train], y[split_index_train:split_index_val], y[split_index_val:]\n",
    "\n",
    "# Build the LSTM model\n",
    "model = Sequential()\n",
    "model.add(LSTM(units=64))\n",
    "model.add(tf.keras.layers.Dropout(0.5))\n",
    "model.add(Dense(y_train.shape[2]))  # Output layer with one neuron per variable\n",
    "# Compile the model\n",
    "model.compile(optimizer='nadam', loss='mean_squared_error')\n",
    "\n",
    "# Train the model\n",
    "model.fit(X_train, y_train, epochs=10, batch_size=2, verbose=1, validation_data=(X_val, y_val))\n",
    "\n",
    "# Make predictions on the test data\n",
    "predictions = model.predict(X_val)\n",
    "\n",
    "# Inverse transform the scaled predictions and actual values\n",
    "predicted_values = scaler.inverse_transform(predictions.reshape(-1, y_train.shape[2]))\n",
    "actual_values = scaler.inverse_transform(y_val.reshape(-1, y_train.shape[2]))\n",
    "\n",
    "# Calculate RMSE for each variable\n",
    "rmse = np.sqrt(mean_squared_error(actual_values, predicted_values, multioutput='raw_values'))\n"
   ]
  },
  {
   "cell_type": "code",
   "execution_count": 8,
   "metadata": {},
   "outputs": [
    {
     "name": "stderr",
     "output_type": "stream",
     "text": [
      "[I 2023-10-22 19:20:07,910] A new study created in memory with name: no-name-b4c1c0f9-3811-4a84-b138-a7343e28640b\n",
      "[I 2023-10-22 19:20:23,451] Trial 0 finished with value: 0.12310072779655457 and parameters: {'hidden_dim': 68, 'num_layers': 3, 'learning_rate': 0.008471801418819975, 'dropout_sug': 0.2993292420985183, 'batch_sug': 16, 'sequencce_sug': 19}. Best is trial 0 with value: 0.12310072779655457.\n",
      "[I 2023-10-22 19:20:28,288] Trial 1 finished with value: 0.12359100580215454 and parameters: {'hidden_dim': 100, 'num_layers': 0, 'learning_rate': 0.07579479953348005, 'dropout_sug': 0.41622132040021087, 'batch_sug': 16, 'sequencce_sug': 17}. Best is trial 0 with value: 0.12310072779655457.\n",
      "[I 2023-10-22 19:20:35,383] Trial 2 finished with value: 0.12516407668590546 and parameters: {'hidden_dim': 73, 'num_layers': 1, 'learning_rate': 0.0028016351587162596, 'dropout_sug': 0.06974693032602092, 'batch_sug': 16, 'sequencce_sug': 8}. Best is trial 0 with value: 0.12310072779655457.\n",
      "[I 2023-10-22 19:20:45,776] Trial 3 finished with value: 0.12457986176013947 and parameters: {'hidden_dim': 81, 'num_layers': 2, 'learning_rate': 1.5339162591163613e-05, 'dropout_sug': 0.3037724259507192, 'batch_sug': 16, 'sequencce_sug': 25}. Best is trial 0 with value: 0.12310072779655457.\n",
      "[I 2023-10-22 19:20:50,233] Trial 4 finished with value: 0.12302005290985107 and parameters: {'hidden_dim': 61, 'num_layers': 0, 'learning_rate': 0.005456725485601475, 'dropout_sug': 0.22007624686980065, 'batch_sug': 16, 'sequencce_sug': 10}. Best is trial 4 with value: 0.12302005290985107.\n",
      "[I 2023-10-22 19:21:09,003] Trial 5 finished with value: 0.12226831167936325 and parameters: {'hidden_dim': 96, 'num_layers': 1, 'learning_rate': 0.0012030178871154666, 'dropout_sug': 0.2733551396716398, 'batch_sug': 4, 'sequencce_sug': 28}. Best is trial 5 with value: 0.12226831167936325.\n",
      "[I 2023-10-22 19:21:29,945] Trial 6 finished with value: 0.12312822788953781 and parameters: {'hidden_dim': 89, 'num_layers': 3, 'learning_rate': 2.259279742015695e-05, 'dropout_sug': 0.0979914312095726, 'batch_sug': 8, 'sequencce_sug': 26}. Best is trial 5 with value: 0.12226831167936325.\n",
      "[I 2023-10-22 19:21:40,328] Trial 7 finished with value: 0.12182503193616867 and parameters: {'hidden_dim': 66, 'num_layers': 1, 'learning_rate': 0.0014817820606039085, 'dropout_sug': 0.07046211248738132, 'batch_sug': 8, 'sequencce_sug': 8}. Best is trial 7 with value: 0.12182503193616867.\n",
      "[I 2023-10-22 19:23:21,033] Trial 8 finished with value: 0.12255017459392548 and parameters: {'hidden_dim': 32, 'num_layers': 3, 'learning_rate': 0.00672093005015611, 'dropout_sug': 0.36450358402049365, 'batch_sug': 1, 'sequencce_sug': 27}. Best is trial 7 with value: 0.12182503193616867.\n",
      "[I 2023-10-22 19:23:28,295] Trial 9 finished with value: 0.12383107095956802 and parameters: {'hidden_dim': 92, 'num_layers': 1, 'learning_rate': 1.795698422567761e-05, 'dropout_sug': 0.1554911608578311, 'batch_sug': 16, 'sequencce_sug': 16}. Best is trial 7 with value: 0.12182503193616867.\n",
      "[I 2023-10-22 19:23:39,756] Trial 10 finished with value: 0.12158826738595963 and parameters: {'hidden_dim': 123, 'num_layers': 2, 'learning_rate': 0.00022389039162400287, 'dropout_sug': 0.008980937807409883, 'batch_sug': 8, 'sequencce_sug': 4}. Best is trial 10 with value: 0.12158826738595963.\n",
      "[I 2023-10-22 19:23:51,192] Trial 11 finished with value: 0.12294962257146835 and parameters: {'hidden_dim': 126, 'num_layers': 2, 'learning_rate': 0.00021033344805378274, 'dropout_sug': 0.0018843472355730261, 'batch_sug': 8, 'sequencce_sug': 3}. Best is trial 10 with value: 0.12158826738595963.\n",
      "[I 2023-10-22 19:24:02,157] Trial 12 finished with value: 0.12283281236886978 and parameters: {'hidden_dim': 124, 'num_layers': 2, 'learning_rate': 0.0002344574163871339, 'dropout_sug': 0.0055610725701675835, 'batch_sug': 8, 'sequencce_sug': 3}. Best is trial 10 with value: 0.12158826738595963.\n",
      "[I 2023-10-22 19:24:12,703] Trial 13 finished with value: 0.1224609985947609 and parameters: {'hidden_dim': 49, 'num_layers': 1, 'learning_rate': 0.0002791273150736645, 'dropout_sug': 0.16088358880013243, 'batch_sug': 8, 'sequencce_sug': 9}. Best is trial 10 with value: 0.12158826738595963.\n",
      "[I 2023-10-22 19:24:25,937] Trial 14 finished with value: 0.12254507094621658 and parameters: {'hidden_dim': 110, 'num_layers': 2, 'learning_rate': 7.603475417841001e-05, 'dropout_sug': 0.49800826587371777, 'batch_sug': 8, 'sequencce_sug': 6}. Best is trial 10 with value: 0.12158826738595963.\n",
      "[I 2023-10-22 19:24:36,014] Trial 15 finished with value: 0.12326827645301819 and parameters: {'hidden_dim': 44, 'num_layers': 0, 'learning_rate': 0.0007212244882770228, 'dropout_sug': 0.06002182484331565, 'batch_sug': 4, 'sequencce_sug': 13}. Best is trial 10 with value: 0.12158826738595963.\n",
      "[I 2023-10-22 19:25:29,905] Trial 16 finished with value: 0.12091691046953201 and parameters: {'hidden_dim': 113, 'num_layers': 1, 'learning_rate': 7.500070584009535e-05, 'dropout_sug': 0.1330877284051627, 'batch_sug': 1, 'sequencce_sug': 12}. Best is trial 16 with value: 0.12091691046953201.\n",
      "[I 2023-10-22 19:26:36,760] Trial 17 finished with value: 0.12109004706144333 and parameters: {'hidden_dim': 112, 'num_layers': 2, 'learning_rate': 6.0116484712168994e-05, 'dropout_sug': 0.14541737889284273, 'batch_sug': 1, 'sequencce_sug': 13}. Best is trial 16 with value: 0.12091691046953201.\n",
      "[I 2023-10-22 19:27:37,222] Trial 18 finished with value: 0.1211099922657013 and parameters: {'hidden_dim': 110, 'num_layers': 1, 'learning_rate': 5.553367440733294e-05, 'dropout_sug': 0.18945929965495867, 'batch_sug': 1, 'sequencce_sug': 21}. Best is trial 16 with value: 0.12091691046953201.\n",
      "[I 2023-10-22 19:28:50,114] Trial 19 finished with value: 0.12114942073822021 and parameters: {'hidden_dim': 111, 'num_layers': 2, 'learning_rate': 1.0082912651901871e-05, 'dropout_sug': 0.14129952047486585, 'batch_sug': 1, 'sequencce_sug': 13}. Best is trial 16 with value: 0.12091691046953201.\n",
      "[I 2023-10-22 19:30:21,612] Trial 20 finished with value: 0.12148091197013855 and parameters: {'hidden_dim': 103, 'num_layers': 3, 'learning_rate': 5.1030332528760926e-05, 'dropout_sug': 0.22618726581088064, 'batch_sug': 1, 'sequencce_sug': 13}. Best is trial 16 with value: 0.12091691046953201.\n",
      "[I 2023-10-22 19:31:22,074] Trial 21 finished with value: 0.12261202186346054 and parameters: {'hidden_dim': 114, 'num_layers': 1, 'learning_rate': 5.473529529392062e-05, 'dropout_sug': 0.19253678981626446, 'batch_sug': 1, 'sequencce_sug': 21}. Best is trial 16 with value: 0.12091691046953201.\n",
      "[I 2023-10-22 19:32:23,205] Trial 22 finished with value: 0.1205739676952362 and parameters: {'hidden_dim': 116, 'num_layers': 1, 'learning_rate': 8.928694233568545e-05, 'dropout_sug': 0.12514630333626564, 'batch_sug': 1, 'sequencce_sug': 23}. Best is trial 22 with value: 0.1205739676952362.\n",
      "[I 2023-10-22 19:33:02,344] Trial 23 finished with value: 0.12058133631944656 and parameters: {'hidden_dim': 118, 'num_layers': 0, 'learning_rate': 8.909409926314116e-05, 'dropout_sug': 0.11877471681259126, 'batch_sug': 1, 'sequencce_sug': 24}. Best is trial 22 with value: 0.1205739676952362.\n",
      "[I 2023-10-22 19:33:43,358] Trial 24 finished with value: 0.12074163556098938 and parameters: {'hidden_dim': 118, 'num_layers': 0, 'learning_rate': 0.00012416779181311977, 'dropout_sug': 0.10218314649479561, 'batch_sug': 1, 'sequencce_sug': 30}. Best is trial 22 with value: 0.1205739676952362.\n",
      "[I 2023-10-22 19:34:22,970] Trial 25 finished with value: 0.12097606807947159 and parameters: {'hidden_dim': 120, 'num_layers': 0, 'learning_rate': 0.00014317694844768135, 'dropout_sug': 0.11559251115694515, 'batch_sug': 1, 'sequencce_sug': 30}. Best is trial 22 with value: 0.1205739676952362.\n",
      "[I 2023-10-22 19:35:01,914] Trial 26 finished with value: 0.12069405615329742 and parameters: {'hidden_dim': 103, 'num_layers': 0, 'learning_rate': 0.0005013051655961546, 'dropout_sug': 0.09751182906733968, 'batch_sug': 1, 'sequencce_sug': 25}. Best is trial 22 with value: 0.1205739676952362.\n",
      "[I 2023-10-22 19:35:40,516] Trial 27 finished with value: 0.12099301815032959 and parameters: {'hidden_dim': 103, 'num_layers': 0, 'learning_rate': 0.0003270659770599966, 'dropout_sug': 0.18413714049858024, 'batch_sug': 1, 'sequencce_sug': 23}. Best is trial 22 with value: 0.1205739676952362.\n",
      "[I 2023-10-22 19:35:52,777] Trial 28 finished with value: 0.12175244092941284 and parameters: {'hidden_dim': 88, 'num_layers': 0, 'learning_rate': 0.000552035016641162, 'dropout_sug': 0.04711009975148055, 'batch_sug': 4, 'sequencce_sug': 24}. Best is trial 22 with value: 0.1205739676952362.\n",
      "[I 2023-10-22 19:36:32,368] Trial 29 finished with value: 0.12192671000957489 and parameters: {'hidden_dim': 106, 'num_layers': 0, 'learning_rate': 3.378104721677983e-05, 'dropout_sug': 0.11007660311332762, 'batch_sug': 1, 'sequencce_sug': 22}. Best is trial 22 with value: 0.1205739676952362.\n",
      "[I 2023-10-22 19:37:08,397] Trial 30 finished with value: 0.12085393816232681 and parameters: {'hidden_dim': 128, 'num_layers': 0, 'learning_rate': 0.0004865601288982704, 'dropout_sug': 0.09174357665478843, 'batch_sug': 1, 'sequencce_sug': 19}. Best is trial 22 with value: 0.1205739676952362.\n",
      "[I 2023-10-22 19:37:49,554] Trial 31 finished with value: 0.12045872956514359 and parameters: {'hidden_dim': 119, 'num_layers': 0, 'learning_rate': 0.00012930201072331249, 'dropout_sug': 0.11460100669225863, 'batch_sug': 1, 'sequencce_sug': 30}. Best is trial 31 with value: 0.12045872956514359.\n",
      "[I 2023-10-22 19:38:29,930] Trial 32 finished with value: 0.12093371897935867 and parameters: {'hidden_dim': 118, 'num_layers': 0, 'learning_rate': 0.00016312319871360096, 'dropout_sug': 0.12507862835125566, 'batch_sug': 1, 'sequencce_sug': 28}. Best is trial 31 with value: 0.12045872956514359.\n",
      "[I 2023-10-22 19:39:11,063] Trial 33 finished with value: 0.12087681889533997 and parameters: {'hidden_dim': 98, 'num_layers': 0, 'learning_rate': 0.00012755902113971402, 'dropout_sug': 0.04799278133891603, 'batch_sug': 1, 'sequencce_sug': 19}. Best is trial 31 with value: 0.12045872956514359.\n",
      "[I 2023-10-22 19:39:54,580] Trial 34 finished with value: 0.120484858751297 and parameters: {'hidden_dim': 81, 'num_layers': 0, 'learning_rate': 0.0003548695950893246, 'dropout_sug': 0.17077445940840974, 'batch_sug': 1, 'sequencce_sug': 24}. Best is trial 31 with value: 0.12045872956514359.\n",
      "[I 2023-10-22 19:40:35,166] Trial 35 finished with value: 0.12178955972194672 and parameters: {'hidden_dim': 78, 'num_layers': 0, 'learning_rate': 3.19352103646487e-05, 'dropout_sug': 0.1587156524690826, 'batch_sug': 1, 'sequencce_sug': 16}. Best is trial 31 with value: 0.12045872956514359.\n",
      "[I 2023-10-22 19:40:43,750] Trial 36 finished with value: 0.12267505377531052 and parameters: {'hidden_dim': 81, 'num_layers': 1, 'learning_rate': 9.942747429355084e-05, 'dropout_sug': 0.22287698452433527, 'batch_sug': 16, 'sequencce_sug': 28}. Best is trial 31 with value: 0.12045872956514359.\n",
      "[I 2023-10-22 19:40:58,445] Trial 37 finished with value: 0.12394645810127258 and parameters: {'hidden_dim': 57, 'num_layers': 0, 'learning_rate': 0.0003602912511214688, 'dropout_sug': 0.17899575762042072, 'batch_sug': 4, 'sequencce_sug': 25}. Best is trial 31 with value: 0.12045872956514359.\n",
      "[I 2023-10-22 19:42:06,949] Trial 38 finished with value: 0.12128906697034836 and parameters: {'hidden_dim': 74, 'num_layers': 1, 'learning_rate': 0.000994204300084838, 'dropout_sug': 0.24023021412125983, 'batch_sug': 1, 'sequencce_sug': 23}. Best is trial 31 with value: 0.12045872956514359.\n",
      "[I 2023-10-22 19:42:52,531] Trial 39 finished with value: 0.12116117775440216 and parameters: {'hidden_dim': 119, 'num_layers': 0, 'learning_rate': 0.0020641813985949565, 'dropout_sug': 0.2728972649093116, 'batch_sug': 1, 'sequencce_sug': 27}. Best is trial 31 with value: 0.12045872956514359.\n",
      "[I 2023-10-22 19:43:00,401] Trial 40 finished with value: 0.12232094258069992 and parameters: {'hidden_dim': 94, 'num_layers': 1, 'learning_rate': 9.75799542939255e-05, 'dropout_sug': 0.13482142584749932, 'batch_sug': 16, 'sequencce_sug': 18}. Best is trial 31 with value: 0.12045872956514359.\n",
      "[I 2023-10-22 19:43:44,962] Trial 41 finished with value: 0.12124864757061005 and parameters: {'hidden_dim': 86, 'num_layers': 0, 'learning_rate': 0.00043951373747906717, 'dropout_sug': 0.07642813215952296, 'batch_sug': 1, 'sequencce_sug': 25}. Best is trial 31 with value: 0.12045872956514359.\n",
      "[I 2023-10-22 19:44:28,733] Trial 42 finished with value: 0.12133953720331192 and parameters: {'hidden_dim': 107, 'num_layers': 0, 'learning_rate': 0.00017889312387574775, 'dropout_sug': 0.08825613447857786, 'batch_sug': 1, 'sequencce_sug': 21}. Best is trial 31 with value: 0.12045872956514359.\n",
      "[I 2023-10-22 19:45:13,727] Trial 43 finished with value: 0.12081403285264969 and parameters: {'hidden_dim': 100, 'num_layers': 0, 'learning_rate': 0.0006237729634984083, 'dropout_sug': 0.11466315409768184, 'batch_sug': 1, 'sequencce_sug': 26}. Best is trial 31 with value: 0.12045872956514359.\n",
      "[I 2023-10-22 19:45:59,375] Trial 44 finished with value: 0.12049468606710434 and parameters: {'hidden_dim': 116, 'num_layers': 0, 'learning_rate': 0.00030412820327828047, 'dropout_sug': 0.1682406366181386, 'batch_sug': 1, 'sequencce_sug': 29}. Best is trial 31 with value: 0.12045872956514359.\n",
      "[I 2023-10-22 19:46:44,379] Trial 45 finished with value: 0.12046145647764206 and parameters: {'hidden_dim': 124, 'num_layers': 0, 'learning_rate': 0.00026278122409747215, 'dropout_sug': 0.20607034469548938, 'batch_sug': 1, 'sequencce_sug': 29}. Best is trial 31 with value: 0.12045872956514359.\n",
      "[I 2023-10-22 19:47:06,899] Trial 46 finished with value: 0.12423301488161087 and parameters: {'hidden_dim': 128, 'num_layers': 1, 'learning_rate': 0.0002917629752014875, 'dropout_sug': 0.20358967906363618, 'batch_sug': 4, 'sequencce_sug': 29}. Best is trial 31 with value: 0.12045872956514359.\n",
      "[I 2023-10-22 19:47:12,399] Trial 47 finished with value: 0.12304624170064926 and parameters: {'hidden_dim': 123, 'num_layers': 0, 'learning_rate': 0.0008694350143588, 'dropout_sug': 0.1702559665053711, 'batch_sug': 16, 'sequencce_sug': 29}. Best is trial 31 with value: 0.12045872956514359.\n",
      "[I 2023-10-22 19:47:56,097] Trial 48 finished with value: 0.12051701545715332 and parameters: {'hidden_dim': 67, 'num_layers': 0, 'learning_rate': 0.00022008790333808835, 'dropout_sug': 0.2020172877101068, 'batch_sug': 1, 'sequencce_sug': 27}. Best is trial 31 with value: 0.12045872956514359.\n",
      "[I 2023-10-22 19:48:35,120] Trial 49 finished with value: 0.12190095335245132 and parameters: {'hidden_dim': 63, 'num_layers': 0, 'learning_rate': 0.0002350784176838593, 'dropout_sug': 0.21162596143421522, 'batch_sug': 1, 'sequencce_sug': 27}. Best is trial 31 with value: 0.12045872956514359.\n",
      "[I 2023-10-22 19:49:20,623] Trial 50 finished with value: 0.1216672733426094 and parameters: {'hidden_dim': 68, 'num_layers': 0, 'learning_rate': 0.0010840659382003487, 'dropout_sug': 0.2554231552949013, 'batch_sug': 1, 'sequencce_sug': 30}. Best is trial 31 with value: 0.12045872956514359.\n",
      "[I 2023-10-22 19:50:06,120] Trial 51 finished with value: 0.12054713815450668 and parameters: {'hidden_dim': 52, 'num_layers': 0, 'learning_rate': 0.0003337753457094023, 'dropout_sug': 0.16474811511197748, 'batch_sug': 1, 'sequencce_sug': 29}. Best is trial 31 with value: 0.12045872956514359.\n",
      "[I 2023-10-22 19:50:51,837] Trial 52 finished with value: 0.12120772153139114 and parameters: {'hidden_dim': 52, 'num_layers': 0, 'learning_rate': 0.0003206400367295166, 'dropout_sug': 0.16661634243602758, 'batch_sug': 1, 'sequencce_sug': 29}. Best is trial 31 with value: 0.12045872956514359.\n",
      "[I 2023-10-22 19:51:36,365] Trial 53 finished with value: 0.12086375057697296 and parameters: {'hidden_dim': 40, 'num_layers': 0, 'learning_rate': 0.00017886429234388045, 'dropout_sug': 0.19986489086240083, 'batch_sug': 1, 'sequencce_sug': 27}. Best is trial 31 with value: 0.12045872956514359.\n",
      "[I 2023-10-22 19:51:45,048] Trial 54 finished with value: 0.12512852251529694 and parameters: {'hidden_dim': 70, 'num_layers': 0, 'learning_rate': 0.0007754459623919433, 'dropout_sug': 0.1533244380419274, 'batch_sug': 8, 'sequencce_sug': 28}. Best is trial 31 with value: 0.12045872956514359.\n",
      "[I 2023-10-22 19:52:30,057] Trial 55 finished with value: 0.12213063985109329 and parameters: {'hidden_dim': 33, 'num_layers': 0, 'learning_rate': 0.00022320284089635562, 'dropout_sug': 0.1700460200710562, 'batch_sug': 1, 'sequencce_sug': 26}. Best is trial 31 with value: 0.12045872956514359.\n",
      "[I 2023-10-22 19:53:17,007] Trial 56 finished with value: 0.12052331119775772 and parameters: {'hidden_dim': 58, 'num_layers': 0, 'learning_rate': 0.0003736158660374206, 'dropout_sug': 0.21400900822976157, 'batch_sug': 1, 'sequencce_sug': 29}. Best is trial 31 with value: 0.12045872956514359.\n",
      "[I 2023-10-22 19:54:00,725] Trial 57 finished with value: 0.12079338729381561 and parameters: {'hidden_dim': 58, 'num_layers': 0, 'learning_rate': 0.00042093357219317356, 'dropout_sug': 0.2329778267476837, 'batch_sug': 1, 'sequencce_sug': 30}. Best is trial 31 with value: 0.12045872956514359.\n",
      "[I 2023-10-22 19:54:13,814] Trial 58 finished with value: 0.12198037654161453 and parameters: {'hidden_dim': 64, 'num_layers': 0, 'learning_rate': 0.0014837897083700986, 'dropout_sug': 0.21316118134055242, 'batch_sug': 4, 'sequencce_sug': 27}. Best is trial 31 with value: 0.12045872956514359.\n",
      "[I 2023-10-22 19:54:21,632] Trial 59 finished with value: 0.1234755739569664 and parameters: {'hidden_dim': 72, 'num_layers': 1, 'learning_rate': 0.0007043656854537441, 'dropout_sug': 0.1981734793038153, 'batch_sug': 16, 'sequencce_sug': 28}. Best is trial 31 with value: 0.12045872956514359.\n",
      "[I 2023-10-22 19:54:43,373] Trial 60 finished with value: 0.12194118648767471 and parameters: {'hidden_dim': 124, 'num_layers': 3, 'learning_rate': 0.00022962998940518503, 'dropout_sug': 0.14321588405323324, 'batch_sug': 8, 'sequencce_sug': 26}. Best is trial 31 with value: 0.12045872956514359.\n",
      "[I 2023-10-22 19:55:23,581] Trial 61 finished with value: 0.12165692448616028 and parameters: {'hidden_dim': 50, 'num_layers': 0, 'learning_rate': 0.00033201747793572744, 'dropout_sug': 0.18569052629466704, 'batch_sug': 1, 'sequencce_sug': 29}. Best is trial 31 with value: 0.12045872956514359.\n",
      "[I 2023-10-22 19:56:04,160] Trial 62 finished with value: 0.12162076681852341 and parameters: {'hidden_dim': 54, 'num_layers': 0, 'learning_rate': 0.0001516077182370727, 'dropout_sug': 0.21306551297590098, 'batch_sug': 1, 'sequencce_sug': 30}. Best is trial 31 with value: 0.12045872956514359.\n",
      "[I 2023-10-22 19:56:44,312] Trial 63 finished with value: 0.12079455703496933 and parameters: {'hidden_dim': 43, 'num_layers': 0, 'learning_rate': 0.0005457403453444466, 'dropout_sug': 0.15030046544427692, 'batch_sug': 1, 'sequencce_sug': 29}. Best is trial 31 with value: 0.12045872956514359.\n",
      "[I 2023-10-22 19:57:23,725] Trial 64 finished with value: 0.12047687917947769 and parameters: {'hidden_dim': 60, 'num_layers': 0, 'learning_rate': 0.00029542825604431816, 'dropout_sug': 0.24713717142346547, 'batch_sug': 1, 'sequencce_sug': 28}. Best is trial 31 with value: 0.12045872956514359.\n",
      "[I 2023-10-22 19:58:02,710] Trial 65 finished with value: 0.12095636874437332 and parameters: {'hidden_dim': 62, 'num_layers': 0, 'learning_rate': 0.0002473640775494666, 'dropout_sug': 0.24721438042840777, 'batch_sug': 1, 'sequencce_sug': 27}. Best is trial 31 with value: 0.12045872956514359.\n",
      "[I 2023-10-22 19:58:42,243] Trial 66 finished with value: 0.12208721786737442 and parameters: {'hidden_dim': 60, 'num_layers': 0, 'learning_rate': 0.0004366952840395468, 'dropout_sug': 0.2599304150733916, 'batch_sug': 1, 'sequencce_sug': 28}. Best is trial 31 with value: 0.12045872956514359.\n",
      "[I 2023-10-22 19:59:21,105] Trial 67 finished with value: 0.12185491621494293 and parameters: {'hidden_dim': 77, 'num_layers': 0, 'learning_rate': 0.000193824680031203, 'dropout_sug': 0.30154849511514437, 'batch_sug': 1, 'sequencce_sug': 24}. Best is trial 31 with value: 0.12045872956514359.\n",
      "[I 2023-10-22 20:00:01,570] Trial 68 finished with value: 0.1211843490600586 and parameters: {'hidden_dim': 67, 'num_layers': 0, 'learning_rate': 0.00011875573745489874, 'dropout_sug': 0.28352846510727703, 'batch_sug': 1, 'sequencce_sug': 30}. Best is trial 31 with value: 0.12045872956514359.\n",
      "[I 2023-10-22 20:00:40,903] Trial 69 finished with value: 0.1220327690243721 and parameters: {'hidden_dim': 114, 'num_layers': 0, 'learning_rate': 0.00014519949883154044, 'dropout_sug': 0.2330435250719268, 'batch_sug': 1, 'sequencce_sug': 25}. Best is trial 31 with value: 0.12045872956514359.\n",
      "[I 2023-10-22 20:01:19,341] Trial 70 finished with value: 0.12162759900093079 and parameters: {'hidden_dim': 84, 'num_layers': 0, 'learning_rate': 0.0002748200125218781, 'dropout_sug': 0.22276889406977646, 'batch_sug': 1, 'sequencce_sug': 26}. Best is trial 31 with value: 0.12045872956514359.\n",
      "[I 2023-10-22 20:02:02,814] Trial 71 finished with value: 0.12230420857667923 and parameters: {'hidden_dim': 57, 'num_layers': 0, 'learning_rate': 0.0006090710297444429, 'dropout_sug': 0.18036922376384226, 'batch_sug': 1, 'sequencce_sug': 29}. Best is trial 31 with value: 0.12045872956514359.\n",
      "[I 2023-10-22 20:02:48,180] Trial 72 finished with value: 0.12058353424072266 and parameters: {'hidden_dim': 49, 'num_layers': 0, 'learning_rate': 0.0003651355764193264, 'dropout_sug': 0.19605406377073145, 'batch_sug': 1, 'sequencce_sug': 28}. Best is trial 31 with value: 0.12045872956514359.\n",
      "[I 2023-10-22 20:03:33,456] Trial 73 finished with value: 0.1212441623210907 and parameters: {'hidden_dim': 46, 'num_layers': 0, 'learning_rate': 0.0001887183360954974, 'dropout_sug': 0.15970950224389555, 'batch_sug': 1, 'sequencce_sug': 29}. Best is trial 31 with value: 0.12045872956514359.\n",
      "[I 2023-10-22 20:04:19,555] Trial 74 finished with value: 0.12080401927232742 and parameters: {'hidden_dim': 54, 'num_layers': 0, 'learning_rate': 0.00038022176637504153, 'dropout_sug': 0.131006219924846, 'batch_sug': 1, 'sequencce_sug': 30}. Best is trial 31 with value: 0.12045872956514359.\n",
      "[I 2023-10-22 20:05:00,124] Trial 75 finished with value: 0.120870441198349 and parameters: {'hidden_dim': 65, 'num_layers': 0, 'learning_rate': 0.00029833375848181584, 'dropout_sug': 0.18024927004628288, 'batch_sug': 1, 'sequencce_sug': 15}. Best is trial 31 with value: 0.12045872956514359.\n",
      "[I 2023-10-22 20:05:14,310] Trial 76 finished with value: 0.12362728267908096 and parameters: {'hidden_dim': 121, 'num_layers': 1, 'learning_rate': 0.00012355077502864233, 'dropout_sug': 0.24027302701870368, 'batch_sug': 8, 'sequencce_sug': 28}. Best is trial 31 with value: 0.12045872956514359.\n",
      "[I 2023-10-22 20:05:58,868] Trial 77 finished with value: 0.12048077583312988 and parameters: {'hidden_dim': 60, 'num_layers': 0, 'learning_rate': 0.000515332499407946, 'dropout_sug': 0.1477726919495648, 'batch_sug': 1, 'sequencce_sug': 27}. Best is trial 31 with value: 0.12045872956514359.\n",
      "[I 2023-10-22 20:06:13,962] Trial 78 finished with value: 0.12097962200641632 and parameters: {'hidden_dim': 72, 'num_layers': 0, 'learning_rate': 0.00047667171148553435, 'dropout_sug': 0.13803745345382906, 'batch_sug': 4, 'sequencce_sug': 27}. Best is trial 31 with value: 0.12045872956514359.\n",
      "[I 2023-10-22 20:06:58,564] Trial 79 finished with value: 0.12099599093198776 and parameters: {'hidden_dim': 58, 'num_layers': 0, 'learning_rate': 0.0008535528373382298, 'dropout_sug': 0.2062058056396949, 'batch_sug': 1, 'sequencce_sug': 26}. Best is trial 31 with value: 0.12045872956514359.\n",
      "[I 2023-10-22 20:07:41,895] Trial 80 finished with value: 0.12119397521018982 and parameters: {'hidden_dim': 125, 'num_layers': 0, 'learning_rate': 0.00061988872725877, 'dropout_sug': 0.19021330853763524, 'batch_sug': 1, 'sequencce_sug': 22}. Best is trial 31 with value: 0.12045872956514359.\n",
      "[I 2023-10-22 20:08:22,514] Trial 81 finished with value: 0.12120109051465988 and parameters: {'hidden_dim': 60, 'num_layers': 0, 'learning_rate': 0.0002777453788755449, 'dropout_sug': 0.16756843119704565, 'batch_sug': 1, 'sequencce_sug': 29}. Best is trial 31 with value: 0.12045872956514359.\n",
      "[I 2023-10-22 20:09:02,804] Trial 82 finished with value: 0.12068162858486176 and parameters: {'hidden_dim': 91, 'num_layers': 0, 'learning_rate': 0.0003726288488663122, 'dropout_sug': 0.14737955988754564, 'batch_sug': 1, 'sequencce_sug': 28}. Best is trial 31 with value: 0.12045872956514359.\n",
      "[I 2023-10-22 20:09:42,484] Trial 83 finished with value: 0.12058836221694946 and parameters: {'hidden_dim': 54, 'num_layers': 0, 'learning_rate': 0.00017270848297269023, 'dropout_sug': 0.2223534503418088, 'batch_sug': 1, 'sequencce_sug': 30}. Best is trial 31 with value: 0.12045872956514359.\n",
      "[I 2023-10-22 20:10:22,945] Trial 84 finished with value: 0.12080489844083786 and parameters: {'hidden_dim': 56, 'num_layers': 0, 'learning_rate': 0.0005064586230201315, 'dropout_sug': 0.17541975559553868, 'batch_sug': 1, 'sequencce_sug': 27}. Best is trial 31 with value: 0.12045872956514359.\n",
      "[I 2023-10-22 20:10:28,353] Trial 85 finished with value: 0.12398945540189743 and parameters: {'hidden_dim': 115, 'num_layers': 0, 'learning_rate': 0.00020775424863785061, 'dropout_sug': 0.15723886559840497, 'batch_sug': 16, 'sequencce_sug': 25}. Best is trial 31 with value: 0.12045872956514359.\n",
      "[I 2023-10-22 20:11:42,784] Trial 86 finished with value: 0.12141773849725723 and parameters: {'hidden_dim': 109, 'num_layers': 2, 'learning_rate': 0.00025695526243060585, 'dropout_sug': 0.12581117126581118, 'batch_sug': 1, 'sequencce_sug': 7}. Best is trial 31 with value: 0.12045872956514359.\n",
      "[I 2023-10-22 20:12:28,577] Trial 87 finished with value: 0.1205010712146759 and parameters: {'hidden_dim': 46, 'num_layers': 0, 'learning_rate': 7.031925012024662e-05, 'dropout_sug': 0.19494062610706356, 'batch_sug': 1, 'sequencce_sug': 29}. Best is trial 31 with value: 0.12045872956514359.\n",
      "[I 2023-10-22 20:13:12,551] Trial 88 finished with value: 0.12065373361110687 and parameters: {'hidden_dim': 75, 'num_layers': 0, 'learning_rate': 8.108840779700448e-05, 'dropout_sug': 0.19198628546912203, 'batch_sug': 1, 'sequencce_sug': 24}. Best is trial 31 with value: 0.12045872956514359.\n",
      "[I 2023-10-22 20:13:50,961] Trial 89 finished with value: 0.12114506214857101 and parameters: {'hidden_dim': 122, 'num_layers': 0, 'learning_rate': 0.00010112561795572284, 'dropout_sug': 0.21565337554783978, 'batch_sug': 1, 'sequencce_sug': 10}. Best is trial 31 with value: 0.12045872956514359.\n",
      "[I 2023-10-22 20:15:04,265] Trial 90 finished with value: 0.12072724848985672 and parameters: {'hidden_dim': 39, 'num_layers': 1, 'learning_rate': 6.57883251698022e-05, 'dropout_sug': 0.19714013142402242, 'batch_sug': 1, 'sequencce_sug': 30}. Best is trial 31 with value: 0.12045872956514359.\n",
      "[I 2023-10-22 20:15:50,208] Trial 91 finished with value: 0.12076663225889206 and parameters: {'hidden_dim': 46, 'num_layers': 0, 'learning_rate': 0.0001563489933174408, 'dropout_sug': 0.17257707521285137, 'batch_sug': 1, 'sequencce_sug': 29}. Best is trial 31 with value: 0.12045872956514359.\n",
      "[I 2023-10-22 20:16:35,766] Trial 92 finished with value: 0.1222936362028122 and parameters: {'hidden_dim': 51, 'num_layers': 0, 'learning_rate': 0.0003516707096226047, 'dropout_sug': 0.20333023287503083, 'batch_sug': 1, 'sequencce_sug': 28}. Best is trial 31 with value: 0.12045872956514359.\n",
      "[I 2023-10-22 20:17:20,637] Trial 93 finished with value: 0.12123960256576538 and parameters: {'hidden_dim': 46, 'num_layers': 0, 'learning_rate': 0.0004711942342734466, 'dropout_sug': 0.15967528142595833, 'batch_sug': 1, 'sequencce_sug': 27}. Best is trial 31 with value: 0.12045872956514359.\n",
      "[I 2023-10-22 20:18:07,163] Trial 94 finished with value: 0.12076056748628616 and parameters: {'hidden_dim': 61, 'num_layers': 0, 'learning_rate': 0.0002327083502882517, 'dropout_sug': 0.13999532567995773, 'batch_sug': 1, 'sequencce_sug': 29}. Best is trial 31 with value: 0.12045872956514359.\n",
      "[I 2023-10-22 20:18:54,385] Trial 95 finished with value: 0.12101832777261734 and parameters: {'hidden_dim': 117, 'num_layers': 0, 'learning_rate': 0.0003008240992035289, 'dropout_sug': 0.18400334328096074, 'batch_sug': 1, 'sequencce_sug': 30}. Best is trial 31 with value: 0.12045872956514359.\n",
      "[I 2023-10-22 20:19:07,625] Trial 96 finished with value: 0.1234273836016655 and parameters: {'hidden_dim': 69, 'num_layers': 0, 'learning_rate': 0.00012508853751554524, 'dropout_sug': 0.10435713239909314, 'batch_sug': 4, 'sequencce_sug': 28}. Best is trial 31 with value: 0.12045872956514359.\n",
      "[I 2023-10-22 20:19:16,079] Trial 97 finished with value: 0.1269291639328003 and parameters: {'hidden_dim': 48, 'num_layers': 0, 'learning_rate': 0.0007262395362710029, 'dropout_sug': 0.2273963013206315, 'batch_sug': 8, 'sequencce_sug': 29}. Best is trial 31 with value: 0.12045872956514359.\n",
      "[I 2023-10-22 20:20:01,538] Trial 98 finished with value: 0.12072531878948212 and parameters: {'hidden_dim': 53, 'num_layers': 0, 'learning_rate': 0.00019936923594451224, 'dropout_sug': 0.21069353984800204, 'batch_sug': 1, 'sequencce_sug': 26}. Best is trial 31 with value: 0.12045872956514359.\n",
      "[I 2023-10-22 20:20:06,881] Trial 99 finished with value: 0.12256087362766266 and parameters: {'hidden_dim': 42, 'num_layers': 0, 'learning_rate': 0.00043382841116897737, 'dropout_sug': 0.12208166692148481, 'batch_sug': 16, 'sequencce_sug': 27}. Best is trial 31 with value: 0.12045872956514359.\n"
     ]
    },
    {
     "name": "stdout",
     "output_type": "stream",
     "text": [
      "Best hyperparameters: {'hidden_dim': 119, 'num_layers': 0, 'learning_rate': 0.00012930201072331249, 'dropout_sug': 0.11460100669225863, 'batch_sug': 1, 'sequencce_sug': 30}\n",
      "Best validation loss: 0.12045872956514359\n"
     ]
    }
   ],
   "source": [
    "import optuna\n",
    "import numpy as np\n",
    "import tensorflow as tf\n",
    "from tensorflow import keras\n",
    "from tensorflow.keras.layers import LSTM, Dense\n",
    "from sklearn.model_selection import train_test_split\n",
    "\n",
    "# Define a simple multivariate LSTM model using Keras\n",
    "def create_model(input_dim, hidden_dim, num_layers, dropout_sug):\n",
    "    model = keras.Sequential()\n",
    "    for _ in range(num_layers):\n",
    "        model.add(LSTM(hidden_dim, return_sequences=True))\n",
    "    model.add(LSTM(hidden_dim))\n",
    "    model.add(Dropout(dropout_sug))\n",
    "    model.add(Dense(1))\n",
    "    return model\n",
    "\n",
    "# Hyperparameter optimization objective function\n",
    "def objective(trial):\n",
    "    # Define hyperparameters to optimize\n",
    "    hidden_dim = trial.suggest_int('hidden_dim', 32, 128)\n",
    "    num_layers = trial.suggest_int('num_layers', 0, 3)\n",
    "    learning_rate = trial.suggest_float('learning_rate', 1e-5, 1e-1, log=True)\n",
    "    dropout_sug = trial.suggest_float('dropout_sug', 0.0, 0.5)\n",
    "    batch_sug = trial.suggest_categorical('batch_sug', [1, 4, 8, 16])\n",
    "    sequence_sug = trial.suggest_int('sequencce_sug', 3, 30)\n",
    "\n",
    "    scaler = MinMaxScaler()\n",
    "    scaled_data = scaler.fit_transform(merge_df)\n",
    "\n",
    "    # Define sequence length and forecasting horizon\n",
    "    sequence_length = sequence_sug\n",
    "    forecast_horizon = 1\n",
    "\n",
    "    # Create input-output pairs\n",
    "    X, y = [], []\n",
    "    for i in range(len(scaled_data) - sequence_length - forecast_horizon + 1):\n",
    "        X.append(scaled_data[i:i+sequence_length])\n",
    "        y.append(scaled_data[i+sequence_length:i+sequence_length+forecast_horizon])\n",
    "\n",
    "    X, y = np.array(X), np.array(y)\n",
    "\n",
    "    X_train, X_temp, y_train, y_temp = train_test_split(X, y, test_size=0.2, random_state=42, shuffle=False)\n",
    "    X_test, X_val, y_test, y_val = train_test_split(X_temp, y_temp, test_size=0.5, random_state=42, shuffle=False)\n",
    "    \n",
    "    # Create the Keras model\n",
    "    model = create_model(input_dim=5, hidden_dim=hidden_dim, num_layers=num_layers, dropout_sug=dropout_sug)\n",
    "    \n",
    "    # Compile the model\n",
    "    model.compile(\n",
    "        optimizer=keras.optimizers.Adam(learning_rate=learning_rate),\n",
    "        loss='mean_squared_error'\n",
    "    )\n",
    "    \n",
    "    # Training loop\n",
    "    history = model.fit(X_train, y_train, epochs=30, batch_size=batch_sug, validation_data=(X_val, y_val), verbose=0)\n",
    "    \n",
    "    # Get the final validation loss\n",
    "    val_loss = history.history['val_loss'][-1]\n",
    "    \n",
    "    return val_loss\n",
    "\n",
    "sampler = optuna.samplers.TPESampler(seed=42)\n",
    "\n",
    "# Create an Optuna study and optimize\n",
    "study = optuna.create_study(sampler=sampler, direction='minimize')\n",
    "study.optimize(objective, n_trials=100)\n",
    "\n",
    "# Get the best hyperparameters and value\n",
    "best_params = study.best_params\n",
    "best_value = study.best_value\n",
    "print(\"Best hyperparameters:\", best_params)\n",
    "print(\"Best validation loss:\", best_value)\n"
   ]
  },
  {
   "cell_type": "code",
   "execution_count": 9,
   "metadata": {},
   "outputs": [
    {
     "data": {
      "application/vnd.plotly.v1+json": {
       "config": {
        "plotlyServerURL": "https://plot.ly"
       },
       "data": [
        {
         "mode": "markers",
         "name": "Objective Value",
         "type": "scatter",
         "x": [
          0,
          1,
          2,
          3,
          4,
          5,
          6,
          7,
          8,
          9,
          10,
          11,
          12,
          13,
          14,
          15,
          16,
          17,
          18,
          19,
          20,
          21,
          22,
          23,
          24,
          25,
          26,
          27,
          28,
          29,
          30,
          31,
          32,
          33,
          34,
          35,
          36,
          37,
          38,
          39,
          40,
          41,
          42,
          43,
          44,
          45,
          46,
          47,
          48,
          49,
          50,
          51,
          52,
          53,
          54,
          55,
          56,
          57,
          58,
          59,
          60,
          61,
          62,
          63,
          64,
          65,
          66,
          67,
          68,
          69,
          70,
          71,
          72,
          73,
          74,
          75,
          76,
          77,
          78,
          79,
          80,
          81,
          82,
          83,
          84,
          85,
          86,
          87,
          88,
          89,
          90,
          91,
          92,
          93,
          94,
          95,
          96,
          97,
          98,
          99
         ],
         "y": [
          0.12310072779655457,
          0.12359100580215454,
          0.12516407668590546,
          0.12457986176013947,
          0.12302005290985107,
          0.12226831167936325,
          0.12312822788953781,
          0.12182503193616867,
          0.12255017459392548,
          0.12383107095956802,
          0.12158826738595963,
          0.12294962257146835,
          0.12283281236886978,
          0.1224609985947609,
          0.12254507094621658,
          0.12326827645301819,
          0.12091691046953201,
          0.12109004706144333,
          0.1211099922657013,
          0.12114942073822021,
          0.12148091197013855,
          0.12261202186346054,
          0.1205739676952362,
          0.12058133631944656,
          0.12074163556098938,
          0.12097606807947159,
          0.12069405615329742,
          0.12099301815032959,
          0.12175244092941284,
          0.12192671000957489,
          0.12085393816232681,
          0.12045872956514359,
          0.12093371897935867,
          0.12087681889533997,
          0.120484858751297,
          0.12178955972194672,
          0.12267505377531052,
          0.12394645810127258,
          0.12128906697034836,
          0.12116117775440216,
          0.12232094258069992,
          0.12124864757061005,
          0.12133953720331192,
          0.12081403285264969,
          0.12049468606710434,
          0.12046145647764206,
          0.12423301488161087,
          0.12304624170064926,
          0.12051701545715332,
          0.12190095335245132,
          0.1216672733426094,
          0.12054713815450668,
          0.12120772153139114,
          0.12086375057697296,
          0.12512852251529694,
          0.12213063985109329,
          0.12052331119775772,
          0.12079338729381561,
          0.12198037654161453,
          0.1234755739569664,
          0.12194118648767471,
          0.12165692448616028,
          0.12162076681852341,
          0.12079455703496933,
          0.12047687917947769,
          0.12095636874437332,
          0.12208721786737442,
          0.12185491621494293,
          0.1211843490600586,
          0.1220327690243721,
          0.12162759900093079,
          0.12230420857667923,
          0.12058353424072266,
          0.1212441623210907,
          0.12080401927232742,
          0.120870441198349,
          0.12362728267908096,
          0.12048077583312988,
          0.12097962200641632,
          0.12099599093198776,
          0.12119397521018982,
          0.12120109051465988,
          0.12068162858486176,
          0.12058836221694946,
          0.12080489844083786,
          0.12398945540189743,
          0.12141773849725723,
          0.1205010712146759,
          0.12065373361110687,
          0.12114506214857101,
          0.12072724848985672,
          0.12076663225889206,
          0.1222936362028122,
          0.12123960256576538,
          0.12076056748628616,
          0.12101832777261734,
          0.1234273836016655,
          0.1269291639328003,
          0.12072531878948212,
          0.12256087362766266
         ]
        },
        {
         "mode": "lines",
         "name": "Best Value",
         "type": "scatter",
         "x": [
          0,
          1,
          2,
          3,
          4,
          5,
          6,
          7,
          8,
          9,
          10,
          11,
          12,
          13,
          14,
          15,
          16,
          17,
          18,
          19,
          20,
          21,
          22,
          23,
          24,
          25,
          26,
          27,
          28,
          29,
          30,
          31,
          32,
          33,
          34,
          35,
          36,
          37,
          38,
          39,
          40,
          41,
          42,
          43,
          44,
          45,
          46,
          47,
          48,
          49,
          50,
          51,
          52,
          53,
          54,
          55,
          56,
          57,
          58,
          59,
          60,
          61,
          62,
          63,
          64,
          65,
          66,
          67,
          68,
          69,
          70,
          71,
          72,
          73,
          74,
          75,
          76,
          77,
          78,
          79,
          80,
          81,
          82,
          83,
          84,
          85,
          86,
          87,
          88,
          89,
          90,
          91,
          92,
          93,
          94,
          95,
          96,
          97,
          98,
          99
         ],
         "y": [
          0.12310072779655457,
          0.12310072779655457,
          0.12310072779655457,
          0.12310072779655457,
          0.12302005290985107,
          0.12226831167936325,
          0.12226831167936325,
          0.12182503193616867,
          0.12182503193616867,
          0.12182503193616867,
          0.12158826738595963,
          0.12158826738595963,
          0.12158826738595963,
          0.12158826738595963,
          0.12158826738595963,
          0.12158826738595963,
          0.12091691046953201,
          0.12091691046953201,
          0.12091691046953201,
          0.12091691046953201,
          0.12091691046953201,
          0.12091691046953201,
          0.1205739676952362,
          0.1205739676952362,
          0.1205739676952362,
          0.1205739676952362,
          0.1205739676952362,
          0.1205739676952362,
          0.1205739676952362,
          0.1205739676952362,
          0.1205739676952362,
          0.12045872956514359,
          0.12045872956514359,
          0.12045872956514359,
          0.12045872956514359,
          0.12045872956514359,
          0.12045872956514359,
          0.12045872956514359,
          0.12045872956514359,
          0.12045872956514359,
          0.12045872956514359,
          0.12045872956514359,
          0.12045872956514359,
          0.12045872956514359,
          0.12045872956514359,
          0.12045872956514359,
          0.12045872956514359,
          0.12045872956514359,
          0.12045872956514359,
          0.12045872956514359,
          0.12045872956514359,
          0.12045872956514359,
          0.12045872956514359,
          0.12045872956514359,
          0.12045872956514359,
          0.12045872956514359,
          0.12045872956514359,
          0.12045872956514359,
          0.12045872956514359,
          0.12045872956514359,
          0.12045872956514359,
          0.12045872956514359,
          0.12045872956514359,
          0.12045872956514359,
          0.12045872956514359,
          0.12045872956514359,
          0.12045872956514359,
          0.12045872956514359,
          0.12045872956514359,
          0.12045872956514359,
          0.12045872956514359,
          0.12045872956514359,
          0.12045872956514359,
          0.12045872956514359,
          0.12045872956514359,
          0.12045872956514359,
          0.12045872956514359,
          0.12045872956514359,
          0.12045872956514359,
          0.12045872956514359,
          0.12045872956514359,
          0.12045872956514359,
          0.12045872956514359,
          0.12045872956514359,
          0.12045872956514359,
          0.12045872956514359,
          0.12045872956514359,
          0.12045872956514359,
          0.12045872956514359,
          0.12045872956514359,
          0.12045872956514359,
          0.12045872956514359,
          0.12045872956514359,
          0.12045872956514359,
          0.12045872956514359,
          0.12045872956514359,
          0.12045872956514359,
          0.12045872956514359,
          0.12045872956514359,
          0.12045872956514359
         ]
        },
        {
         "marker": {
          "color": "#cccccc"
         },
         "mode": "markers",
         "name": "Infeasible Trial",
         "showlegend": false,
         "type": "scatter",
         "x": [],
         "y": []
        }
       ],
       "layout": {
        "template": {
         "data": {
          "bar": [
           {
            "error_x": {
             "color": "#2a3f5f"
            },
            "error_y": {
             "color": "#2a3f5f"
            },
            "marker": {
             "line": {
              "color": "#E5ECF6",
              "width": 0.5
             },
             "pattern": {
              "fillmode": "overlay",
              "size": 10,
              "solidity": 0.2
             }
            },
            "type": "bar"
           }
          ],
          "barpolar": [
           {
            "marker": {
             "line": {
              "color": "#E5ECF6",
              "width": 0.5
             },
             "pattern": {
              "fillmode": "overlay",
              "size": 10,
              "solidity": 0.2
             }
            },
            "type": "barpolar"
           }
          ],
          "carpet": [
           {
            "aaxis": {
             "endlinecolor": "#2a3f5f",
             "gridcolor": "white",
             "linecolor": "white",
             "minorgridcolor": "white",
             "startlinecolor": "#2a3f5f"
            },
            "baxis": {
             "endlinecolor": "#2a3f5f",
             "gridcolor": "white",
             "linecolor": "white",
             "minorgridcolor": "white",
             "startlinecolor": "#2a3f5f"
            },
            "type": "carpet"
           }
          ],
          "choropleth": [
           {
            "colorbar": {
             "outlinewidth": 0,
             "ticks": ""
            },
            "type": "choropleth"
           }
          ],
          "contour": [
           {
            "colorbar": {
             "outlinewidth": 0,
             "ticks": ""
            },
            "colorscale": [
             [
              0,
              "#0d0887"
             ],
             [
              0.1111111111111111,
              "#46039f"
             ],
             [
              0.2222222222222222,
              "#7201a8"
             ],
             [
              0.3333333333333333,
              "#9c179e"
             ],
             [
              0.4444444444444444,
              "#bd3786"
             ],
             [
              0.5555555555555556,
              "#d8576b"
             ],
             [
              0.6666666666666666,
              "#ed7953"
             ],
             [
              0.7777777777777778,
              "#fb9f3a"
             ],
             [
              0.8888888888888888,
              "#fdca26"
             ],
             [
              1,
              "#f0f921"
             ]
            ],
            "type": "contour"
           }
          ],
          "contourcarpet": [
           {
            "colorbar": {
             "outlinewidth": 0,
             "ticks": ""
            },
            "type": "contourcarpet"
           }
          ],
          "heatmap": [
           {
            "colorbar": {
             "outlinewidth": 0,
             "ticks": ""
            },
            "colorscale": [
             [
              0,
              "#0d0887"
             ],
             [
              0.1111111111111111,
              "#46039f"
             ],
             [
              0.2222222222222222,
              "#7201a8"
             ],
             [
              0.3333333333333333,
              "#9c179e"
             ],
             [
              0.4444444444444444,
              "#bd3786"
             ],
             [
              0.5555555555555556,
              "#d8576b"
             ],
             [
              0.6666666666666666,
              "#ed7953"
             ],
             [
              0.7777777777777778,
              "#fb9f3a"
             ],
             [
              0.8888888888888888,
              "#fdca26"
             ],
             [
              1,
              "#f0f921"
             ]
            ],
            "type": "heatmap"
           }
          ],
          "heatmapgl": [
           {
            "colorbar": {
             "outlinewidth": 0,
             "ticks": ""
            },
            "colorscale": [
             [
              0,
              "#0d0887"
             ],
             [
              0.1111111111111111,
              "#46039f"
             ],
             [
              0.2222222222222222,
              "#7201a8"
             ],
             [
              0.3333333333333333,
              "#9c179e"
             ],
             [
              0.4444444444444444,
              "#bd3786"
             ],
             [
              0.5555555555555556,
              "#d8576b"
             ],
             [
              0.6666666666666666,
              "#ed7953"
             ],
             [
              0.7777777777777778,
              "#fb9f3a"
             ],
             [
              0.8888888888888888,
              "#fdca26"
             ],
             [
              1,
              "#f0f921"
             ]
            ],
            "type": "heatmapgl"
           }
          ],
          "histogram": [
           {
            "marker": {
             "pattern": {
              "fillmode": "overlay",
              "size": 10,
              "solidity": 0.2
             }
            },
            "type": "histogram"
           }
          ],
          "histogram2d": [
           {
            "colorbar": {
             "outlinewidth": 0,
             "ticks": ""
            },
            "colorscale": [
             [
              0,
              "#0d0887"
             ],
             [
              0.1111111111111111,
              "#46039f"
             ],
             [
              0.2222222222222222,
              "#7201a8"
             ],
             [
              0.3333333333333333,
              "#9c179e"
             ],
             [
              0.4444444444444444,
              "#bd3786"
             ],
             [
              0.5555555555555556,
              "#d8576b"
             ],
             [
              0.6666666666666666,
              "#ed7953"
             ],
             [
              0.7777777777777778,
              "#fb9f3a"
             ],
             [
              0.8888888888888888,
              "#fdca26"
             ],
             [
              1,
              "#f0f921"
             ]
            ],
            "type": "histogram2d"
           }
          ],
          "histogram2dcontour": [
           {
            "colorbar": {
             "outlinewidth": 0,
             "ticks": ""
            },
            "colorscale": [
             [
              0,
              "#0d0887"
             ],
             [
              0.1111111111111111,
              "#46039f"
             ],
             [
              0.2222222222222222,
              "#7201a8"
             ],
             [
              0.3333333333333333,
              "#9c179e"
             ],
             [
              0.4444444444444444,
              "#bd3786"
             ],
             [
              0.5555555555555556,
              "#d8576b"
             ],
             [
              0.6666666666666666,
              "#ed7953"
             ],
             [
              0.7777777777777778,
              "#fb9f3a"
             ],
             [
              0.8888888888888888,
              "#fdca26"
             ],
             [
              1,
              "#f0f921"
             ]
            ],
            "type": "histogram2dcontour"
           }
          ],
          "mesh3d": [
           {
            "colorbar": {
             "outlinewidth": 0,
             "ticks": ""
            },
            "type": "mesh3d"
           }
          ],
          "parcoords": [
           {
            "line": {
             "colorbar": {
              "outlinewidth": 0,
              "ticks": ""
             }
            },
            "type": "parcoords"
           }
          ],
          "pie": [
           {
            "automargin": true,
            "type": "pie"
           }
          ],
          "scatter": [
           {
            "fillpattern": {
             "fillmode": "overlay",
             "size": 10,
             "solidity": 0.2
            },
            "type": "scatter"
           }
          ],
          "scatter3d": [
           {
            "line": {
             "colorbar": {
              "outlinewidth": 0,
              "ticks": ""
             }
            },
            "marker": {
             "colorbar": {
              "outlinewidth": 0,
              "ticks": ""
             }
            },
            "type": "scatter3d"
           }
          ],
          "scattercarpet": [
           {
            "marker": {
             "colorbar": {
              "outlinewidth": 0,
              "ticks": ""
             }
            },
            "type": "scattercarpet"
           }
          ],
          "scattergeo": [
           {
            "marker": {
             "colorbar": {
              "outlinewidth": 0,
              "ticks": ""
             }
            },
            "type": "scattergeo"
           }
          ],
          "scattergl": [
           {
            "marker": {
             "colorbar": {
              "outlinewidth": 0,
              "ticks": ""
             }
            },
            "type": "scattergl"
           }
          ],
          "scattermapbox": [
           {
            "marker": {
             "colorbar": {
              "outlinewidth": 0,
              "ticks": ""
             }
            },
            "type": "scattermapbox"
           }
          ],
          "scatterpolar": [
           {
            "marker": {
             "colorbar": {
              "outlinewidth": 0,
              "ticks": ""
             }
            },
            "type": "scatterpolar"
           }
          ],
          "scatterpolargl": [
           {
            "marker": {
             "colorbar": {
              "outlinewidth": 0,
              "ticks": ""
             }
            },
            "type": "scatterpolargl"
           }
          ],
          "scatterternary": [
           {
            "marker": {
             "colorbar": {
              "outlinewidth": 0,
              "ticks": ""
             }
            },
            "type": "scatterternary"
           }
          ],
          "surface": [
           {
            "colorbar": {
             "outlinewidth": 0,
             "ticks": ""
            },
            "colorscale": [
             [
              0,
              "#0d0887"
             ],
             [
              0.1111111111111111,
              "#46039f"
             ],
             [
              0.2222222222222222,
              "#7201a8"
             ],
             [
              0.3333333333333333,
              "#9c179e"
             ],
             [
              0.4444444444444444,
              "#bd3786"
             ],
             [
              0.5555555555555556,
              "#d8576b"
             ],
             [
              0.6666666666666666,
              "#ed7953"
             ],
             [
              0.7777777777777778,
              "#fb9f3a"
             ],
             [
              0.8888888888888888,
              "#fdca26"
             ],
             [
              1,
              "#f0f921"
             ]
            ],
            "type": "surface"
           }
          ],
          "table": [
           {
            "cells": {
             "fill": {
              "color": "#EBF0F8"
             },
             "line": {
              "color": "white"
             }
            },
            "header": {
             "fill": {
              "color": "#C8D4E3"
             },
             "line": {
              "color": "white"
             }
            },
            "type": "table"
           }
          ]
         },
         "layout": {
          "annotationdefaults": {
           "arrowcolor": "#2a3f5f",
           "arrowhead": 0,
           "arrowwidth": 1
          },
          "autotypenumbers": "strict",
          "coloraxis": {
           "colorbar": {
            "outlinewidth": 0,
            "ticks": ""
           }
          },
          "colorscale": {
           "diverging": [
            [
             0,
             "#8e0152"
            ],
            [
             0.1,
             "#c51b7d"
            ],
            [
             0.2,
             "#de77ae"
            ],
            [
             0.3,
             "#f1b6da"
            ],
            [
             0.4,
             "#fde0ef"
            ],
            [
             0.5,
             "#f7f7f7"
            ],
            [
             0.6,
             "#e6f5d0"
            ],
            [
             0.7,
             "#b8e186"
            ],
            [
             0.8,
             "#7fbc41"
            ],
            [
             0.9,
             "#4d9221"
            ],
            [
             1,
             "#276419"
            ]
           ],
           "sequential": [
            [
             0,
             "#0d0887"
            ],
            [
             0.1111111111111111,
             "#46039f"
            ],
            [
             0.2222222222222222,
             "#7201a8"
            ],
            [
             0.3333333333333333,
             "#9c179e"
            ],
            [
             0.4444444444444444,
             "#bd3786"
            ],
            [
             0.5555555555555556,
             "#d8576b"
            ],
            [
             0.6666666666666666,
             "#ed7953"
            ],
            [
             0.7777777777777778,
             "#fb9f3a"
            ],
            [
             0.8888888888888888,
             "#fdca26"
            ],
            [
             1,
             "#f0f921"
            ]
           ],
           "sequentialminus": [
            [
             0,
             "#0d0887"
            ],
            [
             0.1111111111111111,
             "#46039f"
            ],
            [
             0.2222222222222222,
             "#7201a8"
            ],
            [
             0.3333333333333333,
             "#9c179e"
            ],
            [
             0.4444444444444444,
             "#bd3786"
            ],
            [
             0.5555555555555556,
             "#d8576b"
            ],
            [
             0.6666666666666666,
             "#ed7953"
            ],
            [
             0.7777777777777778,
             "#fb9f3a"
            ],
            [
             0.8888888888888888,
             "#fdca26"
            ],
            [
             1,
             "#f0f921"
            ]
           ]
          },
          "colorway": [
           "#636efa",
           "#EF553B",
           "#00cc96",
           "#ab63fa",
           "#FFA15A",
           "#19d3f3",
           "#FF6692",
           "#B6E880",
           "#FF97FF",
           "#FECB52"
          ],
          "font": {
           "color": "#2a3f5f"
          },
          "geo": {
           "bgcolor": "white",
           "lakecolor": "white",
           "landcolor": "#E5ECF6",
           "showlakes": true,
           "showland": true,
           "subunitcolor": "white"
          },
          "hoverlabel": {
           "align": "left"
          },
          "hovermode": "closest",
          "mapbox": {
           "style": "light"
          },
          "paper_bgcolor": "white",
          "plot_bgcolor": "#E5ECF6",
          "polar": {
           "angularaxis": {
            "gridcolor": "white",
            "linecolor": "white",
            "ticks": ""
           },
           "bgcolor": "#E5ECF6",
           "radialaxis": {
            "gridcolor": "white",
            "linecolor": "white",
            "ticks": ""
           }
          },
          "scene": {
           "xaxis": {
            "backgroundcolor": "#E5ECF6",
            "gridcolor": "white",
            "gridwidth": 2,
            "linecolor": "white",
            "showbackground": true,
            "ticks": "",
            "zerolinecolor": "white"
           },
           "yaxis": {
            "backgroundcolor": "#E5ECF6",
            "gridcolor": "white",
            "gridwidth": 2,
            "linecolor": "white",
            "showbackground": true,
            "ticks": "",
            "zerolinecolor": "white"
           },
           "zaxis": {
            "backgroundcolor": "#E5ECF6",
            "gridcolor": "white",
            "gridwidth": 2,
            "linecolor": "white",
            "showbackground": true,
            "ticks": "",
            "zerolinecolor": "white"
           }
          },
          "shapedefaults": {
           "line": {
            "color": "#2a3f5f"
           }
          },
          "ternary": {
           "aaxis": {
            "gridcolor": "white",
            "linecolor": "white",
            "ticks": ""
           },
           "baxis": {
            "gridcolor": "white",
            "linecolor": "white",
            "ticks": ""
           },
           "bgcolor": "#E5ECF6",
           "caxis": {
            "gridcolor": "white",
            "linecolor": "white",
            "ticks": ""
           }
          },
          "title": {
           "x": 0.05
          },
          "xaxis": {
           "automargin": true,
           "gridcolor": "white",
           "linecolor": "white",
           "ticks": "",
           "title": {
            "standoff": 15
           },
           "zerolinecolor": "white",
           "zerolinewidth": 2
          },
          "yaxis": {
           "automargin": true,
           "gridcolor": "white",
           "linecolor": "white",
           "ticks": "",
           "title": {
            "standoff": 15
           },
           "zerolinecolor": "white",
           "zerolinewidth": 2
          }
         }
        },
        "title": {
         "text": "Optimization History Plot"
        },
        "xaxis": {
         "title": {
          "text": "Trial"
         }
        },
        "yaxis": {
         "title": {
          "text": "Objective Value"
         }
        }
       }
      }
     },
     "metadata": {},
     "output_type": "display_data"
    }
   ],
   "source": [
    "import optuna.visualization as vis\n",
    "\n",
    "optimization_history_plot = vis.plot_optimization_history(study)\n",
    "optimization_history_plot.show()"
   ]
  },
  {
   "cell_type": "code",
   "execution_count": 10,
   "metadata": {},
   "outputs": [
    {
     "data": {
      "application/vnd.plotly.v1+json": {
       "config": {
        "plotlyServerURL": "https://plot.ly"
       },
       "data": [
        {
         "cliponaxis": false,
         "hovertemplate": [
          "learning_rate (FloatDistribution): 0.00403499679386755<extra></extra>",
          "num_layers (IntDistribution): 0.004722838622346269<extra></extra>",
          "sequencce_sug (IntDistribution): 0.05716454394115807<extra></extra>",
          "dropout_sug (FloatDistribution): 0.07987677333449125<extra></extra>",
          "hidden_dim (IntDistribution): 0.08337998636403005<extra></extra>",
          "batch_sug (CategoricalDistribution): 0.7708208609441066<extra></extra>"
         ],
         "marker": {
          "color": "rgb(66,146,198)"
         },
         "orientation": "h",
         "text": [
          "<0.01",
          "<0.01",
          "0.06",
          "0.08",
          "0.08",
          "0.77"
         ],
         "textposition": "outside",
         "type": "bar",
         "x": [
          0.00403499679386755,
          0.004722838622346269,
          0.05716454394115807,
          0.07987677333449125,
          0.08337998636403005,
          0.7708208609441066
         ],
         "y": [
          "learning_rate",
          "num_layers",
          "sequencce_sug",
          "dropout_sug",
          "hidden_dim",
          "batch_sug"
         ]
        }
       ],
       "layout": {
        "showlegend": false,
        "template": {
         "data": {
          "bar": [
           {
            "error_x": {
             "color": "#2a3f5f"
            },
            "error_y": {
             "color": "#2a3f5f"
            },
            "marker": {
             "line": {
              "color": "#E5ECF6",
              "width": 0.5
             },
             "pattern": {
              "fillmode": "overlay",
              "size": 10,
              "solidity": 0.2
             }
            },
            "type": "bar"
           }
          ],
          "barpolar": [
           {
            "marker": {
             "line": {
              "color": "#E5ECF6",
              "width": 0.5
             },
             "pattern": {
              "fillmode": "overlay",
              "size": 10,
              "solidity": 0.2
             }
            },
            "type": "barpolar"
           }
          ],
          "carpet": [
           {
            "aaxis": {
             "endlinecolor": "#2a3f5f",
             "gridcolor": "white",
             "linecolor": "white",
             "minorgridcolor": "white",
             "startlinecolor": "#2a3f5f"
            },
            "baxis": {
             "endlinecolor": "#2a3f5f",
             "gridcolor": "white",
             "linecolor": "white",
             "minorgridcolor": "white",
             "startlinecolor": "#2a3f5f"
            },
            "type": "carpet"
           }
          ],
          "choropleth": [
           {
            "colorbar": {
             "outlinewidth": 0,
             "ticks": ""
            },
            "type": "choropleth"
           }
          ],
          "contour": [
           {
            "colorbar": {
             "outlinewidth": 0,
             "ticks": ""
            },
            "colorscale": [
             [
              0,
              "#0d0887"
             ],
             [
              0.1111111111111111,
              "#46039f"
             ],
             [
              0.2222222222222222,
              "#7201a8"
             ],
             [
              0.3333333333333333,
              "#9c179e"
             ],
             [
              0.4444444444444444,
              "#bd3786"
             ],
             [
              0.5555555555555556,
              "#d8576b"
             ],
             [
              0.6666666666666666,
              "#ed7953"
             ],
             [
              0.7777777777777778,
              "#fb9f3a"
             ],
             [
              0.8888888888888888,
              "#fdca26"
             ],
             [
              1,
              "#f0f921"
             ]
            ],
            "type": "contour"
           }
          ],
          "contourcarpet": [
           {
            "colorbar": {
             "outlinewidth": 0,
             "ticks": ""
            },
            "type": "contourcarpet"
           }
          ],
          "heatmap": [
           {
            "colorbar": {
             "outlinewidth": 0,
             "ticks": ""
            },
            "colorscale": [
             [
              0,
              "#0d0887"
             ],
             [
              0.1111111111111111,
              "#46039f"
             ],
             [
              0.2222222222222222,
              "#7201a8"
             ],
             [
              0.3333333333333333,
              "#9c179e"
             ],
             [
              0.4444444444444444,
              "#bd3786"
             ],
             [
              0.5555555555555556,
              "#d8576b"
             ],
             [
              0.6666666666666666,
              "#ed7953"
             ],
             [
              0.7777777777777778,
              "#fb9f3a"
             ],
             [
              0.8888888888888888,
              "#fdca26"
             ],
             [
              1,
              "#f0f921"
             ]
            ],
            "type": "heatmap"
           }
          ],
          "heatmapgl": [
           {
            "colorbar": {
             "outlinewidth": 0,
             "ticks": ""
            },
            "colorscale": [
             [
              0,
              "#0d0887"
             ],
             [
              0.1111111111111111,
              "#46039f"
             ],
             [
              0.2222222222222222,
              "#7201a8"
             ],
             [
              0.3333333333333333,
              "#9c179e"
             ],
             [
              0.4444444444444444,
              "#bd3786"
             ],
             [
              0.5555555555555556,
              "#d8576b"
             ],
             [
              0.6666666666666666,
              "#ed7953"
             ],
             [
              0.7777777777777778,
              "#fb9f3a"
             ],
             [
              0.8888888888888888,
              "#fdca26"
             ],
             [
              1,
              "#f0f921"
             ]
            ],
            "type": "heatmapgl"
           }
          ],
          "histogram": [
           {
            "marker": {
             "pattern": {
              "fillmode": "overlay",
              "size": 10,
              "solidity": 0.2
             }
            },
            "type": "histogram"
           }
          ],
          "histogram2d": [
           {
            "colorbar": {
             "outlinewidth": 0,
             "ticks": ""
            },
            "colorscale": [
             [
              0,
              "#0d0887"
             ],
             [
              0.1111111111111111,
              "#46039f"
             ],
             [
              0.2222222222222222,
              "#7201a8"
             ],
             [
              0.3333333333333333,
              "#9c179e"
             ],
             [
              0.4444444444444444,
              "#bd3786"
             ],
             [
              0.5555555555555556,
              "#d8576b"
             ],
             [
              0.6666666666666666,
              "#ed7953"
             ],
             [
              0.7777777777777778,
              "#fb9f3a"
             ],
             [
              0.8888888888888888,
              "#fdca26"
             ],
             [
              1,
              "#f0f921"
             ]
            ],
            "type": "histogram2d"
           }
          ],
          "histogram2dcontour": [
           {
            "colorbar": {
             "outlinewidth": 0,
             "ticks": ""
            },
            "colorscale": [
             [
              0,
              "#0d0887"
             ],
             [
              0.1111111111111111,
              "#46039f"
             ],
             [
              0.2222222222222222,
              "#7201a8"
             ],
             [
              0.3333333333333333,
              "#9c179e"
             ],
             [
              0.4444444444444444,
              "#bd3786"
             ],
             [
              0.5555555555555556,
              "#d8576b"
             ],
             [
              0.6666666666666666,
              "#ed7953"
             ],
             [
              0.7777777777777778,
              "#fb9f3a"
             ],
             [
              0.8888888888888888,
              "#fdca26"
             ],
             [
              1,
              "#f0f921"
             ]
            ],
            "type": "histogram2dcontour"
           }
          ],
          "mesh3d": [
           {
            "colorbar": {
             "outlinewidth": 0,
             "ticks": ""
            },
            "type": "mesh3d"
           }
          ],
          "parcoords": [
           {
            "line": {
             "colorbar": {
              "outlinewidth": 0,
              "ticks": ""
             }
            },
            "type": "parcoords"
           }
          ],
          "pie": [
           {
            "automargin": true,
            "type": "pie"
           }
          ],
          "scatter": [
           {
            "fillpattern": {
             "fillmode": "overlay",
             "size": 10,
             "solidity": 0.2
            },
            "type": "scatter"
           }
          ],
          "scatter3d": [
           {
            "line": {
             "colorbar": {
              "outlinewidth": 0,
              "ticks": ""
             }
            },
            "marker": {
             "colorbar": {
              "outlinewidth": 0,
              "ticks": ""
             }
            },
            "type": "scatter3d"
           }
          ],
          "scattercarpet": [
           {
            "marker": {
             "colorbar": {
              "outlinewidth": 0,
              "ticks": ""
             }
            },
            "type": "scattercarpet"
           }
          ],
          "scattergeo": [
           {
            "marker": {
             "colorbar": {
              "outlinewidth": 0,
              "ticks": ""
             }
            },
            "type": "scattergeo"
           }
          ],
          "scattergl": [
           {
            "marker": {
             "colorbar": {
              "outlinewidth": 0,
              "ticks": ""
             }
            },
            "type": "scattergl"
           }
          ],
          "scattermapbox": [
           {
            "marker": {
             "colorbar": {
              "outlinewidth": 0,
              "ticks": ""
             }
            },
            "type": "scattermapbox"
           }
          ],
          "scatterpolar": [
           {
            "marker": {
             "colorbar": {
              "outlinewidth": 0,
              "ticks": ""
             }
            },
            "type": "scatterpolar"
           }
          ],
          "scatterpolargl": [
           {
            "marker": {
             "colorbar": {
              "outlinewidth": 0,
              "ticks": ""
             }
            },
            "type": "scatterpolargl"
           }
          ],
          "scatterternary": [
           {
            "marker": {
             "colorbar": {
              "outlinewidth": 0,
              "ticks": ""
             }
            },
            "type": "scatterternary"
           }
          ],
          "surface": [
           {
            "colorbar": {
             "outlinewidth": 0,
             "ticks": ""
            },
            "colorscale": [
             [
              0,
              "#0d0887"
             ],
             [
              0.1111111111111111,
              "#46039f"
             ],
             [
              0.2222222222222222,
              "#7201a8"
             ],
             [
              0.3333333333333333,
              "#9c179e"
             ],
             [
              0.4444444444444444,
              "#bd3786"
             ],
             [
              0.5555555555555556,
              "#d8576b"
             ],
             [
              0.6666666666666666,
              "#ed7953"
             ],
             [
              0.7777777777777778,
              "#fb9f3a"
             ],
             [
              0.8888888888888888,
              "#fdca26"
             ],
             [
              1,
              "#f0f921"
             ]
            ],
            "type": "surface"
           }
          ],
          "table": [
           {
            "cells": {
             "fill": {
              "color": "#EBF0F8"
             },
             "line": {
              "color": "white"
             }
            },
            "header": {
             "fill": {
              "color": "#C8D4E3"
             },
             "line": {
              "color": "white"
             }
            },
            "type": "table"
           }
          ]
         },
         "layout": {
          "annotationdefaults": {
           "arrowcolor": "#2a3f5f",
           "arrowhead": 0,
           "arrowwidth": 1
          },
          "autotypenumbers": "strict",
          "coloraxis": {
           "colorbar": {
            "outlinewidth": 0,
            "ticks": ""
           }
          },
          "colorscale": {
           "diverging": [
            [
             0,
             "#8e0152"
            ],
            [
             0.1,
             "#c51b7d"
            ],
            [
             0.2,
             "#de77ae"
            ],
            [
             0.3,
             "#f1b6da"
            ],
            [
             0.4,
             "#fde0ef"
            ],
            [
             0.5,
             "#f7f7f7"
            ],
            [
             0.6,
             "#e6f5d0"
            ],
            [
             0.7,
             "#b8e186"
            ],
            [
             0.8,
             "#7fbc41"
            ],
            [
             0.9,
             "#4d9221"
            ],
            [
             1,
             "#276419"
            ]
           ],
           "sequential": [
            [
             0,
             "#0d0887"
            ],
            [
             0.1111111111111111,
             "#46039f"
            ],
            [
             0.2222222222222222,
             "#7201a8"
            ],
            [
             0.3333333333333333,
             "#9c179e"
            ],
            [
             0.4444444444444444,
             "#bd3786"
            ],
            [
             0.5555555555555556,
             "#d8576b"
            ],
            [
             0.6666666666666666,
             "#ed7953"
            ],
            [
             0.7777777777777778,
             "#fb9f3a"
            ],
            [
             0.8888888888888888,
             "#fdca26"
            ],
            [
             1,
             "#f0f921"
            ]
           ],
           "sequentialminus": [
            [
             0,
             "#0d0887"
            ],
            [
             0.1111111111111111,
             "#46039f"
            ],
            [
             0.2222222222222222,
             "#7201a8"
            ],
            [
             0.3333333333333333,
             "#9c179e"
            ],
            [
             0.4444444444444444,
             "#bd3786"
            ],
            [
             0.5555555555555556,
             "#d8576b"
            ],
            [
             0.6666666666666666,
             "#ed7953"
            ],
            [
             0.7777777777777778,
             "#fb9f3a"
            ],
            [
             0.8888888888888888,
             "#fdca26"
            ],
            [
             1,
             "#f0f921"
            ]
           ]
          },
          "colorway": [
           "#636efa",
           "#EF553B",
           "#00cc96",
           "#ab63fa",
           "#FFA15A",
           "#19d3f3",
           "#FF6692",
           "#B6E880",
           "#FF97FF",
           "#FECB52"
          ],
          "font": {
           "color": "#2a3f5f"
          },
          "geo": {
           "bgcolor": "white",
           "lakecolor": "white",
           "landcolor": "#E5ECF6",
           "showlakes": true,
           "showland": true,
           "subunitcolor": "white"
          },
          "hoverlabel": {
           "align": "left"
          },
          "hovermode": "closest",
          "mapbox": {
           "style": "light"
          },
          "paper_bgcolor": "white",
          "plot_bgcolor": "#E5ECF6",
          "polar": {
           "angularaxis": {
            "gridcolor": "white",
            "linecolor": "white",
            "ticks": ""
           },
           "bgcolor": "#E5ECF6",
           "radialaxis": {
            "gridcolor": "white",
            "linecolor": "white",
            "ticks": ""
           }
          },
          "scene": {
           "xaxis": {
            "backgroundcolor": "#E5ECF6",
            "gridcolor": "white",
            "gridwidth": 2,
            "linecolor": "white",
            "showbackground": true,
            "ticks": "",
            "zerolinecolor": "white"
           },
           "yaxis": {
            "backgroundcolor": "#E5ECF6",
            "gridcolor": "white",
            "gridwidth": 2,
            "linecolor": "white",
            "showbackground": true,
            "ticks": "",
            "zerolinecolor": "white"
           },
           "zaxis": {
            "backgroundcolor": "#E5ECF6",
            "gridcolor": "white",
            "gridwidth": 2,
            "linecolor": "white",
            "showbackground": true,
            "ticks": "",
            "zerolinecolor": "white"
           }
          },
          "shapedefaults": {
           "line": {
            "color": "#2a3f5f"
           }
          },
          "ternary": {
           "aaxis": {
            "gridcolor": "white",
            "linecolor": "white",
            "ticks": ""
           },
           "baxis": {
            "gridcolor": "white",
            "linecolor": "white",
            "ticks": ""
           },
           "bgcolor": "#E5ECF6",
           "caxis": {
            "gridcolor": "white",
            "linecolor": "white",
            "ticks": ""
           }
          },
          "title": {
           "x": 0.05
          },
          "xaxis": {
           "automargin": true,
           "gridcolor": "white",
           "linecolor": "white",
           "ticks": "",
           "title": {
            "standoff": 15
           },
           "zerolinecolor": "white",
           "zerolinewidth": 2
          },
          "yaxis": {
           "automargin": true,
           "gridcolor": "white",
           "linecolor": "white",
           "ticks": "",
           "title": {
            "standoff": 15
           },
           "zerolinecolor": "white",
           "zerolinewidth": 2
          }
         }
        },
        "title": {
         "text": "Hyperparameter Importances"
        },
        "xaxis": {
         "title": {
          "text": "Importance for Objective Value"
         }
        },
        "yaxis": {
         "title": {
          "text": "Hyperparameter"
         }
        }
       }
      }
     },
     "metadata": {},
     "output_type": "display_data"
    }
   ],
   "source": [
    "# Plotting Parameter Importance\n",
    "param_importance_plot = vis.plot_param_importances(study)\n",
    "param_importance_plot.show()"
   ]
  },
  {
   "cell_type": "code",
   "execution_count": 11,
   "metadata": {},
   "outputs": [
    {
     "data": {
      "application/vnd.plotly.v1+json": {
       "config": {
        "plotlyServerURL": "https://plot.ly"
       },
       "data": [
        {
         "colorbar": {
          "title": {
           "text": "Objective Value"
          }
         },
         "colorscale": [
          [
           0,
           "rgb(247,251,255)"
          ],
          [
           0.125,
           "rgb(222,235,247)"
          ],
          [
           0.25,
           "rgb(198,219,239)"
          ],
          [
           0.375,
           "rgb(158,202,225)"
          ],
          [
           0.5,
           "rgb(107,174,214)"
          ],
          [
           0.625,
           "rgb(66,146,198)"
          ],
          [
           0.75,
           "rgb(33,113,181)"
          ],
          [
           0.875,
           "rgb(8,81,156)"
          ],
          [
           1,
           "rgb(8,48,107)"
          ]
         ],
         "connectgaps": true,
         "contours": {
          "coloring": "heatmap"
         },
         "hoverinfo": "none",
         "line": {
          "smoothing": 1.3
         },
         "reversescale": true,
         "type": "contour",
         "x": [
          27.2,
          32,
          33,
          39,
          40,
          42,
          43,
          44,
          46,
          48,
          49,
          50,
          51,
          52,
          53,
          54,
          56,
          57,
          58,
          60,
          61,
          62,
          63,
          64,
          65,
          66,
          67,
          68,
          69,
          70,
          72,
          73,
          74,
          75,
          77,
          78,
          81,
          84,
          86,
          88,
          89,
          91,
          92,
          94,
          96,
          98,
          100,
          103,
          106,
          107,
          109,
          110,
          111,
          112,
          113,
          114,
          115,
          116,
          117,
          118,
          119,
          120,
          121,
          122,
          123,
          124,
          125,
          126,
          128,
          132.8
         ],
         "y": [
          1.65,
          3,
          4,
          6,
          7,
          8,
          9,
          10,
          12,
          13,
          15,
          16,
          17,
          18,
          19,
          21,
          22,
          23,
          24,
          25,
          26,
          27,
          28,
          29,
          30,
          31.35
         ],
         "z": [
          [
           null,
           null,
           null,
           null,
           null,
           null,
           null,
           null,
           null,
           null,
           null,
           null,
           null,
           null,
           null,
           null,
           null,
           null,
           null,
           null,
           null,
           null,
           null,
           null,
           null,
           null,
           null,
           null,
           null,
           null,
           null,
           null,
           null,
           null,
           null,
           null,
           null,
           null,
           null,
           null,
           null,
           null,
           null,
           null,
           null,
           null,
           null,
           null,
           null,
           null,
           null,
           null,
           null,
           null,
           null,
           null,
           null,
           null,
           null,
           null,
           null,
           null,
           null,
           null,
           null,
           null,
           null,
           null,
           null,
           null
          ],
          [
           null,
           null,
           null,
           null,
           null,
           null,
           null,
           null,
           null,
           null,
           null,
           null,
           null,
           null,
           null,
           null,
           null,
           null,
           null,
           null,
           null,
           null,
           null,
           null,
           null,
           null,
           null,
           null,
           null,
           null,
           null,
           null,
           null,
           null,
           null,
           null,
           null,
           null,
           null,
           null,
           null,
           null,
           null,
           null,
           null,
           null,
           null,
           null,
           null,
           null,
           null,
           null,
           null,
           null,
           null,
           null,
           null,
           null,
           null,
           null,
           null,
           null,
           null,
           null,
           null,
           0.12283281236886978,
           null,
           0.12294962257146835,
           null,
           null
          ],
          [
           null,
           null,
           null,
           null,
           null,
           null,
           null,
           null,
           null,
           null,
           null,
           null,
           null,
           null,
           null,
           null,
           null,
           null,
           null,
           null,
           null,
           null,
           null,
           null,
           null,
           null,
           null,
           null,
           null,
           null,
           null,
           null,
           null,
           null,
           null,
           null,
           null,
           null,
           null,
           null,
           null,
           null,
           null,
           null,
           null,
           null,
           null,
           null,
           null,
           null,
           null,
           null,
           null,
           null,
           null,
           null,
           null,
           null,
           null,
           null,
           null,
           null,
           null,
           null,
           0.12158826738595963,
           null,
           null,
           null,
           null,
           null
          ],
          [
           null,
           null,
           null,
           null,
           null,
           null,
           null,
           null,
           null,
           null,
           null,
           null,
           null,
           null,
           null,
           null,
           null,
           null,
           null,
           null,
           null,
           null,
           null,
           null,
           null,
           null,
           null,
           null,
           null,
           null,
           null,
           null,
           null,
           null,
           null,
           null,
           null,
           null,
           null,
           null,
           null,
           null,
           null,
           null,
           null,
           null,
           null,
           null,
           null,
           null,
           null,
           0.12254507094621658,
           null,
           null,
           null,
           null,
           null,
           null,
           null,
           null,
           null,
           null,
           null,
           null,
           null,
           null,
           null,
           null,
           null,
           null
          ],
          [
           null,
           null,
           null,
           null,
           null,
           null,
           null,
           null,
           null,
           null,
           null,
           null,
           null,
           null,
           null,
           null,
           null,
           null,
           null,
           null,
           null,
           null,
           null,
           null,
           null,
           null,
           null,
           null,
           null,
           null,
           null,
           null,
           null,
           null,
           null,
           null,
           null,
           null,
           null,
           null,
           null,
           null,
           null,
           null,
           null,
           null,
           null,
           null,
           null,
           null,
           0.12141773849725723,
           null,
           null,
           null,
           null,
           null,
           null,
           null,
           null,
           null,
           null,
           null,
           null,
           null,
           null,
           null,
           null,
           null,
           null,
           null
          ],
          [
           null,
           null,
           null,
           null,
           null,
           null,
           null,
           null,
           null,
           null,
           null,
           null,
           null,
           null,
           null,
           null,
           null,
           null,
           null,
           null,
           null,
           null,
           null,
           null,
           null,
           0.12182503193616867,
           null,
           null,
           null,
           null,
           null,
           0.12516407668590546,
           null,
           null,
           null,
           null,
           null,
           null,
           null,
           null,
           null,
           null,
           null,
           null,
           null,
           null,
           null,
           null,
           null,
           null,
           null,
           null,
           null,
           null,
           null,
           null,
           null,
           null,
           null,
           null,
           null,
           null,
           null,
           null,
           null,
           null,
           null,
           null,
           null,
           null
          ],
          [
           null,
           null,
           null,
           null,
           null,
           null,
           null,
           null,
           null,
           null,
           0.1224609985947609,
           null,
           null,
           null,
           null,
           null,
           null,
           null,
           null,
           null,
           null,
           null,
           null,
           null,
           null,
           null,
           null,
           null,
           null,
           null,
           null,
           null,
           null,
           null,
           null,
           null,
           null,
           null,
           null,
           null,
           null,
           null,
           null,
           null,
           null,
           null,
           null,
           null,
           null,
           null,
           null,
           null,
           null,
           null,
           null,
           null,
           null,
           null,
           null,
           null,
           null,
           null,
           null,
           null,
           null,
           null,
           null,
           null,
           null,
           null
          ],
          [
           null,
           null,
           null,
           null,
           null,
           null,
           null,
           null,
           null,
           null,
           null,
           null,
           null,
           null,
           null,
           null,
           null,
           null,
           null,
           null,
           0.12302005290985107,
           null,
           null,
           null,
           null,
           null,
           null,
           null,
           null,
           null,
           null,
           null,
           null,
           null,
           null,
           null,
           null,
           null,
           null,
           null,
           null,
           null,
           null,
           null,
           null,
           null,
           null,
           null,
           null,
           null,
           null,
           null,
           null,
           null,
           null,
           null,
           null,
           null,
           null,
           null,
           null,
           null,
           null,
           0.12114506214857101,
           null,
           null,
           null,
           null,
           null,
           null
          ],
          [
           null,
           null,
           null,
           null,
           null,
           null,
           null,
           null,
           null,
           null,
           null,
           null,
           null,
           null,
           null,
           null,
           null,
           null,
           null,
           null,
           null,
           null,
           null,
           null,
           null,
           null,
           null,
           null,
           null,
           null,
           null,
           null,
           null,
           null,
           null,
           null,
           null,
           null,
           null,
           null,
           null,
           null,
           null,
           null,
           null,
           null,
           null,
           null,
           null,
           null,
           null,
           null,
           null,
           null,
           0.12091691046953201,
           null,
           null,
           null,
           null,
           null,
           null,
           null,
           null,
           null,
           null,
           null,
           null,
           null,
           null,
           null
          ],
          [
           null,
           null,
           null,
           null,
           null,
           null,
           null,
           0.12326827645301819,
           null,
           null,
           null,
           null,
           null,
           null,
           null,
           null,
           null,
           null,
           null,
           null,
           null,
           null,
           null,
           null,
           null,
           null,
           null,
           null,
           null,
           null,
           null,
           null,
           null,
           null,
           null,
           null,
           null,
           null,
           null,
           null,
           null,
           null,
           null,
           null,
           null,
           null,
           null,
           0.12148091197013855,
           null,
           null,
           null,
           null,
           0.12114942073822021,
           0.12109004706144333,
           null,
           null,
           null,
           null,
           null,
           null,
           null,
           null,
           null,
           null,
           null,
           null,
           null,
           null,
           null,
           null
          ],
          [
           null,
           null,
           null,
           null,
           null,
           null,
           null,
           null,
           null,
           null,
           null,
           null,
           null,
           null,
           null,
           null,
           null,
           null,
           null,
           null,
           null,
           null,
           null,
           null,
           0.120870441198349,
           null,
           null,
           null,
           null,
           null,
           null,
           null,
           null,
           null,
           null,
           null,
           null,
           null,
           null,
           null,
           null,
           null,
           null,
           null,
           null,
           null,
           null,
           null,
           null,
           null,
           null,
           null,
           null,
           null,
           null,
           null,
           null,
           null,
           null,
           null,
           null,
           null,
           null,
           null,
           null,
           null,
           null,
           null,
           null,
           null
          ],
          [
           null,
           null,
           null,
           null,
           null,
           null,
           null,
           null,
           null,
           null,
           null,
           null,
           null,
           null,
           null,
           null,
           null,
           null,
           null,
           null,
           null,
           null,
           null,
           null,
           null,
           null,
           null,
           null,
           null,
           null,
           null,
           null,
           null,
           null,
           null,
           0.12178955972194672,
           null,
           null,
           null,
           null,
           null,
           null,
           0.12383107095956802,
           null,
           null,
           null,
           null,
           null,
           null,
           null,
           null,
           null,
           null,
           null,
           null,
           null,
           null,
           null,
           null,
           null,
           null,
           null,
           null,
           null,
           null,
           null,
           null,
           null,
           null,
           null
          ],
          [
           null,
           null,
           null,
           null,
           null,
           null,
           null,
           null,
           null,
           null,
           null,
           null,
           null,
           null,
           null,
           null,
           null,
           null,
           null,
           null,
           null,
           null,
           null,
           null,
           null,
           null,
           null,
           null,
           null,
           null,
           null,
           null,
           null,
           null,
           null,
           null,
           null,
           null,
           null,
           null,
           null,
           null,
           null,
           null,
           null,
           null,
           0.12359100580215454,
           null,
           null,
           null,
           null,
           null,
           null,
           null,
           null,
           null,
           null,
           null,
           null,
           null,
           null,
           null,
           null,
           null,
           null,
           null,
           null,
           null,
           null,
           null
          ],
          [
           null,
           null,
           null,
           null,
           null,
           null,
           null,
           null,
           null,
           null,
           null,
           null,
           null,
           null,
           null,
           null,
           null,
           null,
           null,
           null,
           null,
           null,
           null,
           null,
           null,
           null,
           null,
           null,
           null,
           null,
           null,
           null,
           null,
           null,
           null,
           null,
           null,
           null,
           null,
           null,
           null,
           null,
           null,
           0.12232094258069992,
           null,
           null,
           null,
           null,
           null,
           null,
           null,
           null,
           null,
           null,
           null,
           null,
           null,
           null,
           null,
           null,
           null,
           null,
           null,
           null,
           null,
           null,
           null,
           null,
           null,
           null
          ],
          [
           null,
           null,
           null,
           null,
           null,
           null,
           null,
           null,
           null,
           null,
           null,
           null,
           null,
           null,
           null,
           null,
           null,
           null,
           null,
           null,
           null,
           null,
           null,
           null,
           null,
           null,
           null,
           0.12310072779655457,
           null,
           null,
           null,
           null,
           null,
           null,
           null,
           null,
           null,
           null,
           null,
           null,
           null,
           null,
           null,
           null,
           null,
           0.12087681889533997,
           null,
           null,
           null,
           null,
           null,
           null,
           null,
           null,
           null,
           null,
           null,
           null,
           null,
           null,
           null,
           null,
           null,
           null,
           null,
           null,
           null,
           null,
           0.12085393816232681,
           null
          ],
          [
           null,
           null,
           null,
           null,
           null,
           null,
           null,
           null,
           null,
           null,
           null,
           null,
           null,
           null,
           null,
           null,
           null,
           null,
           null,
           null,
           null,
           null,
           null,
           null,
           null,
           null,
           null,
           null,
           null,
           null,
           null,
           null,
           null,
           null,
           null,
           null,
           null,
           null,
           null,
           null,
           null,
           null,
           null,
           null,
           null,
           null,
           null,
           null,
           null,
           0.12133953720331192,
           null,
           0.1211099922657013,
           null,
           null,
           null,
           0.12261202186346054,
           null,
           null,
           null,
           null,
           null,
           null,
           null,
           null,
           null,
           null,
           null,
           null,
           null,
           null
          ],
          [
           null,
           null,
           null,
           null,
           null,
           null,
           null,
           null,
           null,
           null,
           null,
           null,
           null,
           null,
           null,
           null,
           null,
           null,
           null,
           null,
           null,
           null,
           null,
           null,
           null,
           null,
           null,
           null,
           null,
           null,
           null,
           null,
           null,
           null,
           null,
           null,
           null,
           null,
           null,
           null,
           null,
           null,
           null,
           null,
           null,
           null,
           null,
           null,
           0.12192671000957489,
           null,
           null,
           null,
           null,
           null,
           null,
           null,
           null,
           null,
           null,
           null,
           null,
           null,
           null,
           null,
           null,
           null,
           0.12119397521018982,
           null,
           null,
           null
          ],
          [
           null,
           null,
           null,
           null,
           null,
           null,
           null,
           null,
           null,
           null,
           null,
           null,
           null,
           null,
           null,
           null,
           null,
           null,
           null,
           null,
           null,
           null,
           null,
           null,
           null,
           null,
           null,
           null,
           null,
           null,
           null,
           null,
           0.12128906697034836,
           null,
           null,
           null,
           null,
           null,
           null,
           null,
           null,
           null,
           null,
           null,
           null,
           null,
           null,
           0.12099301815032959,
           null,
           null,
           null,
           null,
           null,
           null,
           null,
           null,
           null,
           0.1205739676952362,
           null,
           null,
           null,
           null,
           null,
           null,
           null,
           null,
           null,
           null,
           null,
           null
          ],
          [
           null,
           null,
           null,
           null,
           null,
           null,
           null,
           null,
           null,
           null,
           null,
           null,
           null,
           null,
           null,
           null,
           null,
           null,
           null,
           null,
           null,
           null,
           null,
           null,
           null,
           null,
           null,
           null,
           null,
           null,
           null,
           null,
           null,
           0.12065373361110687,
           0.12185491621494293,
           null,
           0.120484858751297,
           null,
           null,
           0.12175244092941284,
           null,
           null,
           null,
           null,
           null,
           null,
           null,
           null,
           null,
           null,
           null,
           null,
           null,
           null,
           null,
           null,
           null,
           null,
           null,
           0.12058133631944656,
           null,
           null,
           null,
           null,
           null,
           null,
           null,
           null,
           null,
           null
          ],
          [
           null,
           null,
           null,
           null,
           null,
           null,
           null,
           null,
           null,
           null,
           null,
           null,
           null,
           null,
           null,
           null,
           null,
           0.12394645810127258,
           null,
           null,
           null,
           null,
           null,
           null,
           null,
           null,
           null,
           null,
           null,
           null,
           null,
           null,
           null,
           null,
           null,
           null,
           0.12457986176013947,
           null,
           0.12124864757061005,
           null,
           null,
           null,
           null,
           null,
           null,
           null,
           null,
           0.12069405615329742,
           null,
           null,
           null,
           null,
           null,
           null,
           null,
           0.1220327690243721,
           0.12398945540189743,
           null,
           null,
           null,
           null,
           null,
           null,
           null,
           null,
           null,
           null,
           null,
           null,
           null
          ],
          [
           null,
           null,
           0.12213063985109329,
           null,
           null,
           null,
           null,
           null,
           null,
           null,
           null,
           null,
           null,
           null,
           0.12072531878948212,
           null,
           null,
           null,
           0.12099599093198776,
           null,
           null,
           null,
           null,
           null,
           null,
           null,
           null,
           null,
           null,
           null,
           null,
           null,
           null,
           null,
           null,
           null,
           null,
           0.12162759900093079,
           null,
           null,
           0.12312822788953781,
           null,
           null,
           null,
           null,
           null,
           0.12081403285264969,
           null,
           null,
           null,
           null,
           null,
           null,
           null,
           null,
           null,
           null,
           null,
           null,
           null,
           null,
           null,
           null,
           null,
           null,
           0.12194118648767471,
           null,
           null,
           null,
           null
          ],
          [
           null,
           0.12255017459392548,
           null,
           null,
           0.12086375057697296,
           0.12256087362766266,
           null,
           null,
           0.12123960256576538,
           null,
           null,
           null,
           null,
           null,
           null,
           null,
           0.12080489844083786,
           null,
           null,
           0.12048077583312988,
           null,
           0.12095636874437332,
           0.12190095335245132,
           0.12198037654161453,
           null,
           null,
           0.12051701545715332,
           null,
           null,
           null,
           0.12097962200641632,
           null,
           null,
           null,
           null,
           null,
           null,
           null,
           null,
           null,
           null,
           null,
           null,
           null,
           null,
           null,
           null,
           null,
           null,
           null,
           null,
           null,
           null,
           null,
           null,
           null,
           null,
           null,
           null,
           null,
           0.12116117775440216,
           null,
           null,
           null,
           null,
           null,
           null,
           null,
           null,
           null
          ],
          [
           null,
           null,
           null,
           null,
           null,
           null,
           null,
           null,
           null,
           null,
           0.12058353424072266,
           null,
           0.1222936362028122,
           null,
           null,
           null,
           null,
           null,
           null,
           0.12047687917947769,
           null,
           null,
           null,
           null,
           null,
           null,
           null,
           null,
           0.1234273836016655,
           0.12512852251529694,
           0.1234755739569664,
           null,
           null,
           null,
           null,
           null,
           0.12267505377531052,
           null,
           null,
           null,
           null,
           0.12068162858486176,
           null,
           null,
           0.12226831167936325,
           null,
           null,
           null,
           null,
           null,
           null,
           null,
           null,
           null,
           null,
           null,
           null,
           null,
           null,
           0.12093371897935867,
           null,
           null,
           0.12362728267908096,
           null,
           null,
           null,
           null,
           null,
           null,
           null
          ],
          [
           null,
           null,
           null,
           null,
           null,
           null,
           0.12079455703496933,
           null,
           0.1205010712146759,
           0.1269291639328003,
           null,
           0.12165692448616028,
           null,
           0.12054713815450668,
           null,
           null,
           null,
           0.12230420857667923,
           0.12052331119775772,
           0.12120109051465988,
           0.12076056748628616,
           null,
           null,
           null,
           null,
           null,
           null,
           null,
           null,
           null,
           null,
           null,
           null,
           null,
           null,
           null,
           null,
           null,
           null,
           null,
           null,
           null,
           null,
           null,
           null,
           null,
           null,
           null,
           null,
           null,
           null,
           null,
           null,
           null,
           null,
           null,
           null,
           0.12049468606710434,
           null,
           null,
           null,
           null,
           null,
           null,
           0.12304624170064926,
           0.12046145647764206,
           null,
           null,
           0.12423301488161087,
           null
          ],
          [
           null,
           null,
           null,
           0.12072724848985672,
           null,
           null,
           null,
           null,
           null,
           null,
           null,
           null,
           null,
           null,
           null,
           0.12058836221694946,
           null,
           null,
           0.12079338729381561,
           null,
           null,
           null,
           null,
           null,
           null,
           null,
           0.1211843490600586,
           0.1216672733426094,
           null,
           null,
           null,
           null,
           null,
           null,
           null,
           null,
           null,
           null,
           null,
           null,
           null,
           null,
           null,
           null,
           null,
           null,
           null,
           null,
           null,
           null,
           null,
           null,
           null,
           null,
           null,
           null,
           null,
           null,
           0.12101832777261734,
           0.12074163556098938,
           0.12045872956514359,
           0.12097606807947159,
           null,
           null,
           null,
           null,
           null,
           null,
           null,
           null
          ],
          [
           null,
           null,
           null,
           null,
           null,
           null,
           null,
           null,
           null,
           null,
           null,
           null,
           null,
           null,
           null,
           null,
           null,
           null,
           null,
           null,
           null,
           null,
           null,
           null,
           null,
           null,
           null,
           null,
           null,
           null,
           null,
           null,
           null,
           null,
           null,
           null,
           null,
           null,
           null,
           null,
           null,
           null,
           null,
           null,
           null,
           null,
           null,
           null,
           null,
           null,
           null,
           null,
           null,
           null,
           null,
           null,
           null,
           null,
           null,
           null,
           null,
           null,
           null,
           null,
           null,
           null,
           null,
           null,
           null,
           null
          ]
         ]
        },
        {
         "marker": {
          "color": "black",
          "line": {
           "color": "Grey",
           "width": 2
          }
         },
         "mode": "markers",
         "showlegend": false,
         "type": "scatter",
         "x": [
          68,
          100,
          73,
          81,
          61,
          96,
          89,
          66,
          32,
          92,
          123,
          126,
          124,
          49,
          110,
          44,
          113,
          112,
          110,
          111,
          103,
          114,
          116,
          118,
          118,
          120,
          103,
          103,
          88,
          106,
          128,
          119,
          118,
          98,
          81,
          78,
          81,
          57,
          74,
          119,
          94,
          86,
          107,
          100,
          116,
          124,
          128,
          123,
          67,
          63,
          68,
          52,
          52,
          40,
          70,
          33,
          58,
          58,
          64,
          72,
          124,
          50,
          54,
          43,
          60,
          62,
          60,
          77,
          67,
          114,
          84,
          57,
          49,
          46,
          54,
          65,
          121,
          60,
          72,
          58,
          125,
          60,
          91,
          54,
          56,
          115,
          109,
          46,
          75,
          122,
          39,
          46,
          51,
          46,
          61,
          117,
          69,
          48,
          53,
          42
         ],
         "y": [
          19,
          17,
          8,
          25,
          10,
          28,
          26,
          8,
          27,
          16,
          4,
          3,
          3,
          9,
          6,
          13,
          12,
          13,
          21,
          13,
          13,
          21,
          23,
          24,
          30,
          30,
          25,
          23,
          24,
          22,
          19,
          30,
          28,
          19,
          24,
          16,
          28,
          25,
          23,
          27,
          18,
          25,
          21,
          26,
          29,
          29,
          29,
          29,
          27,
          27,
          30,
          29,
          29,
          27,
          28,
          26,
          29,
          30,
          27,
          28,
          26,
          29,
          30,
          29,
          28,
          27,
          28,
          24,
          30,
          25,
          26,
          29,
          28,
          29,
          30,
          15,
          28,
          27,
          27,
          26,
          22,
          29,
          28,
          30,
          27,
          25,
          7,
          29,
          24,
          10,
          30,
          29,
          28,
          27,
          29,
          30,
          28,
          29,
          26,
          27
         ]
        }
       ],
       "layout": {
        "template": {
         "data": {
          "bar": [
           {
            "error_x": {
             "color": "#2a3f5f"
            },
            "error_y": {
             "color": "#2a3f5f"
            },
            "marker": {
             "line": {
              "color": "#E5ECF6",
              "width": 0.5
             },
             "pattern": {
              "fillmode": "overlay",
              "size": 10,
              "solidity": 0.2
             }
            },
            "type": "bar"
           }
          ],
          "barpolar": [
           {
            "marker": {
             "line": {
              "color": "#E5ECF6",
              "width": 0.5
             },
             "pattern": {
              "fillmode": "overlay",
              "size": 10,
              "solidity": 0.2
             }
            },
            "type": "barpolar"
           }
          ],
          "carpet": [
           {
            "aaxis": {
             "endlinecolor": "#2a3f5f",
             "gridcolor": "white",
             "linecolor": "white",
             "minorgridcolor": "white",
             "startlinecolor": "#2a3f5f"
            },
            "baxis": {
             "endlinecolor": "#2a3f5f",
             "gridcolor": "white",
             "linecolor": "white",
             "minorgridcolor": "white",
             "startlinecolor": "#2a3f5f"
            },
            "type": "carpet"
           }
          ],
          "choropleth": [
           {
            "colorbar": {
             "outlinewidth": 0,
             "ticks": ""
            },
            "type": "choropleth"
           }
          ],
          "contour": [
           {
            "colorbar": {
             "outlinewidth": 0,
             "ticks": ""
            },
            "colorscale": [
             [
              0,
              "#0d0887"
             ],
             [
              0.1111111111111111,
              "#46039f"
             ],
             [
              0.2222222222222222,
              "#7201a8"
             ],
             [
              0.3333333333333333,
              "#9c179e"
             ],
             [
              0.4444444444444444,
              "#bd3786"
             ],
             [
              0.5555555555555556,
              "#d8576b"
             ],
             [
              0.6666666666666666,
              "#ed7953"
             ],
             [
              0.7777777777777778,
              "#fb9f3a"
             ],
             [
              0.8888888888888888,
              "#fdca26"
             ],
             [
              1,
              "#f0f921"
             ]
            ],
            "type": "contour"
           }
          ],
          "contourcarpet": [
           {
            "colorbar": {
             "outlinewidth": 0,
             "ticks": ""
            },
            "type": "contourcarpet"
           }
          ],
          "heatmap": [
           {
            "colorbar": {
             "outlinewidth": 0,
             "ticks": ""
            },
            "colorscale": [
             [
              0,
              "#0d0887"
             ],
             [
              0.1111111111111111,
              "#46039f"
             ],
             [
              0.2222222222222222,
              "#7201a8"
             ],
             [
              0.3333333333333333,
              "#9c179e"
             ],
             [
              0.4444444444444444,
              "#bd3786"
             ],
             [
              0.5555555555555556,
              "#d8576b"
             ],
             [
              0.6666666666666666,
              "#ed7953"
             ],
             [
              0.7777777777777778,
              "#fb9f3a"
             ],
             [
              0.8888888888888888,
              "#fdca26"
             ],
             [
              1,
              "#f0f921"
             ]
            ],
            "type": "heatmap"
           }
          ],
          "heatmapgl": [
           {
            "colorbar": {
             "outlinewidth": 0,
             "ticks": ""
            },
            "colorscale": [
             [
              0,
              "#0d0887"
             ],
             [
              0.1111111111111111,
              "#46039f"
             ],
             [
              0.2222222222222222,
              "#7201a8"
             ],
             [
              0.3333333333333333,
              "#9c179e"
             ],
             [
              0.4444444444444444,
              "#bd3786"
             ],
             [
              0.5555555555555556,
              "#d8576b"
             ],
             [
              0.6666666666666666,
              "#ed7953"
             ],
             [
              0.7777777777777778,
              "#fb9f3a"
             ],
             [
              0.8888888888888888,
              "#fdca26"
             ],
             [
              1,
              "#f0f921"
             ]
            ],
            "type": "heatmapgl"
           }
          ],
          "histogram": [
           {
            "marker": {
             "pattern": {
              "fillmode": "overlay",
              "size": 10,
              "solidity": 0.2
             }
            },
            "type": "histogram"
           }
          ],
          "histogram2d": [
           {
            "colorbar": {
             "outlinewidth": 0,
             "ticks": ""
            },
            "colorscale": [
             [
              0,
              "#0d0887"
             ],
             [
              0.1111111111111111,
              "#46039f"
             ],
             [
              0.2222222222222222,
              "#7201a8"
             ],
             [
              0.3333333333333333,
              "#9c179e"
             ],
             [
              0.4444444444444444,
              "#bd3786"
             ],
             [
              0.5555555555555556,
              "#d8576b"
             ],
             [
              0.6666666666666666,
              "#ed7953"
             ],
             [
              0.7777777777777778,
              "#fb9f3a"
             ],
             [
              0.8888888888888888,
              "#fdca26"
             ],
             [
              1,
              "#f0f921"
             ]
            ],
            "type": "histogram2d"
           }
          ],
          "histogram2dcontour": [
           {
            "colorbar": {
             "outlinewidth": 0,
             "ticks": ""
            },
            "colorscale": [
             [
              0,
              "#0d0887"
             ],
             [
              0.1111111111111111,
              "#46039f"
             ],
             [
              0.2222222222222222,
              "#7201a8"
             ],
             [
              0.3333333333333333,
              "#9c179e"
             ],
             [
              0.4444444444444444,
              "#bd3786"
             ],
             [
              0.5555555555555556,
              "#d8576b"
             ],
             [
              0.6666666666666666,
              "#ed7953"
             ],
             [
              0.7777777777777778,
              "#fb9f3a"
             ],
             [
              0.8888888888888888,
              "#fdca26"
             ],
             [
              1,
              "#f0f921"
             ]
            ],
            "type": "histogram2dcontour"
           }
          ],
          "mesh3d": [
           {
            "colorbar": {
             "outlinewidth": 0,
             "ticks": ""
            },
            "type": "mesh3d"
           }
          ],
          "parcoords": [
           {
            "line": {
             "colorbar": {
              "outlinewidth": 0,
              "ticks": ""
             }
            },
            "type": "parcoords"
           }
          ],
          "pie": [
           {
            "automargin": true,
            "type": "pie"
           }
          ],
          "scatter": [
           {
            "fillpattern": {
             "fillmode": "overlay",
             "size": 10,
             "solidity": 0.2
            },
            "type": "scatter"
           }
          ],
          "scatter3d": [
           {
            "line": {
             "colorbar": {
              "outlinewidth": 0,
              "ticks": ""
             }
            },
            "marker": {
             "colorbar": {
              "outlinewidth": 0,
              "ticks": ""
             }
            },
            "type": "scatter3d"
           }
          ],
          "scattercarpet": [
           {
            "marker": {
             "colorbar": {
              "outlinewidth": 0,
              "ticks": ""
             }
            },
            "type": "scattercarpet"
           }
          ],
          "scattergeo": [
           {
            "marker": {
             "colorbar": {
              "outlinewidth": 0,
              "ticks": ""
             }
            },
            "type": "scattergeo"
           }
          ],
          "scattergl": [
           {
            "marker": {
             "colorbar": {
              "outlinewidth": 0,
              "ticks": ""
             }
            },
            "type": "scattergl"
           }
          ],
          "scattermapbox": [
           {
            "marker": {
             "colorbar": {
              "outlinewidth": 0,
              "ticks": ""
             }
            },
            "type": "scattermapbox"
           }
          ],
          "scatterpolar": [
           {
            "marker": {
             "colorbar": {
              "outlinewidth": 0,
              "ticks": ""
             }
            },
            "type": "scatterpolar"
           }
          ],
          "scatterpolargl": [
           {
            "marker": {
             "colorbar": {
              "outlinewidth": 0,
              "ticks": ""
             }
            },
            "type": "scatterpolargl"
           }
          ],
          "scatterternary": [
           {
            "marker": {
             "colorbar": {
              "outlinewidth": 0,
              "ticks": ""
             }
            },
            "type": "scatterternary"
           }
          ],
          "surface": [
           {
            "colorbar": {
             "outlinewidth": 0,
             "ticks": ""
            },
            "colorscale": [
             [
              0,
              "#0d0887"
             ],
             [
              0.1111111111111111,
              "#46039f"
             ],
             [
              0.2222222222222222,
              "#7201a8"
             ],
             [
              0.3333333333333333,
              "#9c179e"
             ],
             [
              0.4444444444444444,
              "#bd3786"
             ],
             [
              0.5555555555555556,
              "#d8576b"
             ],
             [
              0.6666666666666666,
              "#ed7953"
             ],
             [
              0.7777777777777778,
              "#fb9f3a"
             ],
             [
              0.8888888888888888,
              "#fdca26"
             ],
             [
              1,
              "#f0f921"
             ]
            ],
            "type": "surface"
           }
          ],
          "table": [
           {
            "cells": {
             "fill": {
              "color": "#EBF0F8"
             },
             "line": {
              "color": "white"
             }
            },
            "header": {
             "fill": {
              "color": "#C8D4E3"
             },
             "line": {
              "color": "white"
             }
            },
            "type": "table"
           }
          ]
         },
         "layout": {
          "annotationdefaults": {
           "arrowcolor": "#2a3f5f",
           "arrowhead": 0,
           "arrowwidth": 1
          },
          "autotypenumbers": "strict",
          "coloraxis": {
           "colorbar": {
            "outlinewidth": 0,
            "ticks": ""
           }
          },
          "colorscale": {
           "diverging": [
            [
             0,
             "#8e0152"
            ],
            [
             0.1,
             "#c51b7d"
            ],
            [
             0.2,
             "#de77ae"
            ],
            [
             0.3,
             "#f1b6da"
            ],
            [
             0.4,
             "#fde0ef"
            ],
            [
             0.5,
             "#f7f7f7"
            ],
            [
             0.6,
             "#e6f5d0"
            ],
            [
             0.7,
             "#b8e186"
            ],
            [
             0.8,
             "#7fbc41"
            ],
            [
             0.9,
             "#4d9221"
            ],
            [
             1,
             "#276419"
            ]
           ],
           "sequential": [
            [
             0,
             "#0d0887"
            ],
            [
             0.1111111111111111,
             "#46039f"
            ],
            [
             0.2222222222222222,
             "#7201a8"
            ],
            [
             0.3333333333333333,
             "#9c179e"
            ],
            [
             0.4444444444444444,
             "#bd3786"
            ],
            [
             0.5555555555555556,
             "#d8576b"
            ],
            [
             0.6666666666666666,
             "#ed7953"
            ],
            [
             0.7777777777777778,
             "#fb9f3a"
            ],
            [
             0.8888888888888888,
             "#fdca26"
            ],
            [
             1,
             "#f0f921"
            ]
           ],
           "sequentialminus": [
            [
             0,
             "#0d0887"
            ],
            [
             0.1111111111111111,
             "#46039f"
            ],
            [
             0.2222222222222222,
             "#7201a8"
            ],
            [
             0.3333333333333333,
             "#9c179e"
            ],
            [
             0.4444444444444444,
             "#bd3786"
            ],
            [
             0.5555555555555556,
             "#d8576b"
            ],
            [
             0.6666666666666666,
             "#ed7953"
            ],
            [
             0.7777777777777778,
             "#fb9f3a"
            ],
            [
             0.8888888888888888,
             "#fdca26"
            ],
            [
             1,
             "#f0f921"
            ]
           ]
          },
          "colorway": [
           "#636efa",
           "#EF553B",
           "#00cc96",
           "#ab63fa",
           "#FFA15A",
           "#19d3f3",
           "#FF6692",
           "#B6E880",
           "#FF97FF",
           "#FECB52"
          ],
          "font": {
           "color": "#2a3f5f"
          },
          "geo": {
           "bgcolor": "white",
           "lakecolor": "white",
           "landcolor": "#E5ECF6",
           "showlakes": true,
           "showland": true,
           "subunitcolor": "white"
          },
          "hoverlabel": {
           "align": "left"
          },
          "hovermode": "closest",
          "mapbox": {
           "style": "light"
          },
          "paper_bgcolor": "white",
          "plot_bgcolor": "#E5ECF6",
          "polar": {
           "angularaxis": {
            "gridcolor": "white",
            "linecolor": "white",
            "ticks": ""
           },
           "bgcolor": "#E5ECF6",
           "radialaxis": {
            "gridcolor": "white",
            "linecolor": "white",
            "ticks": ""
           }
          },
          "scene": {
           "xaxis": {
            "backgroundcolor": "#E5ECF6",
            "gridcolor": "white",
            "gridwidth": 2,
            "linecolor": "white",
            "showbackground": true,
            "ticks": "",
            "zerolinecolor": "white"
           },
           "yaxis": {
            "backgroundcolor": "#E5ECF6",
            "gridcolor": "white",
            "gridwidth": 2,
            "linecolor": "white",
            "showbackground": true,
            "ticks": "",
            "zerolinecolor": "white"
           },
           "zaxis": {
            "backgroundcolor": "#E5ECF6",
            "gridcolor": "white",
            "gridwidth": 2,
            "linecolor": "white",
            "showbackground": true,
            "ticks": "",
            "zerolinecolor": "white"
           }
          },
          "shapedefaults": {
           "line": {
            "color": "#2a3f5f"
           }
          },
          "ternary": {
           "aaxis": {
            "gridcolor": "white",
            "linecolor": "white",
            "ticks": ""
           },
           "baxis": {
            "gridcolor": "white",
            "linecolor": "white",
            "ticks": ""
           },
           "bgcolor": "#E5ECF6",
           "caxis": {
            "gridcolor": "white",
            "linecolor": "white",
            "ticks": ""
           }
          },
          "title": {
           "x": 0.05
          },
          "xaxis": {
           "automargin": true,
           "gridcolor": "white",
           "linecolor": "white",
           "ticks": "",
           "title": {
            "standoff": 15
           },
           "zerolinecolor": "white",
           "zerolinewidth": 2
          },
          "yaxis": {
           "automargin": true,
           "gridcolor": "white",
           "linecolor": "white",
           "ticks": "",
           "title": {
            "standoff": 15
           },
           "zerolinecolor": "white",
           "zerolinewidth": 2
          }
         }
        },
        "title": {
         "text": "Contour Plot"
        },
        "xaxis": {
         "range": [
          27.2,
          132.8
         ],
         "title": {
          "text": "hidden_dim"
         }
        },
        "yaxis": {
         "range": [
          1.65,
          31.35
         ],
         "title": {
          "text": "sequencce_sug"
         }
        }
       }
      }
     },
     "metadata": {},
     "output_type": "display_data"
    }
   ],
   "source": [
    "# Plotting a Contour Plot in Optuna\n",
    "contour_plot = vis.plot_contour(study, params=[\"hidden_dim\", \"sequencce_sug\"])\n",
    "contour_plot.show()"
   ]
  },
  {
   "cell_type": "code",
   "execution_count": 12,
   "metadata": {},
   "outputs": [
    {
     "name": "stdout",
     "output_type": "stream",
     "text": [
      "Epoch 1/200\n",
      "363/363 [==============================] - 3s 5ms/step - loss: 0.0827 - val_loss: 0.0432\n",
      "Epoch 2/200\n",
      "363/363 [==============================] - 2s 4ms/step - loss: 0.0416 - val_loss: 0.0366\n",
      "Epoch 3/200\n",
      "363/363 [==============================] - 2s 4ms/step - loss: 0.0345 - val_loss: 0.0280\n",
      "Epoch 4/200\n",
      "363/363 [==============================] - 2s 4ms/step - loss: 0.0296 - val_loss: 0.0260\n",
      "Epoch 5/200\n",
      "363/363 [==============================] - 2s 4ms/step - loss: 0.0263 - val_loss: 0.0224\n",
      "Epoch 6/200\n",
      "363/363 [==============================] - 1s 4ms/step - loss: 0.0244 - val_loss: 0.0192\n",
      "Epoch 7/200\n",
      "363/363 [==============================] - 1s 4ms/step - loss: 0.0222 - val_loss: 0.0190\n",
      "Epoch 8/200\n",
      "363/363 [==============================] - 2s 4ms/step - loss: 0.0201 - val_loss: 0.0191\n",
      "Epoch 9/200\n",
      "363/363 [==============================] - 2s 4ms/step - loss: 0.0188 - val_loss: 0.0151\n",
      "Epoch 10/200\n",
      "363/363 [==============================] - 2s 4ms/step - loss: 0.0168 - val_loss: 0.0135\n",
      "Epoch 11/200\n",
      "363/363 [==============================] - 2s 4ms/step - loss: 0.0154 - val_loss: 0.0108\n",
      "Epoch 12/200\n",
      "363/363 [==============================] - 2s 4ms/step - loss: 0.0140 - val_loss: 0.0111\n",
      "Epoch 13/200\n",
      "363/363 [==============================] - 1s 4ms/step - loss: 0.0128 - val_loss: 0.0102\n",
      "Epoch 14/200\n",
      "363/363 [==============================] - 1s 4ms/step - loss: 0.0121 - val_loss: 0.0099\n",
      "Epoch 15/200\n",
      "363/363 [==============================] - 2s 4ms/step - loss: 0.0118 - val_loss: 0.0117\n",
      "Epoch 16/200\n",
      "363/363 [==============================] - 1s 4ms/step - loss: 0.0109 - val_loss: 0.0098\n",
      "Epoch 17/200\n",
      "363/363 [==============================] - 2s 4ms/step - loss: 0.0108 - val_loss: 0.0095\n",
      "Epoch 18/200\n",
      "363/363 [==============================] - 2s 4ms/step - loss: 0.0105 - val_loss: 0.0099\n",
      "Epoch 19/200\n",
      "363/363 [==============================] - 1s 4ms/step - loss: 0.0105 - val_loss: 0.0078\n",
      "Epoch 20/200\n",
      "363/363 [==============================] - 1s 4ms/step - loss: 0.0100 - val_loss: 0.0091\n",
      "Epoch 21/200\n",
      "363/363 [==============================] - 2s 4ms/step - loss: 0.0101 - val_loss: 0.0088\n",
      "Epoch 22/200\n",
      "363/363 [==============================] - 1s 4ms/step - loss: 0.0098 - val_loss: 0.0089\n",
      "Epoch 23/200\n",
      "363/363 [==============================] - 1s 4ms/step - loss: 0.0098 - val_loss: 0.0089\n",
      "Epoch 24/200\n",
      "363/363 [==============================] - 1s 4ms/step - loss: 0.0094 - val_loss: 0.0092\n",
      "Epoch 25/200\n",
      "363/363 [==============================] - 1s 4ms/step - loss: 0.0093 - val_loss: 0.0077\n",
      "Epoch 26/200\n",
      "363/363 [==============================] - 1s 4ms/step - loss: 0.0092 - val_loss: 0.0091\n",
      "Epoch 27/200\n",
      "363/363 [==============================] - 1s 4ms/step - loss: 0.0090 - val_loss: 0.0092\n",
      "Epoch 28/200\n",
      "363/363 [==============================] - 1s 4ms/step - loss: 0.0088 - val_loss: 0.0109\n",
      "Epoch 29/200\n",
      "363/363 [==============================] - 1s 4ms/step - loss: 0.0090 - val_loss: 0.0089\n",
      "Epoch 30/200\n",
      "363/363 [==============================] - 1s 4ms/step - loss: 0.0087 - val_loss: 0.0083\n",
      "Epoch 31/200\n",
      "363/363 [==============================] - 1s 4ms/step - loss: 0.0085 - val_loss: 0.0086\n",
      "Epoch 32/200\n",
      "363/363 [==============================] - 1s 4ms/step - loss: 0.0086 - val_loss: 0.0084\n",
      "Epoch 33/200\n",
      "363/363 [==============================] - 1s 4ms/step - loss: 0.0084 - val_loss: 0.0086\n",
      "Epoch 34/200\n",
      "363/363 [==============================] - 1s 4ms/step - loss: 0.0081 - val_loss: 0.0073\n",
      "Epoch 35/200\n",
      "363/363 [==============================] - 1s 4ms/step - loss: 0.0081 - val_loss: 0.0081\n",
      "Epoch 36/200\n",
      "363/363 [==============================] - 1s 4ms/step - loss: 0.0081 - val_loss: 0.0081\n",
      "Epoch 37/200\n",
      "363/363 [==============================] - 1s 4ms/step - loss: 0.0081 - val_loss: 0.0085\n",
      "Epoch 38/200\n",
      "363/363 [==============================] - 1s 4ms/step - loss: 0.0079 - val_loss: 0.0081\n",
      "Epoch 39/200\n",
      "363/363 [==============================] - 1s 4ms/step - loss: 0.0076 - val_loss: 0.0084\n",
      "Epoch 40/200\n",
      "363/363 [==============================] - 1s 4ms/step - loss: 0.0077 - val_loss: 0.0077\n",
      "Epoch 41/200\n",
      "363/363 [==============================] - 1s 4ms/step - loss: 0.0077 - val_loss: 0.0079\n",
      "Epoch 42/200\n",
      "363/363 [==============================] - 1s 4ms/step - loss: 0.0078 - val_loss: 0.0070\n",
      "Epoch 43/200\n",
      "363/363 [==============================] - 1s 4ms/step - loss: 0.0075 - val_loss: 0.0069\n",
      "Epoch 44/200\n",
      "363/363 [==============================] - 1s 4ms/step - loss: 0.0075 - val_loss: 0.0089\n",
      "Epoch 45/200\n",
      "363/363 [==============================] - 1s 4ms/step - loss: 0.0074 - val_loss: 0.0077\n",
      "Epoch 46/200\n",
      "363/363 [==============================] - 1s 4ms/step - loss: 0.0073 - val_loss: 0.0082\n",
      "Epoch 47/200\n",
      "363/363 [==============================] - 1s 4ms/step - loss: 0.0074 - val_loss: 0.0081\n",
      "Epoch 48/200\n",
      "363/363 [==============================] - 1s 4ms/step - loss: 0.0073 - val_loss: 0.0081\n",
      "Epoch 49/200\n",
      "363/363 [==============================] - 1s 4ms/step - loss: 0.0074 - val_loss: 0.0075\n",
      "Epoch 50/200\n",
      "363/363 [==============================] - 1s 4ms/step - loss: 0.0068 - val_loss: 0.0083\n",
      "Epoch 51/200\n",
      "363/363 [==============================] - 1s 4ms/step - loss: 0.0072 - val_loss: 0.0087\n",
      "Epoch 52/200\n",
      "363/363 [==============================] - 1s 4ms/step - loss: 0.0071 - val_loss: 0.0084\n",
      "Epoch 53/200\n",
      "363/363 [==============================] - 1s 4ms/step - loss: 0.0069 - val_loss: 0.0090\n",
      "Epoch 54/200\n",
      "363/363 [==============================] - 1s 4ms/step - loss: 0.0067 - val_loss: 0.0083\n",
      "Epoch 55/200\n",
      "363/363 [==============================] - 1s 4ms/step - loss: 0.0068 - val_loss: 0.0071\n",
      "Epoch 56/200\n",
      "363/363 [==============================] - 1s 4ms/step - loss: 0.0069 - val_loss: 0.0074\n",
      "Epoch 57/200\n",
      "363/363 [==============================] - 1s 4ms/step - loss: 0.0065 - val_loss: 0.0076\n",
      "Epoch 58/200\n",
      "363/363 [==============================] - 1s 4ms/step - loss: 0.0065 - val_loss: 0.0085\n",
      "Epoch 59/200\n",
      "363/363 [==============================] - 1s 4ms/step - loss: 0.0066 - val_loss: 0.0081\n",
      "Epoch 60/200\n",
      "363/363 [==============================] - 1s 4ms/step - loss: 0.0066 - val_loss: 0.0086\n",
      "Epoch 61/200\n",
      "363/363 [==============================] - 1s 4ms/step - loss: 0.0065 - val_loss: 0.0066\n",
      "Epoch 62/200\n",
      "363/363 [==============================] - 1s 4ms/step - loss: 0.0065 - val_loss: 0.0087\n",
      "Epoch 63/200\n",
      "363/363 [==============================] - 1s 4ms/step - loss: 0.0062 - val_loss: 0.0081\n",
      "Epoch 64/200\n",
      "363/363 [==============================] - 1s 4ms/step - loss: 0.0063 - val_loss: 0.0075\n",
      "Epoch 65/200\n",
      "363/363 [==============================] - 1s 4ms/step - loss: 0.0066 - val_loss: 0.0067\n",
      "Epoch 66/200\n",
      "363/363 [==============================] - 1s 4ms/step - loss: 0.0066 - val_loss: 0.0085\n",
      "Epoch 67/200\n",
      "363/363 [==============================] - 1s 4ms/step - loss: 0.0063 - val_loss: 0.0075\n",
      "Epoch 68/200\n",
      "363/363 [==============================] - 1s 4ms/step - loss: 0.0061 - val_loss: 0.0088\n",
      "Epoch 69/200\n",
      "363/363 [==============================] - 1s 4ms/step - loss: 0.0062 - val_loss: 0.0077\n",
      "Epoch 70/200\n",
      "363/363 [==============================] - 1s 4ms/step - loss: 0.0063 - val_loss: 0.0074\n",
      "Epoch 71/200\n",
      "363/363 [==============================] - 1s 4ms/step - loss: 0.0061 - val_loss: 0.0078\n",
      "Epoch 72/200\n",
      "363/363 [==============================] - 1s 4ms/step - loss: 0.0059 - val_loss: 0.0078\n",
      "Epoch 73/200\n",
      "363/363 [==============================] - 1s 4ms/step - loss: 0.0059 - val_loss: 0.0083\n",
      "Epoch 74/200\n",
      "363/363 [==============================] - 1s 4ms/step - loss: 0.0060 - val_loss: 0.0072\n",
      "Epoch 75/200\n",
      "363/363 [==============================] - 1s 4ms/step - loss: 0.0059 - val_loss: 0.0067\n",
      "Epoch 76/200\n",
      "363/363 [==============================] - 1s 4ms/step - loss: 0.0059 - val_loss: 0.0080\n",
      "Epoch 77/200\n",
      "363/363 [==============================] - 1s 4ms/step - loss: 0.0058 - val_loss: 0.0070\n",
      "Epoch 78/200\n",
      "363/363 [==============================] - 1s 4ms/step - loss: 0.0058 - val_loss: 0.0078\n",
      "Epoch 79/200\n",
      "363/363 [==============================] - 1s 4ms/step - loss: 0.0058 - val_loss: 0.0080\n",
      "Epoch 80/200\n",
      "363/363 [==============================] - 1s 4ms/step - loss: 0.0057 - val_loss: 0.0081\n",
      "Epoch 81/200\n",
      "363/363 [==============================] - 1s 4ms/step - loss: 0.0058 - val_loss: 0.0079\n",
      "Epoch 82/200\n",
      "363/363 [==============================] - 1s 4ms/step - loss: 0.0058 - val_loss: 0.0077\n",
      "Epoch 83/200\n",
      "363/363 [==============================] - 1s 4ms/step - loss: 0.0058 - val_loss: 0.0077\n",
      "Epoch 84/200\n",
      "363/363 [==============================] - 1s 4ms/step - loss: 0.0057 - val_loss: 0.0074\n",
      "Epoch 85/200\n",
      "363/363 [==============================] - 1s 4ms/step - loss: 0.0056 - val_loss: 0.0077\n",
      "Epoch 86/200\n",
      "363/363 [==============================] - 1s 4ms/step - loss: 0.0056 - val_loss: 0.0074\n",
      "Epoch 87/200\n",
      "363/363 [==============================] - 1s 4ms/step - loss: 0.0055 - val_loss: 0.0078\n",
      "Epoch 88/200\n",
      "363/363 [==============================] - 1s 4ms/step - loss: 0.0054 - val_loss: 0.0070\n",
      "Epoch 89/200\n",
      "363/363 [==============================] - 1s 4ms/step - loss: 0.0055 - val_loss: 0.0075\n",
      "Epoch 90/200\n",
      "363/363 [==============================] - 1s 4ms/step - loss: 0.0055 - val_loss: 0.0081\n",
      "Epoch 91/200\n",
      "363/363 [==============================] - 1s 4ms/step - loss: 0.0053 - val_loss: 0.0074\n",
      "Epoch 92/200\n",
      "363/363 [==============================] - 1s 4ms/step - loss: 0.0055 - val_loss: 0.0077\n",
      "Epoch 93/200\n",
      "363/363 [==============================] - 1s 4ms/step - loss: 0.0055 - val_loss: 0.0074\n",
      "Epoch 94/200\n",
      "363/363 [==============================] - 1s 4ms/step - loss: 0.0053 - val_loss: 0.0075\n",
      "Epoch 95/200\n",
      "363/363 [==============================] - 1s 4ms/step - loss: 0.0054 - val_loss: 0.0074\n",
      "Epoch 96/200\n",
      "363/363 [==============================] - 1s 4ms/step - loss: 0.0055 - val_loss: 0.0083\n",
      "Epoch 97/200\n",
      "363/363 [==============================] - 1s 4ms/step - loss: 0.0051 - val_loss: 0.0080\n",
      "Epoch 98/200\n",
      "363/363 [==============================] - 1s 4ms/step - loss: 0.0053 - val_loss: 0.0068\n",
      "Epoch 99/200\n",
      "363/363 [==============================] - 1s 4ms/step - loss: 0.0054 - val_loss: 0.0070\n",
      "Epoch 100/200\n",
      "363/363 [==============================] - 1s 4ms/step - loss: 0.0054 - val_loss: 0.0070\n",
      "Epoch 101/200\n",
      "363/363 [==============================] - 1s 4ms/step - loss: 0.0054 - val_loss: 0.0072\n",
      "Epoch 102/200\n",
      "363/363 [==============================] - 1s 4ms/step - loss: 0.0052 - val_loss: 0.0077\n",
      "Epoch 103/200\n",
      "363/363 [==============================] - 1s 4ms/step - loss: 0.0052 - val_loss: 0.0067\n",
      "Epoch 104/200\n",
      "363/363 [==============================] - 1s 4ms/step - loss: 0.0052 - val_loss: 0.0082\n",
      "Epoch 105/200\n",
      "363/363 [==============================] - 1s 4ms/step - loss: 0.0052 - val_loss: 0.0073\n",
      "Epoch 106/200\n",
      "363/363 [==============================] - 1s 4ms/step - loss: 0.0051 - val_loss: 0.0084\n",
      "Epoch 107/200\n",
      "363/363 [==============================] - 1s 4ms/step - loss: 0.0050 - val_loss: 0.0072\n",
      "Epoch 108/200\n",
      "363/363 [==============================] - 1s 4ms/step - loss: 0.0052 - val_loss: 0.0079\n",
      "Epoch 109/200\n",
      "363/363 [==============================] - 1s 4ms/step - loss: 0.0052 - val_loss: 0.0073\n",
      "Epoch 110/200\n",
      "363/363 [==============================] - 1s 4ms/step - loss: 0.0051 - val_loss: 0.0075\n",
      "Epoch 111/200\n",
      "363/363 [==============================] - 1s 4ms/step - loss: 0.0050 - val_loss: 0.0073\n",
      "Epoch 112/200\n",
      "363/363 [==============================] - 1s 4ms/step - loss: 0.0051 - val_loss: 0.0074\n",
      "Epoch 113/200\n",
      "363/363 [==============================] - 1s 4ms/step - loss: 0.0049 - val_loss: 0.0075\n",
      "Epoch 114/200\n",
      "363/363 [==============================] - 1s 4ms/step - loss: 0.0049 - val_loss: 0.0079\n",
      "Epoch 115/200\n",
      "363/363 [==============================] - 1s 4ms/step - loss: 0.0050 - val_loss: 0.0070\n",
      "Epoch 116/200\n",
      "363/363 [==============================] - 1s 4ms/step - loss: 0.0051 - val_loss: 0.0078\n",
      "Epoch 117/200\n",
      "363/363 [==============================] - 1s 4ms/step - loss: 0.0051 - val_loss: 0.0073\n",
      "Epoch 118/200\n",
      "363/363 [==============================] - 1s 4ms/step - loss: 0.0049 - val_loss: 0.0070\n",
      "Epoch 119/200\n",
      "363/363 [==============================] - 1s 4ms/step - loss: 0.0049 - val_loss: 0.0080\n",
      "Epoch 120/200\n",
      "363/363 [==============================] - 1s 4ms/step - loss: 0.0049 - val_loss: 0.0081\n",
      "Epoch 121/200\n",
      "363/363 [==============================] - 1s 4ms/step - loss: 0.0049 - val_loss: 0.0071\n",
      "Epoch 122/200\n",
      "363/363 [==============================] - 1s 4ms/step - loss: 0.0048 - val_loss: 0.0070\n",
      "Epoch 123/200\n",
      "363/363 [==============================] - 1s 4ms/step - loss: 0.0048 - val_loss: 0.0074\n",
      "Epoch 124/200\n",
      "363/363 [==============================] - 1s 4ms/step - loss: 0.0049 - val_loss: 0.0068\n",
      "Epoch 125/200\n",
      "363/363 [==============================] - 1s 4ms/step - loss: 0.0048 - val_loss: 0.0073\n",
      "Epoch 126/200\n",
      "363/363 [==============================] - 1s 4ms/step - loss: 0.0050 - val_loss: 0.0077\n",
      "Epoch 127/200\n",
      "363/363 [==============================] - 1s 4ms/step - loss: 0.0047 - val_loss: 0.0068\n",
      "Epoch 128/200\n",
      "363/363 [==============================] - 1s 4ms/step - loss: 0.0049 - val_loss: 0.0079\n",
      "Epoch 129/200\n",
      "363/363 [==============================] - 1s 4ms/step - loss: 0.0048 - val_loss: 0.0072\n",
      "Epoch 130/200\n",
      "363/363 [==============================] - 1s 4ms/step - loss: 0.0047 - val_loss: 0.0089\n",
      "Epoch 131/200\n",
      "363/363 [==============================] - 1s 4ms/step - loss: 0.0048 - val_loss: 0.0073\n",
      "Epoch 132/200\n",
      "363/363 [==============================] - 1s 4ms/step - loss: 0.0047 - val_loss: 0.0073\n",
      "Epoch 133/200\n",
      "363/363 [==============================] - 1s 4ms/step - loss: 0.0046 - val_loss: 0.0073\n",
      "Epoch 134/200\n",
      "363/363 [==============================] - 1s 4ms/step - loss: 0.0047 - val_loss: 0.0079\n",
      "Epoch 135/200\n",
      "363/363 [==============================] - 1s 4ms/step - loss: 0.0046 - val_loss: 0.0075\n",
      "Epoch 136/200\n",
      "363/363 [==============================] - 1s 4ms/step - loss: 0.0046 - val_loss: 0.0075\n",
      "Epoch 137/200\n",
      "363/363 [==============================] - 1s 4ms/step - loss: 0.0045 - val_loss: 0.0087\n",
      "Epoch 138/200\n",
      "363/363 [==============================] - 1s 4ms/step - loss: 0.0045 - val_loss: 0.0076\n",
      "Epoch 139/200\n",
      "363/363 [==============================] - 1s 4ms/step - loss: 0.0047 - val_loss: 0.0081\n",
      "Epoch 140/200\n",
      "363/363 [==============================] - 1s 4ms/step - loss: 0.0045 - val_loss: 0.0076\n",
      "Epoch 141/200\n",
      "363/363 [==============================] - 1s 4ms/step - loss: 0.0046 - val_loss: 0.0077\n",
      "Epoch 142/200\n",
      "363/363 [==============================] - 1s 4ms/step - loss: 0.0046 - val_loss: 0.0076\n",
      "Epoch 143/200\n",
      "363/363 [==============================] - 1s 4ms/step - loss: 0.0046 - val_loss: 0.0085\n",
      "Epoch 144/200\n",
      "363/363 [==============================] - 1s 4ms/step - loss: 0.0045 - val_loss: 0.0078\n",
      "Epoch 145/200\n",
      "363/363 [==============================] - 1s 4ms/step - loss: 0.0045 - val_loss: 0.0075\n",
      "Epoch 146/200\n",
      "363/363 [==============================] - 1s 4ms/step - loss: 0.0044 - val_loss: 0.0078\n",
      "Epoch 147/200\n",
      "363/363 [==============================] - 1s 4ms/step - loss: 0.0045 - val_loss: 0.0073\n",
      "Epoch 148/200\n",
      "363/363 [==============================] - 1s 4ms/step - loss: 0.0046 - val_loss: 0.0075\n",
      "Epoch 149/200\n",
      "363/363 [==============================] - 1s 4ms/step - loss: 0.0046 - val_loss: 0.0077\n",
      "Epoch 150/200\n",
      "363/363 [==============================] - 1s 4ms/step - loss: 0.0045 - val_loss: 0.0069\n",
      "Epoch 151/200\n",
      "363/363 [==============================] - 1s 4ms/step - loss: 0.0045 - val_loss: 0.0072\n",
      "Epoch 152/200\n",
      "363/363 [==============================] - 1s 4ms/step - loss: 0.0046 - val_loss: 0.0070\n",
      "Epoch 153/200\n",
      "363/363 [==============================] - 1s 4ms/step - loss: 0.0045 - val_loss: 0.0072\n",
      "Epoch 154/200\n",
      "363/363 [==============================] - 1s 4ms/step - loss: 0.0044 - val_loss: 0.0072\n",
      "Epoch 155/200\n",
      "363/363 [==============================] - 1s 4ms/step - loss: 0.0044 - val_loss: 0.0081\n",
      "Epoch 156/200\n",
      "363/363 [==============================] - 1s 4ms/step - loss: 0.0045 - val_loss: 0.0081\n",
      "Epoch 157/200\n",
      "363/363 [==============================] - 1s 4ms/step - loss: 0.0045 - val_loss: 0.0067\n",
      "Epoch 158/200\n",
      "363/363 [==============================] - 1s 4ms/step - loss: 0.0045 - val_loss: 0.0081\n",
      "Epoch 159/200\n",
      "363/363 [==============================] - 1s 4ms/step - loss: 0.0044 - val_loss: 0.0077\n",
      "Epoch 160/200\n",
      "363/363 [==============================] - 1s 4ms/step - loss: 0.0043 - val_loss: 0.0078\n",
      "Epoch 161/200\n",
      "363/363 [==============================] - 1s 4ms/step - loss: 0.0043 - val_loss: 0.0079\n",
      "Epoch 162/200\n",
      "363/363 [==============================] - 1s 4ms/step - loss: 0.0044 - val_loss: 0.0078\n",
      "Epoch 163/200\n",
      "363/363 [==============================] - 1s 4ms/step - loss: 0.0042 - val_loss: 0.0078\n",
      "Epoch 164/200\n",
      "363/363 [==============================] - 1s 4ms/step - loss: 0.0044 - val_loss: 0.0083\n",
      "Epoch 165/200\n",
      "363/363 [==============================] - 1s 4ms/step - loss: 0.0046 - val_loss: 0.0079\n",
      "Epoch 166/200\n",
      "363/363 [==============================] - 1s 4ms/step - loss: 0.0045 - val_loss: 0.0070\n",
      "Epoch 167/200\n",
      "363/363 [==============================] - 1s 4ms/step - loss: 0.0044 - val_loss: 0.0079\n",
      "Epoch 168/200\n",
      "363/363 [==============================] - 1s 4ms/step - loss: 0.0044 - val_loss: 0.0081\n",
      "Epoch 169/200\n",
      "363/363 [==============================] - 1s 4ms/step - loss: 0.0043 - val_loss: 0.0076\n",
      "Epoch 170/200\n",
      "363/363 [==============================] - 1s 4ms/step - loss: 0.0042 - val_loss: 0.0088\n",
      "Epoch 171/200\n",
      "363/363 [==============================] - 1s 4ms/step - loss: 0.0043 - val_loss: 0.0065\n",
      "Epoch 172/200\n",
      "363/363 [==============================] - 1s 4ms/step - loss: 0.0042 - val_loss: 0.0077\n",
      "Epoch 173/200\n",
      "363/363 [==============================] - 1s 4ms/step - loss: 0.0043 - val_loss: 0.0072\n",
      "Epoch 174/200\n",
      "363/363 [==============================] - 1s 4ms/step - loss: 0.0044 - val_loss: 0.0071\n",
      "Epoch 175/200\n",
      "363/363 [==============================] - 1s 4ms/step - loss: 0.0042 - val_loss: 0.0085\n",
      "Epoch 176/200\n",
      "363/363 [==============================] - 1s 4ms/step - loss: 0.0043 - val_loss: 0.0078\n",
      "Epoch 177/200\n",
      "363/363 [==============================] - 1s 4ms/step - loss: 0.0043 - val_loss: 0.0077\n",
      "Epoch 178/200\n",
      "363/363 [==============================] - 1s 4ms/step - loss: 0.0043 - val_loss: 0.0081\n",
      "Epoch 179/200\n",
      "363/363 [==============================] - 1s 4ms/step - loss: 0.0041 - val_loss: 0.0088\n",
      "Epoch 180/200\n",
      "363/363 [==============================] - 1s 4ms/step - loss: 0.0042 - val_loss: 0.0071\n",
      "Epoch 181/200\n",
      "363/363 [==============================] - 1s 4ms/step - loss: 0.0043 - val_loss: 0.0069\n",
      "Epoch 182/200\n",
      "363/363 [==============================] - 1s 4ms/step - loss: 0.0043 - val_loss: 0.0082\n",
      "Epoch 183/200\n",
      "363/363 [==============================] - 1s 4ms/step - loss: 0.0041 - val_loss: 0.0079\n",
      "Epoch 184/200\n",
      "363/363 [==============================] - 1s 4ms/step - loss: 0.0042 - val_loss: 0.0076\n",
      "Epoch 185/200\n",
      "363/363 [==============================] - 1s 4ms/step - loss: 0.0043 - val_loss: 0.0079\n",
      "Epoch 186/200\n",
      "363/363 [==============================] - 1s 4ms/step - loss: 0.0041 - val_loss: 0.0084\n",
      "Epoch 187/200\n",
      "363/363 [==============================] - 1s 4ms/step - loss: 0.0042 - val_loss: 0.0076\n",
      "Epoch 188/200\n",
      "363/363 [==============================] - 1s 4ms/step - loss: 0.0042 - val_loss: 0.0081\n",
      "Epoch 189/200\n",
      "363/363 [==============================] - 1s 4ms/step - loss: 0.0043 - val_loss: 0.0080\n",
      "Epoch 190/200\n",
      "363/363 [==============================] - 1s 4ms/step - loss: 0.0042 - val_loss: 0.0095\n",
      "Epoch 191/200\n",
      "363/363 [==============================] - 1s 4ms/step - loss: 0.0042 - val_loss: 0.0078\n",
      "Epoch 192/200\n",
      "363/363 [==============================] - 1s 4ms/step - loss: 0.0040 - val_loss: 0.0073\n",
      "Epoch 193/200\n",
      "363/363 [==============================] - 1s 4ms/step - loss: 0.0040 - val_loss: 0.0075\n",
      "Epoch 194/200\n",
      "363/363 [==============================] - 1s 4ms/step - loss: 0.0041 - val_loss: 0.0078\n",
      "Epoch 195/200\n",
      "363/363 [==============================] - 1s 4ms/step - loss: 0.0041 - val_loss: 0.0079\n",
      "Epoch 196/200\n",
      "363/363 [==============================] - 1s 4ms/step - loss: 0.0041 - val_loss: 0.0076\n",
      "Epoch 197/200\n",
      "363/363 [==============================] - 1s 4ms/step - loss: 0.0040 - val_loss: 0.0076\n",
      "Epoch 198/200\n",
      "363/363 [==============================] - 1s 4ms/step - loss: 0.0040 - val_loss: 0.0081\n",
      "Epoch 199/200\n",
      "363/363 [==============================] - 1s 4ms/step - loss: 0.0041 - val_loss: 0.0065\n",
      "Epoch 200/200\n",
      "363/363 [==============================] - 1s 4ms/step - loss: 0.0040 - val_loss: 0.0078\n"
     ]
    }
   ],
   "source": [
    "import numpy as np\n",
    "import pandas as pd\n",
    "import tensorflow as tf\n",
    "from tensorflow.keras.models import Sequential\n",
    "from tensorflow.keras.layers import LSTM, Dense\n",
    "from tensorflow.keras.optimizers import Adam\n",
    "from sklearn.preprocessing import MinMaxScaler, StandardScaler\n",
    "from sklearn.metrics import mean_squared_error\n",
    "from sklearn.model_selection import train_test_split\n",
    "import plotly.graph_objects as go\n",
    "\n",
    "# Normalize the data\n",
    "scaler = MinMaxScaler()\n",
    "scaled_data = scaler.fit_transform(merge_df)\n",
    "\n",
    "# Define sequence length and forecasting horizon\n",
    "sequence_length = 30\n",
    "forecast_horizon = 1\n",
    "\n",
    "# Create input-output pairs\n",
    "X, y = [], []\n",
    "for i in range(len(scaled_data) - sequence_length - forecast_horizon + 1):\n",
    "    X.append(scaled_data[i:i+sequence_length])\n",
    "    y.append(scaled_data[i+sequence_length:i+sequence_length+forecast_horizon])\n",
    "\n",
    "X, y = np.array(X), np.array(y)\n",
    "\n",
    "X_train, X_temp, y_train, y_temp = train_test_split(X, y, test_size=0.2, random_state=42, shuffle=False)\n",
    "X_test, X_val, y_test, y_val = train_test_split(X_temp, y_temp, test_size=0.5, random_state=42, shuffle=False)\n",
    "\n",
    "# Build the LSTM model\n",
    "model = Sequential()\n",
    "#model.add(LSTM(units=76, return_sequences=True))\n",
    "model.add(LSTM(units=119))\n",
    "model.add(tf.keras.layers.Dropout(0.11460100669225863))\n",
    "model.add(Dense(y_train.shape[2]))  # Output layer with one neuron per variable\n",
    "# Compile the model\n",
    "model.compile(optimizer=keras.optimizers.Adam(learning_rate=0.00012930201072331249), loss='mean_squared_error')\n",
    "\n",
    "# Train the model\n",
    "model.fit(X_train, y_train, epochs=200, batch_size=1, verbose=1, validation_data=(X_val, y_val))\n",
    "\n",
    "# Make predictions on the test data\n",
    "predictions = model.predict(X_val)\n",
    "\n",
    "# Inverse transform the scaled predictions and actual values\n",
    "predicted_values = scaler.inverse_transform(predictions.reshape(-1, y_train.shape[2]))\n",
    "actual_values = scaler.inverse_transform(y_val.reshape(-1, y_train.shape[2]))\n",
    "\n",
    "# Calculate RMSE for each variable\n",
    "rmse = np.sqrt(mean_squared_error(actual_values, predicted_values, multioutput='raw_values'))\n"
   ]
  },
  {
   "cell_type": "code",
   "execution_count": 13,
   "metadata": {},
   "outputs": [
    {
     "name": "stdout",
     "output_type": "stream",
     "text": [
      "RMSE for rate: 2.9516609664437996\n",
      "RMSE for max_x: 0.003067960800342382\n",
      "RMSE for sum_x: 39.37672653612963\n",
      "RMSE for avg_x: 0.014326059730589875\n",
      "RMSE for max_y: 2663.0279755439287\n",
      "RMSE for sum_y: 10464.44333269069\n",
      "RMSE for avg_y: 178.67115964958094\n",
      "RMSE for cnt: 13.725834149642319\n",
      "RMSE for per_x: 7.155672398753571e-05\n",
      "RMSE for per_y: 0.008694391964292449\n",
      "RMSE for per_x: 0.10442577022098007\n",
      "RMSE for per_y: 0.01263759923330272\n",
      "RMSE for day_of_week: 0.2317543102390984\n",
      "RMSE for day_of_month: 3.5495964731734118\n",
      "RMSE for month: 0.6256265996964904\n",
      "RMSE for day_of_year: 14.861538299337283\n",
      "RMSE for week_of_year: 1.9644406488358765\n",
      "RMSE for quarter: 0.19142162806997282\n",
      "RMSE for day_of_week_sin: 0.0406119382907009\n",
      "RMSE for day_of_week_cos: 0.040018952752159914\n",
      "RMSE for day_of_month_sin: 0.1150335817283088\n",
      "RMSE for day_of_month_cos: 0.05276389888607641\n",
      "RMSE for month_sin: 0.10048255088783707\n",
      "RMSE for month_cos: 0.06894613648213063\n",
      "RMSE for day_of_year_sin: 0.08831333128716773\n",
      "RMSE for day_of_year_cos: 0.020657408002417207\n",
      "RMSE for week_of_year_sin: 0.07704167699770174\n",
      "RMSE for week_of_year_cos: 0.029510459125685996\n",
      "RMSE for quarter_sin: 0.21997481859488177\n",
      "RMSE for quarter_cos: 0.1571596332909414\n"
     ]
    }
   ],
   "source": [
    "# Print RMSE for each variable\n",
    "for i, var_name in enumerate(merge_df.columns):\n",
    "    print(f\"RMSE for {var_name}: {rmse[i]}\")"
   ]
  },
  {
   "cell_type": "code",
   "execution_count": 47,
   "metadata": {},
   "outputs": [],
   "source": [
    "predictions = model.predict(X_test)"
   ]
  },
  {
   "cell_type": "code",
   "execution_count": 51,
   "metadata": {},
   "outputs": [
    {
     "data": {
      "image/png": "[encoded data removed]",
      "text/plain": [
       "<Figure size 1800x600 with 1 Axes>"
      ]
     },
     "metadata": {},
     "output_type": "display_data"
    }
   ],
   "source": [
    "scaled_data_inverse = scaler.inverse_transform(scaled_data)\n",
    "predicted_values = scaler.inverse_transform(predictions.reshape(-1, y_test.shape[2]))\n",
    "actual_values = scaler.inverse_transform(y_test.reshape(-1, y_test.shape[2]))\n",
    "\n",
    "index = 25\n",
    "\n",
    "# Plot the entire series, training, testing, and predicted data\n",
    "plt.figure(figsize=(18, 6))\n",
    "plt.plot(scaled_data_inverse[:scaled_data_inverse.shape[0]-len(y_test)-len(y_val), index], label='Actual var1')\n",
    "plt.plot(np.arange(len(scaled_data_inverse) - len(y_test)-len(y_val), len(scaled_data_inverse)-len(y_val)), actual_values[:, index], label='Test Data var1')\n",
    "plt.plot(np.arange(len(scaled_data_inverse) - len(y_test)-len(y_val), len(scaled_data_inverse)-len(y_val)), predicted_values[:, index], label='Predicted var1', linestyle='--')\n",
    "\n",
    "\n",
    "plt.legend()\n",
    "plt.title(\"LSTM Multivariate Time Series Forecasting\")\n",
    "plt.xlabel(\"Time\")\n",
    "plt.ylabel(\"Values\")\n",
    "plt.show()"
   ]
  },
  {
   "cell_type": "code",
   "execution_count": 40,
   "metadata": {},
   "outputs": [
    {
     "data": {
      "image/png": "[encoded data removed]",
      "text/plain": [
       "<Figure size 1800x600 with 1 Axes>"
      ]
     },
     "metadata": {},
     "output_type": "display_data"
    }
   ],
   "source": [
    "plt.figure(figsize=(18, 6))\n",
    "plt.plot(scaled_data_inverse[:scaled_data_inverse.shape[0], index], label='Actual var1')\n",
    "plt.show()"
   ]
  },
  {
   "cell_type": "code",
   "execution_count": 49,
   "metadata": {},
   "outputs": [
    {
     "data": {
      "image/png": "[encoded data removed]",
      "text/plain": [
       "<Figure size 1800x600 with 1 Axes>"
      ]
     },
     "metadata": {},
     "output_type": "display_data"
    }
   ],
   "source": [
    "plt.figure(figsize=(18, 6))\n",
    "plt.plot(actual_values[:, index], label='Test Data var1')\n",
    "plt.plot(predicted_values[:, index], label='Predicted var1', linestyle='--')\n",
    "plt.show()"
   ]
  },
  {
   "cell_type": "code",
   "execution_count": 32,
   "metadata": {},
   "outputs": [],
   "source": [
    "model.save('model.h5')"
   ]
  },
  {
   "cell_type": "code",
   "execution_count": 34,
   "metadata": {},
   "outputs": [],
   "source": [
    "model = load_model('model.h5')"
   ]
  }
 ],
 "metadata": {
  "kernelspec": {
   "display_name": "tr10",
   "language": "python",
   "name": "python3"
  },
  "language_info": {
   "codemirror_mode": {
    "name": "ipython",
    "version": 3
   },
   "file_extension": ".py",
   "mimetype": "text/x-python",
   "name": "python",
   "nbconvert_exporter": "python",
   "pygments_lexer": "ipython3",
   "version": "3.10.9"
  },
  "orig_nbformat": 4
 },
 "nbformat": 4,
 "nbformat_minor": 2
}
