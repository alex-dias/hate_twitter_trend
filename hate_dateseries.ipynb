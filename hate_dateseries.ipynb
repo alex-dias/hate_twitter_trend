{
 "cells": [
  {
   "cell_type": "code",
   "execution_count": 2,
   "metadata": {},
   "outputs": [],
   "source": [
    "import numpy as np\n",
    "import pandas as pd\n",
    "from datetime import datetime, timedelta\n",
    "import plotly.express as px"
   ]
  },
  {
   "cell_type": "code",
   "execution_count": 3,
   "metadata": {},
   "outputs": [],
   "source": [
    "df = pd.read_csv(\"completeDataset_inference.csv\")"
   ]
  },
  {
   "cell_type": "code",
   "execution_count": 4,
   "metadata": {},
   "outputs": [
    {
     "data": {
      "text/plain": [
       "1021221"
      ]
     },
     "execution_count": 4,
     "metadata": {},
     "output_type": "execute_result"
    }
   ],
   "source": [
    "len(df)"
   ]
  },
  {
   "cell_type": "code",
   "execution_count": 5,
   "metadata": {},
   "outputs": [],
   "source": [
    "df_hate = df[df['model_inference'] == 'hate']"
   ]
  },
  {
   "cell_type": "code",
   "execution_count": 6,
   "metadata": {},
   "outputs": [
    {
     "data": {
      "text/plain": [
       "58195"
      ]
     },
     "execution_count": 6,
     "metadata": {},
     "output_type": "execute_result"
    }
   ],
   "source": [
    "len(df_hate)"
   ]
  },
  {
   "cell_type": "code",
   "execution_count": 7,
   "metadata": {},
   "outputs": [
    {
     "data": {
      "text/html": [
       "<div>\n",
       "<style scoped>\n",
       "    .dataframe tbody tr th:only-of-type {\n",
       "        vertical-align: middle;\n",
       "    }\n",
       "\n",
       "    .dataframe tbody tr th {\n",
       "        vertical-align: top;\n",
       "    }\n",
       "\n",
       "    .dataframe thead th {\n",
       "        text-align: right;\n",
       "    }\n",
       "</style>\n",
       "<table border=\"1\" class=\"dataframe\">\n",
       "  <thead>\n",
       "    <tr style=\"text-align: right;\">\n",
       "      <th></th>\n",
       "      <th>Date</th>\n",
       "      <th>Tweet Treated</th>\n",
       "      <th>Tweet Raw</th>\n",
       "      <th>Url</th>\n",
       "      <th>Id</th>\n",
       "      <th>index</th>\n",
       "      <th>model_inference</th>\n",
       "      <th>normal_score</th>\n",
       "      <th>hate_speech_score</th>\n",
       "    </tr>\n",
       "  </thead>\n",
       "  <tbody>\n",
       "    <tr>\n",
       "      <th>11</th>\n",
       "      <td>2022-01-01 23:57:53+00:00</td>\n",
       "      <td>oh boy.... so russia is like an ape with an a...</td>\n",
       "      <td>@MavkaSlavka Oh boy.... So Russia is like an a...</td>\n",
       "      <td>https://twitter.com/wolframstahl/status/147742...</td>\n",
       "      <td>1477428898891812870</td>\n",
       "      <td>11</td>\n",
       "      <td>hate</td>\n",
       "      <td>0.2077</td>\n",
       "      <td>0.7923</td>\n",
       "    </tr>\n",
       "    <tr>\n",
       "      <th>19</th>\n",
       "      <td>2022-01-01 23:54:55+00:00</td>\n",
       "      <td>then get the hell out of russia ted. wtaf??? d...</td>\n",
       "      <td>Then get the hell out of Russia Ted. WTAF??? D...</td>\n",
       "      <td>https://twitter.com/pchurch69/status/147742815...</td>\n",
       "      <td>1477428151655583747</td>\n",
       "      <td>19</td>\n",
       "      <td>hate</td>\n",
       "      <td>0.0675</td>\n",
       "      <td>0.9325</td>\n",
       "    </tr>\n",
       "    <tr>\n",
       "      <th>28</th>\n",
       "      <td>2022-01-01 23:53:41+00:00</td>\n",
       "      <td>russia destroys the chechen people  via</td>\n",
       "      <td>Russia destroys the Chechen people https://t.c...</td>\n",
       "      <td>https://twitter.com/misirbiev59/status/1477427...</td>\n",
       "      <td>1477427843395162115</td>\n",
       "      <td>28</td>\n",
       "      <td>hate</td>\n",
       "      <td>0.0147</td>\n",
       "      <td>0.9854</td>\n",
       "    </tr>\n",
       "    <tr>\n",
       "      <th>50</th>\n",
       "      <td>2022-01-01 23:51:35+00:00</td>\n",
       "      <td>russia 🇷🇺 is the definition of based that why...</td>\n",
       "      <td>@OnlyFansPostinL Russia 🇷🇺 is the definition o...</td>\n",
       "      <td>https://twitter.com/theseriousjones/status/147...</td>\n",
       "      <td>1477427313155452928</td>\n",
       "      <td>50</td>\n",
       "      <td>hate</td>\n",
       "      <td>0.1481</td>\n",
       "      <td>0.8519</td>\n",
       "    </tr>\n",
       "    <tr>\n",
       "      <th>80</th>\n",
       "      <td>2022-01-01 23:45:04+00:00</td>\n",
       "      <td>your fact is \"russia collusion\", and aoc is b...</td>\n",
       "      <td>@AdverseReaction Your fact is \"russia collusio...</td>\n",
       "      <td>https://twitter.com/PatriotsOfMars/status/1477...</td>\n",
       "      <td>1477425675359428609</td>\n",
       "      <td>80</td>\n",
       "      <td>hate</td>\n",
       "      <td>0.0844</td>\n",
       "      <td>0.9156</td>\n",
       "    </tr>\n",
       "  </tbody>\n",
       "</table>\n",
       "</div>"
      ],
      "text/plain": [
       "                         Date  \\\n",
       "11  2022-01-01 23:57:53+00:00   \n",
       "19  2022-01-01 23:54:55+00:00   \n",
       "28  2022-01-01 23:53:41+00:00   \n",
       "50  2022-01-01 23:51:35+00:00   \n",
       "80  2022-01-01 23:45:04+00:00   \n",
       "\n",
       "                                        Tweet Treated  \\\n",
       "11   oh boy.... so russia is like an ape with an a...   \n",
       "19  then get the hell out of russia ted. wtaf??? d...   \n",
       "28           russia destroys the chechen people  via    \n",
       "50   russia 🇷🇺 is the definition of based that why...   \n",
       "80   your fact is \"russia collusion\", and aoc is b...   \n",
       "\n",
       "                                            Tweet Raw  \\\n",
       "11  @MavkaSlavka Oh boy.... So Russia is like an a...   \n",
       "19  Then get the hell out of Russia Ted. WTAF??? D...   \n",
       "28  Russia destroys the Chechen people https://t.c...   \n",
       "50  @OnlyFansPostinL Russia 🇷🇺 is the definition o...   \n",
       "80  @AdverseReaction Your fact is \"russia collusio...   \n",
       "\n",
       "                                                  Url                   Id  \\\n",
       "11  https://twitter.com/wolframstahl/status/147742...  1477428898891812870   \n",
       "19  https://twitter.com/pchurch69/status/147742815...  1477428151655583747   \n",
       "28  https://twitter.com/misirbiev59/status/1477427...  1477427843395162115   \n",
       "50  https://twitter.com/theseriousjones/status/147...  1477427313155452928   \n",
       "80  https://twitter.com/PatriotsOfMars/status/1477...  1477425675359428609   \n",
       "\n",
       "    index model_inference  normal_score  hate_speech_score  \n",
       "11     11            hate        0.2077             0.7923  \n",
       "19     19            hate        0.0675             0.9325  \n",
       "28     28            hate        0.0147             0.9854  \n",
       "50     50            hate        0.1481             0.8519  \n",
       "80     80            hate        0.0844             0.9156  "
      ]
     },
     "execution_count": 7,
     "metadata": {},
     "output_type": "execute_result"
    }
   ],
   "source": [
    "df_hate.head()"
   ]
  },
  {
   "cell_type": "code",
   "execution_count": 8,
   "metadata": {},
   "outputs": [
    {
     "name": "stderr",
     "output_type": "stream",
     "text": [
      "C:\\Users\\Alexandre\\AppData\\Local\\Temp\\ipykernel_20256\\3899987318.py:1: SettingWithCopyWarning: \n",
      "A value is trying to be set on a copy of a slice from a DataFrame.\n",
      "Try using .loc[row_indexer,col_indexer] = value instead\n",
      "\n",
      "See the caveats in the documentation: https://pandas.pydata.org/pandas-docs/stable/user_guide/indexing.html#returning-a-view-versus-a-copy\n",
      "  df_hate['Date Trunc'] = df_hate['Date'].apply(lambda dt: dt[:11])\n"
     ]
    }
   ],
   "source": [
    "df_hate['Date Trunc'] = df_hate['Date'].apply(lambda dt: dt[:11])"
   ]
  },
  {
   "cell_type": "code",
   "execution_count": 9,
   "metadata": {},
   "outputs": [
    {
     "data": {
      "text/html": [
       "<div>\n",
       "<style scoped>\n",
       "    .dataframe tbody tr th:only-of-type {\n",
       "        vertical-align: middle;\n",
       "    }\n",
       "\n",
       "    .dataframe tbody tr th {\n",
       "        vertical-align: top;\n",
       "    }\n",
       "\n",
       "    .dataframe thead th {\n",
       "        text-align: right;\n",
       "    }\n",
       "</style>\n",
       "<table border=\"1\" class=\"dataframe\">\n",
       "  <thead>\n",
       "    <tr style=\"text-align: right;\">\n",
       "      <th></th>\n",
       "      <th>Date</th>\n",
       "      <th>Tweet Treated</th>\n",
       "      <th>Tweet Raw</th>\n",
       "      <th>Url</th>\n",
       "      <th>Id</th>\n",
       "      <th>index</th>\n",
       "      <th>model_inference</th>\n",
       "      <th>normal_score</th>\n",
       "      <th>hate_speech_score</th>\n",
       "      <th>Date Trunc</th>\n",
       "    </tr>\n",
       "  </thead>\n",
       "  <tbody>\n",
       "    <tr>\n",
       "      <th>11</th>\n",
       "      <td>2022-01-01 23:57:53+00:00</td>\n",
       "      <td>oh boy.... so russia is like an ape with an a...</td>\n",
       "      <td>@MavkaSlavka Oh boy.... So Russia is like an a...</td>\n",
       "      <td>https://twitter.com/wolframstahl/status/147742...</td>\n",
       "      <td>1477428898891812870</td>\n",
       "      <td>11</td>\n",
       "      <td>hate</td>\n",
       "      <td>0.2077</td>\n",
       "      <td>0.7923</td>\n",
       "      <td>2022-01-01</td>\n",
       "    </tr>\n",
       "    <tr>\n",
       "      <th>19</th>\n",
       "      <td>2022-01-01 23:54:55+00:00</td>\n",
       "      <td>then get the hell out of russia ted. wtaf??? d...</td>\n",
       "      <td>Then get the hell out of Russia Ted. WTAF??? D...</td>\n",
       "      <td>https://twitter.com/pchurch69/status/147742815...</td>\n",
       "      <td>1477428151655583747</td>\n",
       "      <td>19</td>\n",
       "      <td>hate</td>\n",
       "      <td>0.0675</td>\n",
       "      <td>0.9325</td>\n",
       "      <td>2022-01-01</td>\n",
       "    </tr>\n",
       "    <tr>\n",
       "      <th>28</th>\n",
       "      <td>2022-01-01 23:53:41+00:00</td>\n",
       "      <td>russia destroys the chechen people  via</td>\n",
       "      <td>Russia destroys the Chechen people https://t.c...</td>\n",
       "      <td>https://twitter.com/misirbiev59/status/1477427...</td>\n",
       "      <td>1477427843395162115</td>\n",
       "      <td>28</td>\n",
       "      <td>hate</td>\n",
       "      <td>0.0147</td>\n",
       "      <td>0.9854</td>\n",
       "      <td>2022-01-01</td>\n",
       "    </tr>\n",
       "    <tr>\n",
       "      <th>50</th>\n",
       "      <td>2022-01-01 23:51:35+00:00</td>\n",
       "      <td>russia 🇷🇺 is the definition of based that why...</td>\n",
       "      <td>@OnlyFansPostinL Russia 🇷🇺 is the definition o...</td>\n",
       "      <td>https://twitter.com/theseriousjones/status/147...</td>\n",
       "      <td>1477427313155452928</td>\n",
       "      <td>50</td>\n",
       "      <td>hate</td>\n",
       "      <td>0.1481</td>\n",
       "      <td>0.8519</td>\n",
       "      <td>2022-01-01</td>\n",
       "    </tr>\n",
       "    <tr>\n",
       "      <th>80</th>\n",
       "      <td>2022-01-01 23:45:04+00:00</td>\n",
       "      <td>your fact is \"russia collusion\", and aoc is b...</td>\n",
       "      <td>@AdverseReaction Your fact is \"russia collusio...</td>\n",
       "      <td>https://twitter.com/PatriotsOfMars/status/1477...</td>\n",
       "      <td>1477425675359428609</td>\n",
       "      <td>80</td>\n",
       "      <td>hate</td>\n",
       "      <td>0.0844</td>\n",
       "      <td>0.9156</td>\n",
       "      <td>2022-01-01</td>\n",
       "    </tr>\n",
       "  </tbody>\n",
       "</table>\n",
       "</div>"
      ],
      "text/plain": [
       "                         Date  \\\n",
       "11  2022-01-01 23:57:53+00:00   \n",
       "19  2022-01-01 23:54:55+00:00   \n",
       "28  2022-01-01 23:53:41+00:00   \n",
       "50  2022-01-01 23:51:35+00:00   \n",
       "80  2022-01-01 23:45:04+00:00   \n",
       "\n",
       "                                        Tweet Treated  \\\n",
       "11   oh boy.... so russia is like an ape with an a...   \n",
       "19  then get the hell out of russia ted. wtaf??? d...   \n",
       "28           russia destroys the chechen people  via    \n",
       "50   russia 🇷🇺 is the definition of based that why...   \n",
       "80   your fact is \"russia collusion\", and aoc is b...   \n",
       "\n",
       "                                            Tweet Raw  \\\n",
       "11  @MavkaSlavka Oh boy.... So Russia is like an a...   \n",
       "19  Then get the hell out of Russia Ted. WTAF??? D...   \n",
       "28  Russia destroys the Chechen people https://t.c...   \n",
       "50  @OnlyFansPostinL Russia 🇷🇺 is the definition o...   \n",
       "80  @AdverseReaction Your fact is \"russia collusio...   \n",
       "\n",
       "                                                  Url                   Id  \\\n",
       "11  https://twitter.com/wolframstahl/status/147742...  1477428898891812870   \n",
       "19  https://twitter.com/pchurch69/status/147742815...  1477428151655583747   \n",
       "28  https://twitter.com/misirbiev59/status/1477427...  1477427843395162115   \n",
       "50  https://twitter.com/theseriousjones/status/147...  1477427313155452928   \n",
       "80  https://twitter.com/PatriotsOfMars/status/1477...  1477425675359428609   \n",
       "\n",
       "    index model_inference  normal_score  hate_speech_score   Date Trunc  \n",
       "11     11            hate        0.2077             0.7923  2022-01-01   \n",
       "19     19            hate        0.0675             0.9325  2022-01-01   \n",
       "28     28            hate        0.0147             0.9854  2022-01-01   \n",
       "50     50            hate        0.1481             0.8519  2022-01-01   \n",
       "80     80            hate        0.0844             0.9156  2022-01-01   "
      ]
     },
     "execution_count": 9,
     "metadata": {},
     "output_type": "execute_result"
    }
   ],
   "source": [
    "df_hate.head()"
   ]
  },
  {
   "cell_type": "code",
   "execution_count": 10,
   "metadata": {},
   "outputs": [],
   "source": [
    "cnt = df_hate[['Date Trunc']].groupby(['Date Trunc'])['Date Trunc'].count()\n",
    "\n",
    "cnt = pd.DataFrame({'date':cnt.index, 'cnt':cnt.values})"
   ]
  },
  {
   "cell_type": "code",
   "execution_count": 11,
   "metadata": {},
   "outputs": [
    {
     "data": {
      "text/plain": [
       "<Axes: xlabel='date', ylabel='cnt'>"
      ]
     },
     "execution_count": 11,
     "metadata": {},
     "output_type": "execute_result"
    },
    {
     "data": {
      "image/png": "[encoded data removed]",
      "text/plain": [
       "<Figure size 640x480 with 1 Axes>"
      ]
     },
     "metadata": {},
     "output_type": "display_data"
    }
   ],
   "source": [
    "import seaborn as sns\n",
    "\n",
    "sns.lineplot(data=cnt, x='date', y='cnt')"
   ]
  },
  {
   "cell_type": "code",
   "execution_count": 12,
   "metadata": {},
   "outputs": [
    {
     "name": "stderr",
     "output_type": "stream",
     "text": [
      "C:\\Users\\Alexandre\\AppData\\Local\\Temp\\ipykernel_20256\\2477967178.py:1: SettingWithCopyWarning: \n",
      "A value is trying to be set on a copy of a slice from a DataFrame.\n",
      "Try using .loc[row_indexer,col_indexer] = value instead\n",
      "\n",
      "See the caveats in the documentation: https://pandas.pydata.org/pandas-docs/stable/user_guide/indexing.html#returning-a-view-versus-a-copy\n",
      "  df_hate['Date Trunc'] = df_hate['Date'].apply(lambda dt: dt[:10])\n"
     ]
    }
   ],
   "source": [
    "df_hate['Date Trunc'] = df_hate['Date'].apply(lambda dt: dt[:10])"
   ]
  },
  {
   "cell_type": "code",
   "execution_count": 13,
   "metadata": {},
   "outputs": [],
   "source": [
    "cnt = df_hate[['Date Trunc']].groupby(['Date Trunc'])['Date Trunc'].count()\n",
    "\n",
    "cnt = pd.DataFrame({'date':cnt.index, 'cnt':cnt.values})"
   ]
  },
  {
   "cell_type": "code",
   "execution_count": 14,
   "metadata": {},
   "outputs": [
    {
     "data": {
      "text/plain": [
       "<Axes: xlabel='date', ylabel='cnt'>"
      ]
     },
     "execution_count": 14,
     "metadata": {},
     "output_type": "execute_result"
    },
    {
     "data": {
      "image/png": "[encoded data removed]",
      "text/plain": [
       "<Figure size 640x480 with 1 Axes>"
      ]
     },
     "metadata": {},
     "output_type": "display_data"
    }
   ],
   "source": [
    "sns.barplot(data=cnt, x='date', y='cnt')"
   ]
  },
  {
   "cell_type": "code",
   "execution_count": 15,
   "metadata": {},
   "outputs": [
    {
     "data": {
      "application/vnd.plotly.v1+json": {
       "config": {
        "plotlyServerURL": "https://plot.ly"
       },
       "data": [
        {
         "hovertemplate": "date=%{x}<br>cnt=%{y}<extra></extra>",
         "legendgroup": "",
         "line": {
          "color": "#636efa",
          "dash": "solid"
         },
         "marker": {
          "symbol": "circle"
         },
         "mode": "lines",
         "name": "",
         "orientation": "v",
         "showlegend": false,
         "type": "scatter",
         "x": [
          "2022-01-01",
          "2022-01-02",
          "2022-01-03",
          "2022-01-04",
          "2022-01-05",
          "2022-01-06",
          "2022-01-07",
          "2022-01-08",
          "2022-01-09",
          "2022-01-10",
          "2022-01-11",
          "2022-01-12",
          "2022-01-13",
          "2022-01-14",
          "2022-01-15",
          "2022-01-16",
          "2022-01-17",
          "2022-01-18",
          "2022-01-19",
          "2022-01-20",
          "2022-01-21",
          "2022-01-22",
          "2022-01-23",
          "2022-01-24",
          "2022-01-25",
          "2022-01-26",
          "2022-01-27",
          "2022-01-28",
          "2022-01-29",
          "2022-01-30",
          "2022-01-31",
          "2022-02-01",
          "2022-02-02",
          "2022-02-03",
          "2022-02-04",
          "2022-02-05",
          "2022-02-06",
          "2022-02-07",
          "2022-02-08",
          "2022-02-09",
          "2022-02-10",
          "2022-02-11",
          "2022-02-12",
          "2022-02-13",
          "2022-02-14",
          "2022-02-15",
          "2022-02-16",
          "2022-02-17",
          "2022-02-18",
          "2022-02-19",
          "2022-02-20",
          "2022-02-21",
          "2022-02-22",
          "2022-02-23",
          "2022-02-24",
          "2022-02-25",
          "2022-02-26",
          "2022-02-27",
          "2022-02-28",
          "2022-03-01",
          "2022-03-02",
          "2022-03-03",
          "2022-03-04",
          "2022-03-05",
          "2022-03-06",
          "2022-03-07",
          "2022-03-08",
          "2022-03-09",
          "2022-03-10",
          "2022-03-11",
          "2022-03-12",
          "2022-03-13",
          "2022-03-14",
          "2022-03-15",
          "2022-03-16",
          "2022-03-17",
          "2022-03-18",
          "2022-03-19",
          "2022-03-20",
          "2022-03-21",
          "2022-03-22",
          "2022-03-23",
          "2022-03-24",
          "2022-03-25",
          "2022-03-26",
          "2022-03-27",
          "2022-03-28",
          "2022-03-29",
          "2022-03-30",
          "2022-03-31",
          "2022-04-01",
          "2022-04-02",
          "2022-04-03",
          "2022-04-04",
          "2022-04-05",
          "2022-04-06",
          "2022-04-07",
          "2022-04-08",
          "2022-04-09",
          "2022-04-10",
          "2022-04-11",
          "2022-04-12",
          "2022-04-13",
          "2022-04-14",
          "2022-04-15",
          "2022-04-16",
          "2022-04-17",
          "2022-04-18",
          "2022-04-19",
          "2022-04-20",
          "2022-04-21",
          "2022-04-22",
          "2022-04-23",
          "2022-04-24",
          "2022-04-25",
          "2022-04-26",
          "2022-04-27",
          "2022-04-28",
          "2022-04-29",
          "2022-04-30",
          "2022-05-01",
          "2022-05-02",
          "2022-05-03",
          "2022-05-04",
          "2022-05-05",
          "2022-05-06",
          "2022-05-07",
          "2022-05-08",
          "2022-05-09",
          "2022-05-10",
          "2022-05-11",
          "2022-05-12",
          "2022-05-13",
          "2022-05-14",
          "2022-05-15",
          "2022-05-16",
          "2022-05-17",
          "2022-05-18",
          "2022-05-19",
          "2022-05-20",
          "2022-05-21",
          "2022-05-22",
          "2022-05-23",
          "2022-05-24",
          "2022-05-25",
          "2022-05-26",
          "2022-05-27",
          "2022-05-28",
          "2022-05-29",
          "2022-05-30",
          "2022-05-31",
          "2022-06-01",
          "2022-06-02",
          "2022-06-03",
          "2022-06-04",
          "2022-06-05",
          "2022-06-06",
          "2022-06-07",
          "2022-06-08",
          "2022-06-09",
          "2022-06-10",
          "2022-06-11",
          "2022-06-12",
          "2022-06-13",
          "2022-06-14",
          "2022-06-15",
          "2022-06-16",
          "2022-06-17",
          "2022-06-18",
          "2022-06-19",
          "2022-06-20",
          "2022-06-21",
          "2022-06-22",
          "2022-06-23",
          "2022-06-24",
          "2022-06-25",
          "2022-06-26",
          "2022-06-27",
          "2022-06-28",
          "2022-06-29",
          "2022-06-30",
          "2022-07-01",
          "2022-07-02",
          "2022-07-03",
          "2022-07-04",
          "2022-07-05",
          "2022-07-06",
          "2022-07-07",
          "2022-07-08",
          "2022-07-09",
          "2022-07-10",
          "2022-07-11",
          "2022-07-12",
          "2022-07-13",
          "2022-07-14",
          "2022-07-15",
          "2022-07-16",
          "2022-07-17",
          "2022-07-18",
          "2022-07-19",
          "2022-07-20",
          "2022-07-21",
          "2022-07-22",
          "2022-07-23",
          "2022-07-24",
          "2022-07-25",
          "2022-07-26",
          "2022-07-27",
          "2022-07-28",
          "2022-07-29",
          "2022-07-30",
          "2022-07-31",
          "2022-08-01",
          "2022-08-02",
          "2022-08-03",
          "2022-08-04",
          "2022-08-05",
          "2022-08-06",
          "2022-08-07",
          "2022-08-08",
          "2022-08-09",
          "2022-08-10",
          "2022-08-11",
          "2022-08-12",
          "2022-08-13",
          "2022-08-14",
          "2022-08-15",
          "2022-08-16",
          "2022-08-17",
          "2022-08-18",
          "2022-08-19",
          "2022-08-20",
          "2022-08-21",
          "2022-08-22",
          "2022-08-23",
          "2022-08-24",
          "2022-08-25",
          "2022-08-26",
          "2022-08-27",
          "2022-08-28",
          "2022-08-29",
          "2022-08-30",
          "2022-08-31",
          "2022-09-01",
          "2022-09-02",
          "2022-09-03",
          "2022-09-04",
          "2022-09-05",
          "2022-09-06",
          "2022-09-07",
          "2022-09-08",
          "2022-09-09",
          "2022-09-10",
          "2022-09-11",
          "2022-09-12",
          "2022-09-13",
          "2022-09-14",
          "2022-09-15",
          "2022-09-16",
          "2022-09-17",
          "2022-09-18",
          "2022-09-19",
          "2022-09-20",
          "2022-09-21",
          "2022-09-22",
          "2022-09-23",
          "2022-09-24",
          "2022-09-25",
          "2022-09-26",
          "2022-09-27",
          "2022-09-28",
          "2022-09-29",
          "2022-09-30",
          "2022-10-01",
          "2022-10-02",
          "2022-10-03",
          "2022-10-04",
          "2022-10-05",
          "2022-10-06",
          "2022-10-07",
          "2022-10-08",
          "2022-10-09",
          "2022-10-10",
          "2022-10-11",
          "2022-10-12",
          "2022-10-13",
          "2022-10-14",
          "2022-10-15",
          "2022-10-16",
          "2022-10-17",
          "2022-10-18",
          "2022-10-19",
          "2022-10-20",
          "2022-10-21",
          "2022-10-22",
          "2022-10-23",
          "2022-10-24",
          "2022-10-25",
          "2022-10-26",
          "2022-10-27",
          "2022-10-28",
          "2022-10-29",
          "2022-10-30",
          "2022-10-31",
          "2022-11-01",
          "2022-11-02",
          "2022-11-03",
          "2022-11-04",
          "2022-11-05",
          "2022-11-06",
          "2022-11-07",
          "2022-11-08",
          "2022-11-09",
          "2022-11-10",
          "2022-11-11",
          "2022-11-12",
          "2022-11-13",
          "2022-11-14",
          "2022-11-15",
          "2022-11-16",
          "2022-11-17",
          "2022-11-18",
          "2022-11-19",
          "2022-11-20",
          "2022-11-21",
          "2022-11-22",
          "2022-11-23",
          "2022-11-24",
          "2022-11-25",
          "2022-11-26",
          "2022-11-27",
          "2022-11-28",
          "2022-11-29",
          "2022-11-30",
          "2022-12-01",
          "2022-12-02",
          "2022-12-03",
          "2022-12-04",
          "2022-12-05",
          "2022-12-06",
          "2022-12-07",
          "2022-12-08",
          "2022-12-09",
          "2022-12-10",
          "2022-12-11",
          "2022-12-12",
          "2022-12-13",
          "2022-12-14",
          "2022-12-15",
          "2022-12-16",
          "2022-12-17",
          "2022-12-18",
          "2022-12-19",
          "2022-12-20",
          "2022-12-21",
          "2022-12-22",
          "2022-12-23",
          "2022-12-24",
          "2022-12-25",
          "2022-12-26",
          "2022-12-27",
          "2022-12-28",
          "2022-12-29",
          "2022-12-30",
          "2022-12-31",
          "2023-01-01",
          "2023-01-02",
          "2023-01-03",
          "2023-01-04",
          "2023-01-05",
          "2023-01-06",
          "2023-01-07",
          "2023-01-08",
          "2023-01-09",
          "2023-01-10",
          "2023-01-11",
          "2023-01-12",
          "2023-01-13",
          "2023-01-14",
          "2023-01-15",
          "2023-01-16",
          "2023-01-17",
          "2023-01-18",
          "2023-01-19",
          "2023-01-20",
          "2023-01-21",
          "2023-01-22",
          "2023-01-23",
          "2023-01-24",
          "2023-01-25",
          "2023-01-26",
          "2023-01-27",
          "2023-01-28",
          "2023-01-29",
          "2023-01-30",
          "2023-01-31",
          "2023-02-01",
          "2023-02-02",
          "2023-02-03",
          "2023-02-04",
          "2023-02-05",
          "2023-02-06",
          "2023-02-07",
          "2023-02-08",
          "2023-02-09",
          "2023-02-10",
          "2023-02-11",
          "2023-02-12",
          "2023-02-13",
          "2023-02-14",
          "2023-02-15",
          "2023-02-16",
          "2023-02-17",
          "2023-02-18",
          "2023-02-19",
          "2023-02-20",
          "2023-02-21",
          "2023-02-22",
          "2023-02-23",
          "2023-02-24",
          "2023-02-25",
          "2023-02-26",
          "2023-02-27",
          "2023-02-28",
          "2023-03-01",
          "2023-03-02",
          "2023-03-03",
          "2023-03-04",
          "2023-03-05",
          "2023-03-06",
          "2023-03-07",
          "2023-03-08",
          "2023-03-09",
          "2023-03-10",
          "2023-03-11",
          "2023-03-12",
          "2023-03-13",
          "2023-03-14",
          "2023-03-15",
          "2023-03-16",
          "2023-03-17",
          "2023-03-18",
          "2023-03-19",
          "2023-03-20",
          "2023-03-21",
          "2023-03-22",
          "2023-03-23",
          "2023-03-24",
          "2023-03-25",
          "2023-03-26",
          "2023-03-27",
          "2023-03-28",
          "2023-03-29",
          "2023-03-30",
          "2023-03-31",
          "2023-04-01",
          "2023-04-02",
          "2023-04-03",
          "2023-04-04",
          "2023-04-05",
          "2023-04-06",
          "2023-04-07",
          "2023-04-08",
          "2023-04-09",
          "2023-04-10",
          "2023-04-11",
          "2023-04-12",
          "2023-04-13",
          "2023-04-14",
          "2023-04-15",
          "2023-04-16",
          "2023-04-17",
          "2023-04-18",
          "2023-04-19",
          "2023-04-20",
          "2023-04-21",
          "2023-04-22",
          "2023-04-23",
          "2023-04-24",
          "2023-04-25",
          "2023-04-26",
          "2023-04-27",
          "2023-04-28",
          "2023-04-29"
         ],
         "xaxis": "x",
         "y": [
          68,
          43,
          79,
          37,
          65,
          57,
          73,
          77,
          77,
          85,
          60,
          74,
          78,
          37,
          63,
          73,
          72,
          62,
          73,
          89,
          61,
          44,
          108,
          93,
          34,
          91,
          57,
          97,
          73,
          67,
          71,
          76,
          90,
          62,
          92,
          65,
          80,
          64,
          74,
          61,
          79,
          61,
          69,
          74,
          78,
          81,
          74,
          77,
          82,
          81,
          75,
          37,
          91,
          90,
          116,
          110,
          100,
          90,
          83,
          80,
          70,
          104,
          105,
          126,
          91,
          108,
          87,
          100,
          158,
          105,
          114,
          96,
          104,
          97,
          117,
          109,
          112,
          107,
          94,
          108,
          102,
          109,
          89,
          57,
          101,
          92,
          85,
          102,
          80,
          107,
          106,
          118,
          108,
          115,
          117,
          104,
          96,
          119,
          105,
          99,
          116,
          85,
          120,
          101,
          95,
          76,
          99,
          98,
          112,
          104,
          103,
          110,
          112,
          111,
          95,
          110,
          117,
          115,
          94,
          95,
          106,
          94,
          115,
          106,
          91,
          117,
          104,
          113,
          89,
          118,
          117,
          120,
          132,
          134,
          116,
          96,
          102,
          120,
          129,
          106,
          118,
          84,
          102,
          134,
          126,
          116,
          112,
          126,
          96,
          90,
          106,
          126,
          108,
          93,
          99,
          127,
          103,
          125,
          104,
          105,
          121,
          89,
          108,
          108,
          102,
          98,
          132,
          111,
          87,
          104,
          114,
          122,
          142,
          123,
          124,
          118,
          86,
          128,
          109,
          99,
          117,
          126,
          99,
          97,
          117,
          117,
          101,
          37,
          2,
          116,
          113,
          109,
          119,
          90,
          143,
          99,
          101,
          114,
          105,
          81,
          109,
          87,
          101,
          105,
          100,
          102,
          98,
          132,
          122,
          155,
          137,
          129,
          144,
          84,
          117,
          83,
          147,
          154,
          132,
          166,
          147,
          126,
          158,
          124,
          134,
          129,
          130,
          135,
          136,
          122,
          124,
          127,
          127,
          131,
          107,
          161,
          131,
          132,
          127,
          119,
          118,
          123,
          111,
          116,
          161,
          139,
          91,
          87,
          149,
          123,
          84,
          89,
          106,
          107,
          3,
          109,
          85,
          116,
          116,
          125,
          124,
          136,
          112,
          97,
          99,
          137,
          110,
          111,
          111,
          90,
          125,
          121,
          113,
          132,
          123,
          130,
          141,
          129,
          122,
          145,
          131,
          111,
          135,
          154,
          145,
          145,
          124,
          112,
          129,
          129,
          115,
          113,
          130,
          129,
          129,
          139,
          142,
          143,
          131,
          104,
          118,
          128,
          118,
          116,
          119,
          132,
          123,
          1,
          144,
          91,
          110,
          134,
          107,
          116,
          118,
          131,
          116,
          148,
          153,
          156,
          125,
          158,
          136,
          152,
          77,
          166,
          145,
          141,
          122,
          137,
          141,
          39,
          129,
          77,
          129,
          176,
          157,
          126,
          145,
          141,
          137,
          157,
          133,
          152,
          144,
          118,
          156,
          140,
          134,
          170,
          141,
          157,
          139,
          152,
          173,
          175,
          174,
          159,
          135,
          146,
          135,
          159,
          142,
          140,
          188,
          141,
          134,
          144,
          137,
          127,
          142,
          171,
          124,
          139,
          144,
          160,
          165,
          130,
          186,
          176,
          159,
          119,
          127,
          131,
          132,
          139,
          140,
          111,
          136,
          152,
          146,
          149,
          125,
          123,
          120,
          137,
          141,
          145,
          131,
          138,
          145,
          141,
          124,
          141,
          143,
          157,
          148,
          155,
          146,
          160,
          127,
          137,
          156,
          158,
          135,
          174,
          154,
          168,
          146,
          184,
          196,
          158,
          152,
          210,
          198,
          74,
          133,
          146,
          159,
          157,
          177,
          155,
          184,
          129,
          179,
          139,
          128,
          152,
          161,
          160,
          152,
          158,
          133,
          142,
          156,
          127,
          130,
          145,
          167,
          170,
          165,
          167,
          157,
          172,
          163,
          166,
          148,
          167,
          168,
          153,
          170,
          159,
          171,
          157,
          144,
          173,
          160,
          199,
          44,
          163,
          149,
          161,
          164,
          167,
          150,
          147,
          172,
          161,
          159,
          187,
          146,
          145,
          201,
          158
         ],
         "yaxis": "y"
        }
       ],
       "layout": {
        "legend": {
         "tracegroupgap": 0
        },
        "margin": {
         "t": 60
        },
        "template": {
         "data": {
          "bar": [
           {
            "error_x": {
             "color": "#2a3f5f"
            },
            "error_y": {
             "color": "#2a3f5f"
            },
            "marker": {
             "line": {
              "color": "#E5ECF6",
              "width": 0.5
             },
             "pattern": {
              "fillmode": "overlay",
              "size": 10,
              "solidity": 0.2
             }
            },
            "type": "bar"
           }
          ],
          "barpolar": [
           {
            "marker": {
             "line": {
              "color": "#E5ECF6",
              "width": 0.5
             },
             "pattern": {
              "fillmode": "overlay",
              "size": 10,
              "solidity": 0.2
             }
            },
            "type": "barpolar"
           }
          ],
          "carpet": [
           {
            "aaxis": {
             "endlinecolor": "#2a3f5f",
             "gridcolor": "white",
             "linecolor": "white",
             "minorgridcolor": "white",
             "startlinecolor": "#2a3f5f"
            },
            "baxis": {
             "endlinecolor": "#2a3f5f",
             "gridcolor": "white",
             "linecolor": "white",
             "minorgridcolor": "white",
             "startlinecolor": "#2a3f5f"
            },
            "type": "carpet"
           }
          ],
          "choropleth": [
           {
            "colorbar": {
             "outlinewidth": 0,
             "ticks": ""
            },
            "type": "choropleth"
           }
          ],
          "contour": [
           {
            "colorbar": {
             "outlinewidth": 0,
             "ticks": ""
            },
            "colorscale": [
             [
              0,
              "#0d0887"
             ],
             [
              0.1111111111111111,
              "#46039f"
             ],
             [
              0.2222222222222222,
              "#7201a8"
             ],
             [
              0.3333333333333333,
              "#9c179e"
             ],
             [
              0.4444444444444444,
              "#bd3786"
             ],
             [
              0.5555555555555556,
              "#d8576b"
             ],
             [
              0.6666666666666666,
              "#ed7953"
             ],
             [
              0.7777777777777778,
              "#fb9f3a"
             ],
             [
              0.8888888888888888,
              "#fdca26"
             ],
             [
              1,
              "#f0f921"
             ]
            ],
            "type": "contour"
           }
          ],
          "contourcarpet": [
           {
            "colorbar": {
             "outlinewidth": 0,
             "ticks": ""
            },
            "type": "contourcarpet"
           }
          ],
          "heatmap": [
           {
            "colorbar": {
             "outlinewidth": 0,
             "ticks": ""
            },
            "colorscale": [
             [
              0,
              "#0d0887"
             ],
             [
              0.1111111111111111,
              "#46039f"
             ],
             [
              0.2222222222222222,
              "#7201a8"
             ],
             [
              0.3333333333333333,
              "#9c179e"
             ],
             [
              0.4444444444444444,
              "#bd3786"
             ],
             [
              0.5555555555555556,
              "#d8576b"
             ],
             [
              0.6666666666666666,
              "#ed7953"
             ],
             [
              0.7777777777777778,
              "#fb9f3a"
             ],
             [
              0.8888888888888888,
              "#fdca26"
             ],
             [
              1,
              "#f0f921"
             ]
            ],
            "type": "heatmap"
           }
          ],
          "heatmapgl": [
           {
            "colorbar": {
             "outlinewidth": 0,
             "ticks": ""
            },
            "colorscale": [
             [
              0,
              "#0d0887"
             ],
             [
              0.1111111111111111,
              "#46039f"
             ],
             [
              0.2222222222222222,
              "#7201a8"
             ],
             [
              0.3333333333333333,
              "#9c179e"
             ],
             [
              0.4444444444444444,
              "#bd3786"
             ],
             [
              0.5555555555555556,
              "#d8576b"
             ],
             [
              0.6666666666666666,
              "#ed7953"
             ],
             [
              0.7777777777777778,
              "#fb9f3a"
             ],
             [
              0.8888888888888888,
              "#fdca26"
             ],
             [
              1,
              "#f0f921"
             ]
            ],
            "type": "heatmapgl"
           }
          ],
          "histogram": [
           {
            "marker": {
             "pattern": {
              "fillmode": "overlay",
              "size": 10,
              "solidity": 0.2
             }
            },
            "type": "histogram"
           }
          ],
          "histogram2d": [
           {
            "colorbar": {
             "outlinewidth": 0,
             "ticks": ""
            },
            "colorscale": [
             [
              0,
              "#0d0887"
             ],
             [
              0.1111111111111111,
              "#46039f"
             ],
             [
              0.2222222222222222,
              "#7201a8"
             ],
             [
              0.3333333333333333,
              "#9c179e"
             ],
             [
              0.4444444444444444,
              "#bd3786"
             ],
             [
              0.5555555555555556,
              "#d8576b"
             ],
             [
              0.6666666666666666,
              "#ed7953"
             ],
             [
              0.7777777777777778,
              "#fb9f3a"
             ],
             [
              0.8888888888888888,
              "#fdca26"
             ],
             [
              1,
              "#f0f921"
             ]
            ],
            "type": "histogram2d"
           }
          ],
          "histogram2dcontour": [
           {
            "colorbar": {
             "outlinewidth": 0,
             "ticks": ""
            },
            "colorscale": [
             [
              0,
              "#0d0887"
             ],
             [
              0.1111111111111111,
              "#46039f"
             ],
             [
              0.2222222222222222,
              "#7201a8"
             ],
             [
              0.3333333333333333,
              "#9c179e"
             ],
             [
              0.4444444444444444,
              "#bd3786"
             ],
             [
              0.5555555555555556,
              "#d8576b"
             ],
             [
              0.6666666666666666,
              "#ed7953"
             ],
             [
              0.7777777777777778,
              "#fb9f3a"
             ],
             [
              0.8888888888888888,
              "#fdca26"
             ],
             [
              1,
              "#f0f921"
             ]
            ],
            "type": "histogram2dcontour"
           }
          ],
          "mesh3d": [
           {
            "colorbar": {
             "outlinewidth": 0,
             "ticks": ""
            },
            "type": "mesh3d"
           }
          ],
          "parcoords": [
           {
            "line": {
             "colorbar": {
              "outlinewidth": 0,
              "ticks": ""
             }
            },
            "type": "parcoords"
           }
          ],
          "pie": [
           {
            "automargin": true,
            "type": "pie"
           }
          ],
          "scatter": [
           {
            "fillpattern": {
             "fillmode": "overlay",
             "size": 10,
             "solidity": 0.2
            },
            "type": "scatter"
           }
          ],
          "scatter3d": [
           {
            "line": {
             "colorbar": {
              "outlinewidth": 0,
              "ticks": ""
             }
            },
            "marker": {
             "colorbar": {
              "outlinewidth": 0,
              "ticks": ""
             }
            },
            "type": "scatter3d"
           }
          ],
          "scattercarpet": [
           {
            "marker": {
             "colorbar": {
              "outlinewidth": 0,
              "ticks": ""
             }
            },
            "type": "scattercarpet"
           }
          ],
          "scattergeo": [
           {
            "marker": {
             "colorbar": {
              "outlinewidth": 0,
              "ticks": ""
             }
            },
            "type": "scattergeo"
           }
          ],
          "scattergl": [
           {
            "marker": {
             "colorbar": {
              "outlinewidth": 0,
              "ticks": ""
             }
            },
            "type": "scattergl"
           }
          ],
          "scattermapbox": [
           {
            "marker": {
             "colorbar": {
              "outlinewidth": 0,
              "ticks": ""
             }
            },
            "type": "scattermapbox"
           }
          ],
          "scatterpolar": [
           {
            "marker": {
             "colorbar": {
              "outlinewidth": 0,
              "ticks": ""
             }
            },
            "type": "scatterpolar"
           }
          ],
          "scatterpolargl": [
           {
            "marker": {
             "colorbar": {
              "outlinewidth": 0,
              "ticks": ""
             }
            },
            "type": "scatterpolargl"
           }
          ],
          "scatterternary": [
           {
            "marker": {
             "colorbar": {
              "outlinewidth": 0,
              "ticks": ""
             }
            },
            "type": "scatterternary"
           }
          ],
          "surface": [
           {
            "colorbar": {
             "outlinewidth": 0,
             "ticks": ""
            },
            "colorscale": [
             [
              0,
              "#0d0887"
             ],
             [
              0.1111111111111111,
              "#46039f"
             ],
             [
              0.2222222222222222,
              "#7201a8"
             ],
             [
              0.3333333333333333,
              "#9c179e"
             ],
             [
              0.4444444444444444,
              "#bd3786"
             ],
             [
              0.5555555555555556,
              "#d8576b"
             ],
             [
              0.6666666666666666,
              "#ed7953"
             ],
             [
              0.7777777777777778,
              "#fb9f3a"
             ],
             [
              0.8888888888888888,
              "#fdca26"
             ],
             [
              1,
              "#f0f921"
             ]
            ],
            "type": "surface"
           }
          ],
          "table": [
           {
            "cells": {
             "fill": {
              "color": "#EBF0F8"
             },
             "line": {
              "color": "white"
             }
            },
            "header": {
             "fill": {
              "color": "#C8D4E3"
             },
             "line": {
              "color": "white"
             }
            },
            "type": "table"
           }
          ]
         },
         "layout": {
          "annotationdefaults": {
           "arrowcolor": "#2a3f5f",
           "arrowhead": 0,
           "arrowwidth": 1
          },
          "autotypenumbers": "strict",
          "coloraxis": {
           "colorbar": {
            "outlinewidth": 0,
            "ticks": ""
           }
          },
          "colorscale": {
           "diverging": [
            [
             0,
             "#8e0152"
            ],
            [
             0.1,
             "#c51b7d"
            ],
            [
             0.2,
             "#de77ae"
            ],
            [
             0.3,
             "#f1b6da"
            ],
            [
             0.4,
             "#fde0ef"
            ],
            [
             0.5,
             "#f7f7f7"
            ],
            [
             0.6,
             "#e6f5d0"
            ],
            [
             0.7,
             "#b8e186"
            ],
            [
             0.8,
             "#7fbc41"
            ],
            [
             0.9,
             "#4d9221"
            ],
            [
             1,
             "#276419"
            ]
           ],
           "sequential": [
            [
             0,
             "#0d0887"
            ],
            [
             0.1111111111111111,
             "#46039f"
            ],
            [
             0.2222222222222222,
             "#7201a8"
            ],
            [
             0.3333333333333333,
             "#9c179e"
            ],
            [
             0.4444444444444444,
             "#bd3786"
            ],
            [
             0.5555555555555556,
             "#d8576b"
            ],
            [
             0.6666666666666666,
             "#ed7953"
            ],
            [
             0.7777777777777778,
             "#fb9f3a"
            ],
            [
             0.8888888888888888,
             "#fdca26"
            ],
            [
             1,
             "#f0f921"
            ]
           ],
           "sequentialminus": [
            [
             0,
             "#0d0887"
            ],
            [
             0.1111111111111111,
             "#46039f"
            ],
            [
             0.2222222222222222,
             "#7201a8"
            ],
            [
             0.3333333333333333,
             "#9c179e"
            ],
            [
             0.4444444444444444,
             "#bd3786"
            ],
            [
             0.5555555555555556,
             "#d8576b"
            ],
            [
             0.6666666666666666,
             "#ed7953"
            ],
            [
             0.7777777777777778,
             "#fb9f3a"
            ],
            [
             0.8888888888888888,
             "#fdca26"
            ],
            [
             1,
             "#f0f921"
            ]
           ]
          },
          "colorway": [
           "#636efa",
           "#EF553B",
           "#00cc96",
           "#ab63fa",
           "#FFA15A",
           "#19d3f3",
           "#FF6692",
           "#B6E880",
           "#FF97FF",
           "#FECB52"
          ],
          "font": {
           "color": "#2a3f5f"
          },
          "geo": {
           "bgcolor": "white",
           "lakecolor": "white",
           "landcolor": "#E5ECF6",
           "showlakes": true,
           "showland": true,
           "subunitcolor": "white"
          },
          "hoverlabel": {
           "align": "left"
          },
          "hovermode": "closest",
          "mapbox": {
           "style": "light"
          },
          "paper_bgcolor": "white",
          "plot_bgcolor": "#E5ECF6",
          "polar": {
           "angularaxis": {
            "gridcolor": "white",
            "linecolor": "white",
            "ticks": ""
           },
           "bgcolor": "#E5ECF6",
           "radialaxis": {
            "gridcolor": "white",
            "linecolor": "white",
            "ticks": ""
           }
          },
          "scene": {
           "xaxis": {
            "backgroundcolor": "#E5ECF6",
            "gridcolor": "white",
            "gridwidth": 2,
            "linecolor": "white",
            "showbackground": true,
            "ticks": "",
            "zerolinecolor": "white"
           },
           "yaxis": {
            "backgroundcolor": "#E5ECF6",
            "gridcolor": "white",
            "gridwidth": 2,
            "linecolor": "white",
            "showbackground": true,
            "ticks": "",
            "zerolinecolor": "white"
           },
           "zaxis": {
            "backgroundcolor": "#E5ECF6",
            "gridcolor": "white",
            "gridwidth": 2,
            "linecolor": "white",
            "showbackground": true,
            "ticks": "",
            "zerolinecolor": "white"
           }
          },
          "shapedefaults": {
           "line": {
            "color": "#2a3f5f"
           }
          },
          "ternary": {
           "aaxis": {
            "gridcolor": "white",
            "linecolor": "white",
            "ticks": ""
           },
           "baxis": {
            "gridcolor": "white",
            "linecolor": "white",
            "ticks": ""
           },
           "bgcolor": "#E5ECF6",
           "caxis": {
            "gridcolor": "white",
            "linecolor": "white",
            "ticks": ""
           }
          },
          "title": {
           "x": 0.05
          },
          "xaxis": {
           "automargin": true,
           "gridcolor": "white",
           "linecolor": "white",
           "ticks": "",
           "title": {
            "standoff": 15
           },
           "zerolinecolor": "white",
           "zerolinewidth": 2
          },
          "yaxis": {
           "automargin": true,
           "gridcolor": "white",
           "linecolor": "white",
           "ticks": "",
           "title": {
            "standoff": 15
           },
           "zerolinecolor": "white",
           "zerolinewidth": 2
          }
         }
        },
        "xaxis": {
         "anchor": "y",
         "domain": [
          0,
          1
         ],
         "title": {
          "text": "date"
         }
        },
        "yaxis": {
         "anchor": "x",
         "domain": [
          0,
          1
         ],
         "title": {
          "text": "cnt"
         }
        }
       }
      }
     },
     "metadata": {},
     "output_type": "display_data"
    }
   ],
   "source": [
    "fig = px.line(cnt, x='date', y='cnt')\n",
    "fig.show()"
   ]
  },
  {
   "cell_type": "code",
   "execution_count": 16,
   "metadata": {},
   "outputs": [
    {
     "data": {
      "text/html": [
       "<div>\n",
       "<style scoped>\n",
       "    .dataframe tbody tr th:only-of-type {\n",
       "        vertical-align: middle;\n",
       "    }\n",
       "\n",
       "    .dataframe tbody tr th {\n",
       "        vertical-align: top;\n",
       "    }\n",
       "\n",
       "    .dataframe thead th {\n",
       "        text-align: right;\n",
       "    }\n",
       "</style>\n",
       "<table border=\"1\" class=\"dataframe\">\n",
       "  <thead>\n",
       "    <tr style=\"text-align: right;\">\n",
       "      <th></th>\n",
       "      <th>date</th>\n",
       "      <th>cnt</th>\n",
       "    </tr>\n",
       "  </thead>\n",
       "  <tbody>\n",
       "    <tr>\n",
       "      <th>0</th>\n",
       "      <td>2022-01-01</td>\n",
       "      <td>68</td>\n",
       "    </tr>\n",
       "    <tr>\n",
       "      <th>1</th>\n",
       "      <td>2022-01-02</td>\n",
       "      <td>43</td>\n",
       "    </tr>\n",
       "    <tr>\n",
       "      <th>2</th>\n",
       "      <td>2022-01-03</td>\n",
       "      <td>79</td>\n",
       "    </tr>\n",
       "    <tr>\n",
       "      <th>3</th>\n",
       "      <td>2022-01-04</td>\n",
       "      <td>37</td>\n",
       "    </tr>\n",
       "    <tr>\n",
       "      <th>4</th>\n",
       "      <td>2022-01-05</td>\n",
       "      <td>65</td>\n",
       "    </tr>\n",
       "    <tr>\n",
       "      <th>...</th>\n",
       "      <td>...</td>\n",
       "      <td>...</td>\n",
       "    </tr>\n",
       "    <tr>\n",
       "      <th>479</th>\n",
       "      <td>2023-04-25</td>\n",
       "      <td>187</td>\n",
       "    </tr>\n",
       "    <tr>\n",
       "      <th>480</th>\n",
       "      <td>2023-04-26</td>\n",
       "      <td>146</td>\n",
       "    </tr>\n",
       "    <tr>\n",
       "      <th>481</th>\n",
       "      <td>2023-04-27</td>\n",
       "      <td>145</td>\n",
       "    </tr>\n",
       "    <tr>\n",
       "      <th>482</th>\n",
       "      <td>2023-04-28</td>\n",
       "      <td>201</td>\n",
       "    </tr>\n",
       "    <tr>\n",
       "      <th>483</th>\n",
       "      <td>2023-04-29</td>\n",
       "      <td>158</td>\n",
       "    </tr>\n",
       "  </tbody>\n",
       "</table>\n",
       "<p>484 rows × 2 columns</p>\n",
       "</div>"
      ],
      "text/plain": [
       "           date  cnt\n",
       "0    2022-01-01   68\n",
       "1    2022-01-02   43\n",
       "2    2022-01-03   79\n",
       "3    2022-01-04   37\n",
       "4    2022-01-05   65\n",
       "..          ...  ...\n",
       "479  2023-04-25  187\n",
       "480  2023-04-26  146\n",
       "481  2023-04-27  145\n",
       "482  2023-04-28  201\n",
       "483  2023-04-29  158\n",
       "\n",
       "[484 rows x 2 columns]"
      ]
     },
     "execution_count": 16,
     "metadata": {},
     "output_type": "execute_result"
    }
   ],
   "source": [
    "cnt"
   ]
  },
  {
   "cell_type": "code",
   "execution_count": 17,
   "metadata": {},
   "outputs": [],
   "source": [
    "cnt['date'] = pd.to_datetime(cnt['date'])"
   ]
  },
  {
   "cell_type": "code",
   "execution_count": 18,
   "metadata": {},
   "outputs": [
    {
     "data": {
      "application/vnd.plotly.v1+json": {
       "config": {
        "plotlyServerURL": "https://plot.ly"
       },
       "data": [
        {
         "hovertemplate": "date=%{x}<br>cnt=%{marker.color}<extra></extra>",
         "legendgroup": "",
         "marker": {
          "color": [
           68,
           43,
           79,
           37,
           65,
           57,
           73,
           77,
           77,
           85,
           60,
           74,
           78,
           37,
           63,
           73,
           72,
           62,
           73,
           89,
           61,
           44,
           108,
           93,
           34,
           91,
           57,
           97,
           73,
           67,
           71,
           76,
           90,
           62,
           92,
           65,
           80,
           64,
           74,
           61,
           79,
           61,
           69,
           74,
           78,
           81,
           74,
           77,
           82,
           81,
           75,
           37,
           91,
           90,
           116,
           110,
           100,
           90,
           83,
           80,
           70,
           104,
           105,
           126,
           91,
           108,
           87,
           100,
           158,
           105,
           114,
           96,
           104,
           97,
           117,
           109,
           112,
           107,
           94,
           108,
           102,
           109,
           89,
           57,
           101,
           92,
           85,
           102,
           80,
           107,
           106,
           118,
           108,
           115,
           117,
           104,
           96,
           119,
           105,
           99,
           116,
           85,
           120,
           101,
           95,
           76,
           99,
           98,
           112,
           104,
           103,
           110,
           112,
           111,
           95,
           110,
           117,
           115,
           94,
           95,
           106,
           94,
           115,
           106,
           91,
           117,
           104,
           113,
           89,
           118,
           117,
           120,
           132,
           134,
           116,
           96,
           102,
           120,
           129,
           106,
           118,
           84,
           102,
           134,
           126,
           116,
           112,
           126,
           96,
           90,
           106,
           126,
           108,
           93,
           99,
           127,
           103,
           125,
           104,
           105,
           121,
           89,
           108,
           108,
           102,
           98,
           132,
           111,
           87,
           104,
           114,
           122,
           142,
           123,
           124,
           118,
           86,
           128,
           109,
           99,
           117,
           126,
           99,
           97,
           117,
           117,
           101,
           37,
           2,
           116,
           113,
           109,
           119,
           90,
           143,
           99,
           101,
           114,
           105,
           81,
           109,
           87,
           101,
           105,
           100,
           102,
           98,
           132,
           122,
           155,
           137,
           129,
           144,
           84,
           117,
           83,
           147,
           154,
           132,
           166,
           147,
           126,
           158,
           124,
           134,
           129,
           130,
           135,
           136,
           122,
           124,
           127,
           127,
           131,
           107,
           161,
           131,
           132,
           127,
           119,
           118,
           123,
           111,
           116,
           161,
           139,
           91,
           87,
           149,
           123,
           84,
           89,
           106,
           107,
           3,
           109,
           85,
           116,
           116,
           125,
           124,
           136,
           112,
           97,
           99,
           137,
           110,
           111,
           111,
           90,
           125,
           121,
           113,
           132,
           123,
           130,
           141,
           129,
           122,
           145,
           131,
           111,
           135,
           154,
           145,
           145,
           124,
           112,
           129,
           129,
           115,
           113,
           130,
           129,
           129,
           139,
           142,
           143,
           131,
           104,
           118,
           128,
           118,
           116,
           119,
           132,
           123,
           1,
           144,
           91,
           110,
           134,
           107,
           116,
           118,
           131,
           116,
           148,
           153,
           156,
           125,
           158,
           136,
           152,
           77,
           166,
           145,
           141,
           122,
           137,
           141,
           39,
           129,
           77,
           129,
           176,
           157,
           126,
           145,
           141,
           137,
           157,
           133,
           152,
           144,
           118,
           156,
           140,
           134,
           170,
           141,
           157,
           139,
           152,
           173,
           175,
           174,
           159,
           135,
           146,
           135,
           159,
           142,
           140,
           188,
           141,
           134,
           144,
           137,
           127,
           142,
           171,
           124,
           139,
           144,
           160,
           165,
           130,
           186,
           176,
           159,
           119,
           127,
           131,
           132,
           139,
           140,
           111,
           136,
           152,
           146,
           149,
           125,
           123,
           120,
           137,
           141,
           145,
           131,
           138,
           145,
           141,
           124,
           141,
           143,
           157,
           148,
           155,
           146,
           160,
           127,
           137,
           156,
           158,
           135,
           174,
           154,
           168,
           146,
           184,
           196,
           158,
           152,
           210,
           198,
           74,
           133,
           146,
           159,
           157,
           177,
           155,
           184,
           129,
           179,
           139,
           128,
           152,
           161,
           160,
           152,
           158,
           133,
           142,
           156,
           127,
           130,
           145,
           167,
           170,
           165,
           167,
           157,
           172,
           163,
           166,
           148,
           167,
           168,
           153,
           170,
           159,
           171,
           157,
           144,
           173,
           160,
           199,
           44,
           163,
           149,
           161,
           164,
           167,
           150,
           147,
           172,
           161,
           159,
           187,
           146,
           145,
           201,
           158
          ],
          "coloraxis": "coloraxis",
          "symbol": "circle"
         },
         "mode": "markers",
         "name": "",
         "orientation": "v",
         "showlegend": false,
         "type": "scatter",
         "x": [
          "2022-01-01T00:00:00",
          "2022-01-02T00:00:00",
          "2022-01-03T00:00:00",
          "2022-01-04T00:00:00",
          "2022-01-05T00:00:00",
          "2022-01-06T00:00:00",
          "2022-01-07T00:00:00",
          "2022-01-08T00:00:00",
          "2022-01-09T00:00:00",
          "2022-01-10T00:00:00",
          "2022-01-11T00:00:00",
          "2022-01-12T00:00:00",
          "2022-01-13T00:00:00",
          "2022-01-14T00:00:00",
          "2022-01-15T00:00:00",
          "2022-01-16T00:00:00",
          "2022-01-17T00:00:00",
          "2022-01-18T00:00:00",
          "2022-01-19T00:00:00",
          "2022-01-20T00:00:00",
          "2022-01-21T00:00:00",
          "2022-01-22T00:00:00",
          "2022-01-23T00:00:00",
          "2022-01-24T00:00:00",
          "2022-01-25T00:00:00",
          "2022-01-26T00:00:00",
          "2022-01-27T00:00:00",
          "2022-01-28T00:00:00",
          "2022-01-29T00:00:00",
          "2022-01-30T00:00:00",
          "2022-01-31T00:00:00",
          "2022-02-01T00:00:00",
          "2022-02-02T00:00:00",
          "2022-02-03T00:00:00",
          "2022-02-04T00:00:00",
          "2022-02-05T00:00:00",
          "2022-02-06T00:00:00",
          "2022-02-07T00:00:00",
          "2022-02-08T00:00:00",
          "2022-02-09T00:00:00",
          "2022-02-10T00:00:00",
          "2022-02-11T00:00:00",
          "2022-02-12T00:00:00",
          "2022-02-13T00:00:00",
          "2022-02-14T00:00:00",
          "2022-02-15T00:00:00",
          "2022-02-16T00:00:00",
          "2022-02-17T00:00:00",
          "2022-02-18T00:00:00",
          "2022-02-19T00:00:00",
          "2022-02-20T00:00:00",
          "2022-02-21T00:00:00",
          "2022-02-22T00:00:00",
          "2022-02-23T00:00:00",
          "2022-02-24T00:00:00",
          "2022-02-25T00:00:00",
          "2022-02-26T00:00:00",
          "2022-02-27T00:00:00",
          "2022-02-28T00:00:00",
          "2022-03-01T00:00:00",
          "2022-03-02T00:00:00",
          "2022-03-03T00:00:00",
          "2022-03-04T00:00:00",
          "2022-03-05T00:00:00",
          "2022-03-06T00:00:00",
          "2022-03-07T00:00:00",
          "2022-03-08T00:00:00",
          "2022-03-09T00:00:00",
          "2022-03-10T00:00:00",
          "2022-03-11T00:00:00",
          "2022-03-12T00:00:00",
          "2022-03-13T00:00:00",
          "2022-03-14T00:00:00",
          "2022-03-15T00:00:00",
          "2022-03-16T00:00:00",
          "2022-03-17T00:00:00",
          "2022-03-18T00:00:00",
          "2022-03-19T00:00:00",
          "2022-03-20T00:00:00",
          "2022-03-21T00:00:00",
          "2022-03-22T00:00:00",
          "2022-03-23T00:00:00",
          "2022-03-24T00:00:00",
          "2022-03-25T00:00:00",
          "2022-03-26T00:00:00",
          "2022-03-27T00:00:00",
          "2022-03-28T00:00:00",
          "2022-03-29T00:00:00",
          "2022-03-30T00:00:00",
          "2022-03-31T00:00:00",
          "2022-04-01T00:00:00",
          "2022-04-02T00:00:00",
          "2022-04-03T00:00:00",
          "2022-04-04T00:00:00",
          "2022-04-05T00:00:00",
          "2022-04-06T00:00:00",
          "2022-04-07T00:00:00",
          "2022-04-08T00:00:00",
          "2022-04-09T00:00:00",
          "2022-04-10T00:00:00",
          "2022-04-11T00:00:00",
          "2022-04-12T00:00:00",
          "2022-04-13T00:00:00",
          "2022-04-14T00:00:00",
          "2022-04-15T00:00:00",
          "2022-04-16T00:00:00",
          "2022-04-17T00:00:00",
          "2022-04-18T00:00:00",
          "2022-04-19T00:00:00",
          "2022-04-20T00:00:00",
          "2022-04-21T00:00:00",
          "2022-04-22T00:00:00",
          "2022-04-23T00:00:00",
          "2022-04-24T00:00:00",
          "2022-04-25T00:00:00",
          "2022-04-26T00:00:00",
          "2022-04-27T00:00:00",
          "2022-04-28T00:00:00",
          "2022-04-29T00:00:00",
          "2022-04-30T00:00:00",
          "2022-05-01T00:00:00",
          "2022-05-02T00:00:00",
          "2022-05-03T00:00:00",
          "2022-05-04T00:00:00",
          "2022-05-05T00:00:00",
          "2022-05-06T00:00:00",
          "2022-05-07T00:00:00",
          "2022-05-08T00:00:00",
          "2022-05-09T00:00:00",
          "2022-05-10T00:00:00",
          "2022-05-11T00:00:00",
          "2022-05-12T00:00:00",
          "2022-05-13T00:00:00",
          "2022-05-14T00:00:00",
          "2022-05-15T00:00:00",
          "2022-05-16T00:00:00",
          "2022-05-17T00:00:00",
          "2022-05-18T00:00:00",
          "2022-05-19T00:00:00",
          "2022-05-20T00:00:00",
          "2022-05-21T00:00:00",
          "2022-05-22T00:00:00",
          "2022-05-23T00:00:00",
          "2022-05-24T00:00:00",
          "2022-05-25T00:00:00",
          "2022-05-26T00:00:00",
          "2022-05-27T00:00:00",
          "2022-05-28T00:00:00",
          "2022-05-29T00:00:00",
          "2022-05-30T00:00:00",
          "2022-05-31T00:00:00",
          "2022-06-01T00:00:00",
          "2022-06-02T00:00:00",
          "2022-06-03T00:00:00",
          "2022-06-04T00:00:00",
          "2022-06-05T00:00:00",
          "2022-06-06T00:00:00",
          "2022-06-07T00:00:00",
          "2022-06-08T00:00:00",
          "2022-06-09T00:00:00",
          "2022-06-10T00:00:00",
          "2022-06-11T00:00:00",
          "2022-06-12T00:00:00",
          "2022-06-13T00:00:00",
          "2022-06-14T00:00:00",
          "2022-06-15T00:00:00",
          "2022-06-16T00:00:00",
          "2022-06-17T00:00:00",
          "2022-06-18T00:00:00",
          "2022-06-19T00:00:00",
          "2022-06-20T00:00:00",
          "2022-06-21T00:00:00",
          "2022-06-22T00:00:00",
          "2022-06-23T00:00:00",
          "2022-06-24T00:00:00",
          "2022-06-25T00:00:00",
          "2022-06-26T00:00:00",
          "2022-06-27T00:00:00",
          "2022-06-28T00:00:00",
          "2022-06-29T00:00:00",
          "2022-06-30T00:00:00",
          "2022-07-01T00:00:00",
          "2022-07-02T00:00:00",
          "2022-07-03T00:00:00",
          "2022-07-04T00:00:00",
          "2022-07-05T00:00:00",
          "2022-07-06T00:00:00",
          "2022-07-07T00:00:00",
          "2022-07-08T00:00:00",
          "2022-07-09T00:00:00",
          "2022-07-10T00:00:00",
          "2022-07-11T00:00:00",
          "2022-07-12T00:00:00",
          "2022-07-13T00:00:00",
          "2022-07-14T00:00:00",
          "2022-07-15T00:00:00",
          "2022-07-16T00:00:00",
          "2022-07-17T00:00:00",
          "2022-07-18T00:00:00",
          "2022-07-19T00:00:00",
          "2022-07-20T00:00:00",
          "2022-07-21T00:00:00",
          "2022-07-22T00:00:00",
          "2022-07-23T00:00:00",
          "2022-07-24T00:00:00",
          "2022-07-25T00:00:00",
          "2022-07-26T00:00:00",
          "2022-07-27T00:00:00",
          "2022-07-28T00:00:00",
          "2022-07-29T00:00:00",
          "2022-07-30T00:00:00",
          "2022-07-31T00:00:00",
          "2022-08-01T00:00:00",
          "2022-08-02T00:00:00",
          "2022-08-03T00:00:00",
          "2022-08-04T00:00:00",
          "2022-08-05T00:00:00",
          "2022-08-06T00:00:00",
          "2022-08-07T00:00:00",
          "2022-08-08T00:00:00",
          "2022-08-09T00:00:00",
          "2022-08-10T00:00:00",
          "2022-08-11T00:00:00",
          "2022-08-12T00:00:00",
          "2022-08-13T00:00:00",
          "2022-08-14T00:00:00",
          "2022-08-15T00:00:00",
          "2022-08-16T00:00:00",
          "2022-08-17T00:00:00",
          "2022-08-18T00:00:00",
          "2022-08-19T00:00:00",
          "2022-08-20T00:00:00",
          "2022-08-21T00:00:00",
          "2022-08-22T00:00:00",
          "2022-08-23T00:00:00",
          "2022-08-24T00:00:00",
          "2022-08-25T00:00:00",
          "2022-08-26T00:00:00",
          "2022-08-27T00:00:00",
          "2022-08-28T00:00:00",
          "2022-08-29T00:00:00",
          "2022-08-30T00:00:00",
          "2022-08-31T00:00:00",
          "2022-09-01T00:00:00",
          "2022-09-02T00:00:00",
          "2022-09-03T00:00:00",
          "2022-09-04T00:00:00",
          "2022-09-05T00:00:00",
          "2022-09-06T00:00:00",
          "2022-09-07T00:00:00",
          "2022-09-08T00:00:00",
          "2022-09-09T00:00:00",
          "2022-09-10T00:00:00",
          "2022-09-11T00:00:00",
          "2022-09-12T00:00:00",
          "2022-09-13T00:00:00",
          "2022-09-14T00:00:00",
          "2022-09-15T00:00:00",
          "2022-09-16T00:00:00",
          "2022-09-17T00:00:00",
          "2022-09-18T00:00:00",
          "2022-09-19T00:00:00",
          "2022-09-20T00:00:00",
          "2022-09-21T00:00:00",
          "2022-09-22T00:00:00",
          "2022-09-23T00:00:00",
          "2022-09-24T00:00:00",
          "2022-09-25T00:00:00",
          "2022-09-26T00:00:00",
          "2022-09-27T00:00:00",
          "2022-09-28T00:00:00",
          "2022-09-29T00:00:00",
          "2022-09-30T00:00:00",
          "2022-10-01T00:00:00",
          "2022-10-02T00:00:00",
          "2022-10-03T00:00:00",
          "2022-10-04T00:00:00",
          "2022-10-05T00:00:00",
          "2022-10-06T00:00:00",
          "2022-10-07T00:00:00",
          "2022-10-08T00:00:00",
          "2022-10-09T00:00:00",
          "2022-10-10T00:00:00",
          "2022-10-11T00:00:00",
          "2022-10-12T00:00:00",
          "2022-10-13T00:00:00",
          "2022-10-14T00:00:00",
          "2022-10-15T00:00:00",
          "2022-10-16T00:00:00",
          "2022-10-17T00:00:00",
          "2022-10-18T00:00:00",
          "2022-10-19T00:00:00",
          "2022-10-20T00:00:00",
          "2022-10-21T00:00:00",
          "2022-10-22T00:00:00",
          "2022-10-23T00:00:00",
          "2022-10-24T00:00:00",
          "2022-10-25T00:00:00",
          "2022-10-26T00:00:00",
          "2022-10-27T00:00:00",
          "2022-10-28T00:00:00",
          "2022-10-29T00:00:00",
          "2022-10-30T00:00:00",
          "2022-10-31T00:00:00",
          "2022-11-01T00:00:00",
          "2022-11-02T00:00:00",
          "2022-11-03T00:00:00",
          "2022-11-04T00:00:00",
          "2022-11-05T00:00:00",
          "2022-11-06T00:00:00",
          "2022-11-07T00:00:00",
          "2022-11-08T00:00:00",
          "2022-11-09T00:00:00",
          "2022-11-10T00:00:00",
          "2022-11-11T00:00:00",
          "2022-11-12T00:00:00",
          "2022-11-13T00:00:00",
          "2022-11-14T00:00:00",
          "2022-11-15T00:00:00",
          "2022-11-16T00:00:00",
          "2022-11-17T00:00:00",
          "2022-11-18T00:00:00",
          "2022-11-19T00:00:00",
          "2022-11-20T00:00:00",
          "2022-11-21T00:00:00",
          "2022-11-22T00:00:00",
          "2022-11-23T00:00:00",
          "2022-11-24T00:00:00",
          "2022-11-25T00:00:00",
          "2022-11-26T00:00:00",
          "2022-11-27T00:00:00",
          "2022-11-28T00:00:00",
          "2022-11-29T00:00:00",
          "2022-11-30T00:00:00",
          "2022-12-01T00:00:00",
          "2022-12-02T00:00:00",
          "2022-12-03T00:00:00",
          "2022-12-04T00:00:00",
          "2022-12-05T00:00:00",
          "2022-12-06T00:00:00",
          "2022-12-07T00:00:00",
          "2022-12-08T00:00:00",
          "2022-12-09T00:00:00",
          "2022-12-10T00:00:00",
          "2022-12-11T00:00:00",
          "2022-12-12T00:00:00",
          "2022-12-13T00:00:00",
          "2022-12-14T00:00:00",
          "2022-12-15T00:00:00",
          "2022-12-16T00:00:00",
          "2022-12-17T00:00:00",
          "2022-12-18T00:00:00",
          "2022-12-19T00:00:00",
          "2022-12-20T00:00:00",
          "2022-12-21T00:00:00",
          "2022-12-22T00:00:00",
          "2022-12-23T00:00:00",
          "2022-12-24T00:00:00",
          "2022-12-25T00:00:00",
          "2022-12-26T00:00:00",
          "2022-12-27T00:00:00",
          "2022-12-28T00:00:00",
          "2022-12-29T00:00:00",
          "2022-12-30T00:00:00",
          "2022-12-31T00:00:00",
          "2023-01-01T00:00:00",
          "2023-01-02T00:00:00",
          "2023-01-03T00:00:00",
          "2023-01-04T00:00:00",
          "2023-01-05T00:00:00",
          "2023-01-06T00:00:00",
          "2023-01-07T00:00:00",
          "2023-01-08T00:00:00",
          "2023-01-09T00:00:00",
          "2023-01-10T00:00:00",
          "2023-01-11T00:00:00",
          "2023-01-12T00:00:00",
          "2023-01-13T00:00:00",
          "2023-01-14T00:00:00",
          "2023-01-15T00:00:00",
          "2023-01-16T00:00:00",
          "2023-01-17T00:00:00",
          "2023-01-18T00:00:00",
          "2023-01-19T00:00:00",
          "2023-01-20T00:00:00",
          "2023-01-21T00:00:00",
          "2023-01-22T00:00:00",
          "2023-01-23T00:00:00",
          "2023-01-24T00:00:00",
          "2023-01-25T00:00:00",
          "2023-01-26T00:00:00",
          "2023-01-27T00:00:00",
          "2023-01-28T00:00:00",
          "2023-01-29T00:00:00",
          "2023-01-30T00:00:00",
          "2023-01-31T00:00:00",
          "2023-02-01T00:00:00",
          "2023-02-02T00:00:00",
          "2023-02-03T00:00:00",
          "2023-02-04T00:00:00",
          "2023-02-05T00:00:00",
          "2023-02-06T00:00:00",
          "2023-02-07T00:00:00",
          "2023-02-08T00:00:00",
          "2023-02-09T00:00:00",
          "2023-02-10T00:00:00",
          "2023-02-11T00:00:00",
          "2023-02-12T00:00:00",
          "2023-02-13T00:00:00",
          "2023-02-14T00:00:00",
          "2023-02-15T00:00:00",
          "2023-02-16T00:00:00",
          "2023-02-17T00:00:00",
          "2023-02-18T00:00:00",
          "2023-02-19T00:00:00",
          "2023-02-20T00:00:00",
          "2023-02-21T00:00:00",
          "2023-02-22T00:00:00",
          "2023-02-23T00:00:00",
          "2023-02-24T00:00:00",
          "2023-02-25T00:00:00",
          "2023-02-26T00:00:00",
          "2023-02-27T00:00:00",
          "2023-02-28T00:00:00",
          "2023-03-01T00:00:00",
          "2023-03-02T00:00:00",
          "2023-03-03T00:00:00",
          "2023-03-04T00:00:00",
          "2023-03-05T00:00:00",
          "2023-03-06T00:00:00",
          "2023-03-07T00:00:00",
          "2023-03-08T00:00:00",
          "2023-03-09T00:00:00",
          "2023-03-10T00:00:00",
          "2023-03-11T00:00:00",
          "2023-03-12T00:00:00",
          "2023-03-13T00:00:00",
          "2023-03-14T00:00:00",
          "2023-03-15T00:00:00",
          "2023-03-16T00:00:00",
          "2023-03-17T00:00:00",
          "2023-03-18T00:00:00",
          "2023-03-19T00:00:00",
          "2023-03-20T00:00:00",
          "2023-03-21T00:00:00",
          "2023-03-22T00:00:00",
          "2023-03-23T00:00:00",
          "2023-03-24T00:00:00",
          "2023-03-25T00:00:00",
          "2023-03-26T00:00:00",
          "2023-03-27T00:00:00",
          "2023-03-28T00:00:00",
          "2023-03-29T00:00:00",
          "2023-03-30T00:00:00",
          "2023-03-31T00:00:00",
          "2023-04-01T00:00:00",
          "2023-04-02T00:00:00",
          "2023-04-03T00:00:00",
          "2023-04-04T00:00:00",
          "2023-04-05T00:00:00",
          "2023-04-06T00:00:00",
          "2023-04-07T00:00:00",
          "2023-04-08T00:00:00",
          "2023-04-09T00:00:00",
          "2023-04-10T00:00:00",
          "2023-04-11T00:00:00",
          "2023-04-12T00:00:00",
          "2023-04-13T00:00:00",
          "2023-04-14T00:00:00",
          "2023-04-15T00:00:00",
          "2023-04-16T00:00:00",
          "2023-04-17T00:00:00",
          "2023-04-18T00:00:00",
          "2023-04-19T00:00:00",
          "2023-04-20T00:00:00",
          "2023-04-21T00:00:00",
          "2023-04-22T00:00:00",
          "2023-04-23T00:00:00",
          "2023-04-24T00:00:00",
          "2023-04-25T00:00:00",
          "2023-04-26T00:00:00",
          "2023-04-27T00:00:00",
          "2023-04-28T00:00:00",
          "2023-04-29T00:00:00"
         ],
         "xaxis": "x",
         "y": [
          68,
          43,
          79,
          37,
          65,
          57,
          73,
          77,
          77,
          85,
          60,
          74,
          78,
          37,
          63,
          73,
          72,
          62,
          73,
          89,
          61,
          44,
          108,
          93,
          34,
          91,
          57,
          97,
          73,
          67,
          71,
          76,
          90,
          62,
          92,
          65,
          80,
          64,
          74,
          61,
          79,
          61,
          69,
          74,
          78,
          81,
          74,
          77,
          82,
          81,
          75,
          37,
          91,
          90,
          116,
          110,
          100,
          90,
          83,
          80,
          70,
          104,
          105,
          126,
          91,
          108,
          87,
          100,
          158,
          105,
          114,
          96,
          104,
          97,
          117,
          109,
          112,
          107,
          94,
          108,
          102,
          109,
          89,
          57,
          101,
          92,
          85,
          102,
          80,
          107,
          106,
          118,
          108,
          115,
          117,
          104,
          96,
          119,
          105,
          99,
          116,
          85,
          120,
          101,
          95,
          76,
          99,
          98,
          112,
          104,
          103,
          110,
          112,
          111,
          95,
          110,
          117,
          115,
          94,
          95,
          106,
          94,
          115,
          106,
          91,
          117,
          104,
          113,
          89,
          118,
          117,
          120,
          132,
          134,
          116,
          96,
          102,
          120,
          129,
          106,
          118,
          84,
          102,
          134,
          126,
          116,
          112,
          126,
          96,
          90,
          106,
          126,
          108,
          93,
          99,
          127,
          103,
          125,
          104,
          105,
          121,
          89,
          108,
          108,
          102,
          98,
          132,
          111,
          87,
          104,
          114,
          122,
          142,
          123,
          124,
          118,
          86,
          128,
          109,
          99,
          117,
          126,
          99,
          97,
          117,
          117,
          101,
          37,
          2,
          116,
          113,
          109,
          119,
          90,
          143,
          99,
          101,
          114,
          105,
          81,
          109,
          87,
          101,
          105,
          100,
          102,
          98,
          132,
          122,
          155,
          137,
          129,
          144,
          84,
          117,
          83,
          147,
          154,
          132,
          166,
          147,
          126,
          158,
          124,
          134,
          129,
          130,
          135,
          136,
          122,
          124,
          127,
          127,
          131,
          107,
          161,
          131,
          132,
          127,
          119,
          118,
          123,
          111,
          116,
          161,
          139,
          91,
          87,
          149,
          123,
          84,
          89,
          106,
          107,
          3,
          109,
          85,
          116,
          116,
          125,
          124,
          136,
          112,
          97,
          99,
          137,
          110,
          111,
          111,
          90,
          125,
          121,
          113,
          132,
          123,
          130,
          141,
          129,
          122,
          145,
          131,
          111,
          135,
          154,
          145,
          145,
          124,
          112,
          129,
          129,
          115,
          113,
          130,
          129,
          129,
          139,
          142,
          143,
          131,
          104,
          118,
          128,
          118,
          116,
          119,
          132,
          123,
          1,
          144,
          91,
          110,
          134,
          107,
          116,
          118,
          131,
          116,
          148,
          153,
          156,
          125,
          158,
          136,
          152,
          77,
          166,
          145,
          141,
          122,
          137,
          141,
          39,
          129,
          77,
          129,
          176,
          157,
          126,
          145,
          141,
          137,
          157,
          133,
          152,
          144,
          118,
          156,
          140,
          134,
          170,
          141,
          157,
          139,
          152,
          173,
          175,
          174,
          159,
          135,
          146,
          135,
          159,
          142,
          140,
          188,
          141,
          134,
          144,
          137,
          127,
          142,
          171,
          124,
          139,
          144,
          160,
          165,
          130,
          186,
          176,
          159,
          119,
          127,
          131,
          132,
          139,
          140,
          111,
          136,
          152,
          146,
          149,
          125,
          123,
          120,
          137,
          141,
          145,
          131,
          138,
          145,
          141,
          124,
          141,
          143,
          157,
          148,
          155,
          146,
          160,
          127,
          137,
          156,
          158,
          135,
          174,
          154,
          168,
          146,
          184,
          196,
          158,
          152,
          210,
          198,
          74,
          133,
          146,
          159,
          157,
          177,
          155,
          184,
          129,
          179,
          139,
          128,
          152,
          161,
          160,
          152,
          158,
          133,
          142,
          156,
          127,
          130,
          145,
          167,
          170,
          165,
          167,
          157,
          172,
          163,
          166,
          148,
          167,
          168,
          153,
          170,
          159,
          171,
          157,
          144,
          173,
          160,
          199,
          44,
          163,
          149,
          161,
          164,
          167,
          150,
          147,
          172,
          161,
          159,
          187,
          146,
          145,
          201,
          158
         ],
         "yaxis": "y"
        },
        {
         "hovertemplate": "<b>OLS trendline</b><br>cnt = 1.99813e-06 * date + -3200.38<br>R<sup>2</sup>=0.547452<br><br>date=%{x}<br>cnt=%{y} <b>(trend)</b><extra></extra>",
         "legendgroup": "",
         "line": {
          "color": "black"
         },
         "marker": {
          "symbol": "circle"
         },
         "mode": "lines",
         "name": "",
         "showlegend": false,
         "type": "scatter",
         "x": [
          "2022-01-01T00:00:00",
          "2022-01-02T00:00:00",
          "2022-01-03T00:00:00",
          "2022-01-04T00:00:00",
          "2022-01-05T00:00:00",
          "2022-01-06T00:00:00",
          "2022-01-07T00:00:00",
          "2022-01-08T00:00:00",
          "2022-01-09T00:00:00",
          "2022-01-10T00:00:00",
          "2022-01-11T00:00:00",
          "2022-01-12T00:00:00",
          "2022-01-13T00:00:00",
          "2022-01-14T00:00:00",
          "2022-01-15T00:00:00",
          "2022-01-16T00:00:00",
          "2022-01-17T00:00:00",
          "2022-01-18T00:00:00",
          "2022-01-19T00:00:00",
          "2022-01-20T00:00:00",
          "2022-01-21T00:00:00",
          "2022-01-22T00:00:00",
          "2022-01-23T00:00:00",
          "2022-01-24T00:00:00",
          "2022-01-25T00:00:00",
          "2022-01-26T00:00:00",
          "2022-01-27T00:00:00",
          "2022-01-28T00:00:00",
          "2022-01-29T00:00:00",
          "2022-01-30T00:00:00",
          "2022-01-31T00:00:00",
          "2022-02-01T00:00:00",
          "2022-02-02T00:00:00",
          "2022-02-03T00:00:00",
          "2022-02-04T00:00:00",
          "2022-02-05T00:00:00",
          "2022-02-06T00:00:00",
          "2022-02-07T00:00:00",
          "2022-02-08T00:00:00",
          "2022-02-09T00:00:00",
          "2022-02-10T00:00:00",
          "2022-02-11T00:00:00",
          "2022-02-12T00:00:00",
          "2022-02-13T00:00:00",
          "2022-02-14T00:00:00",
          "2022-02-15T00:00:00",
          "2022-02-16T00:00:00",
          "2022-02-17T00:00:00",
          "2022-02-18T00:00:00",
          "2022-02-19T00:00:00",
          "2022-02-20T00:00:00",
          "2022-02-21T00:00:00",
          "2022-02-22T00:00:00",
          "2022-02-23T00:00:00",
          "2022-02-24T00:00:00",
          "2022-02-25T00:00:00",
          "2022-02-26T00:00:00",
          "2022-02-27T00:00:00",
          "2022-02-28T00:00:00",
          "2022-03-01T00:00:00",
          "2022-03-02T00:00:00",
          "2022-03-03T00:00:00",
          "2022-03-04T00:00:00",
          "2022-03-05T00:00:00",
          "2022-03-06T00:00:00",
          "2022-03-07T00:00:00",
          "2022-03-08T00:00:00",
          "2022-03-09T00:00:00",
          "2022-03-10T00:00:00",
          "2022-03-11T00:00:00",
          "2022-03-12T00:00:00",
          "2022-03-13T00:00:00",
          "2022-03-14T00:00:00",
          "2022-03-15T00:00:00",
          "2022-03-16T00:00:00",
          "2022-03-17T00:00:00",
          "2022-03-18T00:00:00",
          "2022-03-19T00:00:00",
          "2022-03-20T00:00:00",
          "2022-03-21T00:00:00",
          "2022-03-22T00:00:00",
          "2022-03-23T00:00:00",
          "2022-03-24T00:00:00",
          "2022-03-25T00:00:00",
          "2022-03-26T00:00:00",
          "2022-03-27T00:00:00",
          "2022-03-28T00:00:00",
          "2022-03-29T00:00:00",
          "2022-03-30T00:00:00",
          "2022-03-31T00:00:00",
          "2022-04-01T00:00:00",
          "2022-04-02T00:00:00",
          "2022-04-03T00:00:00",
          "2022-04-04T00:00:00",
          "2022-04-05T00:00:00",
          "2022-04-06T00:00:00",
          "2022-04-07T00:00:00",
          "2022-04-08T00:00:00",
          "2022-04-09T00:00:00",
          "2022-04-10T00:00:00",
          "2022-04-11T00:00:00",
          "2022-04-12T00:00:00",
          "2022-04-13T00:00:00",
          "2022-04-14T00:00:00",
          "2022-04-15T00:00:00",
          "2022-04-16T00:00:00",
          "2022-04-17T00:00:00",
          "2022-04-18T00:00:00",
          "2022-04-19T00:00:00",
          "2022-04-20T00:00:00",
          "2022-04-21T00:00:00",
          "2022-04-22T00:00:00",
          "2022-04-23T00:00:00",
          "2022-04-24T00:00:00",
          "2022-04-25T00:00:00",
          "2022-04-26T00:00:00",
          "2022-04-27T00:00:00",
          "2022-04-28T00:00:00",
          "2022-04-29T00:00:00",
          "2022-04-30T00:00:00",
          "2022-05-01T00:00:00",
          "2022-05-02T00:00:00",
          "2022-05-03T00:00:00",
          "2022-05-04T00:00:00",
          "2022-05-05T00:00:00",
          "2022-05-06T00:00:00",
          "2022-05-07T00:00:00",
          "2022-05-08T00:00:00",
          "2022-05-09T00:00:00",
          "2022-05-10T00:00:00",
          "2022-05-11T00:00:00",
          "2022-05-12T00:00:00",
          "2022-05-13T00:00:00",
          "2022-05-14T00:00:00",
          "2022-05-15T00:00:00",
          "2022-05-16T00:00:00",
          "2022-05-17T00:00:00",
          "2022-05-18T00:00:00",
          "2022-05-19T00:00:00",
          "2022-05-20T00:00:00",
          "2022-05-21T00:00:00",
          "2022-05-22T00:00:00",
          "2022-05-23T00:00:00",
          "2022-05-24T00:00:00",
          "2022-05-25T00:00:00",
          "2022-05-26T00:00:00",
          "2022-05-27T00:00:00",
          "2022-05-28T00:00:00",
          "2022-05-29T00:00:00",
          "2022-05-30T00:00:00",
          "2022-05-31T00:00:00",
          "2022-06-01T00:00:00",
          "2022-06-02T00:00:00",
          "2022-06-03T00:00:00",
          "2022-06-04T00:00:00",
          "2022-06-05T00:00:00",
          "2022-06-06T00:00:00",
          "2022-06-07T00:00:00",
          "2022-06-08T00:00:00",
          "2022-06-09T00:00:00",
          "2022-06-10T00:00:00",
          "2022-06-11T00:00:00",
          "2022-06-12T00:00:00",
          "2022-06-13T00:00:00",
          "2022-06-14T00:00:00",
          "2022-06-15T00:00:00",
          "2022-06-16T00:00:00",
          "2022-06-17T00:00:00",
          "2022-06-18T00:00:00",
          "2022-06-19T00:00:00",
          "2022-06-20T00:00:00",
          "2022-06-21T00:00:00",
          "2022-06-22T00:00:00",
          "2022-06-23T00:00:00",
          "2022-06-24T00:00:00",
          "2022-06-25T00:00:00",
          "2022-06-26T00:00:00",
          "2022-06-27T00:00:00",
          "2022-06-28T00:00:00",
          "2022-06-29T00:00:00",
          "2022-06-30T00:00:00",
          "2022-07-01T00:00:00",
          "2022-07-02T00:00:00",
          "2022-07-03T00:00:00",
          "2022-07-04T00:00:00",
          "2022-07-05T00:00:00",
          "2022-07-06T00:00:00",
          "2022-07-07T00:00:00",
          "2022-07-08T00:00:00",
          "2022-07-09T00:00:00",
          "2022-07-10T00:00:00",
          "2022-07-11T00:00:00",
          "2022-07-12T00:00:00",
          "2022-07-13T00:00:00",
          "2022-07-14T00:00:00",
          "2022-07-15T00:00:00",
          "2022-07-16T00:00:00",
          "2022-07-17T00:00:00",
          "2022-07-18T00:00:00",
          "2022-07-19T00:00:00",
          "2022-07-20T00:00:00",
          "2022-07-21T00:00:00",
          "2022-07-22T00:00:00",
          "2022-07-23T00:00:00",
          "2022-07-24T00:00:00",
          "2022-07-25T00:00:00",
          "2022-07-26T00:00:00",
          "2022-07-27T00:00:00",
          "2022-07-28T00:00:00",
          "2022-07-29T00:00:00",
          "2022-07-30T00:00:00",
          "2022-07-31T00:00:00",
          "2022-08-01T00:00:00",
          "2022-08-02T00:00:00",
          "2022-08-03T00:00:00",
          "2022-08-04T00:00:00",
          "2022-08-05T00:00:00",
          "2022-08-06T00:00:00",
          "2022-08-07T00:00:00",
          "2022-08-08T00:00:00",
          "2022-08-09T00:00:00",
          "2022-08-10T00:00:00",
          "2022-08-11T00:00:00",
          "2022-08-12T00:00:00",
          "2022-08-13T00:00:00",
          "2022-08-14T00:00:00",
          "2022-08-15T00:00:00",
          "2022-08-16T00:00:00",
          "2022-08-17T00:00:00",
          "2022-08-18T00:00:00",
          "2022-08-19T00:00:00",
          "2022-08-20T00:00:00",
          "2022-08-21T00:00:00",
          "2022-08-22T00:00:00",
          "2022-08-23T00:00:00",
          "2022-08-24T00:00:00",
          "2022-08-25T00:00:00",
          "2022-08-26T00:00:00",
          "2022-08-27T00:00:00",
          "2022-08-28T00:00:00",
          "2022-08-29T00:00:00",
          "2022-08-30T00:00:00",
          "2022-08-31T00:00:00",
          "2022-09-01T00:00:00",
          "2022-09-02T00:00:00",
          "2022-09-03T00:00:00",
          "2022-09-04T00:00:00",
          "2022-09-05T00:00:00",
          "2022-09-06T00:00:00",
          "2022-09-07T00:00:00",
          "2022-09-08T00:00:00",
          "2022-09-09T00:00:00",
          "2022-09-10T00:00:00",
          "2022-09-11T00:00:00",
          "2022-09-12T00:00:00",
          "2022-09-13T00:00:00",
          "2022-09-14T00:00:00",
          "2022-09-15T00:00:00",
          "2022-09-16T00:00:00",
          "2022-09-17T00:00:00",
          "2022-09-18T00:00:00",
          "2022-09-19T00:00:00",
          "2022-09-20T00:00:00",
          "2022-09-21T00:00:00",
          "2022-09-22T00:00:00",
          "2022-09-23T00:00:00",
          "2022-09-24T00:00:00",
          "2022-09-25T00:00:00",
          "2022-09-26T00:00:00",
          "2022-09-27T00:00:00",
          "2022-09-28T00:00:00",
          "2022-09-29T00:00:00",
          "2022-09-30T00:00:00",
          "2022-10-01T00:00:00",
          "2022-10-02T00:00:00",
          "2022-10-03T00:00:00",
          "2022-10-04T00:00:00",
          "2022-10-05T00:00:00",
          "2022-10-06T00:00:00",
          "2022-10-07T00:00:00",
          "2022-10-08T00:00:00",
          "2022-10-09T00:00:00",
          "2022-10-10T00:00:00",
          "2022-10-11T00:00:00",
          "2022-10-12T00:00:00",
          "2022-10-13T00:00:00",
          "2022-10-14T00:00:00",
          "2022-10-15T00:00:00",
          "2022-10-16T00:00:00",
          "2022-10-17T00:00:00",
          "2022-10-18T00:00:00",
          "2022-10-19T00:00:00",
          "2022-10-20T00:00:00",
          "2022-10-21T00:00:00",
          "2022-10-22T00:00:00",
          "2022-10-23T00:00:00",
          "2022-10-24T00:00:00",
          "2022-10-25T00:00:00",
          "2022-10-26T00:00:00",
          "2022-10-27T00:00:00",
          "2022-10-28T00:00:00",
          "2022-10-29T00:00:00",
          "2022-10-30T00:00:00",
          "2022-10-31T00:00:00",
          "2022-11-01T00:00:00",
          "2022-11-02T00:00:00",
          "2022-11-03T00:00:00",
          "2022-11-04T00:00:00",
          "2022-11-05T00:00:00",
          "2022-11-06T00:00:00",
          "2022-11-07T00:00:00",
          "2022-11-08T00:00:00",
          "2022-11-09T00:00:00",
          "2022-11-10T00:00:00",
          "2022-11-11T00:00:00",
          "2022-11-12T00:00:00",
          "2022-11-13T00:00:00",
          "2022-11-14T00:00:00",
          "2022-11-15T00:00:00",
          "2022-11-16T00:00:00",
          "2022-11-17T00:00:00",
          "2022-11-18T00:00:00",
          "2022-11-19T00:00:00",
          "2022-11-20T00:00:00",
          "2022-11-21T00:00:00",
          "2022-11-22T00:00:00",
          "2022-11-23T00:00:00",
          "2022-11-24T00:00:00",
          "2022-11-25T00:00:00",
          "2022-11-26T00:00:00",
          "2022-11-27T00:00:00",
          "2022-11-28T00:00:00",
          "2022-11-29T00:00:00",
          "2022-11-30T00:00:00",
          "2022-12-01T00:00:00",
          "2022-12-02T00:00:00",
          "2022-12-03T00:00:00",
          "2022-12-04T00:00:00",
          "2022-12-05T00:00:00",
          "2022-12-06T00:00:00",
          "2022-12-07T00:00:00",
          "2022-12-08T00:00:00",
          "2022-12-09T00:00:00",
          "2022-12-10T00:00:00",
          "2022-12-11T00:00:00",
          "2022-12-12T00:00:00",
          "2022-12-13T00:00:00",
          "2022-12-14T00:00:00",
          "2022-12-15T00:00:00",
          "2022-12-16T00:00:00",
          "2022-12-17T00:00:00",
          "2022-12-18T00:00:00",
          "2022-12-19T00:00:00",
          "2022-12-20T00:00:00",
          "2022-12-21T00:00:00",
          "2022-12-22T00:00:00",
          "2022-12-23T00:00:00",
          "2022-12-24T00:00:00",
          "2022-12-25T00:00:00",
          "2022-12-26T00:00:00",
          "2022-12-27T00:00:00",
          "2022-12-28T00:00:00",
          "2022-12-29T00:00:00",
          "2022-12-30T00:00:00",
          "2022-12-31T00:00:00",
          "2023-01-01T00:00:00",
          "2023-01-02T00:00:00",
          "2023-01-03T00:00:00",
          "2023-01-04T00:00:00",
          "2023-01-05T00:00:00",
          "2023-01-06T00:00:00",
          "2023-01-07T00:00:00",
          "2023-01-08T00:00:00",
          "2023-01-09T00:00:00",
          "2023-01-10T00:00:00",
          "2023-01-11T00:00:00",
          "2023-01-12T00:00:00",
          "2023-01-13T00:00:00",
          "2023-01-14T00:00:00",
          "2023-01-15T00:00:00",
          "2023-01-16T00:00:00",
          "2023-01-17T00:00:00",
          "2023-01-18T00:00:00",
          "2023-01-19T00:00:00",
          "2023-01-20T00:00:00",
          "2023-01-21T00:00:00",
          "2023-01-22T00:00:00",
          "2023-01-23T00:00:00",
          "2023-01-24T00:00:00",
          "2023-01-25T00:00:00",
          "2023-01-26T00:00:00",
          "2023-01-27T00:00:00",
          "2023-01-28T00:00:00",
          "2023-01-29T00:00:00",
          "2023-01-30T00:00:00",
          "2023-01-31T00:00:00",
          "2023-02-01T00:00:00",
          "2023-02-02T00:00:00",
          "2023-02-03T00:00:00",
          "2023-02-04T00:00:00",
          "2023-02-05T00:00:00",
          "2023-02-06T00:00:00",
          "2023-02-07T00:00:00",
          "2023-02-08T00:00:00",
          "2023-02-09T00:00:00",
          "2023-02-10T00:00:00",
          "2023-02-11T00:00:00",
          "2023-02-12T00:00:00",
          "2023-02-13T00:00:00",
          "2023-02-14T00:00:00",
          "2023-02-15T00:00:00",
          "2023-02-16T00:00:00",
          "2023-02-17T00:00:00",
          "2023-02-18T00:00:00",
          "2023-02-19T00:00:00",
          "2023-02-20T00:00:00",
          "2023-02-21T00:00:00",
          "2023-02-22T00:00:00",
          "2023-02-23T00:00:00",
          "2023-02-24T00:00:00",
          "2023-02-25T00:00:00",
          "2023-02-26T00:00:00",
          "2023-02-27T00:00:00",
          "2023-02-28T00:00:00",
          "2023-03-01T00:00:00",
          "2023-03-02T00:00:00",
          "2023-03-03T00:00:00",
          "2023-03-04T00:00:00",
          "2023-03-05T00:00:00",
          "2023-03-06T00:00:00",
          "2023-03-07T00:00:00",
          "2023-03-08T00:00:00",
          "2023-03-09T00:00:00",
          "2023-03-10T00:00:00",
          "2023-03-11T00:00:00",
          "2023-03-12T00:00:00",
          "2023-03-13T00:00:00",
          "2023-03-14T00:00:00",
          "2023-03-15T00:00:00",
          "2023-03-16T00:00:00",
          "2023-03-17T00:00:00",
          "2023-03-18T00:00:00",
          "2023-03-19T00:00:00",
          "2023-03-20T00:00:00",
          "2023-03-21T00:00:00",
          "2023-03-22T00:00:00",
          "2023-03-23T00:00:00",
          "2023-03-24T00:00:00",
          "2023-03-25T00:00:00",
          "2023-03-26T00:00:00",
          "2023-03-27T00:00:00",
          "2023-03-28T00:00:00",
          "2023-03-29T00:00:00",
          "2023-03-30T00:00:00",
          "2023-03-31T00:00:00",
          "2023-04-01T00:00:00",
          "2023-04-02T00:00:00",
          "2023-04-03T00:00:00",
          "2023-04-04T00:00:00",
          "2023-04-05T00:00:00",
          "2023-04-06T00:00:00",
          "2023-04-07T00:00:00",
          "2023-04-08T00:00:00",
          "2023-04-09T00:00:00",
          "2023-04-10T00:00:00",
          "2023-04-11T00:00:00",
          "2023-04-12T00:00:00",
          "2023-04-13T00:00:00",
          "2023-04-14T00:00:00",
          "2023-04-15T00:00:00",
          "2023-04-16T00:00:00",
          "2023-04-17T00:00:00",
          "2023-04-18T00:00:00",
          "2023-04-19T00:00:00",
          "2023-04-20T00:00:00",
          "2023-04-21T00:00:00",
          "2023-04-22T00:00:00",
          "2023-04-23T00:00:00",
          "2023-04-24T00:00:00",
          "2023-04-25T00:00:00",
          "2023-04-26T00:00:00",
          "2023-04-27T00:00:00",
          "2023-04-28T00:00:00",
          "2023-04-29T00:00:00"
         ],
         "xaxis": "x",
         "y": [
          78.54541194513104,
          78.71805041867447,
          78.89068889221744,
          79.06332736576041,
          79.23596583930339,
          79.40860431284636,
          79.5812427863898,
          79.75388125993277,
          79.92651973347574,
          80.09915820701872,
          80.27179668056215,
          80.44443515410512,
          80.6170736276481,
          80.78971210119107,
          80.9623505747345,
          81.13498904827748,
          81.30762752182045,
          81.48026599536342,
          81.65290446890685,
          81.82554294244983,
          81.9981814159928,
          82.17081988953578,
          82.34345836307875,
          82.51609683662218,
          82.68873531016516,
          82.86137378370813,
          83.0340122572511,
          83.20665073079454,
          83.37928920433751,
          83.55192767788049,
          83.72456615142346,
          83.89720462496689,
          84.06984309850986,
          84.24248157205284,
          84.41512004559581,
          84.58775851913924,
          84.76039699268222,
          84.93303546622519,
          85.10567393976817,
          85.27831241331114,
          85.45095088685457,
          85.62358936039755,
          85.79622783394052,
          85.9688663074835,
          86.14150478102692,
          86.3141432545699,
          86.48678172811287,
          86.65942020165585,
          86.83205867519928,
          87.00469714874225,
          87.17733562228523,
          87.3499740958282,
          87.52261256937163,
          87.6952510429146,
          87.86788951645758,
          88.04052799000056,
          88.21316646354398,
          88.38580493708696,
          88.55844341062993,
          88.73108188417291,
          88.90372035771588,
          89.07635883125931,
          89.24899730480229,
          89.42163577834526,
          89.59427425188824,
          89.76691272543167,
          89.93955119897464,
          90.11218967251762,
          90.28482814606059,
          90.45746661960402,
          90.630105093147,
          90.80274356668997,
          90.97538204023294,
          91.14802051377637,
          91.32065898731935,
          91.49329746086232,
          91.6659359344053,
          91.83857440794827,
          92.0112128814917,
          92.18385135503468,
          92.35648982857765,
          92.52912830212063,
          92.70176677566405,
          92.87440524920703,
          93.04704372275,
          93.21968219629298,
          93.39232066983641,
          93.56495914337938,
          93.73759761692236,
          93.91023609046533,
          94.08287456400876,
          94.25551303755174,
          94.42815151109471,
          94.60078998463769,
          94.77342845818066,
          94.94606693172409,
          95.11870540526706,
          95.29134387881004,
          95.46398235235301,
          95.63662082589644,
          95.80925929943942,
          95.98189777298239,
          96.15453624652537,
          96.3271747200688,
          96.49981319361177,
          96.67245166715475,
          96.84509014069772,
          97.01772861424115,
          97.19036708778413,
          97.3630055613271,
          97.53564403487007,
          97.7082825084135,
          97.88092098195648,
          98.05355945549945,
          98.22619792904243,
          98.3988364025854,
          98.57147487612883,
          98.7441133496718,
          98.91675182321478,
          99.08939029675776,
          99.26202877030119,
          99.43466724384416,
          99.60730571738713,
          99.77994419093011,
          99.95258266447354,
          100.12522113801651,
          100.29785961155949,
          100.47049808510246,
          100.64313655864589,
          100.81577503218887,
          100.98841350573184,
          101.16105197927482,
          101.33369045281779,
          101.50632892636122,
          101.6789673999042,
          101.85160587344717,
          102.02424434699014,
          102.19688282053357,
          102.36952129407655,
          102.54215976761952,
          102.7147982411625,
          102.88743671470593,
          103.0600751882489,
          103.23271366179188,
          103.40535213533485,
          103.57799060887828,
          103.75062908242126,
          103.92326755596423,
          104.0959060295072,
          104.26854450305018,
          104.44118297659361,
          104.61382145013658,
          104.78645992367956,
          104.95909839722253,
          105.13173687076596,
          105.30437534430894,
          105.47701381785191,
          105.64965229139489,
          105.82229076493832,
          105.99492923848129,
          106.16756771202427,
          106.34020618556724,
          106.51284465911067,
          106.68548313265364,
          106.85812160619662,
          107.0307600797396,
          107.20339855328302,
          107.376037026826,
          107.54867550036897,
          107.72131397391195,
          107.89395244745492,
          108.06659092099835,
          108.23922939454133,
          108.4118678680843,
          108.58450634162728,
          108.7571448151707,
          108.92978328871368,
          109.10242176225665,
          109.27506023579963,
          109.44769870934306,
          109.62033718288603,
          109.79297565642901,
          109.96561412997198,
          110.13825260351541,
          110.31089107705839,
          110.48352955060136,
          110.65616802414434,
          110.82880649768731,
          111.00144497123074,
          111.17408344477371,
          111.34672191831669,
          111.51936039185966,
          111.6919988654031,
          111.86463733894607,
          112.03727581248904,
          112.20991428603202,
          112.38255275957545,
          112.55519123311842,
          112.7278297066614,
          112.90046818020437,
          113.0731066537478,
          113.24574512729077,
          113.41838360083375,
          113.59102207437672,
          113.7636605479197,
          113.93629902146313,
          114.1089374950061,
          114.28157596854908,
          114.45421444209205,
          114.62685291563548,
          114.79949138917846,
          114.97212986272143,
          115.1447683362644,
          115.31740680980784,
          115.49004528335081,
          115.66268375689378,
          115.83532223043676,
          116.00796070398019,
          116.18059917752316,
          116.35323765106614,
          116.52587612460911,
          116.69851459815254,
          116.87115307169552,
          117.04379154523849,
          117.21643001878147,
          117.38906849232444,
          117.56170696586787,
          117.73434543941084,
          117.90698391295382,
          118.0796223864968,
          118.25226086004022,
          118.4248993335832,
          118.59753780712617,
          118.77017628066915,
          118.94281475421258,
          119.11545322775555,
          119.28809170129853,
          119.4607301748415,
          119.63336864838493,
          119.8060071219279,
          119.97864559547088,
          120.15128406901385,
          120.32392254255683,
          120.49656101610026,
          120.66919948964323,
          120.84183796318621,
          121.01447643672918,
          121.18711491027261,
          121.35975338381559,
          121.53239185735856,
          121.70503033090154,
          121.87766880444497,
          122.05030727798794,
          122.22294575153092,
          122.39558422507389,
          122.56822269861732,
          122.7408611721603,
          122.91349964570327,
          123.08613811924624,
          123.25877659278922,
          123.43141506633265,
          123.60405353987562,
          123.7766920134186,
          123.94933048696157,
          124.121968960505,
          124.29460743404798,
          124.46724590759095,
          124.63988438113392,
          124.81252285467735,
          124.98516132822033,
          125.1577998017633,
          125.33043827530628,
          125.50307674884971,
          125.67571522239268,
          125.84835369593566,
          126.02099216947863,
          126.19363064302206,
          126.36626911656504,
          126.53890759010801,
          126.71154606365099,
          126.88418453719396,
          127.05682301073739,
          127.22946148428036,
          127.40209995782334,
          127.57473843136631,
          127.74737690490974,
          127.92001537845272,
          128.0926538519957,
          128.26529232553867,
          128.4379307990821,
          128.61056927262507,
          128.78320774616805,
          128.95584621971102,
          129.12848469325445,
          129.30112316679742,
          129.4737616403404,
          129.64640011388337,
          129.81903858742635,
          129.99167706096978,
          130.16431553451275,
          130.33695400805573,
          130.5095924815987,
          130.68223095514213,
          130.8548694286851,
          131.02750790222808,
          131.20014637577106,
          131.37278484931448,
          131.54542332285746,
          131.71806179640043,
          131.8907002699434,
          132.06333874348684,
          132.2359772170298,
          132.4086156905728,
          132.58125416411576,
          132.75389263765874,
          132.92653111120217,
          133.09916958474514,
          133.27180805828812,
          133.4444465318311,
          133.61708500537452,
          133.7897234789175,
          133.96236195246047,
          134.13500042600344,
          134.30763889954687,
          134.48027737308985,
          134.65291584663282,
          134.8255543201758,
          134.99819279371923,
          135.1708312672622,
          135.34346974080518,
          135.51610821434815,
          135.68874668789158,
          135.86138516143455,
          136.03402363497753,
          136.2066621085205,
          136.37930058206348,
          136.5519390556069,
          136.72457752914988,
          136.89721600269286,
          137.06985447623583,
          137.24249294977926,
          137.41513142332224,
          137.5877698968652,
          137.7604083704082,
          137.93304684395162,
          138.1056853174946,
          138.27832379103756,
          138.45096226458054,
          138.62360073812397,
          138.79623921166694,
          138.96887768520992,
          139.1415161587529,
          139.31415463229587,
          139.4867931058393,
          139.65943157938227,
          139.83207005292525,
          140.00470852646822,
          140.17734700001165,
          140.34998547355463,
          140.5226239470976,
          140.69526242064057,
          140.867900894184,
          141.04053936772698,
          141.21317784126995,
          141.38581631481293,
          141.55845478835636,
          141.73109326189933,
          141.9037317354423,
          142.07637020898528,
          142.24900868252826,
          142.42164715607169,
          142.59428562961466,
          142.76692410315763,
          142.9395625767006,
          143.11220105024404,
          143.284839523787,
          143.45747799733,
          143.63011647087296,
          143.8027549444164,
          143.97539341795937,
          144.14803189150234,
          144.32067036504532,
          144.49330883858875,
          144.66594731213172,
          144.8385857856747,
          145.01122425921767,
          145.1838627327611,
          145.35650120630407,
          145.52913967984705,
          145.70177815339002,
          145.874416626933,
          146.04705510047643,
          146.2196935740194,
          146.39233204756238,
          146.56497052110535,
          146.73760899464878,
          146.91024746819176,
          147.08288594173473,
          147.2555244152777,
          147.42816288882113,
          147.6008013623641,
          147.77343983590708,
          147.94607830945006,
          148.1187167829935,
          148.29135525653646,
          148.46399373007944,
          148.6366322036224,
          148.8092706771654,
          148.98190915070882,
          149.1545476242518,
          149.32718609779477,
          149.49982457133774,
          149.67246304488117,
          149.84510151842414,
          150.01773999196712,
          150.1903784655101,
          150.36301693905352,
          150.5356554125965,
          150.70829388613947,
          150.88093235968245,
          151.05357083322588,
          151.22620930676885,
          151.39884778031183,
          151.5714862538548,
          151.74412472739778,
          151.9167632009412,
          152.08940167448418,
          152.26204014802715,
          152.43467862157013,
          152.60731709511356,
          152.77995556865653,
          152.9525940421995,
          153.12523251574248,
          153.2978709892859,
          153.4705094628289,
          153.64314793637186,
          153.81578640991484,
          153.98842488345826,
          154.16106335700124,
          154.33370183054421,
          154.5063403040872,
          154.67897877763016,
          154.8516172511736,
          155.02425572471657,
          155.19689419825954,
          155.36953267180252,
          155.54217114534595,
          155.71480961888892,
          155.8874480924319,
          156.06008656597487,
          156.2327250395183,
          156.40536351306127,
          156.57800198660425,
          156.75064046014722,
          156.92327893369065,
          157.09591740723363,
          157.2685558807766,
          157.44119435431958,
          157.613832827863,
          157.78647130140598,
          157.95910977494896,
          158.13174824849193,
          158.3043867220349,
          158.47702519557834,
          158.6496636691213,
          158.82230214266428,
          158.99494061620726,
          159.1675790897507,
          159.34021756329366,
          159.51285603683664,
          159.6854945103796,
          159.85813298392304,
          160.03077145746602,
          160.203409931009,
          160.37604840455197,
          160.5486868780954,
          160.72132535163837,
          160.89396382518134,
          161.06660229872432,
          161.2392407722673,
          161.41187924581072,
          161.5845177193537,
          161.75715619289667,
          161.92979466643965
         ],
         "yaxis": "y"
        }
       ],
       "layout": {
        "coloraxis": {
         "colorbar": {
          "title": {
           "text": "cnt"
          }
         },
         "colorscale": [
          [
           0,
           "#0d0887"
          ],
          [
           0.1111111111111111,
           "#46039f"
          ],
          [
           0.2222222222222222,
           "#7201a8"
          ],
          [
           0.3333333333333333,
           "#9c179e"
          ],
          [
           0.4444444444444444,
           "#bd3786"
          ],
          [
           0.5555555555555556,
           "#d8576b"
          ],
          [
           0.6666666666666666,
           "#ed7953"
          ],
          [
           0.7777777777777778,
           "#fb9f3a"
          ],
          [
           0.8888888888888888,
           "#fdca26"
          ],
          [
           1,
           "#f0f921"
          ]
         ]
        },
        "legend": {
         "tracegroupgap": 0
        },
        "margin": {
         "t": 60
        },
        "template": {
         "data": {
          "bar": [
           {
            "error_x": {
             "color": "#2a3f5f"
            },
            "error_y": {
             "color": "#2a3f5f"
            },
            "marker": {
             "line": {
              "color": "#E5ECF6",
              "width": 0.5
             },
             "pattern": {
              "fillmode": "overlay",
              "size": 10,
              "solidity": 0.2
             }
            },
            "type": "bar"
           }
          ],
          "barpolar": [
           {
            "marker": {
             "line": {
              "color": "#E5ECF6",
              "width": 0.5
             },
             "pattern": {
              "fillmode": "overlay",
              "size": 10,
              "solidity": 0.2
             }
            },
            "type": "barpolar"
           }
          ],
          "carpet": [
           {
            "aaxis": {
             "endlinecolor": "#2a3f5f",
             "gridcolor": "white",
             "linecolor": "white",
             "minorgridcolor": "white",
             "startlinecolor": "#2a3f5f"
            },
            "baxis": {
             "endlinecolor": "#2a3f5f",
             "gridcolor": "white",
             "linecolor": "white",
             "minorgridcolor": "white",
             "startlinecolor": "#2a3f5f"
            },
            "type": "carpet"
           }
          ],
          "choropleth": [
           {
            "colorbar": {
             "outlinewidth": 0,
             "ticks": ""
            },
            "type": "choropleth"
           }
          ],
          "contour": [
           {
            "colorbar": {
             "outlinewidth": 0,
             "ticks": ""
            },
            "colorscale": [
             [
              0,
              "#0d0887"
             ],
             [
              0.1111111111111111,
              "#46039f"
             ],
             [
              0.2222222222222222,
              "#7201a8"
             ],
             [
              0.3333333333333333,
              "#9c179e"
             ],
             [
              0.4444444444444444,
              "#bd3786"
             ],
             [
              0.5555555555555556,
              "#d8576b"
             ],
             [
              0.6666666666666666,
              "#ed7953"
             ],
             [
              0.7777777777777778,
              "#fb9f3a"
             ],
             [
              0.8888888888888888,
              "#fdca26"
             ],
             [
              1,
              "#f0f921"
             ]
            ],
            "type": "contour"
           }
          ],
          "contourcarpet": [
           {
            "colorbar": {
             "outlinewidth": 0,
             "ticks": ""
            },
            "type": "contourcarpet"
           }
          ],
          "heatmap": [
           {
            "colorbar": {
             "outlinewidth": 0,
             "ticks": ""
            },
            "colorscale": [
             [
              0,
              "#0d0887"
             ],
             [
              0.1111111111111111,
              "#46039f"
             ],
             [
              0.2222222222222222,
              "#7201a8"
             ],
             [
              0.3333333333333333,
              "#9c179e"
             ],
             [
              0.4444444444444444,
              "#bd3786"
             ],
             [
              0.5555555555555556,
              "#d8576b"
             ],
             [
              0.6666666666666666,
              "#ed7953"
             ],
             [
              0.7777777777777778,
              "#fb9f3a"
             ],
             [
              0.8888888888888888,
              "#fdca26"
             ],
             [
              1,
              "#f0f921"
             ]
            ],
            "type": "heatmap"
           }
          ],
          "heatmapgl": [
           {
            "colorbar": {
             "outlinewidth": 0,
             "ticks": ""
            },
            "colorscale": [
             [
              0,
              "#0d0887"
             ],
             [
              0.1111111111111111,
              "#46039f"
             ],
             [
              0.2222222222222222,
              "#7201a8"
             ],
             [
              0.3333333333333333,
              "#9c179e"
             ],
             [
              0.4444444444444444,
              "#bd3786"
             ],
             [
              0.5555555555555556,
              "#d8576b"
             ],
             [
              0.6666666666666666,
              "#ed7953"
             ],
             [
              0.7777777777777778,
              "#fb9f3a"
             ],
             [
              0.8888888888888888,
              "#fdca26"
             ],
             [
              1,
              "#f0f921"
             ]
            ],
            "type": "heatmapgl"
           }
          ],
          "histogram": [
           {
            "marker": {
             "pattern": {
              "fillmode": "overlay",
              "size": 10,
              "solidity": 0.2
             }
            },
            "type": "histogram"
           }
          ],
          "histogram2d": [
           {
            "colorbar": {
             "outlinewidth": 0,
             "ticks": ""
            },
            "colorscale": [
             [
              0,
              "#0d0887"
             ],
             [
              0.1111111111111111,
              "#46039f"
             ],
             [
              0.2222222222222222,
              "#7201a8"
             ],
             [
              0.3333333333333333,
              "#9c179e"
             ],
             [
              0.4444444444444444,
              "#bd3786"
             ],
             [
              0.5555555555555556,
              "#d8576b"
             ],
             [
              0.6666666666666666,
              "#ed7953"
             ],
             [
              0.7777777777777778,
              "#fb9f3a"
             ],
             [
              0.8888888888888888,
              "#fdca26"
             ],
             [
              1,
              "#f0f921"
             ]
            ],
            "type": "histogram2d"
           }
          ],
          "histogram2dcontour": [
           {
            "colorbar": {
             "outlinewidth": 0,
             "ticks": ""
            },
            "colorscale": [
             [
              0,
              "#0d0887"
             ],
             [
              0.1111111111111111,
              "#46039f"
             ],
             [
              0.2222222222222222,
              "#7201a8"
             ],
             [
              0.3333333333333333,
              "#9c179e"
             ],
             [
              0.4444444444444444,
              "#bd3786"
             ],
             [
              0.5555555555555556,
              "#d8576b"
             ],
             [
              0.6666666666666666,
              "#ed7953"
             ],
             [
              0.7777777777777778,
              "#fb9f3a"
             ],
             [
              0.8888888888888888,
              "#fdca26"
             ],
             [
              1,
              "#f0f921"
             ]
            ],
            "type": "histogram2dcontour"
           }
          ],
          "mesh3d": [
           {
            "colorbar": {
             "outlinewidth": 0,
             "ticks": ""
            },
            "type": "mesh3d"
           }
          ],
          "parcoords": [
           {
            "line": {
             "colorbar": {
              "outlinewidth": 0,
              "ticks": ""
             }
            },
            "type": "parcoords"
           }
          ],
          "pie": [
           {
            "automargin": true,
            "type": "pie"
           }
          ],
          "scatter": [
           {
            "fillpattern": {
             "fillmode": "overlay",
             "size": 10,
             "solidity": 0.2
            },
            "type": "scatter"
           }
          ],
          "scatter3d": [
           {
            "line": {
             "colorbar": {
              "outlinewidth": 0,
              "ticks": ""
             }
            },
            "marker": {
             "colorbar": {
              "outlinewidth": 0,
              "ticks": ""
             }
            },
            "type": "scatter3d"
           }
          ],
          "scattercarpet": [
           {
            "marker": {
             "colorbar": {
              "outlinewidth": 0,
              "ticks": ""
             }
            },
            "type": "scattercarpet"
           }
          ],
          "scattergeo": [
           {
            "marker": {
             "colorbar": {
              "outlinewidth": 0,
              "ticks": ""
             }
            },
            "type": "scattergeo"
           }
          ],
          "scattergl": [
           {
            "marker": {
             "colorbar": {
              "outlinewidth": 0,
              "ticks": ""
             }
            },
            "type": "scattergl"
           }
          ],
          "scattermapbox": [
           {
            "marker": {
             "colorbar": {
              "outlinewidth": 0,
              "ticks": ""
             }
            },
            "type": "scattermapbox"
           }
          ],
          "scatterpolar": [
           {
            "marker": {
             "colorbar": {
              "outlinewidth": 0,
              "ticks": ""
             }
            },
            "type": "scatterpolar"
           }
          ],
          "scatterpolargl": [
           {
            "marker": {
             "colorbar": {
              "outlinewidth": 0,
              "ticks": ""
             }
            },
            "type": "scatterpolargl"
           }
          ],
          "scatterternary": [
           {
            "marker": {
             "colorbar": {
              "outlinewidth": 0,
              "ticks": ""
             }
            },
            "type": "scatterternary"
           }
          ],
          "surface": [
           {
            "colorbar": {
             "outlinewidth": 0,
             "ticks": ""
            },
            "colorscale": [
             [
              0,
              "#0d0887"
             ],
             [
              0.1111111111111111,
              "#46039f"
             ],
             [
              0.2222222222222222,
              "#7201a8"
             ],
             [
              0.3333333333333333,
              "#9c179e"
             ],
             [
              0.4444444444444444,
              "#bd3786"
             ],
             [
              0.5555555555555556,
              "#d8576b"
             ],
             [
              0.6666666666666666,
              "#ed7953"
             ],
             [
              0.7777777777777778,
              "#fb9f3a"
             ],
             [
              0.8888888888888888,
              "#fdca26"
             ],
             [
              1,
              "#f0f921"
             ]
            ],
            "type": "surface"
           }
          ],
          "table": [
           {
            "cells": {
             "fill": {
              "color": "#EBF0F8"
             },
             "line": {
              "color": "white"
             }
            },
            "header": {
             "fill": {
              "color": "#C8D4E3"
             },
             "line": {
              "color": "white"
             }
            },
            "type": "table"
           }
          ]
         },
         "layout": {
          "annotationdefaults": {
           "arrowcolor": "#2a3f5f",
           "arrowhead": 0,
           "arrowwidth": 1
          },
          "autotypenumbers": "strict",
          "coloraxis": {
           "colorbar": {
            "outlinewidth": 0,
            "ticks": ""
           }
          },
          "colorscale": {
           "diverging": [
            [
             0,
             "#8e0152"
            ],
            [
             0.1,
             "#c51b7d"
            ],
            [
             0.2,
             "#de77ae"
            ],
            [
             0.3,
             "#f1b6da"
            ],
            [
             0.4,
             "#fde0ef"
            ],
            [
             0.5,
             "#f7f7f7"
            ],
            [
             0.6,
             "#e6f5d0"
            ],
            [
             0.7,
             "#b8e186"
            ],
            [
             0.8,
             "#7fbc41"
            ],
            [
             0.9,
             "#4d9221"
            ],
            [
             1,
             "#276419"
            ]
           ],
           "sequential": [
            [
             0,
             "#0d0887"
            ],
            [
             0.1111111111111111,
             "#46039f"
            ],
            [
             0.2222222222222222,
             "#7201a8"
            ],
            [
             0.3333333333333333,
             "#9c179e"
            ],
            [
             0.4444444444444444,
             "#bd3786"
            ],
            [
             0.5555555555555556,
             "#d8576b"
            ],
            [
             0.6666666666666666,
             "#ed7953"
            ],
            [
             0.7777777777777778,
             "#fb9f3a"
            ],
            [
             0.8888888888888888,
             "#fdca26"
            ],
            [
             1,
             "#f0f921"
            ]
           ],
           "sequentialminus": [
            [
             0,
             "#0d0887"
            ],
            [
             0.1111111111111111,
             "#46039f"
            ],
            [
             0.2222222222222222,
             "#7201a8"
            ],
            [
             0.3333333333333333,
             "#9c179e"
            ],
            [
             0.4444444444444444,
             "#bd3786"
            ],
            [
             0.5555555555555556,
             "#d8576b"
            ],
            [
             0.6666666666666666,
             "#ed7953"
            ],
            [
             0.7777777777777778,
             "#fb9f3a"
            ],
            [
             0.8888888888888888,
             "#fdca26"
            ],
            [
             1,
             "#f0f921"
            ]
           ]
          },
          "colorway": [
           "#636efa",
           "#EF553B",
           "#00cc96",
           "#ab63fa",
           "#FFA15A",
           "#19d3f3",
           "#FF6692",
           "#B6E880",
           "#FF97FF",
           "#FECB52"
          ],
          "font": {
           "color": "#2a3f5f"
          },
          "geo": {
           "bgcolor": "white",
           "lakecolor": "white",
           "landcolor": "#E5ECF6",
           "showlakes": true,
           "showland": true,
           "subunitcolor": "white"
          },
          "hoverlabel": {
           "align": "left"
          },
          "hovermode": "closest",
          "mapbox": {
           "style": "light"
          },
          "paper_bgcolor": "white",
          "plot_bgcolor": "#E5ECF6",
          "polar": {
           "angularaxis": {
            "gridcolor": "white",
            "linecolor": "white",
            "ticks": ""
           },
           "bgcolor": "#E5ECF6",
           "radialaxis": {
            "gridcolor": "white",
            "linecolor": "white",
            "ticks": ""
           }
          },
          "scene": {
           "xaxis": {
            "backgroundcolor": "#E5ECF6",
            "gridcolor": "white",
            "gridwidth": 2,
            "linecolor": "white",
            "showbackground": true,
            "ticks": "",
            "zerolinecolor": "white"
           },
           "yaxis": {
            "backgroundcolor": "#E5ECF6",
            "gridcolor": "white",
            "gridwidth": 2,
            "linecolor": "white",
            "showbackground": true,
            "ticks": "",
            "zerolinecolor": "white"
           },
           "zaxis": {
            "backgroundcolor": "#E5ECF6",
            "gridcolor": "white",
            "gridwidth": 2,
            "linecolor": "white",
            "showbackground": true,
            "ticks": "",
            "zerolinecolor": "white"
           }
          },
          "shapedefaults": {
           "line": {
            "color": "#2a3f5f"
           }
          },
          "ternary": {
           "aaxis": {
            "gridcolor": "white",
            "linecolor": "white",
            "ticks": ""
           },
           "baxis": {
            "gridcolor": "white",
            "linecolor": "white",
            "ticks": ""
           },
           "bgcolor": "#E5ECF6",
           "caxis": {
            "gridcolor": "white",
            "linecolor": "white",
            "ticks": ""
           }
          },
          "title": {
           "x": 0.05
          },
          "xaxis": {
           "automargin": true,
           "gridcolor": "white",
           "linecolor": "white",
           "ticks": "",
           "title": {
            "standoff": 15
           },
           "zerolinecolor": "white",
           "zerolinewidth": 2
          },
          "yaxis": {
           "automargin": true,
           "gridcolor": "white",
           "linecolor": "white",
           "ticks": "",
           "title": {
            "standoff": 15
           },
           "zerolinecolor": "white",
           "zerolinewidth": 2
          }
         }
        },
        "xaxis": {
         "anchor": "y",
         "domain": [
          0,
          1
         ],
         "title": {
          "text": "date"
         }
        },
        "yaxis": {
         "anchor": "x",
         "domain": [
          0,
          1
         ],
         "title": {
          "text": "cnt"
         }
        }
       }
      }
     },
     "metadata": {},
     "output_type": "display_data"
    }
   ],
   "source": [
    "fig = px.scatter(cnt, x=\"date\", y=\"cnt\", color='cnt', trendline=\"ols\", trendline_color_override=\"black\")\n",
    "fig.show()"
   ]
  },
  {
   "cell_type": "code",
   "execution_count": 19,
   "metadata": {},
   "outputs": [],
   "source": [
    "df_news = pd.read_csv(\"completeDatasetNews.csv\")"
   ]
  },
  {
   "cell_type": "code",
   "execution_count": 23,
   "metadata": {},
   "outputs": [
    {
     "name": "stderr",
     "output_type": "stream",
     "text": [
      "C:\\Users\\Alexandre\\AppData\\Local\\Temp\\ipykernel_20256\\149700250.py:2: SettingWithCopyWarning:\n",
      "\n",
      "\n",
      "A value is trying to be set on a copy of a slice from a DataFrame.\n",
      "Try using .loc[row_indexer,col_indexer] = value instead\n",
      "\n",
      "See the caveats in the documentation: https://pandas.pydata.org/pandas-docs/stable/user_guide/indexing.html#returning-a-view-versus-a-copy\n",
      "\n"
     ]
    }
   ],
   "source": [
    "df_news_likes = df_news[['Date', 'Likes']]\n",
    "df_news_likes['Date'] = df_news_likes['Date'].apply(lambda dt: dt[:11])"
   ]
  },
  {
   "cell_type": "code",
   "execution_count": 24,
   "metadata": {},
   "outputs": [
    {
     "data": {
      "text/html": [
       "<div>\n",
       "<style scoped>\n",
       "    .dataframe tbody tr th:only-of-type {\n",
       "        vertical-align: middle;\n",
       "    }\n",
       "\n",
       "    .dataframe tbody tr th {\n",
       "        vertical-align: top;\n",
       "    }\n",
       "\n",
       "    .dataframe thead th {\n",
       "        text-align: right;\n",
       "    }\n",
       "</style>\n",
       "<table border=\"1\" class=\"dataframe\">\n",
       "  <thead>\n",
       "    <tr style=\"text-align: right;\">\n",
       "      <th></th>\n",
       "      <th>Date</th>\n",
       "      <th>Likes</th>\n",
       "    </tr>\n",
       "  </thead>\n",
       "  <tbody>\n",
       "    <tr>\n",
       "      <th>0</th>\n",
       "      <td>2022-01-01</td>\n",
       "      <td>163</td>\n",
       "    </tr>\n",
       "    <tr>\n",
       "      <th>1</th>\n",
       "      <td>2022-01-01</td>\n",
       "      <td>178</td>\n",
       "    </tr>\n",
       "    <tr>\n",
       "      <th>2</th>\n",
       "      <td>2022-01-01</td>\n",
       "      <td>458</td>\n",
       "    </tr>\n",
       "    <tr>\n",
       "      <th>3</th>\n",
       "      <td>2022-01-02</td>\n",
       "      <td>8</td>\n",
       "    </tr>\n",
       "    <tr>\n",
       "      <th>4</th>\n",
       "      <td>2022-01-02</td>\n",
       "      <td>13</td>\n",
       "    </tr>\n",
       "    <tr>\n",
       "      <th>...</th>\n",
       "      <td>...</td>\n",
       "      <td>...</td>\n",
       "    </tr>\n",
       "    <tr>\n",
       "      <th>24267</th>\n",
       "      <td>2023-04-29</td>\n",
       "      <td>435</td>\n",
       "    </tr>\n",
       "    <tr>\n",
       "      <th>24268</th>\n",
       "      <td>2023-04-29</td>\n",
       "      <td>456</td>\n",
       "    </tr>\n",
       "    <tr>\n",
       "      <th>24269</th>\n",
       "      <td>2023-04-29</td>\n",
       "      <td>82</td>\n",
       "    </tr>\n",
       "    <tr>\n",
       "      <th>24270</th>\n",
       "      <td>2023-04-29</td>\n",
       "      <td>109</td>\n",
       "    </tr>\n",
       "    <tr>\n",
       "      <th>24271</th>\n",
       "      <td>2023-04-29</td>\n",
       "      <td>91</td>\n",
       "    </tr>\n",
       "  </tbody>\n",
       "</table>\n",
       "<p>24272 rows × 2 columns</p>\n",
       "</div>"
      ],
      "text/plain": [
       "              Date  Likes\n",
       "0      2022-01-01     163\n",
       "1      2022-01-01     178\n",
       "2      2022-01-01     458\n",
       "3      2022-01-02       8\n",
       "4      2022-01-02      13\n",
       "...            ...    ...\n",
       "24267  2023-04-29     435\n",
       "24268  2023-04-29     456\n",
       "24269  2023-04-29      82\n",
       "24270  2023-04-29     109\n",
       "24271  2023-04-29      91\n",
       "\n",
       "[24272 rows x 2 columns]"
      ]
     },
     "execution_count": 24,
     "metadata": {},
     "output_type": "execute_result"
    }
   ],
   "source": [
    "df_news_likes"
   ]
  },
  {
   "cell_type": "code",
   "execution_count": 48,
   "metadata": {},
   "outputs": [],
   "source": [
    "max_news = df_news_likes[['Date', 'Likes']].groupby(['Date'])['Likes'].max()\n",
    "max_news = pd.DataFrame({'date':max_news.index, 'max':max_news.values})"
   ]
  },
  {
   "cell_type": "code",
   "execution_count": 49,
   "metadata": {},
   "outputs": [
    {
     "data": {
      "text/html": [
       "<div>\n",
       "<style scoped>\n",
       "    .dataframe tbody tr th:only-of-type {\n",
       "        vertical-align: middle;\n",
       "    }\n",
       "\n",
       "    .dataframe tbody tr th {\n",
       "        vertical-align: top;\n",
       "    }\n",
       "\n",
       "    .dataframe thead th {\n",
       "        text-align: right;\n",
       "    }\n",
       "</style>\n",
       "<table border=\"1\" class=\"dataframe\">\n",
       "  <thead>\n",
       "    <tr style=\"text-align: right;\">\n",
       "      <th></th>\n",
       "      <th>date</th>\n",
       "      <th>max</th>\n",
       "    </tr>\n",
       "  </thead>\n",
       "  <tbody>\n",
       "    <tr>\n",
       "      <th>0</th>\n",
       "      <td>2022-01-01</td>\n",
       "      <td>458</td>\n",
       "    </tr>\n",
       "    <tr>\n",
       "      <th>1</th>\n",
       "      <td>2022-01-02</td>\n",
       "      <td>589</td>\n",
       "    </tr>\n",
       "    <tr>\n",
       "      <th>2</th>\n",
       "      <td>2022-01-03</td>\n",
       "      <td>257</td>\n",
       "    </tr>\n",
       "    <tr>\n",
       "      <th>3</th>\n",
       "      <td>2022-01-04</td>\n",
       "      <td>282</td>\n",
       "    </tr>\n",
       "    <tr>\n",
       "      <th>4</th>\n",
       "      <td>2022-01-05</td>\n",
       "      <td>143</td>\n",
       "    </tr>\n",
       "    <tr>\n",
       "      <th>...</th>\n",
       "      <td>...</td>\n",
       "      <td>...</td>\n",
       "    </tr>\n",
       "    <tr>\n",
       "      <th>479</th>\n",
       "      <td>2023-04-25</td>\n",
       "      <td>453</td>\n",
       "    </tr>\n",
       "    <tr>\n",
       "      <th>480</th>\n",
       "      <td>2023-04-26</td>\n",
       "      <td>789</td>\n",
       "    </tr>\n",
       "    <tr>\n",
       "      <th>481</th>\n",
       "      <td>2023-04-27</td>\n",
       "      <td>485</td>\n",
       "    </tr>\n",
       "    <tr>\n",
       "      <th>482</th>\n",
       "      <td>2023-04-28</td>\n",
       "      <td>521</td>\n",
       "    </tr>\n",
       "    <tr>\n",
       "      <th>483</th>\n",
       "      <td>2023-04-29</td>\n",
       "      <td>456</td>\n",
       "    </tr>\n",
       "  </tbody>\n",
       "</table>\n",
       "<p>484 rows × 2 columns</p>\n",
       "</div>"
      ],
      "text/plain": [
       "            date  max\n",
       "0    2022-01-01   458\n",
       "1    2022-01-02   589\n",
       "2    2022-01-03   257\n",
       "3    2022-01-04   282\n",
       "4    2022-01-05   143\n",
       "..           ...  ...\n",
       "479  2023-04-25   453\n",
       "480  2023-04-26   789\n",
       "481  2023-04-27   485\n",
       "482  2023-04-28   521\n",
       "483  2023-04-29   456\n",
       "\n",
       "[484 rows x 2 columns]"
      ]
     },
     "execution_count": 49,
     "metadata": {},
     "output_type": "execute_result"
    }
   ],
   "source": [
    "max_news"
   ]
  },
  {
   "cell_type": "code",
   "execution_count": 50,
   "metadata": {},
   "outputs": [
    {
     "data": {
      "application/vnd.plotly.v1+json": {
       "config": {
        "plotlyServerURL": "https://plot.ly"
       },
       "data": [
        {
         "hovertemplate": "date=%{x}<br>max=%{marker.color}<extra></extra>",
         "legendgroup": "",
         "marker": {
          "color": [
           458,
           589,
           257,
           282,
           143,
           878,
           218,
           139,
           118,
           152,
           819,
           776,
           253,
           292,
           540,
           379,
           1101,
           816,
           369,
           288,
           2563,
           566,
           369,
           1484,
           1876,
           857,
           800,
           3387,
           599,
           625,
           313,
           974,
           2157,
           357,
           1223,
           414,
           1076,
           1536,
           388,
           664,
           656,
           1997,
           699,
           951,
           863,
           1079,
           1881,
           482,
           639,
           1291,
           1914,
           1490,
           6859,
           2468,
           12570,
           22847,
           18120,
           8996,
           5353,
           10408,
           8945,
           30095,
           49200,
           10736,
           6453,
           6284,
           3881,
           5803,
           5530,
           7273,
           7850,
           3028,
           7030,
           6622,
           9005,
           6189,
           9719,
           5430,
           4720,
           4527,
           8648,
           3211,
           6810,
           2995,
           4114,
           7576,
           1557,
           2186,
           1811,
           3204,
           1891,
           1677,
           2184,
           3828,
           6268,
           2512,
           2737,
           2809,
           3590,
           4814,
           16965,
           2248,
           2985,
           3187,
           2093,
           4018,
           2428,
           2436,
           1993,
           2300,
           3673,
           3064,
           1841,
           1152,
           1171,
           1425,
           726,
           3576,
           1997,
           4815,
           1967,
           516,
           1366,
           7799,
           1129,
           3473,
           1877,
           11571,
           5809,
           1079,
           3589,
           7349,
           1960,
           8771,
           2727,
           7639,
           1799,
           2037,
           11200,
           544,
           3026,
           2946,
           804,
           1198,
           3092,
           5748,
           3142,
           5487,
           2294,
           4396,
           2474,
           1164,
           9584,
           1640,
           3779,
           1257,
           9694,
           11238,
           1133,
           1603,
           1549,
           6063,
           918,
           588,
           1706,
           722,
           2388,
           1690,
           6686,
           1989,
           1305,
           2249,
           2323,
           1113,
           6869,
           2455,
           1598,
           2872,
           1313,
           1391,
           1627,
           1093,
           605,
           392,
           1390,
           1507,
           634,
           2478,
           717,
           717,
           698,
           1379,
           4546,
           330,
           954,
           1027,
           543,
           687,
           606,
           1115,
           575,
           1061,
           3718,
           1204,
           1546,
           816,
           808,
           1800,
           840,
           643,
           1369,
           907,
           4492,
           1267,
           829,
           890,
           774,
           712,
           719,
           1142,
           1518,
           6737,
           1191,
           1144,
           734,
           1041,
           5192,
           1190,
           1611,
           603,
           8011,
           977,
           1075,
           1176,
           1877,
           1140,
           1533,
           2592,
           1192,
           239,
           437,
           1947,
           895,
           567,
           273,
           1410,
           2396,
           968,
           1485,
           1357,
           1602,
           1026,
           1729,
           1168,
           998,
           2833,
           9580,
           1154,
           2059,
           921,
           1315,
           1301,
           3134,
           1203,
           1540,
           5542,
           1903,
           3385,
           3232,
           804,
           952,
           1115,
           1407,
           1469,
           1095,
           11403,
           1030,
           1997,
           1008,
           3922,
           1472,
           1642,
           2625,
           3357,
           1074,
           1044,
           1810,
           2710,
           965,
           443,
           1899,
           819,
           1905,
           931,
           320,
           872,
           530,
           322,
           5536,
           3650,
           652,
           232,
           408,
           666,
           830,
           514,
           225,
           1124,
           1575,
           298,
           216,
           8567,
           7603,
           906,
           599,
           1898,
           1492,
           1207,
           4261,
           840,
           612,
           1108,
           2023,
           530,
           386,
           229,
           313,
           12619,
           836,
           488,
           809,
           530,
           343,
           262,
           902,
           2449,
           1051,
           580,
           897,
           758,
           29974,
           2164,
           964,
           443,
           1472,
           1199,
           455,
           811,
           285,
           464,
           1685,
           1080,
           693,
           655,
           2070,
           2265,
           337,
           231,
           2332,
           507,
           473,
           445,
           854,
           498,
           1702,
           3817,
           668,
           811,
           415,
           1192,
           727,
           394,
           781,
           239,
           183,
           208,
           326,
           284,
           1158,
           328,
           443,
           598,
           256,
           395,
           337,
           187,
           896,
           514,
           817,
           1062,
           498,
           549,
           478,
           1112,
           4511,
           483,
           3044,
           1384,
           1150,
           203,
           478,
           964,
           207,
           1248,
           662,
           1926,
           650,
           1156,
           447,
           606,
           519,
           1090,
           2100,
           2479,
           1943,
           3644,
           2109,
           497,
           12300,
           5291,
           936,
           1610,
           379,
           1525,
           467,
           2121,
           584,
           408,
           2918,
           263,
           1607,
           731,
           3282,
           940,
           318,
           242,
           949,
           670,
           344,
           970,
           6642,
           2981,
           551,
           1323,
           4836,
           1350,
           710,
           409,
           1127,
           1644,
           14969,
           729,
           649,
           1270,
           1486,
           628,
           553,
           552,
           1290,
           1857,
           1643,
           276,
           704,
           1023,
           537,
           938,
           505,
           492,
           985,
           220,
           459,
           520,
           752,
           1930,
           290,
           1483,
           241,
           101,
           209,
           453,
           789,
           485,
           521,
           456
          ],
          "coloraxis": "coloraxis",
          "symbol": "circle"
         },
         "mode": "markers",
         "name": "",
         "orientation": "v",
         "showlegend": false,
         "type": "scatter",
         "x": [
          "2022-01-01 ",
          "2022-01-02 ",
          "2022-01-03 ",
          "2022-01-04 ",
          "2022-01-05 ",
          "2022-01-06 ",
          "2022-01-07 ",
          "2022-01-08 ",
          "2022-01-09 ",
          "2022-01-10 ",
          "2022-01-11 ",
          "2022-01-12 ",
          "2022-01-13 ",
          "2022-01-14 ",
          "2022-01-15 ",
          "2022-01-16 ",
          "2022-01-17 ",
          "2022-01-18 ",
          "2022-01-19 ",
          "2022-01-20 ",
          "2022-01-21 ",
          "2022-01-22 ",
          "2022-01-23 ",
          "2022-01-24 ",
          "2022-01-25 ",
          "2022-01-26 ",
          "2022-01-27 ",
          "2022-01-28 ",
          "2022-01-29 ",
          "2022-01-30 ",
          "2022-01-31 ",
          "2022-02-01 ",
          "2022-02-02 ",
          "2022-02-03 ",
          "2022-02-04 ",
          "2022-02-05 ",
          "2022-02-06 ",
          "2022-02-07 ",
          "2022-02-08 ",
          "2022-02-09 ",
          "2022-02-10 ",
          "2022-02-11 ",
          "2022-02-12 ",
          "2022-02-13 ",
          "2022-02-14 ",
          "2022-02-15 ",
          "2022-02-16 ",
          "2022-02-17 ",
          "2022-02-18 ",
          "2022-02-19 ",
          "2022-02-20 ",
          "2022-02-21 ",
          "2022-02-22 ",
          "2022-02-23 ",
          "2022-02-24 ",
          "2022-02-25 ",
          "2022-02-26 ",
          "2022-02-27 ",
          "2022-02-28 ",
          "2022-03-01 ",
          "2022-03-02 ",
          "2022-03-03 ",
          "2022-03-04 ",
          "2022-03-05 ",
          "2022-03-06 ",
          "2022-03-07 ",
          "2022-03-08 ",
          "2022-03-09 ",
          "2022-03-10 ",
          "2022-03-11 ",
          "2022-03-12 ",
          "2022-03-13 ",
          "2022-03-14 ",
          "2022-03-15 ",
          "2022-03-16 ",
          "2022-03-17 ",
          "2022-03-18 ",
          "2022-03-19 ",
          "2022-03-20 ",
          "2022-03-21 ",
          "2022-03-22 ",
          "2022-03-23 ",
          "2022-03-24 ",
          "2022-03-25 ",
          "2022-03-26 ",
          "2022-03-27 ",
          "2022-03-28 ",
          "2022-03-29 ",
          "2022-03-30 ",
          "2022-03-31 ",
          "2022-04-01 ",
          "2022-04-02 ",
          "2022-04-03 ",
          "2022-04-04 ",
          "2022-04-05 ",
          "2022-04-06 ",
          "2022-04-07 ",
          "2022-04-08 ",
          "2022-04-09 ",
          "2022-04-10 ",
          "2022-04-11 ",
          "2022-04-12 ",
          "2022-04-13 ",
          "2022-04-14 ",
          "2022-04-15 ",
          "2022-04-16 ",
          "2022-04-17 ",
          "2022-04-18 ",
          "2022-04-19 ",
          "2022-04-20 ",
          "2022-04-21 ",
          "2022-04-22 ",
          "2022-04-23 ",
          "2022-04-24 ",
          "2022-04-25 ",
          "2022-04-26 ",
          "2022-04-27 ",
          "2022-04-28 ",
          "2022-04-29 ",
          "2022-04-30 ",
          "2022-05-01 ",
          "2022-05-02 ",
          "2022-05-03 ",
          "2022-05-04 ",
          "2022-05-05 ",
          "2022-05-06 ",
          "2022-05-07 ",
          "2022-05-08 ",
          "2022-05-09 ",
          "2022-05-10 ",
          "2022-05-11 ",
          "2022-05-12 ",
          "2022-05-13 ",
          "2022-05-14 ",
          "2022-05-15 ",
          "2022-05-16 ",
          "2022-05-17 ",
          "2022-05-18 ",
          "2022-05-19 ",
          "2022-05-20 ",
          "2022-05-21 ",
          "2022-05-22 ",
          "2022-05-23 ",
          "2022-05-24 ",
          "2022-05-25 ",
          "2022-05-26 ",
          "2022-05-27 ",
          "2022-05-28 ",
          "2022-05-29 ",
          "2022-05-30 ",
          "2022-05-31 ",
          "2022-06-01 ",
          "2022-06-02 ",
          "2022-06-03 ",
          "2022-06-04 ",
          "2022-06-05 ",
          "2022-06-06 ",
          "2022-06-07 ",
          "2022-06-08 ",
          "2022-06-09 ",
          "2022-06-10 ",
          "2022-06-11 ",
          "2022-06-12 ",
          "2022-06-13 ",
          "2022-06-14 ",
          "2022-06-15 ",
          "2022-06-16 ",
          "2022-06-17 ",
          "2022-06-18 ",
          "2022-06-19 ",
          "2022-06-20 ",
          "2022-06-21 ",
          "2022-06-22 ",
          "2022-06-23 ",
          "2022-06-24 ",
          "2022-06-25 ",
          "2022-06-26 ",
          "2022-06-27 ",
          "2022-06-28 ",
          "2022-06-29 ",
          "2022-06-30 ",
          "2022-07-01 ",
          "2022-07-02 ",
          "2022-07-03 ",
          "2022-07-04 ",
          "2022-07-05 ",
          "2022-07-06 ",
          "2022-07-07 ",
          "2022-07-08 ",
          "2022-07-09 ",
          "2022-07-10 ",
          "2022-07-11 ",
          "2022-07-12 ",
          "2022-07-13 ",
          "2022-07-14 ",
          "2022-07-15 ",
          "2022-07-16 ",
          "2022-07-17 ",
          "2022-07-18 ",
          "2022-07-19 ",
          "2022-07-20 ",
          "2022-07-21 ",
          "2022-07-22 ",
          "2022-07-23 ",
          "2022-07-24 ",
          "2022-07-25 ",
          "2022-07-26 ",
          "2022-07-27 ",
          "2022-07-28 ",
          "2022-07-29 ",
          "2022-07-30 ",
          "2022-07-31 ",
          "2022-08-01 ",
          "2022-08-02 ",
          "2022-08-03 ",
          "2022-08-04 ",
          "2022-08-05 ",
          "2022-08-06 ",
          "2022-08-07 ",
          "2022-08-08 ",
          "2022-08-09 ",
          "2022-08-10 ",
          "2022-08-11 ",
          "2022-08-12 ",
          "2022-08-13 ",
          "2022-08-14 ",
          "2022-08-15 ",
          "2022-08-16 ",
          "2022-08-17 ",
          "2022-08-18 ",
          "2022-08-19 ",
          "2022-08-20 ",
          "2022-08-21 ",
          "2022-08-22 ",
          "2022-08-23 ",
          "2022-08-24 ",
          "2022-08-25 ",
          "2022-08-26 ",
          "2022-08-27 ",
          "2022-08-28 ",
          "2022-08-29 ",
          "2022-08-30 ",
          "2022-08-31 ",
          "2022-09-01 ",
          "2022-09-02 ",
          "2022-09-03 ",
          "2022-09-04 ",
          "2022-09-05 ",
          "2022-09-06 ",
          "2022-09-07 ",
          "2022-09-08 ",
          "2022-09-09 ",
          "2022-09-10 ",
          "2022-09-11 ",
          "2022-09-12 ",
          "2022-09-13 ",
          "2022-09-14 ",
          "2022-09-15 ",
          "2022-09-16 ",
          "2022-09-17 ",
          "2022-09-18 ",
          "2022-09-19 ",
          "2022-09-20 ",
          "2022-09-21 ",
          "2022-09-22 ",
          "2022-09-23 ",
          "2022-09-24 ",
          "2022-09-25 ",
          "2022-09-26 ",
          "2022-09-27 ",
          "2022-09-28 ",
          "2022-09-29 ",
          "2022-09-30 ",
          "2022-10-01 ",
          "2022-10-02 ",
          "2022-10-03 ",
          "2022-10-04 ",
          "2022-10-05 ",
          "2022-10-06 ",
          "2022-10-07 ",
          "2022-10-08 ",
          "2022-10-09 ",
          "2022-10-10 ",
          "2022-10-11 ",
          "2022-10-12 ",
          "2022-10-13 ",
          "2022-10-14 ",
          "2022-10-15 ",
          "2022-10-16 ",
          "2022-10-17 ",
          "2022-10-18 ",
          "2022-10-19 ",
          "2022-10-20 ",
          "2022-10-21 ",
          "2022-10-22 ",
          "2022-10-23 ",
          "2022-10-24 ",
          "2022-10-25 ",
          "2022-10-26 ",
          "2022-10-27 ",
          "2022-10-28 ",
          "2022-10-29 ",
          "2022-10-30 ",
          "2022-10-31 ",
          "2022-11-01 ",
          "2022-11-02 ",
          "2022-11-03 ",
          "2022-11-04 ",
          "2022-11-05 ",
          "2022-11-06 ",
          "2022-11-07 ",
          "2022-11-08 ",
          "2022-11-09 ",
          "2022-11-10 ",
          "2022-11-11 ",
          "2022-11-12 ",
          "2022-11-13 ",
          "2022-11-14 ",
          "2022-11-15 ",
          "2022-11-16 ",
          "2022-11-17 ",
          "2022-11-18 ",
          "2022-11-19 ",
          "2022-11-20 ",
          "2022-11-21 ",
          "2022-11-22 ",
          "2022-11-23 ",
          "2022-11-24 ",
          "2022-11-25 ",
          "2022-11-26 ",
          "2022-11-27 ",
          "2022-11-28 ",
          "2022-11-29 ",
          "2022-11-30 ",
          "2022-12-01 ",
          "2022-12-02 ",
          "2022-12-03 ",
          "2022-12-04 ",
          "2022-12-05 ",
          "2022-12-06 ",
          "2022-12-07 ",
          "2022-12-08 ",
          "2022-12-09 ",
          "2022-12-10 ",
          "2022-12-11 ",
          "2022-12-12 ",
          "2022-12-13 ",
          "2022-12-14 ",
          "2022-12-15 ",
          "2022-12-16 ",
          "2022-12-17 ",
          "2022-12-18 ",
          "2022-12-19 ",
          "2022-12-20 ",
          "2022-12-21 ",
          "2022-12-22 ",
          "2022-12-23 ",
          "2022-12-24 ",
          "2022-12-25 ",
          "2022-12-26 ",
          "2022-12-27 ",
          "2022-12-28 ",
          "2022-12-29 ",
          "2022-12-30 ",
          "2022-12-31 ",
          "2023-01-01 ",
          "2023-01-02 ",
          "2023-01-03 ",
          "2023-01-04 ",
          "2023-01-05 ",
          "2023-01-06 ",
          "2023-01-07 ",
          "2023-01-08 ",
          "2023-01-09 ",
          "2023-01-10 ",
          "2023-01-11 ",
          "2023-01-12 ",
          "2023-01-13 ",
          "2023-01-14 ",
          "2023-01-15 ",
          "2023-01-16 ",
          "2023-01-17 ",
          "2023-01-18 ",
          "2023-01-19 ",
          "2023-01-20 ",
          "2023-01-21 ",
          "2023-01-22 ",
          "2023-01-23 ",
          "2023-01-24 ",
          "2023-01-25 ",
          "2023-01-26 ",
          "2023-01-27 ",
          "2023-01-28 ",
          "2023-01-29 ",
          "2023-01-30 ",
          "2023-01-31 ",
          "2023-02-01 ",
          "2023-02-02 ",
          "2023-02-03 ",
          "2023-02-04 ",
          "2023-02-05 ",
          "2023-02-06 ",
          "2023-02-07 ",
          "2023-02-08 ",
          "2023-02-09 ",
          "2023-02-10 ",
          "2023-02-11 ",
          "2023-02-12 ",
          "2023-02-13 ",
          "2023-02-14 ",
          "2023-02-15 ",
          "2023-02-16 ",
          "2023-02-17 ",
          "2023-02-18 ",
          "2023-02-19 ",
          "2023-02-20 ",
          "2023-02-21 ",
          "2023-02-22 ",
          "2023-02-23 ",
          "2023-02-24 ",
          "2023-02-25 ",
          "2023-02-26 ",
          "2023-02-27 ",
          "2023-02-28 ",
          "2023-03-01 ",
          "2023-03-02 ",
          "2023-03-03 ",
          "2023-03-04 ",
          "2023-03-05 ",
          "2023-03-06 ",
          "2023-03-07 ",
          "2023-03-08 ",
          "2023-03-09 ",
          "2023-03-10 ",
          "2023-03-11 ",
          "2023-03-12 ",
          "2023-03-13 ",
          "2023-03-14 ",
          "2023-03-15 ",
          "2023-03-16 ",
          "2023-03-17 ",
          "2023-03-18 ",
          "2023-03-19 ",
          "2023-03-20 ",
          "2023-03-21 ",
          "2023-03-22 ",
          "2023-03-23 ",
          "2023-03-24 ",
          "2023-03-25 ",
          "2023-03-26 ",
          "2023-03-27 ",
          "2023-03-28 ",
          "2023-03-29 ",
          "2023-03-30 ",
          "2023-03-31 ",
          "2023-04-01 ",
          "2023-04-02 ",
          "2023-04-03 ",
          "2023-04-04 ",
          "2023-04-05 ",
          "2023-04-06 ",
          "2023-04-07 ",
          "2023-04-08 ",
          "2023-04-09 ",
          "2023-04-10 ",
          "2023-04-11 ",
          "2023-04-12 ",
          "2023-04-13 ",
          "2023-04-14 ",
          "2023-04-15 ",
          "2023-04-16 ",
          "2023-04-17 ",
          "2023-04-18 ",
          "2023-04-19 ",
          "2023-04-20 ",
          "2023-04-21 ",
          "2023-04-22 ",
          "2023-04-23 ",
          "2023-04-24 ",
          "2023-04-25 ",
          "2023-04-26 ",
          "2023-04-27 ",
          "2023-04-28 ",
          "2023-04-29 "
         ],
         "xaxis": "x",
         "y": [
          458,
          589,
          257,
          282,
          143,
          878,
          218,
          139,
          118,
          152,
          819,
          776,
          253,
          292,
          540,
          379,
          1101,
          816,
          369,
          288,
          2563,
          566,
          369,
          1484,
          1876,
          857,
          800,
          3387,
          599,
          625,
          313,
          974,
          2157,
          357,
          1223,
          414,
          1076,
          1536,
          388,
          664,
          656,
          1997,
          699,
          951,
          863,
          1079,
          1881,
          482,
          639,
          1291,
          1914,
          1490,
          6859,
          2468,
          12570,
          22847,
          18120,
          8996,
          5353,
          10408,
          8945,
          30095,
          49200,
          10736,
          6453,
          6284,
          3881,
          5803,
          5530,
          7273,
          7850,
          3028,
          7030,
          6622,
          9005,
          6189,
          9719,
          5430,
          4720,
          4527,
          8648,
          3211,
          6810,
          2995,
          4114,
          7576,
          1557,
          2186,
          1811,
          3204,
          1891,
          1677,
          2184,
          3828,
          6268,
          2512,
          2737,
          2809,
          3590,
          4814,
          16965,
          2248,
          2985,
          3187,
          2093,
          4018,
          2428,
          2436,
          1993,
          2300,
          3673,
          3064,
          1841,
          1152,
          1171,
          1425,
          726,
          3576,
          1997,
          4815,
          1967,
          516,
          1366,
          7799,
          1129,
          3473,
          1877,
          11571,
          5809,
          1079,
          3589,
          7349,
          1960,
          8771,
          2727,
          7639,
          1799,
          2037,
          11200,
          544,
          3026,
          2946,
          804,
          1198,
          3092,
          5748,
          3142,
          5487,
          2294,
          4396,
          2474,
          1164,
          9584,
          1640,
          3779,
          1257,
          9694,
          11238,
          1133,
          1603,
          1549,
          6063,
          918,
          588,
          1706,
          722,
          2388,
          1690,
          6686,
          1989,
          1305,
          2249,
          2323,
          1113,
          6869,
          2455,
          1598,
          2872,
          1313,
          1391,
          1627,
          1093,
          605,
          392,
          1390,
          1507,
          634,
          2478,
          717,
          717,
          698,
          1379,
          4546,
          330,
          954,
          1027,
          543,
          687,
          606,
          1115,
          575,
          1061,
          3718,
          1204,
          1546,
          816,
          808,
          1800,
          840,
          643,
          1369,
          907,
          4492,
          1267,
          829,
          890,
          774,
          712,
          719,
          1142,
          1518,
          6737,
          1191,
          1144,
          734,
          1041,
          5192,
          1190,
          1611,
          603,
          8011,
          977,
          1075,
          1176,
          1877,
          1140,
          1533,
          2592,
          1192,
          239,
          437,
          1947,
          895,
          567,
          273,
          1410,
          2396,
          968,
          1485,
          1357,
          1602,
          1026,
          1729,
          1168,
          998,
          2833,
          9580,
          1154,
          2059,
          921,
          1315,
          1301,
          3134,
          1203,
          1540,
          5542,
          1903,
          3385,
          3232,
          804,
          952,
          1115,
          1407,
          1469,
          1095,
          11403,
          1030,
          1997,
          1008,
          3922,
          1472,
          1642,
          2625,
          3357,
          1074,
          1044,
          1810,
          2710,
          965,
          443,
          1899,
          819,
          1905,
          931,
          320,
          872,
          530,
          322,
          5536,
          3650,
          652,
          232,
          408,
          666,
          830,
          514,
          225,
          1124,
          1575,
          298,
          216,
          8567,
          7603,
          906,
          599,
          1898,
          1492,
          1207,
          4261,
          840,
          612,
          1108,
          2023,
          530,
          386,
          229,
          313,
          12619,
          836,
          488,
          809,
          530,
          343,
          262,
          902,
          2449,
          1051,
          580,
          897,
          758,
          29974,
          2164,
          964,
          443,
          1472,
          1199,
          455,
          811,
          285,
          464,
          1685,
          1080,
          693,
          655,
          2070,
          2265,
          337,
          231,
          2332,
          507,
          473,
          445,
          854,
          498,
          1702,
          3817,
          668,
          811,
          415,
          1192,
          727,
          394,
          781,
          239,
          183,
          208,
          326,
          284,
          1158,
          328,
          443,
          598,
          256,
          395,
          337,
          187,
          896,
          514,
          817,
          1062,
          498,
          549,
          478,
          1112,
          4511,
          483,
          3044,
          1384,
          1150,
          203,
          478,
          964,
          207,
          1248,
          662,
          1926,
          650,
          1156,
          447,
          606,
          519,
          1090,
          2100,
          2479,
          1943,
          3644,
          2109,
          497,
          12300,
          5291,
          936,
          1610,
          379,
          1525,
          467,
          2121,
          584,
          408,
          2918,
          263,
          1607,
          731,
          3282,
          940,
          318,
          242,
          949,
          670,
          344,
          970,
          6642,
          2981,
          551,
          1323,
          4836,
          1350,
          710,
          409,
          1127,
          1644,
          14969,
          729,
          649,
          1270,
          1486,
          628,
          553,
          552,
          1290,
          1857,
          1643,
          276,
          704,
          1023,
          537,
          938,
          505,
          492,
          985,
          220,
          459,
          520,
          752,
          1930,
          290,
          1483,
          241,
          101,
          209,
          453,
          789,
          485,
          521,
          456
         ],
         "yaxis": "y"
        }
       ],
       "layout": {
        "coloraxis": {
         "colorbar": {
          "title": {
           "text": "max"
          }
         },
         "colorscale": [
          [
           0,
           "#0d0887"
          ],
          [
           0.1111111111111111,
           "#46039f"
          ],
          [
           0.2222222222222222,
           "#7201a8"
          ],
          [
           0.3333333333333333,
           "#9c179e"
          ],
          [
           0.4444444444444444,
           "#bd3786"
          ],
          [
           0.5555555555555556,
           "#d8576b"
          ],
          [
           0.6666666666666666,
           "#ed7953"
          ],
          [
           0.7777777777777778,
           "#fb9f3a"
          ],
          [
           0.8888888888888888,
           "#fdca26"
          ],
          [
           1,
           "#f0f921"
          ]
         ]
        },
        "legend": {
         "tracegroupgap": 0
        },
        "margin": {
         "t": 60
        },
        "template": {
         "data": {
          "bar": [
           {
            "error_x": {
             "color": "#2a3f5f"
            },
            "error_y": {
             "color": "#2a3f5f"
            },
            "marker": {
             "line": {
              "color": "#E5ECF6",
              "width": 0.5
             },
             "pattern": {
              "fillmode": "overlay",
              "size": 10,
              "solidity": 0.2
             }
            },
            "type": "bar"
           }
          ],
          "barpolar": [
           {
            "marker": {
             "line": {
              "color": "#E5ECF6",
              "width": 0.5
             },
             "pattern": {
              "fillmode": "overlay",
              "size": 10,
              "solidity": 0.2
             }
            },
            "type": "barpolar"
           }
          ],
          "carpet": [
           {
            "aaxis": {
             "endlinecolor": "#2a3f5f",
             "gridcolor": "white",
             "linecolor": "white",
             "minorgridcolor": "white",
             "startlinecolor": "#2a3f5f"
            },
            "baxis": {
             "endlinecolor": "#2a3f5f",
             "gridcolor": "white",
             "linecolor": "white",
             "minorgridcolor": "white",
             "startlinecolor": "#2a3f5f"
            },
            "type": "carpet"
           }
          ],
          "choropleth": [
           {
            "colorbar": {
             "outlinewidth": 0,
             "ticks": ""
            },
            "type": "choropleth"
           }
          ],
          "contour": [
           {
            "colorbar": {
             "outlinewidth": 0,
             "ticks": ""
            },
            "colorscale": [
             [
              0,
              "#0d0887"
             ],
             [
              0.1111111111111111,
              "#46039f"
             ],
             [
              0.2222222222222222,
              "#7201a8"
             ],
             [
              0.3333333333333333,
              "#9c179e"
             ],
             [
              0.4444444444444444,
              "#bd3786"
             ],
             [
              0.5555555555555556,
              "#d8576b"
             ],
             [
              0.6666666666666666,
              "#ed7953"
             ],
             [
              0.7777777777777778,
              "#fb9f3a"
             ],
             [
              0.8888888888888888,
              "#fdca26"
             ],
             [
              1,
              "#f0f921"
             ]
            ],
            "type": "contour"
           }
          ],
          "contourcarpet": [
           {
            "colorbar": {
             "outlinewidth": 0,
             "ticks": ""
            },
            "type": "contourcarpet"
           }
          ],
          "heatmap": [
           {
            "colorbar": {
             "outlinewidth": 0,
             "ticks": ""
            },
            "colorscale": [
             [
              0,
              "#0d0887"
             ],
             [
              0.1111111111111111,
              "#46039f"
             ],
             [
              0.2222222222222222,
              "#7201a8"
             ],
             [
              0.3333333333333333,
              "#9c179e"
             ],
             [
              0.4444444444444444,
              "#bd3786"
             ],
             [
              0.5555555555555556,
              "#d8576b"
             ],
             [
              0.6666666666666666,
              "#ed7953"
             ],
             [
              0.7777777777777778,
              "#fb9f3a"
             ],
             [
              0.8888888888888888,
              "#fdca26"
             ],
             [
              1,
              "#f0f921"
             ]
            ],
            "type": "heatmap"
           }
          ],
          "heatmapgl": [
           {
            "colorbar": {
             "outlinewidth": 0,
             "ticks": ""
            },
            "colorscale": [
             [
              0,
              "#0d0887"
             ],
             [
              0.1111111111111111,
              "#46039f"
             ],
             [
              0.2222222222222222,
              "#7201a8"
             ],
             [
              0.3333333333333333,
              "#9c179e"
             ],
             [
              0.4444444444444444,
              "#bd3786"
             ],
             [
              0.5555555555555556,
              "#d8576b"
             ],
             [
              0.6666666666666666,
              "#ed7953"
             ],
             [
              0.7777777777777778,
              "#fb9f3a"
             ],
             [
              0.8888888888888888,
              "#fdca26"
             ],
             [
              1,
              "#f0f921"
             ]
            ],
            "type": "heatmapgl"
           }
          ],
          "histogram": [
           {
            "marker": {
             "pattern": {
              "fillmode": "overlay",
              "size": 10,
              "solidity": 0.2
             }
            },
            "type": "histogram"
           }
          ],
          "histogram2d": [
           {
            "colorbar": {
             "outlinewidth": 0,
             "ticks": ""
            },
            "colorscale": [
             [
              0,
              "#0d0887"
             ],
             [
              0.1111111111111111,
              "#46039f"
             ],
             [
              0.2222222222222222,
              "#7201a8"
             ],
             [
              0.3333333333333333,
              "#9c179e"
             ],
             [
              0.4444444444444444,
              "#bd3786"
             ],
             [
              0.5555555555555556,
              "#d8576b"
             ],
             [
              0.6666666666666666,
              "#ed7953"
             ],
             [
              0.7777777777777778,
              "#fb9f3a"
             ],
             [
              0.8888888888888888,
              "#fdca26"
             ],
             [
              1,
              "#f0f921"
             ]
            ],
            "type": "histogram2d"
           }
          ],
          "histogram2dcontour": [
           {
            "colorbar": {
             "outlinewidth": 0,
             "ticks": ""
            },
            "colorscale": [
             [
              0,
              "#0d0887"
             ],
             [
              0.1111111111111111,
              "#46039f"
             ],
             [
              0.2222222222222222,
              "#7201a8"
             ],
             [
              0.3333333333333333,
              "#9c179e"
             ],
             [
              0.4444444444444444,
              "#bd3786"
             ],
             [
              0.5555555555555556,
              "#d8576b"
             ],
             [
              0.6666666666666666,
              "#ed7953"
             ],
             [
              0.7777777777777778,
              "#fb9f3a"
             ],
             [
              0.8888888888888888,
              "#fdca26"
             ],
             [
              1,
              "#f0f921"
             ]
            ],
            "type": "histogram2dcontour"
           }
          ],
          "mesh3d": [
           {
            "colorbar": {
             "outlinewidth": 0,
             "ticks": ""
            },
            "type": "mesh3d"
           }
          ],
          "parcoords": [
           {
            "line": {
             "colorbar": {
              "outlinewidth": 0,
              "ticks": ""
             }
            },
            "type": "parcoords"
           }
          ],
          "pie": [
           {
            "automargin": true,
            "type": "pie"
           }
          ],
          "scatter": [
           {
            "fillpattern": {
             "fillmode": "overlay",
             "size": 10,
             "solidity": 0.2
            },
            "type": "scatter"
           }
          ],
          "scatter3d": [
           {
            "line": {
             "colorbar": {
              "outlinewidth": 0,
              "ticks": ""
             }
            },
            "marker": {
             "colorbar": {
              "outlinewidth": 0,
              "ticks": ""
             }
            },
            "type": "scatter3d"
           }
          ],
          "scattercarpet": [
           {
            "marker": {
             "colorbar": {
              "outlinewidth": 0,
              "ticks": ""
             }
            },
            "type": "scattercarpet"
           }
          ],
          "scattergeo": [
           {
            "marker": {
             "colorbar": {
              "outlinewidth": 0,
              "ticks": ""
             }
            },
            "type": "scattergeo"
           }
          ],
          "scattergl": [
           {
            "marker": {
             "colorbar": {
              "outlinewidth": 0,
              "ticks": ""
             }
            },
            "type": "scattergl"
           }
          ],
          "scattermapbox": [
           {
            "marker": {
             "colorbar": {
              "outlinewidth": 0,
              "ticks": ""
             }
            },
            "type": "scattermapbox"
           }
          ],
          "scatterpolar": [
           {
            "marker": {
             "colorbar": {
              "outlinewidth": 0,
              "ticks": ""
             }
            },
            "type": "scatterpolar"
           }
          ],
          "scatterpolargl": [
           {
            "marker": {
             "colorbar": {
              "outlinewidth": 0,
              "ticks": ""
             }
            },
            "type": "scatterpolargl"
           }
          ],
          "scatterternary": [
           {
            "marker": {
             "colorbar": {
              "outlinewidth": 0,
              "ticks": ""
             }
            },
            "type": "scatterternary"
           }
          ],
          "surface": [
           {
            "colorbar": {
             "outlinewidth": 0,
             "ticks": ""
            },
            "colorscale": [
             [
              0,
              "#0d0887"
             ],
             [
              0.1111111111111111,
              "#46039f"
             ],
             [
              0.2222222222222222,
              "#7201a8"
             ],
             [
              0.3333333333333333,
              "#9c179e"
             ],
             [
              0.4444444444444444,
              "#bd3786"
             ],
             [
              0.5555555555555556,
              "#d8576b"
             ],
             [
              0.6666666666666666,
              "#ed7953"
             ],
             [
              0.7777777777777778,
              "#fb9f3a"
             ],
             [
              0.8888888888888888,
              "#fdca26"
             ],
             [
              1,
              "#f0f921"
             ]
            ],
            "type": "surface"
           }
          ],
          "table": [
           {
            "cells": {
             "fill": {
              "color": "#EBF0F8"
             },
             "line": {
              "color": "white"
             }
            },
            "header": {
             "fill": {
              "color": "#C8D4E3"
             },
             "line": {
              "color": "white"
             }
            },
            "type": "table"
           }
          ]
         },
         "layout": {
          "annotationdefaults": {
           "arrowcolor": "#2a3f5f",
           "arrowhead": 0,
           "arrowwidth": 1
          },
          "autotypenumbers": "strict",
          "coloraxis": {
           "colorbar": {
            "outlinewidth": 0,
            "ticks": ""
           }
          },
          "colorscale": {
           "diverging": [
            [
             0,
             "#8e0152"
            ],
            [
             0.1,
             "#c51b7d"
            ],
            [
             0.2,
             "#de77ae"
            ],
            [
             0.3,
             "#f1b6da"
            ],
            [
             0.4,
             "#fde0ef"
            ],
            [
             0.5,
             "#f7f7f7"
            ],
            [
             0.6,
             "#e6f5d0"
            ],
            [
             0.7,
             "#b8e186"
            ],
            [
             0.8,
             "#7fbc41"
            ],
            [
             0.9,
             "#4d9221"
            ],
            [
             1,
             "#276419"
            ]
           ],
           "sequential": [
            [
             0,
             "#0d0887"
            ],
            [
             0.1111111111111111,
             "#46039f"
            ],
            [
             0.2222222222222222,
             "#7201a8"
            ],
            [
             0.3333333333333333,
             "#9c179e"
            ],
            [
             0.4444444444444444,
             "#bd3786"
            ],
            [
             0.5555555555555556,
             "#d8576b"
            ],
            [
             0.6666666666666666,
             "#ed7953"
            ],
            [
             0.7777777777777778,
             "#fb9f3a"
            ],
            [
             0.8888888888888888,
             "#fdca26"
            ],
            [
             1,
             "#f0f921"
            ]
           ],
           "sequentialminus": [
            [
             0,
             "#0d0887"
            ],
            [
             0.1111111111111111,
             "#46039f"
            ],
            [
             0.2222222222222222,
             "#7201a8"
            ],
            [
             0.3333333333333333,
             "#9c179e"
            ],
            [
             0.4444444444444444,
             "#bd3786"
            ],
            [
             0.5555555555555556,
             "#d8576b"
            ],
            [
             0.6666666666666666,
             "#ed7953"
            ],
            [
             0.7777777777777778,
             "#fb9f3a"
            ],
            [
             0.8888888888888888,
             "#fdca26"
            ],
            [
             1,
             "#f0f921"
            ]
           ]
          },
          "colorway": [
           "#636efa",
           "#EF553B",
           "#00cc96",
           "#ab63fa",
           "#FFA15A",
           "#19d3f3",
           "#FF6692",
           "#B6E880",
           "#FF97FF",
           "#FECB52"
          ],
          "font": {
           "color": "#2a3f5f"
          },
          "geo": {
           "bgcolor": "white",
           "lakecolor": "white",
           "landcolor": "#E5ECF6",
           "showlakes": true,
           "showland": true,
           "subunitcolor": "white"
          },
          "hoverlabel": {
           "align": "left"
          },
          "hovermode": "closest",
          "mapbox": {
           "style": "light"
          },
          "paper_bgcolor": "white",
          "plot_bgcolor": "#E5ECF6",
          "polar": {
           "angularaxis": {
            "gridcolor": "white",
            "linecolor": "white",
            "ticks": ""
           },
           "bgcolor": "#E5ECF6",
           "radialaxis": {
            "gridcolor": "white",
            "linecolor": "white",
            "ticks": ""
           }
          },
          "scene": {
           "xaxis": {
            "backgroundcolor": "#E5ECF6",
            "gridcolor": "white",
            "gridwidth": 2,
            "linecolor": "white",
            "showbackground": true,
            "ticks": "",
            "zerolinecolor": "white"
           },
           "yaxis": {
            "backgroundcolor": "#E5ECF6",
            "gridcolor": "white",
            "gridwidth": 2,
            "linecolor": "white",
            "showbackground": true,
            "ticks": "",
            "zerolinecolor": "white"
           },
           "zaxis": {
            "backgroundcolor": "#E5ECF6",
            "gridcolor": "white",
            "gridwidth": 2,
            "linecolor": "white",
            "showbackground": true,
            "ticks": "",
            "zerolinecolor": "white"
           }
          },
          "shapedefaults": {
           "line": {
            "color": "#2a3f5f"
           }
          },
          "ternary": {
           "aaxis": {
            "gridcolor": "white",
            "linecolor": "white",
            "ticks": ""
           },
           "baxis": {
            "gridcolor": "white",
            "linecolor": "white",
            "ticks": ""
           },
           "bgcolor": "#E5ECF6",
           "caxis": {
            "gridcolor": "white",
            "linecolor": "white",
            "ticks": ""
           }
          },
          "title": {
           "x": 0.05
          },
          "xaxis": {
           "automargin": true,
           "gridcolor": "white",
           "linecolor": "white",
           "ticks": "",
           "title": {
            "standoff": 15
           },
           "zerolinecolor": "white",
           "zerolinewidth": 2
          },
          "yaxis": {
           "automargin": true,
           "gridcolor": "white",
           "linecolor": "white",
           "ticks": "",
           "title": {
            "standoff": 15
           },
           "zerolinecolor": "white",
           "zerolinewidth": 2
          }
         }
        },
        "xaxis": {
         "anchor": "y",
         "domain": [
          0,
          1
         ],
         "title": {
          "text": "date"
         }
        },
        "yaxis": {
         "anchor": "x",
         "domain": [
          0,
          1
         ],
         "title": {
          "text": "max"
         }
        }
       }
      }
     },
     "metadata": {},
     "output_type": "display_data"
    }
   ],
   "source": [
    "fig2 = px.scatter(max_news, x=\"date\", y=\"max\", color='max')\n",
    "fig2.show()"
   ]
  },
  {
   "cell_type": "code",
   "execution_count": 52,
   "metadata": {},
   "outputs": [
    {
     "data": {
      "application/vnd.plotly.v1+json": {
       "config": {
        "plotlyServerURL": "https://plot.ly"
       },
       "data": [
        {
         "hovertemplate": "date=%{x}<br>sum=%{marker.color}<extra></extra>",
         "legendgroup": "",
         "marker": {
          "color": [
           799,
           1644,
           1099,
           887,
           769,
           3893,
           1785,
           715,
           833,
           1403,
           1826,
           3101,
           2667,
           2995,
           2815,
           1538,
           3332,
           3812,
           3660,
           5202,
           9686,
           4090,
           4947,
           10381,
           12362,
           11440,
           6336,
           14415,
           5174,
           3416,
           4014,
           6703,
           10449,
           5023,
           11805,
           2766,
           4347,
           8738,
           5504,
           3227,
           6307,
           17907,
           10432,
           9356,
           14092,
           15748,
           10595,
           14895,
           10963,
           20983,
           15736,
           30028,
           75156,
           35670,
           334328,
           301937,
           281542,
           274845,
           228127,
           231144,
           181473,
           189249,
           185777,
           147130,
           119393,
           115451,
           125035,
           106587,
           91972,
           71936,
           31723,
           28559,
           54160,
           59125,
           80206,
           45215,
           51593,
           54655,
           39604,
           38298,
           45563,
           39180,
           49246,
           40948,
           41054,
           32069,
           19632,
           20173,
           17964,
           31752,
           25825,
           17731,
           22961,
           32876,
           46654,
           31061,
           34416,
           28839,
           18503,
           29599,
           36689,
           28407,
           33459,
           27651,
           13974,
           15674,
           17812,
           18659,
           14006,
           13060,
           25918,
           19001,
           14480,
           8042,
           13053,
           25767,
           10476,
           27059,
           15907,
           16999,
           15528,
           5433,
           13121,
           19705,
           8558,
           17968,
           11551,
           26212,
           32665,
           14297,
           12117,
           23528,
           10574,
           19970,
           10901,
           33306,
           14616,
           9390,
           40595,
           6985,
           9961,
           10059,
           11731,
           14122,
           11735,
           11502,
           12483,
           16390,
           14253,
           15381,
           9914,
           9694,
           18362,
           11013,
           11943,
           6570,
           19389,
           19806,
           7497,
           7260,
           11779,
           13401,
           6289,
           4684,
           9003,
           5318,
           11439,
           10763,
           14766,
           7225,
           14276,
           15185,
           11186,
           11336,
           10959,
           7759,
           9998,
           15717,
           8335,
           10059,
           9310,
           7778,
           3640,
           2678,
           7773,
           5795,
           4538,
           8862,
           6892,
           2957,
           2610,
           6904,
           9881,
           2994,
           6106,
           8728,
           2532,
           4114,
           6517,
           7047,
           6606,
           7526,
           11382,
           6884,
           4649,
           6054,
           4782,
           7735,
           8089,
           6063,
           5707,
           5068,
           8444,
           9006,
           4741,
           5880,
           5396,
           2853,
           3112,
           8518,
           7231,
           17083,
           7715,
           6274,
           2445,
           3542,
           12973,
           7464,
           5898,
           2412,
           22392,
           5643,
           3881,
           5443,
           9278,
           13798,
           8981,
           9462,
           3518,
           751,
           3659,
           12813,
           10053,
           6055,
           1854,
           3439,
           4364,
           6016,
           5761,
           9205,
           6969,
           4521,
           6132,
           6305,
           7173,
           13400,
           34053,
           9841,
           13326,
           5737,
           7905,
           4787,
           14510,
           20358,
           19312,
           14681,
           12982,
           13999,
           16031,
           10897,
           7699,
           5071,
           16280,
           5934,
           6628,
           16955,
           9110,
           8611,
           3609,
           13995,
           12502,
           5796,
           21374,
           10243,
           6895,
           7808,
           6059,
           9791,
           3574,
           3186,
           8586,
           5049,
           5102,
           5560,
           1495,
           2048,
           2656,
           2777,
           10753,
           8897,
           2755,
           629,
           1530,
           3386,
           4384,
           3536,
           1249,
           5462,
           3078,
           869,
           2008,
           12675,
           10883,
           7912,
           4854,
           7929,
           6296,
           9151,
           15258,
           5937,
           3944,
           4077,
           4601,
           1334,
           1590,
           1630,
           2436,
           16849,
           4579,
           1699,
           894,
           1706,
           2404,
           2210,
           1866,
           6953,
           3668,
           2482,
           2934,
           3955,
           38207,
           6489,
           4243,
           2182,
           2693,
           4956,
           2595,
           3585,
           1824,
           4440,
           4323,
           3888,
           2861,
           3035,
           12337,
           16781,
           3025,
           587,
           6679,
           2615,
           1757,
           2048,
           2033,
           2525,
           2382,
           6908,
           1677,
           2732,
           2709,
           2913,
           3825,
           1427,
           2301,
           1198,
           1172,
           1836,
           1526,
           1622,
           2437,
           1750,
           1979,
           2907,
           2363,
           2479,
           2630,
           785,
           2119,
           3470,
           4740,
           7162,
           4365,
           1963,
           2234,
           2090,
           6926,
           1845,
           5307,
           3416,
           4048,
           873,
           2066,
           2130,
           1670,
           4267,
           3238,
           4121,
           1433,
           1577,
           3031,
           3359,
           2670,
           4037,
           8161,
           6985,
           7182,
           11611,
           13339,
           8592,
           20631,
           24426,
           7429,
           7408,
           3162,
           4113,
           2165,
           8842,
           3140,
           1955,
           5227,
           2186,
           3557,
           4140,
           7741,
           2539,
           1035,
           862,
           2473,
           2533,
           2512,
           4736,
           24913,
           6944,
           2105,
           6487,
           12073,
           5328,
           2543,
           1840,
           3361,
           2219,
           18407,
           4200,
           2359,
           5956,
           3213,
           2389,
           1484,
           3864,
           3584,
           4401,
           5360,
           1678,
           2491,
           3047,
           2787,
           5094,
           4766,
           2215,
           4303,
           926,
           1776,
           3241,
           4540,
           5009,
           1832,
           5123,
           1868,
           326,
           2234,
           1223,
           3455,
           3382,
           2535,
           2029
          ],
          "coloraxis": "coloraxis",
          "symbol": "circle"
         },
         "mode": "markers",
         "name": "",
         "orientation": "v",
         "showlegend": false,
         "type": "scatter",
         "x": [
          "2022-01-01 ",
          "2022-01-02 ",
          "2022-01-03 ",
          "2022-01-04 ",
          "2022-01-05 ",
          "2022-01-06 ",
          "2022-01-07 ",
          "2022-01-08 ",
          "2022-01-09 ",
          "2022-01-10 ",
          "2022-01-11 ",
          "2022-01-12 ",
          "2022-01-13 ",
          "2022-01-14 ",
          "2022-01-15 ",
          "2022-01-16 ",
          "2022-01-17 ",
          "2022-01-18 ",
          "2022-01-19 ",
          "2022-01-20 ",
          "2022-01-21 ",
          "2022-01-22 ",
          "2022-01-23 ",
          "2022-01-24 ",
          "2022-01-25 ",
          "2022-01-26 ",
          "2022-01-27 ",
          "2022-01-28 ",
          "2022-01-29 ",
          "2022-01-30 ",
          "2022-01-31 ",
          "2022-02-01 ",
          "2022-02-02 ",
          "2022-02-03 ",
          "2022-02-04 ",
          "2022-02-05 ",
          "2022-02-06 ",
          "2022-02-07 ",
          "2022-02-08 ",
          "2022-02-09 ",
          "2022-02-10 ",
          "2022-02-11 ",
          "2022-02-12 ",
          "2022-02-13 ",
          "2022-02-14 ",
          "2022-02-15 ",
          "2022-02-16 ",
          "2022-02-17 ",
          "2022-02-18 ",
          "2022-02-19 ",
          "2022-02-20 ",
          "2022-02-21 ",
          "2022-02-22 ",
          "2022-02-23 ",
          "2022-02-24 ",
          "2022-02-25 ",
          "2022-02-26 ",
          "2022-02-27 ",
          "2022-02-28 ",
          "2022-03-01 ",
          "2022-03-02 ",
          "2022-03-03 ",
          "2022-03-04 ",
          "2022-03-05 ",
          "2022-03-06 ",
          "2022-03-07 ",
          "2022-03-08 ",
          "2022-03-09 ",
          "2022-03-10 ",
          "2022-03-11 ",
          "2022-03-12 ",
          "2022-03-13 ",
          "2022-03-14 ",
          "2022-03-15 ",
          "2022-03-16 ",
          "2022-03-17 ",
          "2022-03-18 ",
          "2022-03-19 ",
          "2022-03-20 ",
          "2022-03-21 ",
          "2022-03-22 ",
          "2022-03-23 ",
          "2022-03-24 ",
          "2022-03-25 ",
          "2022-03-26 ",
          "2022-03-27 ",
          "2022-03-28 ",
          "2022-03-29 ",
          "2022-03-30 ",
          "2022-03-31 ",
          "2022-04-01 ",
          "2022-04-02 ",
          "2022-04-03 ",
          "2022-04-04 ",
          "2022-04-05 ",
          "2022-04-06 ",
          "2022-04-07 ",
          "2022-04-08 ",
          "2022-04-09 ",
          "2022-04-10 ",
          "2022-04-11 ",
          "2022-04-12 ",
          "2022-04-13 ",
          "2022-04-14 ",
          "2022-04-15 ",
          "2022-04-16 ",
          "2022-04-17 ",
          "2022-04-18 ",
          "2022-04-19 ",
          "2022-04-20 ",
          "2022-04-21 ",
          "2022-04-22 ",
          "2022-04-23 ",
          "2022-04-24 ",
          "2022-04-25 ",
          "2022-04-26 ",
          "2022-04-27 ",
          "2022-04-28 ",
          "2022-04-29 ",
          "2022-04-30 ",
          "2022-05-01 ",
          "2022-05-02 ",
          "2022-05-03 ",
          "2022-05-04 ",
          "2022-05-05 ",
          "2022-05-06 ",
          "2022-05-07 ",
          "2022-05-08 ",
          "2022-05-09 ",
          "2022-05-10 ",
          "2022-05-11 ",
          "2022-05-12 ",
          "2022-05-13 ",
          "2022-05-14 ",
          "2022-05-15 ",
          "2022-05-16 ",
          "2022-05-17 ",
          "2022-05-18 ",
          "2022-05-19 ",
          "2022-05-20 ",
          "2022-05-21 ",
          "2022-05-22 ",
          "2022-05-23 ",
          "2022-05-24 ",
          "2022-05-25 ",
          "2022-05-26 ",
          "2022-05-27 ",
          "2022-05-28 ",
          "2022-05-29 ",
          "2022-05-30 ",
          "2022-05-31 ",
          "2022-06-01 ",
          "2022-06-02 ",
          "2022-06-03 ",
          "2022-06-04 ",
          "2022-06-05 ",
          "2022-06-06 ",
          "2022-06-07 ",
          "2022-06-08 ",
          "2022-06-09 ",
          "2022-06-10 ",
          "2022-06-11 ",
          "2022-06-12 ",
          "2022-06-13 ",
          "2022-06-14 ",
          "2022-06-15 ",
          "2022-06-16 ",
          "2022-06-17 ",
          "2022-06-18 ",
          "2022-06-19 ",
          "2022-06-20 ",
          "2022-06-21 ",
          "2022-06-22 ",
          "2022-06-23 ",
          "2022-06-24 ",
          "2022-06-25 ",
          "2022-06-26 ",
          "2022-06-27 ",
          "2022-06-28 ",
          "2022-06-29 ",
          "2022-06-30 ",
          "2022-07-01 ",
          "2022-07-02 ",
          "2022-07-03 ",
          "2022-07-04 ",
          "2022-07-05 ",
          "2022-07-06 ",
          "2022-07-07 ",
          "2022-07-08 ",
          "2022-07-09 ",
          "2022-07-10 ",
          "2022-07-11 ",
          "2022-07-12 ",
          "2022-07-13 ",
          "2022-07-14 ",
          "2022-07-15 ",
          "2022-07-16 ",
          "2022-07-17 ",
          "2022-07-18 ",
          "2022-07-19 ",
          "2022-07-20 ",
          "2022-07-21 ",
          "2022-07-22 ",
          "2022-07-23 ",
          "2022-07-24 ",
          "2022-07-25 ",
          "2022-07-26 ",
          "2022-07-27 ",
          "2022-07-28 ",
          "2022-07-29 ",
          "2022-07-30 ",
          "2022-07-31 ",
          "2022-08-01 ",
          "2022-08-02 ",
          "2022-08-03 ",
          "2022-08-04 ",
          "2022-08-05 ",
          "2022-08-06 ",
          "2022-08-07 ",
          "2022-08-08 ",
          "2022-08-09 ",
          "2022-08-10 ",
          "2022-08-11 ",
          "2022-08-12 ",
          "2022-08-13 ",
          "2022-08-14 ",
          "2022-08-15 ",
          "2022-08-16 ",
          "2022-08-17 ",
          "2022-08-18 ",
          "2022-08-19 ",
          "2022-08-20 ",
          "2022-08-21 ",
          "2022-08-22 ",
          "2022-08-23 ",
          "2022-08-24 ",
          "2022-08-25 ",
          "2022-08-26 ",
          "2022-08-27 ",
          "2022-08-28 ",
          "2022-08-29 ",
          "2022-08-30 ",
          "2022-08-31 ",
          "2022-09-01 ",
          "2022-09-02 ",
          "2022-09-03 ",
          "2022-09-04 ",
          "2022-09-05 ",
          "2022-09-06 ",
          "2022-09-07 ",
          "2022-09-08 ",
          "2022-09-09 ",
          "2022-09-10 ",
          "2022-09-11 ",
          "2022-09-12 ",
          "2022-09-13 ",
          "2022-09-14 ",
          "2022-09-15 ",
          "2022-09-16 ",
          "2022-09-17 ",
          "2022-09-18 ",
          "2022-09-19 ",
          "2022-09-20 ",
          "2022-09-21 ",
          "2022-09-22 ",
          "2022-09-23 ",
          "2022-09-24 ",
          "2022-09-25 ",
          "2022-09-26 ",
          "2022-09-27 ",
          "2022-09-28 ",
          "2022-09-29 ",
          "2022-09-30 ",
          "2022-10-01 ",
          "2022-10-02 ",
          "2022-10-03 ",
          "2022-10-04 ",
          "2022-10-05 ",
          "2022-10-06 ",
          "2022-10-07 ",
          "2022-10-08 ",
          "2022-10-09 ",
          "2022-10-10 ",
          "2022-10-11 ",
          "2022-10-12 ",
          "2022-10-13 ",
          "2022-10-14 ",
          "2022-10-15 ",
          "2022-10-16 ",
          "2022-10-17 ",
          "2022-10-18 ",
          "2022-10-19 ",
          "2022-10-20 ",
          "2022-10-21 ",
          "2022-10-22 ",
          "2022-10-23 ",
          "2022-10-24 ",
          "2022-10-25 ",
          "2022-10-26 ",
          "2022-10-27 ",
          "2022-10-28 ",
          "2022-10-29 ",
          "2022-10-30 ",
          "2022-10-31 ",
          "2022-11-01 ",
          "2022-11-02 ",
          "2022-11-03 ",
          "2022-11-04 ",
          "2022-11-05 ",
          "2022-11-06 ",
          "2022-11-07 ",
          "2022-11-08 ",
          "2022-11-09 ",
          "2022-11-10 ",
          "2022-11-11 ",
          "2022-11-12 ",
          "2022-11-13 ",
          "2022-11-14 ",
          "2022-11-15 ",
          "2022-11-16 ",
          "2022-11-17 ",
          "2022-11-18 ",
          "2022-11-19 ",
          "2022-11-20 ",
          "2022-11-21 ",
          "2022-11-22 ",
          "2022-11-23 ",
          "2022-11-24 ",
          "2022-11-25 ",
          "2022-11-26 ",
          "2022-11-27 ",
          "2022-11-28 ",
          "2022-11-29 ",
          "2022-11-30 ",
          "2022-12-01 ",
          "2022-12-02 ",
          "2022-12-03 ",
          "2022-12-04 ",
          "2022-12-05 ",
          "2022-12-06 ",
          "2022-12-07 ",
          "2022-12-08 ",
          "2022-12-09 ",
          "2022-12-10 ",
          "2022-12-11 ",
          "2022-12-12 ",
          "2022-12-13 ",
          "2022-12-14 ",
          "2022-12-15 ",
          "2022-12-16 ",
          "2022-12-17 ",
          "2022-12-18 ",
          "2022-12-19 ",
          "2022-12-20 ",
          "2022-12-21 ",
          "2022-12-22 ",
          "2022-12-23 ",
          "2022-12-24 ",
          "2022-12-25 ",
          "2022-12-26 ",
          "2022-12-27 ",
          "2022-12-28 ",
          "2022-12-29 ",
          "2022-12-30 ",
          "2022-12-31 ",
          "2023-01-01 ",
          "2023-01-02 ",
          "2023-01-03 ",
          "2023-01-04 ",
          "2023-01-05 ",
          "2023-01-06 ",
          "2023-01-07 ",
          "2023-01-08 ",
          "2023-01-09 ",
          "2023-01-10 ",
          "2023-01-11 ",
          "2023-01-12 ",
          "2023-01-13 ",
          "2023-01-14 ",
          "2023-01-15 ",
          "2023-01-16 ",
          "2023-01-17 ",
          "2023-01-18 ",
          "2023-01-19 ",
          "2023-01-20 ",
          "2023-01-21 ",
          "2023-01-22 ",
          "2023-01-23 ",
          "2023-01-24 ",
          "2023-01-25 ",
          "2023-01-26 ",
          "2023-01-27 ",
          "2023-01-28 ",
          "2023-01-29 ",
          "2023-01-30 ",
          "2023-01-31 ",
          "2023-02-01 ",
          "2023-02-02 ",
          "2023-02-03 ",
          "2023-02-04 ",
          "2023-02-05 ",
          "2023-02-06 ",
          "2023-02-07 ",
          "2023-02-08 ",
          "2023-02-09 ",
          "2023-02-10 ",
          "2023-02-11 ",
          "2023-02-12 ",
          "2023-02-13 ",
          "2023-02-14 ",
          "2023-02-15 ",
          "2023-02-16 ",
          "2023-02-17 ",
          "2023-02-18 ",
          "2023-02-19 ",
          "2023-02-20 ",
          "2023-02-21 ",
          "2023-02-22 ",
          "2023-02-23 ",
          "2023-02-24 ",
          "2023-02-25 ",
          "2023-02-26 ",
          "2023-02-27 ",
          "2023-02-28 ",
          "2023-03-01 ",
          "2023-03-02 ",
          "2023-03-03 ",
          "2023-03-04 ",
          "2023-03-05 ",
          "2023-03-06 ",
          "2023-03-07 ",
          "2023-03-08 ",
          "2023-03-09 ",
          "2023-03-10 ",
          "2023-03-11 ",
          "2023-03-12 ",
          "2023-03-13 ",
          "2023-03-14 ",
          "2023-03-15 ",
          "2023-03-16 ",
          "2023-03-17 ",
          "2023-03-18 ",
          "2023-03-19 ",
          "2023-03-20 ",
          "2023-03-21 ",
          "2023-03-22 ",
          "2023-03-23 ",
          "2023-03-24 ",
          "2023-03-25 ",
          "2023-03-26 ",
          "2023-03-27 ",
          "2023-03-28 ",
          "2023-03-29 ",
          "2023-03-30 ",
          "2023-03-31 ",
          "2023-04-01 ",
          "2023-04-02 ",
          "2023-04-03 ",
          "2023-04-04 ",
          "2023-04-05 ",
          "2023-04-06 ",
          "2023-04-07 ",
          "2023-04-08 ",
          "2023-04-09 ",
          "2023-04-10 ",
          "2023-04-11 ",
          "2023-04-12 ",
          "2023-04-13 ",
          "2023-04-14 ",
          "2023-04-15 ",
          "2023-04-16 ",
          "2023-04-17 ",
          "2023-04-18 ",
          "2023-04-19 ",
          "2023-04-20 ",
          "2023-04-21 ",
          "2023-04-22 ",
          "2023-04-23 ",
          "2023-04-24 ",
          "2023-04-25 ",
          "2023-04-26 ",
          "2023-04-27 ",
          "2023-04-28 ",
          "2023-04-29 "
         ],
         "xaxis": "x",
         "y": [
          799,
          1644,
          1099,
          887,
          769,
          3893,
          1785,
          715,
          833,
          1403,
          1826,
          3101,
          2667,
          2995,
          2815,
          1538,
          3332,
          3812,
          3660,
          5202,
          9686,
          4090,
          4947,
          10381,
          12362,
          11440,
          6336,
          14415,
          5174,
          3416,
          4014,
          6703,
          10449,
          5023,
          11805,
          2766,
          4347,
          8738,
          5504,
          3227,
          6307,
          17907,
          10432,
          9356,
          14092,
          15748,
          10595,
          14895,
          10963,
          20983,
          15736,
          30028,
          75156,
          35670,
          334328,
          301937,
          281542,
          274845,
          228127,
          231144,
          181473,
          189249,
          185777,
          147130,
          119393,
          115451,
          125035,
          106587,
          91972,
          71936,
          31723,
          28559,
          54160,
          59125,
          80206,
          45215,
          51593,
          54655,
          39604,
          38298,
          45563,
          39180,
          49246,
          40948,
          41054,
          32069,
          19632,
          20173,
          17964,
          31752,
          25825,
          17731,
          22961,
          32876,
          46654,
          31061,
          34416,
          28839,
          18503,
          29599,
          36689,
          28407,
          33459,
          27651,
          13974,
          15674,
          17812,
          18659,
          14006,
          13060,
          25918,
          19001,
          14480,
          8042,
          13053,
          25767,
          10476,
          27059,
          15907,
          16999,
          15528,
          5433,
          13121,
          19705,
          8558,
          17968,
          11551,
          26212,
          32665,
          14297,
          12117,
          23528,
          10574,
          19970,
          10901,
          33306,
          14616,
          9390,
          40595,
          6985,
          9961,
          10059,
          11731,
          14122,
          11735,
          11502,
          12483,
          16390,
          14253,
          15381,
          9914,
          9694,
          18362,
          11013,
          11943,
          6570,
          19389,
          19806,
          7497,
          7260,
          11779,
          13401,
          6289,
          4684,
          9003,
          5318,
          11439,
          10763,
          14766,
          7225,
          14276,
          15185,
          11186,
          11336,
          10959,
          7759,
          9998,
          15717,
          8335,
          10059,
          9310,
          7778,
          3640,
          2678,
          7773,
          5795,
          4538,
          8862,
          6892,
          2957,
          2610,
          6904,
          9881,
          2994,
          6106,
          8728,
          2532,
          4114,
          6517,
          7047,
          6606,
          7526,
          11382,
          6884,
          4649,
          6054,
          4782,
          7735,
          8089,
          6063,
          5707,
          5068,
          8444,
          9006,
          4741,
          5880,
          5396,
          2853,
          3112,
          8518,
          7231,
          17083,
          7715,
          6274,
          2445,
          3542,
          12973,
          7464,
          5898,
          2412,
          22392,
          5643,
          3881,
          5443,
          9278,
          13798,
          8981,
          9462,
          3518,
          751,
          3659,
          12813,
          10053,
          6055,
          1854,
          3439,
          4364,
          6016,
          5761,
          9205,
          6969,
          4521,
          6132,
          6305,
          7173,
          13400,
          34053,
          9841,
          13326,
          5737,
          7905,
          4787,
          14510,
          20358,
          19312,
          14681,
          12982,
          13999,
          16031,
          10897,
          7699,
          5071,
          16280,
          5934,
          6628,
          16955,
          9110,
          8611,
          3609,
          13995,
          12502,
          5796,
          21374,
          10243,
          6895,
          7808,
          6059,
          9791,
          3574,
          3186,
          8586,
          5049,
          5102,
          5560,
          1495,
          2048,
          2656,
          2777,
          10753,
          8897,
          2755,
          629,
          1530,
          3386,
          4384,
          3536,
          1249,
          5462,
          3078,
          869,
          2008,
          12675,
          10883,
          7912,
          4854,
          7929,
          6296,
          9151,
          15258,
          5937,
          3944,
          4077,
          4601,
          1334,
          1590,
          1630,
          2436,
          16849,
          4579,
          1699,
          894,
          1706,
          2404,
          2210,
          1866,
          6953,
          3668,
          2482,
          2934,
          3955,
          38207,
          6489,
          4243,
          2182,
          2693,
          4956,
          2595,
          3585,
          1824,
          4440,
          4323,
          3888,
          2861,
          3035,
          12337,
          16781,
          3025,
          587,
          6679,
          2615,
          1757,
          2048,
          2033,
          2525,
          2382,
          6908,
          1677,
          2732,
          2709,
          2913,
          3825,
          1427,
          2301,
          1198,
          1172,
          1836,
          1526,
          1622,
          2437,
          1750,
          1979,
          2907,
          2363,
          2479,
          2630,
          785,
          2119,
          3470,
          4740,
          7162,
          4365,
          1963,
          2234,
          2090,
          6926,
          1845,
          5307,
          3416,
          4048,
          873,
          2066,
          2130,
          1670,
          4267,
          3238,
          4121,
          1433,
          1577,
          3031,
          3359,
          2670,
          4037,
          8161,
          6985,
          7182,
          11611,
          13339,
          8592,
          20631,
          24426,
          7429,
          7408,
          3162,
          4113,
          2165,
          8842,
          3140,
          1955,
          5227,
          2186,
          3557,
          4140,
          7741,
          2539,
          1035,
          862,
          2473,
          2533,
          2512,
          4736,
          24913,
          6944,
          2105,
          6487,
          12073,
          5328,
          2543,
          1840,
          3361,
          2219,
          18407,
          4200,
          2359,
          5956,
          3213,
          2389,
          1484,
          3864,
          3584,
          4401,
          5360,
          1678,
          2491,
          3047,
          2787,
          5094,
          4766,
          2215,
          4303,
          926,
          1776,
          3241,
          4540,
          5009,
          1832,
          5123,
          1868,
          326,
          2234,
          1223,
          3455,
          3382,
          2535,
          2029
         ],
         "yaxis": "y"
        }
       ],
       "layout": {
        "coloraxis": {
         "colorbar": {
          "title": {
           "text": "sum"
          }
         },
         "colorscale": [
          [
           0,
           "#0d0887"
          ],
          [
           0.1111111111111111,
           "#46039f"
          ],
          [
           0.2222222222222222,
           "#7201a8"
          ],
          [
           0.3333333333333333,
           "#9c179e"
          ],
          [
           0.4444444444444444,
           "#bd3786"
          ],
          [
           0.5555555555555556,
           "#d8576b"
          ],
          [
           0.6666666666666666,
           "#ed7953"
          ],
          [
           0.7777777777777778,
           "#fb9f3a"
          ],
          [
           0.8888888888888888,
           "#fdca26"
          ],
          [
           1,
           "#f0f921"
          ]
         ]
        },
        "legend": {
         "tracegroupgap": 0
        },
        "margin": {
         "t": 60
        },
        "template": {
         "data": {
          "bar": [
           {
            "error_x": {
             "color": "#2a3f5f"
            },
            "error_y": {
             "color": "#2a3f5f"
            },
            "marker": {
             "line": {
              "color": "#E5ECF6",
              "width": 0.5
             },
             "pattern": {
              "fillmode": "overlay",
              "size": 10,
              "solidity": 0.2
             }
            },
            "type": "bar"
           }
          ],
          "barpolar": [
           {
            "marker": {
             "line": {
              "color": "#E5ECF6",
              "width": 0.5
             },
             "pattern": {
              "fillmode": "overlay",
              "size": 10,
              "solidity": 0.2
             }
            },
            "type": "barpolar"
           }
          ],
          "carpet": [
           {
            "aaxis": {
             "endlinecolor": "#2a3f5f",
             "gridcolor": "white",
             "linecolor": "white",
             "minorgridcolor": "white",
             "startlinecolor": "#2a3f5f"
            },
            "baxis": {
             "endlinecolor": "#2a3f5f",
             "gridcolor": "white",
             "linecolor": "white",
             "minorgridcolor": "white",
             "startlinecolor": "#2a3f5f"
            },
            "type": "carpet"
           }
          ],
          "choropleth": [
           {
            "colorbar": {
             "outlinewidth": 0,
             "ticks": ""
            },
            "type": "choropleth"
           }
          ],
          "contour": [
           {
            "colorbar": {
             "outlinewidth": 0,
             "ticks": ""
            },
            "colorscale": [
             [
              0,
              "#0d0887"
             ],
             [
              0.1111111111111111,
              "#46039f"
             ],
             [
              0.2222222222222222,
              "#7201a8"
             ],
             [
              0.3333333333333333,
              "#9c179e"
             ],
             [
              0.4444444444444444,
              "#bd3786"
             ],
             [
              0.5555555555555556,
              "#d8576b"
             ],
             [
              0.6666666666666666,
              "#ed7953"
             ],
             [
              0.7777777777777778,
              "#fb9f3a"
             ],
             [
              0.8888888888888888,
              "#fdca26"
             ],
             [
              1,
              "#f0f921"
             ]
            ],
            "type": "contour"
           }
          ],
          "contourcarpet": [
           {
            "colorbar": {
             "outlinewidth": 0,
             "ticks": ""
            },
            "type": "contourcarpet"
           }
          ],
          "heatmap": [
           {
            "colorbar": {
             "outlinewidth": 0,
             "ticks": ""
            },
            "colorscale": [
             [
              0,
              "#0d0887"
             ],
             [
              0.1111111111111111,
              "#46039f"
             ],
             [
              0.2222222222222222,
              "#7201a8"
             ],
             [
              0.3333333333333333,
              "#9c179e"
             ],
             [
              0.4444444444444444,
              "#bd3786"
             ],
             [
              0.5555555555555556,
              "#d8576b"
             ],
             [
              0.6666666666666666,
              "#ed7953"
             ],
             [
              0.7777777777777778,
              "#fb9f3a"
             ],
             [
              0.8888888888888888,
              "#fdca26"
             ],
             [
              1,
              "#f0f921"
             ]
            ],
            "type": "heatmap"
           }
          ],
          "heatmapgl": [
           {
            "colorbar": {
             "outlinewidth": 0,
             "ticks": ""
            },
            "colorscale": [
             [
              0,
              "#0d0887"
             ],
             [
              0.1111111111111111,
              "#46039f"
             ],
             [
              0.2222222222222222,
              "#7201a8"
             ],
             [
              0.3333333333333333,
              "#9c179e"
             ],
             [
              0.4444444444444444,
              "#bd3786"
             ],
             [
              0.5555555555555556,
              "#d8576b"
             ],
             [
              0.6666666666666666,
              "#ed7953"
             ],
             [
              0.7777777777777778,
              "#fb9f3a"
             ],
             [
              0.8888888888888888,
              "#fdca26"
             ],
             [
              1,
              "#f0f921"
             ]
            ],
            "type": "heatmapgl"
           }
          ],
          "histogram": [
           {
            "marker": {
             "pattern": {
              "fillmode": "overlay",
              "size": 10,
              "solidity": 0.2
             }
            },
            "type": "histogram"
           }
          ],
          "histogram2d": [
           {
            "colorbar": {
             "outlinewidth": 0,
             "ticks": ""
            },
            "colorscale": [
             [
              0,
              "#0d0887"
             ],
             [
              0.1111111111111111,
              "#46039f"
             ],
             [
              0.2222222222222222,
              "#7201a8"
             ],
             [
              0.3333333333333333,
              "#9c179e"
             ],
             [
              0.4444444444444444,
              "#bd3786"
             ],
             [
              0.5555555555555556,
              "#d8576b"
             ],
             [
              0.6666666666666666,
              "#ed7953"
             ],
             [
              0.7777777777777778,
              "#fb9f3a"
             ],
             [
              0.8888888888888888,
              "#fdca26"
             ],
             [
              1,
              "#f0f921"
             ]
            ],
            "type": "histogram2d"
           }
          ],
          "histogram2dcontour": [
           {
            "colorbar": {
             "outlinewidth": 0,
             "ticks": ""
            },
            "colorscale": [
             [
              0,
              "#0d0887"
             ],
             [
              0.1111111111111111,
              "#46039f"
             ],
             [
              0.2222222222222222,
              "#7201a8"
             ],
             [
              0.3333333333333333,
              "#9c179e"
             ],
             [
              0.4444444444444444,
              "#bd3786"
             ],
             [
              0.5555555555555556,
              "#d8576b"
             ],
             [
              0.6666666666666666,
              "#ed7953"
             ],
             [
              0.7777777777777778,
              "#fb9f3a"
             ],
             [
              0.8888888888888888,
              "#fdca26"
             ],
             [
              1,
              "#f0f921"
             ]
            ],
            "type": "histogram2dcontour"
           }
          ],
          "mesh3d": [
           {
            "colorbar": {
             "outlinewidth": 0,
             "ticks": ""
            },
            "type": "mesh3d"
           }
          ],
          "parcoords": [
           {
            "line": {
             "colorbar": {
              "outlinewidth": 0,
              "ticks": ""
             }
            },
            "type": "parcoords"
           }
          ],
          "pie": [
           {
            "automargin": true,
            "type": "pie"
           }
          ],
          "scatter": [
           {
            "fillpattern": {
             "fillmode": "overlay",
             "size": 10,
             "solidity": 0.2
            },
            "type": "scatter"
           }
          ],
          "scatter3d": [
           {
            "line": {
             "colorbar": {
              "outlinewidth": 0,
              "ticks": ""
             }
            },
            "marker": {
             "colorbar": {
              "outlinewidth": 0,
              "ticks": ""
             }
            },
            "type": "scatter3d"
           }
          ],
          "scattercarpet": [
           {
            "marker": {
             "colorbar": {
              "outlinewidth": 0,
              "ticks": ""
             }
            },
            "type": "scattercarpet"
           }
          ],
          "scattergeo": [
           {
            "marker": {
             "colorbar": {
              "outlinewidth": 0,
              "ticks": ""
             }
            },
            "type": "scattergeo"
           }
          ],
          "scattergl": [
           {
            "marker": {
             "colorbar": {
              "outlinewidth": 0,
              "ticks": ""
             }
            },
            "type": "scattergl"
           }
          ],
          "scattermapbox": [
           {
            "marker": {
             "colorbar": {
              "outlinewidth": 0,
              "ticks": ""
             }
            },
            "type": "scattermapbox"
           }
          ],
          "scatterpolar": [
           {
            "marker": {
             "colorbar": {
              "outlinewidth": 0,
              "ticks": ""
             }
            },
            "type": "scatterpolar"
           }
          ],
          "scatterpolargl": [
           {
            "marker": {
             "colorbar": {
              "outlinewidth": 0,
              "ticks": ""
             }
            },
            "type": "scatterpolargl"
           }
          ],
          "scatterternary": [
           {
            "marker": {
             "colorbar": {
              "outlinewidth": 0,
              "ticks": ""
             }
            },
            "type": "scatterternary"
           }
          ],
          "surface": [
           {
            "colorbar": {
             "outlinewidth": 0,
             "ticks": ""
            },
            "colorscale": [
             [
              0,
              "#0d0887"
             ],
             [
              0.1111111111111111,
              "#46039f"
             ],
             [
              0.2222222222222222,
              "#7201a8"
             ],
             [
              0.3333333333333333,
              "#9c179e"
             ],
             [
              0.4444444444444444,
              "#bd3786"
             ],
             [
              0.5555555555555556,
              "#d8576b"
             ],
             [
              0.6666666666666666,
              "#ed7953"
             ],
             [
              0.7777777777777778,
              "#fb9f3a"
             ],
             [
              0.8888888888888888,
              "#fdca26"
             ],
             [
              1,
              "#f0f921"
             ]
            ],
            "type": "surface"
           }
          ],
          "table": [
           {
            "cells": {
             "fill": {
              "color": "#EBF0F8"
             },
             "line": {
              "color": "white"
             }
            },
            "header": {
             "fill": {
              "color": "#C8D4E3"
             },
             "line": {
              "color": "white"
             }
            },
            "type": "table"
           }
          ]
         },
         "layout": {
          "annotationdefaults": {
           "arrowcolor": "#2a3f5f",
           "arrowhead": 0,
           "arrowwidth": 1
          },
          "autotypenumbers": "strict",
          "coloraxis": {
           "colorbar": {
            "outlinewidth": 0,
            "ticks": ""
           }
          },
          "colorscale": {
           "diverging": [
            [
             0,
             "#8e0152"
            ],
            [
             0.1,
             "#c51b7d"
            ],
            [
             0.2,
             "#de77ae"
            ],
            [
             0.3,
             "#f1b6da"
            ],
            [
             0.4,
             "#fde0ef"
            ],
            [
             0.5,
             "#f7f7f7"
            ],
            [
             0.6,
             "#e6f5d0"
            ],
            [
             0.7,
             "#b8e186"
            ],
            [
             0.8,
             "#7fbc41"
            ],
            [
             0.9,
             "#4d9221"
            ],
            [
             1,
             "#276419"
            ]
           ],
           "sequential": [
            [
             0,
             "#0d0887"
            ],
            [
             0.1111111111111111,
             "#46039f"
            ],
            [
             0.2222222222222222,
             "#7201a8"
            ],
            [
             0.3333333333333333,
             "#9c179e"
            ],
            [
             0.4444444444444444,
             "#bd3786"
            ],
            [
             0.5555555555555556,
             "#d8576b"
            ],
            [
             0.6666666666666666,
             "#ed7953"
            ],
            [
             0.7777777777777778,
             "#fb9f3a"
            ],
            [
             0.8888888888888888,
             "#fdca26"
            ],
            [
             1,
             "#f0f921"
            ]
           ],
           "sequentialminus": [
            [
             0,
             "#0d0887"
            ],
            [
             0.1111111111111111,
             "#46039f"
            ],
            [
             0.2222222222222222,
             "#7201a8"
            ],
            [
             0.3333333333333333,
             "#9c179e"
            ],
            [
             0.4444444444444444,
             "#bd3786"
            ],
            [
             0.5555555555555556,
             "#d8576b"
            ],
            [
             0.6666666666666666,
             "#ed7953"
            ],
            [
             0.7777777777777778,
             "#fb9f3a"
            ],
            [
             0.8888888888888888,
             "#fdca26"
            ],
            [
             1,
             "#f0f921"
            ]
           ]
          },
          "colorway": [
           "#636efa",
           "#EF553B",
           "#00cc96",
           "#ab63fa",
           "#FFA15A",
           "#19d3f3",
           "#FF6692",
           "#B6E880",
           "#FF97FF",
           "#FECB52"
          ],
          "font": {
           "color": "#2a3f5f"
          },
          "geo": {
           "bgcolor": "white",
           "lakecolor": "white",
           "landcolor": "#E5ECF6",
           "showlakes": true,
           "showland": true,
           "subunitcolor": "white"
          },
          "hoverlabel": {
           "align": "left"
          },
          "hovermode": "closest",
          "mapbox": {
           "style": "light"
          },
          "paper_bgcolor": "white",
          "plot_bgcolor": "#E5ECF6",
          "polar": {
           "angularaxis": {
            "gridcolor": "white",
            "linecolor": "white",
            "ticks": ""
           },
           "bgcolor": "#E5ECF6",
           "radialaxis": {
            "gridcolor": "white",
            "linecolor": "white",
            "ticks": ""
           }
          },
          "scene": {
           "xaxis": {
            "backgroundcolor": "#E5ECF6",
            "gridcolor": "white",
            "gridwidth": 2,
            "linecolor": "white",
            "showbackground": true,
            "ticks": "",
            "zerolinecolor": "white"
           },
           "yaxis": {
            "backgroundcolor": "#E5ECF6",
            "gridcolor": "white",
            "gridwidth": 2,
            "linecolor": "white",
            "showbackground": true,
            "ticks": "",
            "zerolinecolor": "white"
           },
           "zaxis": {
            "backgroundcolor": "#E5ECF6",
            "gridcolor": "white",
            "gridwidth": 2,
            "linecolor": "white",
            "showbackground": true,
            "ticks": "",
            "zerolinecolor": "white"
           }
          },
          "shapedefaults": {
           "line": {
            "color": "#2a3f5f"
           }
          },
          "ternary": {
           "aaxis": {
            "gridcolor": "white",
            "linecolor": "white",
            "ticks": ""
           },
           "baxis": {
            "gridcolor": "white",
            "linecolor": "white",
            "ticks": ""
           },
           "bgcolor": "#E5ECF6",
           "caxis": {
            "gridcolor": "white",
            "linecolor": "white",
            "ticks": ""
           }
          },
          "title": {
           "x": 0.05
          },
          "xaxis": {
           "automargin": true,
           "gridcolor": "white",
           "linecolor": "white",
           "ticks": "",
           "title": {
            "standoff": 15
           },
           "zerolinecolor": "white",
           "zerolinewidth": 2
          },
          "yaxis": {
           "automargin": true,
           "gridcolor": "white",
           "linecolor": "white",
           "ticks": "",
           "title": {
            "standoff": 15
           },
           "zerolinecolor": "white",
           "zerolinewidth": 2
          }
         }
        },
        "xaxis": {
         "anchor": "y",
         "domain": [
          0,
          1
         ],
         "title": {
          "text": "date"
         }
        },
        "yaxis": {
         "anchor": "x",
         "domain": [
          0,
          1
         ],
         "title": {
          "text": "sum"
         }
        }
       }
      }
     },
     "metadata": {},
     "output_type": "display_data"
    }
   ],
   "source": [
    "sum_news = df_news_likes[['Date', 'Likes']].groupby(['Date'])['Likes'].sum()\n",
    "sum_news = pd.DataFrame({'date':sum_news.index, 'sum':sum_news.values})\n",
    "\n",
    "fig3 = px.scatter(sum_news, x=\"date\", y=\"sum\", color='sum')\n",
    "fig3.show()"
   ]
  },
  {
   "cell_type": "code",
   "execution_count": 65,
   "metadata": {},
   "outputs": [
    {
     "data": {
      "application/vnd.plotly.v1+json": {
       "config": {
        "plotlyServerURL": "https://plot.ly"
       },
       "data": [
        {
         "hovertemplate": "date=%{x}<br>avg=%{marker.color}<extra></extra>",
         "legendgroup": "",
         "marker": {
          "color": [
           266.3333333333333,
           234.85714285714286,
           137.375,
           98.55555555555556,
           69.9090909090909,
           162.20833333333334,
           77.6086956521739,
           55,
           46.27777777777778,
           53.96153846153846,
           86.95238095238095,
           100.03225806451613,
           70.1842105263158,
           83.19444444444444,
           97.06896551724138,
           85.44444444444444,
           151.45454545454547,
           112.11764705882354,
           81.33333333333333,
           102,
           172.96428571428572,
           136.33333333333334,
           133.7027027027027,
           220.87234042553192,
           171.69444444444446,
           137.83132530120483,
           121.84615384615384,
           189.67105263157896,
           152.1764705882353,
           136.64,
           81.91836734693878,
           113.61016949152543,
           189.98181818181817,
           104.64583333333333,
           143.96341463414635,
           110.64,
           197.5909090909091,
           156.03571428571428,
           103.84905660377359,
           84.92105263157895,
           112.625,
           196.78021978021977,
           149.02857142857144,
           170.1090909090909,
           136.81553398058253,
           149.98095238095237,
           141.26666666666668,
           139.20560747663552,
           120.47252747252747,
           185.69026548672565,
           228.05797101449275,
           214.4857142857143,
           328.1921397379913,
           206.1849710982659,
           848.5482233502538,
           818.2574525745257,
           1104.0862745098038,
           1126.4139344262296,
           706.2755417956656,
           687.9285714285714,
           598.9207920792079,
           666.3697183098592,
           607.1143790849674,
           754.5128205128206,
           736.9938271604939,
           452.74901960784314,
           464.81412639405204,
           409.95,
           372.3562753036437,
           408.72727272727275,
           422.97333333333336,
           594.9791666666666,
           401.18518518518516,
           458.3333333333333,
           641.648,
           443.2843137254902,
           422.89344262295083,
           575.3157894736842,
           707.2142857142857,
           386.8484848484849,
           464.92857142857144,
           403.91752577319585,
           420.9059829059829,
           335.6393442622951,
           513.175,
           517.241935483871,
           242.37037037037038,
           243.04819277108433,
           185.1958762886598,
           314.3762376237624,
           258.25,
           272.7846153846154,
           450.2156862745098,
           432.57894736842104,
           496.3191489361702,
           298.66346153846155,
           282.0983606557377,
           310.0967741935484,
           411.1777777777778,
           538.1636363636363,
           476.4805194805195,
           319.17977528089887,
           384.58620689655174,
           279.3030303030303,
           249.53571428571428,
           412.4736842105263,
           404.8181818181818,
           266.5571428571429,
           209.044776119403,
           197.87878787878788,
           304.91764705882355,
           267.61971830985914,
           301.6666666666667,
           236.52941176470588,
           241.72222222222223,
           318.1111111111111,
           137.8421052631579,
           346.9102564102564,
           201.35443037974684,
           472.19444444444446,
           378.7317073170732,
           146.83783783783784,
           252.32692307692307,
           358.27272727272725,
           152.82142857142858,
           309.7931034482759,
           372.61290322580646,
           546.0833333333334,
           358.95604395604397,
           204.24285714285713,
           183.5909090909091,
           326.77777777777777,
           188.82142857142858,
           443.77777777777777,
           279.5128205128205,
           564.5084745762712,
           261,
           195.625,
           688.0508474576271,
           114.50819672131148,
           343.48275862068965,
           314.34375,
           186.20634920634922,
           181.05128205128204,
           198.89830508474577,
           185.51612903225808,
           290.30232558139534,
           442.97297297297297,
           570.12,
           274.6607142857143,
           210.93617021276594,
           176.25454545454545,
           374.734693877551,
           200.23636363636365,
           459.34615384615387,
           211.93548387096774,
           403.9375,
           471.57142857142856,
           127.0677966101695,
           220,
           230.9607843137255,
           418.78125,
           251.56,
           173.4814814814815,
           230.84615384615384,
           123.67441860465117,
           193.88135593220338,
           206.98076923076923,
           492.2,
           249.13793103448276,
           310.3478260869565,
           257.3728813559322,
           238,
           192.135593220339,
           342.46875,
           228.2058823529412,
           270.2162162162162,
           201.5,
           160.28846153846155,
           209.5625,
           206.88888888888889,
           172.84444444444443,
           165.45454545454547,
           121.72727272727273,
           185.07142857142858,
           137.97619047619048,
           122.64864864864865,
           192.65217391304347,
           118.82758620689656,
           147.85,
           124.28571428571429,
           164.38095238095238,
           235.26190476190476,
           103.24137931034483,
           218.07142857142858,
           229.68421052631578,
           158.25,
           178.8695652173913,
           133,
           167.78571428571428,
           111.96610169491525,
           132.03508771929825,
           227.64,
           254.96296296296296,
           202.1304347826087,
           131.6086956521739,
           140.64705882352942,
           175.79545454545453,
           158.6078431372549,
           141,
           317.05555555555554,
           194.92307692307693,
           248.35294117647058,
           250.16666666666666,
           143.66666666666666,
           125.1063829787234,
           149.88888888888889,
           150.1578947368421,
           163.78947368421052,
           146.86206896551724,
           180.775,
           488.0857142857143,
           171.44444444444446,
           153.02439024390245,
           116.42857142857143,
           161,
           405.40625,
           162.2608695652174,
           168.5142857142857,
           92.76923076923077,
           447.84,
           201.53571428571428,
           168.7391304347826,
           143.23684210526315,
           206.17777777777778,
           174.65822784810126,
           176.09803921568627,
           286.72727272727275,
           146.58333333333334,
           44.1764705882353,
           107.61764705882354,
           220.91379310344828,
           154.66153846153847,
           123.57142857142857,
           56.18181818181818,
           127.37037037037037,
           207.8095238095238,
           171.88571428571427,
           140.5121951219512,
           180.49019607843138,
           217.78125,
           150.7,
           278.72727272727275,
           210.16666666666666,
           130.4181818181818,
           219.672131147541,
           567.55,
           218.6888888888889,
           237.96428571428572,
           220.65384615384616,
           247.03125,
           149.59375,
           234.03225806451613,
           242.35714285714286,
           306.53968253968253,
           248.83050847457628,
           309.0952380952381,
           424.2121212121212,
           216.63513513513513,
           165.1060606060606,
           192.475,
           169.03333333333333,
           242.98507462686567,
           179.8181818181818,
           184.11111111111111,
           652.1153846153846,
           193.82978723404256,
           239.19444444444446,
           100.25,
           285.61224489795916,
           347.27777777777777,
           222.92307692307693,
           485.77272727272725,
           189.6851851851852,
           140.71428571428572,
           223.0857142857143,
           195.4516129032258,
           407.9583333333333,
           137.46153846153845,
           122.53846153846153,
           190.8,
           140.25,
           175.93103448275863,
           158.85714285714286,
           67.95454545454545,
           136.53333333333333,
           78.11764705882354,
           111.08,
           290.6216216216216,
           217,
           95,
           39.3125,
           139.0909090909091,
           120.92857142857143,
           182.66666666666666,
           107.15151515151516,
           48.03846153846154,
           147.6216216216216,
           133.82608695652175,
           51.11764705882353,
           74.37037037037037,
           452.67857142857144,
           388.67857142857144,
           184,
           156.58064516129033,
           377.57142857142856,
           273.7391304347826,
           228.775,
           331.69565217391306,
           121.16326530612245,
           96.1951219512195,
           140.58620689655172,
           200.04347826086956,
           83.375,
           113.57142857142857,
           62.69230769230769,
           105.91304347826087,
           526.53125,
           176.1153846153846,
           141.58333333333334,
           149,
           89.78947368421052,
           75.125,
           69.0625,
           116.625,
           289.7083333333333,
           174.66666666666666,
           118.19047619047619,
           94.64516129032258,
           77.54901960784314,
           1661.1739130434783,
           180.25,
           176.79166666666666,
           99.18181818181819,
           149.61111111111111,
           170.89655172413794,
           86.5,
           81.47727272727273,
           60.8,
           111,
           240.16666666666666,
           216,
           102.17857142857143,
           101.16666666666667,
           324.6578947368421,
           335.62,
           97.58064516129032,
           73.375,
           445.26666666666665,
           100.57692307692308,
           92.47368421052632,
           93.0909090909091,
           92.4090909090909,
           93.51851851851852,
           140.11764705882354,
           460.53333333333336,
           239.57142857142858,
           124.18181818181819,
           93.41379310344827,
           88.27272727272727,
           103.37837837837837,
           109.76923076923077,
           164.35714285714286,
           66.55555555555556,
           53.27272727272727,
           59.225806451612904,
           66.34782608695652,
           62.38461538461539,
           174.07142857142858,
           97.22222222222223,
           59.96969696969697,
           88.0909090909091,
           63.86486486486486,
           70.82857142857142,
           77.3529411764706,
           41.31578947368421,
           132.4375,
           96.38888888888889,
           118.5,
           149.20833333333334,
           97,
           63.32258064516129,
           139.625,
           298.57142857142856,
           256.51851851851853,
           65.89285714285714,
           171.19354838709677,
           117.79310344827586,
           126.5,
           51.35294117647059,
           86.08333333333333,
           88.75,
           47.714285714285715,
           125.5,
           92.51428571428572,
           121.20588235294117,
           89.5625,
           92.76470588235294,
           81.91891891891892,
           98.79411764705883,
           68.46153846153847,
           144.17857142857142,
           138.32203389830508,
           268.65384615384613,
           312.2608695652174,
           252.41304347826087,
           199.08955223880596,
           99.90697674418605,
           294.72857142857146,
           185.04545454545453,
           168.8409090909091,
           205.77777777777777,
           75.28571428571429,
           111.16216216216216,
           67.65625,
           196.48888888888888,
           82.63157894736842,
           122.1875,
           275.10526315789474,
           70.51612903225806,
           98.80555555555556,
           103.5,
           157.9795918367347,
           120.9047619047619,
           115,
           86.2,
           176.64285714285714,
           105.54166666666667,
           83.73333333333333,
           124.63157894736842,
           461.35185185185185,
           301.9130434782609,
           150.35714285714286,
           166.33333333333334,
           335.3611111111111,
           144,
           121.0952380952381,
           76.66666666666667,
           160.04761904761904,
           221.9,
           800.304347826087,
           120,
           73.71875,
           145.26829268292684,
           100.40625,
           170.64285714285714,
           106,
           92,
           119.46666666666667,
           141.96774193548387,
           172.90322580645162,
           98.70588235294117,
           177.92857142857142,
           190.4375,
           107.1923076923077,
           108.38297872340425,
           116.2439024390244,
           88.6,
           143.43333333333334,
           66.14285714285714,
           126.85714285714286,
           108.03333333333333,
           126.11111111111111,
           161.58064516129033,
           76.33333333333333,
           197.03846153846155,
           74.72,
           46.57142857142857,
           65.70588235294117,
           61.15,
           98.71428571428571,
           86.71794871794872,
           74.55882352941177,
           225.44444444444446
          ],
          "coloraxis": "coloraxis",
          "symbol": "circle"
         },
         "mode": "markers",
         "name": "",
         "orientation": "v",
         "showlegend": false,
         "type": "scatter",
         "x": [
          "2022-01-01 ",
          "2022-01-02 ",
          "2022-01-03 ",
          "2022-01-04 ",
          "2022-01-05 ",
          "2022-01-06 ",
          "2022-01-07 ",
          "2022-01-08 ",
          "2022-01-09 ",
          "2022-01-10 ",
          "2022-01-11 ",
          "2022-01-12 ",
          "2022-01-13 ",
          "2022-01-14 ",
          "2022-01-15 ",
          "2022-01-16 ",
          "2022-01-17 ",
          "2022-01-18 ",
          "2022-01-19 ",
          "2022-01-20 ",
          "2022-01-21 ",
          "2022-01-22 ",
          "2022-01-23 ",
          "2022-01-24 ",
          "2022-01-25 ",
          "2022-01-26 ",
          "2022-01-27 ",
          "2022-01-28 ",
          "2022-01-29 ",
          "2022-01-30 ",
          "2022-01-31 ",
          "2022-02-01 ",
          "2022-02-02 ",
          "2022-02-03 ",
          "2022-02-04 ",
          "2022-02-05 ",
          "2022-02-06 ",
          "2022-02-07 ",
          "2022-02-08 ",
          "2022-02-09 ",
          "2022-02-10 ",
          "2022-02-11 ",
          "2022-02-12 ",
          "2022-02-13 ",
          "2022-02-14 ",
          "2022-02-15 ",
          "2022-02-16 ",
          "2022-02-17 ",
          "2022-02-18 ",
          "2022-02-19 ",
          "2022-02-20 ",
          "2022-02-21 ",
          "2022-02-22 ",
          "2022-02-23 ",
          "2022-02-24 ",
          "2022-02-25 ",
          "2022-02-26 ",
          "2022-02-27 ",
          "2022-02-28 ",
          "2022-03-01 ",
          "2022-03-02 ",
          "2022-03-03 ",
          "2022-03-04 ",
          "2022-03-05 ",
          "2022-03-06 ",
          "2022-03-07 ",
          "2022-03-08 ",
          "2022-03-09 ",
          "2022-03-10 ",
          "2022-03-11 ",
          "2022-03-12 ",
          "2022-03-13 ",
          "2022-03-14 ",
          "2022-03-15 ",
          "2022-03-16 ",
          "2022-03-17 ",
          "2022-03-18 ",
          "2022-03-19 ",
          "2022-03-20 ",
          "2022-03-21 ",
          "2022-03-22 ",
          "2022-03-23 ",
          "2022-03-24 ",
          "2022-03-25 ",
          "2022-03-26 ",
          "2022-03-27 ",
          "2022-03-28 ",
          "2022-03-29 ",
          "2022-03-30 ",
          "2022-03-31 ",
          "2022-04-01 ",
          "2022-04-02 ",
          "2022-04-03 ",
          "2022-04-04 ",
          "2022-04-05 ",
          "2022-04-06 ",
          "2022-04-07 ",
          "2022-04-08 ",
          "2022-04-09 ",
          "2022-04-10 ",
          "2022-04-11 ",
          "2022-04-12 ",
          "2022-04-13 ",
          "2022-04-14 ",
          "2022-04-15 ",
          "2022-04-16 ",
          "2022-04-17 ",
          "2022-04-18 ",
          "2022-04-19 ",
          "2022-04-20 ",
          "2022-04-21 ",
          "2022-04-22 ",
          "2022-04-23 ",
          "2022-04-24 ",
          "2022-04-25 ",
          "2022-04-26 ",
          "2022-04-27 ",
          "2022-04-28 ",
          "2022-04-29 ",
          "2022-04-30 ",
          "2022-05-01 ",
          "2022-05-02 ",
          "2022-05-03 ",
          "2022-05-04 ",
          "2022-05-05 ",
          "2022-05-06 ",
          "2022-05-07 ",
          "2022-05-08 ",
          "2022-05-09 ",
          "2022-05-10 ",
          "2022-05-11 ",
          "2022-05-12 ",
          "2022-05-13 ",
          "2022-05-14 ",
          "2022-05-15 ",
          "2022-05-16 ",
          "2022-05-17 ",
          "2022-05-18 ",
          "2022-05-19 ",
          "2022-05-20 ",
          "2022-05-21 ",
          "2022-05-22 ",
          "2022-05-23 ",
          "2022-05-24 ",
          "2022-05-25 ",
          "2022-05-26 ",
          "2022-05-27 ",
          "2022-05-28 ",
          "2022-05-29 ",
          "2022-05-30 ",
          "2022-05-31 ",
          "2022-06-01 ",
          "2022-06-02 ",
          "2022-06-03 ",
          "2022-06-04 ",
          "2022-06-05 ",
          "2022-06-06 ",
          "2022-06-07 ",
          "2022-06-08 ",
          "2022-06-09 ",
          "2022-06-10 ",
          "2022-06-11 ",
          "2022-06-12 ",
          "2022-06-13 ",
          "2022-06-14 ",
          "2022-06-15 ",
          "2022-06-16 ",
          "2022-06-17 ",
          "2022-06-18 ",
          "2022-06-19 ",
          "2022-06-20 ",
          "2022-06-21 ",
          "2022-06-22 ",
          "2022-06-23 ",
          "2022-06-24 ",
          "2022-06-25 ",
          "2022-06-26 ",
          "2022-06-27 ",
          "2022-06-28 ",
          "2022-06-29 ",
          "2022-06-30 ",
          "2022-07-01 ",
          "2022-07-02 ",
          "2022-07-03 ",
          "2022-07-04 ",
          "2022-07-05 ",
          "2022-07-06 ",
          "2022-07-07 ",
          "2022-07-08 ",
          "2022-07-09 ",
          "2022-07-10 ",
          "2022-07-11 ",
          "2022-07-12 ",
          "2022-07-13 ",
          "2022-07-14 ",
          "2022-07-15 ",
          "2022-07-16 ",
          "2022-07-17 ",
          "2022-07-18 ",
          "2022-07-19 ",
          "2022-07-20 ",
          "2022-07-21 ",
          "2022-07-22 ",
          "2022-07-23 ",
          "2022-07-24 ",
          "2022-07-25 ",
          "2022-07-26 ",
          "2022-07-27 ",
          "2022-07-28 ",
          "2022-07-29 ",
          "2022-07-30 ",
          "2022-07-31 ",
          "2022-08-01 ",
          "2022-08-02 ",
          "2022-08-03 ",
          "2022-08-04 ",
          "2022-08-05 ",
          "2022-08-06 ",
          "2022-08-07 ",
          "2022-08-08 ",
          "2022-08-09 ",
          "2022-08-10 ",
          "2022-08-11 ",
          "2022-08-12 ",
          "2022-08-13 ",
          "2022-08-14 ",
          "2022-08-15 ",
          "2022-08-16 ",
          "2022-08-17 ",
          "2022-08-18 ",
          "2022-08-19 ",
          "2022-08-20 ",
          "2022-08-21 ",
          "2022-08-22 ",
          "2022-08-23 ",
          "2022-08-24 ",
          "2022-08-25 ",
          "2022-08-26 ",
          "2022-08-27 ",
          "2022-08-28 ",
          "2022-08-29 ",
          "2022-08-30 ",
          "2022-08-31 ",
          "2022-09-01 ",
          "2022-09-02 ",
          "2022-09-03 ",
          "2022-09-04 ",
          "2022-09-05 ",
          "2022-09-06 ",
          "2022-09-07 ",
          "2022-09-08 ",
          "2022-09-09 ",
          "2022-09-10 ",
          "2022-09-11 ",
          "2022-09-12 ",
          "2022-09-13 ",
          "2022-09-14 ",
          "2022-09-15 ",
          "2022-09-16 ",
          "2022-09-17 ",
          "2022-09-18 ",
          "2022-09-19 ",
          "2022-09-20 ",
          "2022-09-21 ",
          "2022-09-22 ",
          "2022-09-23 ",
          "2022-09-24 ",
          "2022-09-25 ",
          "2022-09-26 ",
          "2022-09-27 ",
          "2022-09-28 ",
          "2022-09-29 ",
          "2022-09-30 ",
          "2022-10-01 ",
          "2022-10-02 ",
          "2022-10-03 ",
          "2022-10-04 ",
          "2022-10-05 ",
          "2022-10-06 ",
          "2022-10-07 ",
          "2022-10-08 ",
          "2022-10-09 ",
          "2022-10-10 ",
          "2022-10-11 ",
          "2022-10-12 ",
          "2022-10-13 ",
          "2022-10-14 ",
          "2022-10-15 ",
          "2022-10-16 ",
          "2022-10-17 ",
          "2022-10-18 ",
          "2022-10-19 ",
          "2022-10-20 ",
          "2022-10-21 ",
          "2022-10-22 ",
          "2022-10-23 ",
          "2022-10-24 ",
          "2022-10-25 ",
          "2022-10-26 ",
          "2022-10-27 ",
          "2022-10-28 ",
          "2022-10-29 ",
          "2022-10-30 ",
          "2022-10-31 ",
          "2022-11-01 ",
          "2022-11-02 ",
          "2022-11-03 ",
          "2022-11-04 ",
          "2022-11-05 ",
          "2022-11-06 ",
          "2022-11-07 ",
          "2022-11-08 ",
          "2022-11-09 ",
          "2022-11-10 ",
          "2022-11-11 ",
          "2022-11-12 ",
          "2022-11-13 ",
          "2022-11-14 ",
          "2022-11-15 ",
          "2022-11-16 ",
          "2022-11-17 ",
          "2022-11-18 ",
          "2022-11-19 ",
          "2022-11-20 ",
          "2022-11-21 ",
          "2022-11-22 ",
          "2022-11-23 ",
          "2022-11-24 ",
          "2022-11-25 ",
          "2022-11-26 ",
          "2022-11-27 ",
          "2022-11-28 ",
          "2022-11-29 ",
          "2022-11-30 ",
          "2022-12-01 ",
          "2022-12-02 ",
          "2022-12-03 ",
          "2022-12-04 ",
          "2022-12-05 ",
          "2022-12-06 ",
          "2022-12-07 ",
          "2022-12-08 ",
          "2022-12-09 ",
          "2022-12-10 ",
          "2022-12-11 ",
          "2022-12-12 ",
          "2022-12-13 ",
          "2022-12-14 ",
          "2022-12-15 ",
          "2022-12-16 ",
          "2022-12-17 ",
          "2022-12-18 ",
          "2022-12-19 ",
          "2022-12-20 ",
          "2022-12-21 ",
          "2022-12-22 ",
          "2022-12-23 ",
          "2022-12-24 ",
          "2022-12-25 ",
          "2022-12-26 ",
          "2022-12-27 ",
          "2022-12-28 ",
          "2022-12-29 ",
          "2022-12-30 ",
          "2022-12-31 ",
          "2023-01-01 ",
          "2023-01-02 ",
          "2023-01-03 ",
          "2023-01-04 ",
          "2023-01-05 ",
          "2023-01-06 ",
          "2023-01-07 ",
          "2023-01-08 ",
          "2023-01-09 ",
          "2023-01-10 ",
          "2023-01-11 ",
          "2023-01-12 ",
          "2023-01-13 ",
          "2023-01-14 ",
          "2023-01-15 ",
          "2023-01-16 ",
          "2023-01-17 ",
          "2023-01-18 ",
          "2023-01-19 ",
          "2023-01-20 ",
          "2023-01-21 ",
          "2023-01-22 ",
          "2023-01-23 ",
          "2023-01-24 ",
          "2023-01-25 ",
          "2023-01-26 ",
          "2023-01-27 ",
          "2023-01-28 ",
          "2023-01-29 ",
          "2023-01-30 ",
          "2023-01-31 ",
          "2023-02-01 ",
          "2023-02-02 ",
          "2023-02-03 ",
          "2023-02-04 ",
          "2023-02-05 ",
          "2023-02-06 ",
          "2023-02-07 ",
          "2023-02-08 ",
          "2023-02-09 ",
          "2023-02-10 ",
          "2023-02-11 ",
          "2023-02-12 ",
          "2023-02-13 ",
          "2023-02-14 ",
          "2023-02-15 ",
          "2023-02-16 ",
          "2023-02-17 ",
          "2023-02-18 ",
          "2023-02-19 ",
          "2023-02-20 ",
          "2023-02-21 ",
          "2023-02-22 ",
          "2023-02-23 ",
          "2023-02-24 ",
          "2023-02-25 ",
          "2023-02-26 ",
          "2023-02-27 ",
          "2023-02-28 ",
          "2023-03-01 ",
          "2023-03-02 ",
          "2023-03-03 ",
          "2023-03-04 ",
          "2023-03-05 ",
          "2023-03-06 ",
          "2023-03-07 ",
          "2023-03-08 ",
          "2023-03-09 ",
          "2023-03-10 ",
          "2023-03-11 ",
          "2023-03-12 ",
          "2023-03-13 ",
          "2023-03-14 ",
          "2023-03-15 ",
          "2023-03-16 ",
          "2023-03-17 ",
          "2023-03-18 ",
          "2023-03-19 ",
          "2023-03-20 ",
          "2023-03-21 ",
          "2023-03-22 ",
          "2023-03-23 ",
          "2023-03-24 ",
          "2023-03-25 ",
          "2023-03-26 ",
          "2023-03-27 ",
          "2023-03-28 ",
          "2023-03-29 ",
          "2023-03-30 ",
          "2023-03-31 ",
          "2023-04-01 ",
          "2023-04-02 ",
          "2023-04-03 ",
          "2023-04-04 ",
          "2023-04-05 ",
          "2023-04-06 ",
          "2023-04-07 ",
          "2023-04-08 ",
          "2023-04-09 ",
          "2023-04-10 ",
          "2023-04-11 ",
          "2023-04-12 ",
          "2023-04-13 ",
          "2023-04-14 ",
          "2023-04-15 ",
          "2023-04-16 ",
          "2023-04-17 ",
          "2023-04-18 ",
          "2023-04-19 ",
          "2023-04-20 ",
          "2023-04-21 ",
          "2023-04-22 ",
          "2023-04-23 ",
          "2023-04-24 ",
          "2023-04-25 ",
          "2023-04-26 ",
          "2023-04-27 ",
          "2023-04-28 ",
          "2023-04-29 "
         ],
         "xaxis": "x",
         "y": [
          266.3333333333333,
          234.85714285714286,
          137.375,
          98.55555555555556,
          69.9090909090909,
          162.20833333333334,
          77.6086956521739,
          55,
          46.27777777777778,
          53.96153846153846,
          86.95238095238095,
          100.03225806451613,
          70.1842105263158,
          83.19444444444444,
          97.06896551724138,
          85.44444444444444,
          151.45454545454547,
          112.11764705882354,
          81.33333333333333,
          102,
          172.96428571428572,
          136.33333333333334,
          133.7027027027027,
          220.87234042553192,
          171.69444444444446,
          137.83132530120483,
          121.84615384615384,
          189.67105263157896,
          152.1764705882353,
          136.64,
          81.91836734693878,
          113.61016949152543,
          189.98181818181817,
          104.64583333333333,
          143.96341463414635,
          110.64,
          197.5909090909091,
          156.03571428571428,
          103.84905660377359,
          84.92105263157895,
          112.625,
          196.78021978021977,
          149.02857142857144,
          170.1090909090909,
          136.81553398058253,
          149.98095238095237,
          141.26666666666668,
          139.20560747663552,
          120.47252747252747,
          185.69026548672565,
          228.05797101449275,
          214.4857142857143,
          328.1921397379913,
          206.1849710982659,
          848.5482233502538,
          818.2574525745257,
          1104.0862745098038,
          1126.4139344262296,
          706.2755417956656,
          687.9285714285714,
          598.9207920792079,
          666.3697183098592,
          607.1143790849674,
          754.5128205128206,
          736.9938271604939,
          452.74901960784314,
          464.81412639405204,
          409.95,
          372.3562753036437,
          408.72727272727275,
          422.97333333333336,
          594.9791666666666,
          401.18518518518516,
          458.3333333333333,
          641.648,
          443.2843137254902,
          422.89344262295083,
          575.3157894736842,
          707.2142857142857,
          386.8484848484849,
          464.92857142857144,
          403.91752577319585,
          420.9059829059829,
          335.6393442622951,
          513.175,
          517.241935483871,
          242.37037037037038,
          243.04819277108433,
          185.1958762886598,
          314.3762376237624,
          258.25,
          272.7846153846154,
          450.2156862745098,
          432.57894736842104,
          496.3191489361702,
          298.66346153846155,
          282.0983606557377,
          310.0967741935484,
          411.1777777777778,
          538.1636363636363,
          476.4805194805195,
          319.17977528089887,
          384.58620689655174,
          279.3030303030303,
          249.53571428571428,
          412.4736842105263,
          404.8181818181818,
          266.5571428571429,
          209.044776119403,
          197.87878787878788,
          304.91764705882355,
          267.61971830985914,
          301.6666666666667,
          236.52941176470588,
          241.72222222222223,
          318.1111111111111,
          137.8421052631579,
          346.9102564102564,
          201.35443037974684,
          472.19444444444446,
          378.7317073170732,
          146.83783783783784,
          252.32692307692307,
          358.27272727272725,
          152.82142857142858,
          309.7931034482759,
          372.61290322580646,
          546.0833333333334,
          358.95604395604397,
          204.24285714285713,
          183.5909090909091,
          326.77777777777777,
          188.82142857142858,
          443.77777777777777,
          279.5128205128205,
          564.5084745762712,
          261,
          195.625,
          688.0508474576271,
          114.50819672131148,
          343.48275862068965,
          314.34375,
          186.20634920634922,
          181.05128205128204,
          198.89830508474577,
          185.51612903225808,
          290.30232558139534,
          442.97297297297297,
          570.12,
          274.6607142857143,
          210.93617021276594,
          176.25454545454545,
          374.734693877551,
          200.23636363636365,
          459.34615384615387,
          211.93548387096774,
          403.9375,
          471.57142857142856,
          127.0677966101695,
          220,
          230.9607843137255,
          418.78125,
          251.56,
          173.4814814814815,
          230.84615384615384,
          123.67441860465117,
          193.88135593220338,
          206.98076923076923,
          492.2,
          249.13793103448276,
          310.3478260869565,
          257.3728813559322,
          238,
          192.135593220339,
          342.46875,
          228.2058823529412,
          270.2162162162162,
          201.5,
          160.28846153846155,
          209.5625,
          206.88888888888889,
          172.84444444444443,
          165.45454545454547,
          121.72727272727273,
          185.07142857142858,
          137.97619047619048,
          122.64864864864865,
          192.65217391304347,
          118.82758620689656,
          147.85,
          124.28571428571429,
          164.38095238095238,
          235.26190476190476,
          103.24137931034483,
          218.07142857142858,
          229.68421052631578,
          158.25,
          178.8695652173913,
          133,
          167.78571428571428,
          111.96610169491525,
          132.03508771929825,
          227.64,
          254.96296296296296,
          202.1304347826087,
          131.6086956521739,
          140.64705882352942,
          175.79545454545453,
          158.6078431372549,
          141,
          317.05555555555554,
          194.92307692307693,
          248.35294117647058,
          250.16666666666666,
          143.66666666666666,
          125.1063829787234,
          149.88888888888889,
          150.1578947368421,
          163.78947368421052,
          146.86206896551724,
          180.775,
          488.0857142857143,
          171.44444444444446,
          153.02439024390245,
          116.42857142857143,
          161,
          405.40625,
          162.2608695652174,
          168.5142857142857,
          92.76923076923077,
          447.84,
          201.53571428571428,
          168.7391304347826,
          143.23684210526315,
          206.17777777777778,
          174.65822784810126,
          176.09803921568627,
          286.72727272727275,
          146.58333333333334,
          44.1764705882353,
          107.61764705882354,
          220.91379310344828,
          154.66153846153847,
          123.57142857142857,
          56.18181818181818,
          127.37037037037037,
          207.8095238095238,
          171.88571428571427,
          140.5121951219512,
          180.49019607843138,
          217.78125,
          150.7,
          278.72727272727275,
          210.16666666666666,
          130.4181818181818,
          219.672131147541,
          567.55,
          218.6888888888889,
          237.96428571428572,
          220.65384615384616,
          247.03125,
          149.59375,
          234.03225806451613,
          242.35714285714286,
          306.53968253968253,
          248.83050847457628,
          309.0952380952381,
          424.2121212121212,
          216.63513513513513,
          165.1060606060606,
          192.475,
          169.03333333333333,
          242.98507462686567,
          179.8181818181818,
          184.11111111111111,
          652.1153846153846,
          193.82978723404256,
          239.19444444444446,
          100.25,
          285.61224489795916,
          347.27777777777777,
          222.92307692307693,
          485.77272727272725,
          189.6851851851852,
          140.71428571428572,
          223.0857142857143,
          195.4516129032258,
          407.9583333333333,
          137.46153846153845,
          122.53846153846153,
          190.8,
          140.25,
          175.93103448275863,
          158.85714285714286,
          67.95454545454545,
          136.53333333333333,
          78.11764705882354,
          111.08,
          290.6216216216216,
          217,
          95,
          39.3125,
          139.0909090909091,
          120.92857142857143,
          182.66666666666666,
          107.15151515151516,
          48.03846153846154,
          147.6216216216216,
          133.82608695652175,
          51.11764705882353,
          74.37037037037037,
          452.67857142857144,
          388.67857142857144,
          184,
          156.58064516129033,
          377.57142857142856,
          273.7391304347826,
          228.775,
          331.69565217391306,
          121.16326530612245,
          96.1951219512195,
          140.58620689655172,
          200.04347826086956,
          83.375,
          113.57142857142857,
          62.69230769230769,
          105.91304347826087,
          526.53125,
          176.1153846153846,
          141.58333333333334,
          149,
          89.78947368421052,
          75.125,
          69.0625,
          116.625,
          289.7083333333333,
          174.66666666666666,
          118.19047619047619,
          94.64516129032258,
          77.54901960784314,
          1661.1739130434783,
          180.25,
          176.79166666666666,
          99.18181818181819,
          149.61111111111111,
          170.89655172413794,
          86.5,
          81.47727272727273,
          60.8,
          111,
          240.16666666666666,
          216,
          102.17857142857143,
          101.16666666666667,
          324.6578947368421,
          335.62,
          97.58064516129032,
          73.375,
          445.26666666666665,
          100.57692307692308,
          92.47368421052632,
          93.0909090909091,
          92.4090909090909,
          93.51851851851852,
          140.11764705882354,
          460.53333333333336,
          239.57142857142858,
          124.18181818181819,
          93.41379310344827,
          88.27272727272727,
          103.37837837837837,
          109.76923076923077,
          164.35714285714286,
          66.55555555555556,
          53.27272727272727,
          59.225806451612904,
          66.34782608695652,
          62.38461538461539,
          174.07142857142858,
          97.22222222222223,
          59.96969696969697,
          88.0909090909091,
          63.86486486486486,
          70.82857142857142,
          77.3529411764706,
          41.31578947368421,
          132.4375,
          96.38888888888889,
          118.5,
          149.20833333333334,
          97,
          63.32258064516129,
          139.625,
          298.57142857142856,
          256.51851851851853,
          65.89285714285714,
          171.19354838709677,
          117.79310344827586,
          126.5,
          51.35294117647059,
          86.08333333333333,
          88.75,
          47.714285714285715,
          125.5,
          92.51428571428572,
          121.20588235294117,
          89.5625,
          92.76470588235294,
          81.91891891891892,
          98.79411764705883,
          68.46153846153847,
          144.17857142857142,
          138.32203389830508,
          268.65384615384613,
          312.2608695652174,
          252.41304347826087,
          199.08955223880596,
          99.90697674418605,
          294.72857142857146,
          185.04545454545453,
          168.8409090909091,
          205.77777777777777,
          75.28571428571429,
          111.16216216216216,
          67.65625,
          196.48888888888888,
          82.63157894736842,
          122.1875,
          275.10526315789474,
          70.51612903225806,
          98.80555555555556,
          103.5,
          157.9795918367347,
          120.9047619047619,
          115,
          86.2,
          176.64285714285714,
          105.54166666666667,
          83.73333333333333,
          124.63157894736842,
          461.35185185185185,
          301.9130434782609,
          150.35714285714286,
          166.33333333333334,
          335.3611111111111,
          144,
          121.0952380952381,
          76.66666666666667,
          160.04761904761904,
          221.9,
          800.304347826087,
          120,
          73.71875,
          145.26829268292684,
          100.40625,
          170.64285714285714,
          106,
          92,
          119.46666666666667,
          141.96774193548387,
          172.90322580645162,
          98.70588235294117,
          177.92857142857142,
          190.4375,
          107.1923076923077,
          108.38297872340425,
          116.2439024390244,
          88.6,
          143.43333333333334,
          66.14285714285714,
          126.85714285714286,
          108.03333333333333,
          126.11111111111111,
          161.58064516129033,
          76.33333333333333,
          197.03846153846155,
          74.72,
          46.57142857142857,
          65.70588235294117,
          61.15,
          98.71428571428571,
          86.71794871794872,
          74.55882352941177,
          225.44444444444446
         ],
         "yaxis": "y"
        }
       ],
       "layout": {
        "coloraxis": {
         "colorbar": {
          "title": {
           "text": "avg"
          }
         },
         "colorscale": [
          [
           0,
           "#0d0887"
          ],
          [
           0.1111111111111111,
           "#46039f"
          ],
          [
           0.2222222222222222,
           "#7201a8"
          ],
          [
           0.3333333333333333,
           "#9c179e"
          ],
          [
           0.4444444444444444,
           "#bd3786"
          ],
          [
           0.5555555555555556,
           "#d8576b"
          ],
          [
           0.6666666666666666,
           "#ed7953"
          ],
          [
           0.7777777777777778,
           "#fb9f3a"
          ],
          [
           0.8888888888888888,
           "#fdca26"
          ],
          [
           1,
           "#f0f921"
          ]
         ]
        },
        "legend": {
         "tracegroupgap": 0
        },
        "margin": {
         "t": 60
        },
        "template": {
         "data": {
          "bar": [
           {
            "error_x": {
             "color": "#2a3f5f"
            },
            "error_y": {
             "color": "#2a3f5f"
            },
            "marker": {
             "line": {
              "color": "#E5ECF6",
              "width": 0.5
             },
             "pattern": {
              "fillmode": "overlay",
              "size": 10,
              "solidity": 0.2
             }
            },
            "type": "bar"
           }
          ],
          "barpolar": [
           {
            "marker": {
             "line": {
              "color": "#E5ECF6",
              "width": 0.5
             },
             "pattern": {
              "fillmode": "overlay",
              "size": 10,
              "solidity": 0.2
             }
            },
            "type": "barpolar"
           }
          ],
          "carpet": [
           {
            "aaxis": {
             "endlinecolor": "#2a3f5f",
             "gridcolor": "white",
             "linecolor": "white",
             "minorgridcolor": "white",
             "startlinecolor": "#2a3f5f"
            },
            "baxis": {
             "endlinecolor": "#2a3f5f",
             "gridcolor": "white",
             "linecolor": "white",
             "minorgridcolor": "white",
             "startlinecolor": "#2a3f5f"
            },
            "type": "carpet"
           }
          ],
          "choropleth": [
           {
            "colorbar": {
             "outlinewidth": 0,
             "ticks": ""
            },
            "type": "choropleth"
           }
          ],
          "contour": [
           {
            "colorbar": {
             "outlinewidth": 0,
             "ticks": ""
            },
            "colorscale": [
             [
              0,
              "#0d0887"
             ],
             [
              0.1111111111111111,
              "#46039f"
             ],
             [
              0.2222222222222222,
              "#7201a8"
             ],
             [
              0.3333333333333333,
              "#9c179e"
             ],
             [
              0.4444444444444444,
              "#bd3786"
             ],
             [
              0.5555555555555556,
              "#d8576b"
             ],
             [
              0.6666666666666666,
              "#ed7953"
             ],
             [
              0.7777777777777778,
              "#fb9f3a"
             ],
             [
              0.8888888888888888,
              "#fdca26"
             ],
             [
              1,
              "#f0f921"
             ]
            ],
            "type": "contour"
           }
          ],
          "contourcarpet": [
           {
            "colorbar": {
             "outlinewidth": 0,
             "ticks": ""
            },
            "type": "contourcarpet"
           }
          ],
          "heatmap": [
           {
            "colorbar": {
             "outlinewidth": 0,
             "ticks": ""
            },
            "colorscale": [
             [
              0,
              "#0d0887"
             ],
             [
              0.1111111111111111,
              "#46039f"
             ],
             [
              0.2222222222222222,
              "#7201a8"
             ],
             [
              0.3333333333333333,
              "#9c179e"
             ],
             [
              0.4444444444444444,
              "#bd3786"
             ],
             [
              0.5555555555555556,
              "#d8576b"
             ],
             [
              0.6666666666666666,
              "#ed7953"
             ],
             [
              0.7777777777777778,
              "#fb9f3a"
             ],
             [
              0.8888888888888888,
              "#fdca26"
             ],
             [
              1,
              "#f0f921"
             ]
            ],
            "type": "heatmap"
           }
          ],
          "heatmapgl": [
           {
            "colorbar": {
             "outlinewidth": 0,
             "ticks": ""
            },
            "colorscale": [
             [
              0,
              "#0d0887"
             ],
             [
              0.1111111111111111,
              "#46039f"
             ],
             [
              0.2222222222222222,
              "#7201a8"
             ],
             [
              0.3333333333333333,
              "#9c179e"
             ],
             [
              0.4444444444444444,
              "#bd3786"
             ],
             [
              0.5555555555555556,
              "#d8576b"
             ],
             [
              0.6666666666666666,
              "#ed7953"
             ],
             [
              0.7777777777777778,
              "#fb9f3a"
             ],
             [
              0.8888888888888888,
              "#fdca26"
             ],
             [
              1,
              "#f0f921"
             ]
            ],
            "type": "heatmapgl"
           }
          ],
          "histogram": [
           {
            "marker": {
             "pattern": {
              "fillmode": "overlay",
              "size": 10,
              "solidity": 0.2
             }
            },
            "type": "histogram"
           }
          ],
          "histogram2d": [
           {
            "colorbar": {
             "outlinewidth": 0,
             "ticks": ""
            },
            "colorscale": [
             [
              0,
              "#0d0887"
             ],
             [
              0.1111111111111111,
              "#46039f"
             ],
             [
              0.2222222222222222,
              "#7201a8"
             ],
             [
              0.3333333333333333,
              "#9c179e"
             ],
             [
              0.4444444444444444,
              "#bd3786"
             ],
             [
              0.5555555555555556,
              "#d8576b"
             ],
             [
              0.6666666666666666,
              "#ed7953"
             ],
             [
              0.7777777777777778,
              "#fb9f3a"
             ],
             [
              0.8888888888888888,
              "#fdca26"
             ],
             [
              1,
              "#f0f921"
             ]
            ],
            "type": "histogram2d"
           }
          ],
          "histogram2dcontour": [
           {
            "colorbar": {
             "outlinewidth": 0,
             "ticks": ""
            },
            "colorscale": [
             [
              0,
              "#0d0887"
             ],
             [
              0.1111111111111111,
              "#46039f"
             ],
             [
              0.2222222222222222,
              "#7201a8"
             ],
             [
              0.3333333333333333,
              "#9c179e"
             ],
             [
              0.4444444444444444,
              "#bd3786"
             ],
             [
              0.5555555555555556,
              "#d8576b"
             ],
             [
              0.6666666666666666,
              "#ed7953"
             ],
             [
              0.7777777777777778,
              "#fb9f3a"
             ],
             [
              0.8888888888888888,
              "#fdca26"
             ],
             [
              1,
              "#f0f921"
             ]
            ],
            "type": "histogram2dcontour"
           }
          ],
          "mesh3d": [
           {
            "colorbar": {
             "outlinewidth": 0,
             "ticks": ""
            },
            "type": "mesh3d"
           }
          ],
          "parcoords": [
           {
            "line": {
             "colorbar": {
              "outlinewidth": 0,
              "ticks": ""
             }
            },
            "type": "parcoords"
           }
          ],
          "pie": [
           {
            "automargin": true,
            "type": "pie"
           }
          ],
          "scatter": [
           {
            "fillpattern": {
             "fillmode": "overlay",
             "size": 10,
             "solidity": 0.2
            },
            "type": "scatter"
           }
          ],
          "scatter3d": [
           {
            "line": {
             "colorbar": {
              "outlinewidth": 0,
              "ticks": ""
             }
            },
            "marker": {
             "colorbar": {
              "outlinewidth": 0,
              "ticks": ""
             }
            },
            "type": "scatter3d"
           }
          ],
          "scattercarpet": [
           {
            "marker": {
             "colorbar": {
              "outlinewidth": 0,
              "ticks": ""
             }
            },
            "type": "scattercarpet"
           }
          ],
          "scattergeo": [
           {
            "marker": {
             "colorbar": {
              "outlinewidth": 0,
              "ticks": ""
             }
            },
            "type": "scattergeo"
           }
          ],
          "scattergl": [
           {
            "marker": {
             "colorbar": {
              "outlinewidth": 0,
              "ticks": ""
             }
            },
            "type": "scattergl"
           }
          ],
          "scattermapbox": [
           {
            "marker": {
             "colorbar": {
              "outlinewidth": 0,
              "ticks": ""
             }
            },
            "type": "scattermapbox"
           }
          ],
          "scatterpolar": [
           {
            "marker": {
             "colorbar": {
              "outlinewidth": 0,
              "ticks": ""
             }
            },
            "type": "scatterpolar"
           }
          ],
          "scatterpolargl": [
           {
            "marker": {
             "colorbar": {
              "outlinewidth": 0,
              "ticks": ""
             }
            },
            "type": "scatterpolargl"
           }
          ],
          "scatterternary": [
           {
            "marker": {
             "colorbar": {
              "outlinewidth": 0,
              "ticks": ""
             }
            },
            "type": "scatterternary"
           }
          ],
          "surface": [
           {
            "colorbar": {
             "outlinewidth": 0,
             "ticks": ""
            },
            "colorscale": [
             [
              0,
              "#0d0887"
             ],
             [
              0.1111111111111111,
              "#46039f"
             ],
             [
              0.2222222222222222,
              "#7201a8"
             ],
             [
              0.3333333333333333,
              "#9c179e"
             ],
             [
              0.4444444444444444,
              "#bd3786"
             ],
             [
              0.5555555555555556,
              "#d8576b"
             ],
             [
              0.6666666666666666,
              "#ed7953"
             ],
             [
              0.7777777777777778,
              "#fb9f3a"
             ],
             [
              0.8888888888888888,
              "#fdca26"
             ],
             [
              1,
              "#f0f921"
             ]
            ],
            "type": "surface"
           }
          ],
          "table": [
           {
            "cells": {
             "fill": {
              "color": "#EBF0F8"
             },
             "line": {
              "color": "white"
             }
            },
            "header": {
             "fill": {
              "color": "#C8D4E3"
             },
             "line": {
              "color": "white"
             }
            },
            "type": "table"
           }
          ]
         },
         "layout": {
          "annotationdefaults": {
           "arrowcolor": "#2a3f5f",
           "arrowhead": 0,
           "arrowwidth": 1
          },
          "autotypenumbers": "strict",
          "coloraxis": {
           "colorbar": {
            "outlinewidth": 0,
            "ticks": ""
           }
          },
          "colorscale": {
           "diverging": [
            [
             0,
             "#8e0152"
            ],
            [
             0.1,
             "#c51b7d"
            ],
            [
             0.2,
             "#de77ae"
            ],
            [
             0.3,
             "#f1b6da"
            ],
            [
             0.4,
             "#fde0ef"
            ],
            [
             0.5,
             "#f7f7f7"
            ],
            [
             0.6,
             "#e6f5d0"
            ],
            [
             0.7,
             "#b8e186"
            ],
            [
             0.8,
             "#7fbc41"
            ],
            [
             0.9,
             "#4d9221"
            ],
            [
             1,
             "#276419"
            ]
           ],
           "sequential": [
            [
             0,
             "#0d0887"
            ],
            [
             0.1111111111111111,
             "#46039f"
            ],
            [
             0.2222222222222222,
             "#7201a8"
            ],
            [
             0.3333333333333333,
             "#9c179e"
            ],
            [
             0.4444444444444444,
             "#bd3786"
            ],
            [
             0.5555555555555556,
             "#d8576b"
            ],
            [
             0.6666666666666666,
             "#ed7953"
            ],
            [
             0.7777777777777778,
             "#fb9f3a"
            ],
            [
             0.8888888888888888,
             "#fdca26"
            ],
            [
             1,
             "#f0f921"
            ]
           ],
           "sequentialminus": [
            [
             0,
             "#0d0887"
            ],
            [
             0.1111111111111111,
             "#46039f"
            ],
            [
             0.2222222222222222,
             "#7201a8"
            ],
            [
             0.3333333333333333,
             "#9c179e"
            ],
            [
             0.4444444444444444,
             "#bd3786"
            ],
            [
             0.5555555555555556,
             "#d8576b"
            ],
            [
             0.6666666666666666,
             "#ed7953"
            ],
            [
             0.7777777777777778,
             "#fb9f3a"
            ],
            [
             0.8888888888888888,
             "#fdca26"
            ],
            [
             1,
             "#f0f921"
            ]
           ]
          },
          "colorway": [
           "#636efa",
           "#EF553B",
           "#00cc96",
           "#ab63fa",
           "#FFA15A",
           "#19d3f3",
           "#FF6692",
           "#B6E880",
           "#FF97FF",
           "#FECB52"
          ],
          "font": {
           "color": "#2a3f5f"
          },
          "geo": {
           "bgcolor": "white",
           "lakecolor": "white",
           "landcolor": "#E5ECF6",
           "showlakes": true,
           "showland": true,
           "subunitcolor": "white"
          },
          "hoverlabel": {
           "align": "left"
          },
          "hovermode": "closest",
          "mapbox": {
           "style": "light"
          },
          "paper_bgcolor": "white",
          "plot_bgcolor": "#E5ECF6",
          "polar": {
           "angularaxis": {
            "gridcolor": "white",
            "linecolor": "white",
            "ticks": ""
           },
           "bgcolor": "#E5ECF6",
           "radialaxis": {
            "gridcolor": "white",
            "linecolor": "white",
            "ticks": ""
           }
          },
          "scene": {
           "xaxis": {
            "backgroundcolor": "#E5ECF6",
            "gridcolor": "white",
            "gridwidth": 2,
            "linecolor": "white",
            "showbackground": true,
            "ticks": "",
            "zerolinecolor": "white"
           },
           "yaxis": {
            "backgroundcolor": "#E5ECF6",
            "gridcolor": "white",
            "gridwidth": 2,
            "linecolor": "white",
            "showbackground": true,
            "ticks": "",
            "zerolinecolor": "white"
           },
           "zaxis": {
            "backgroundcolor": "#E5ECF6",
            "gridcolor": "white",
            "gridwidth": 2,
            "linecolor": "white",
            "showbackground": true,
            "ticks": "",
            "zerolinecolor": "white"
           }
          },
          "shapedefaults": {
           "line": {
            "color": "#2a3f5f"
           }
          },
          "ternary": {
           "aaxis": {
            "gridcolor": "white",
            "linecolor": "white",
            "ticks": ""
           },
           "baxis": {
            "gridcolor": "white",
            "linecolor": "white",
            "ticks": ""
           },
           "bgcolor": "#E5ECF6",
           "caxis": {
            "gridcolor": "white",
            "linecolor": "white",
            "ticks": ""
           }
          },
          "title": {
           "x": 0.05
          },
          "xaxis": {
           "automargin": true,
           "gridcolor": "white",
           "linecolor": "white",
           "ticks": "",
           "title": {
            "standoff": 15
           },
           "zerolinecolor": "white",
           "zerolinewidth": 2
          },
          "yaxis": {
           "automargin": true,
           "gridcolor": "white",
           "linecolor": "white",
           "ticks": "",
           "title": {
            "standoff": 15
           },
           "zerolinecolor": "white",
           "zerolinewidth": 2
          }
         }
        },
        "xaxis": {
         "anchor": "y",
         "domain": [
          0,
          1
         ],
         "title": {
          "text": "date"
         }
        },
        "yaxis": {
         "anchor": "x",
         "domain": [
          0,
          1
         ],
         "title": {
          "text": "avg"
         }
        }
       }
      }
     },
     "metadata": {},
     "output_type": "display_data"
    }
   ],
   "source": [
    "avg_news = df_news_likes[['Date', 'Likes']].groupby(['Date'])['Likes'].mean()\n",
    "avg_news = pd.DataFrame({'date':avg_news.index, 'avg':avg_news.values})\n",
    "\n",
    "fig4 = px.scatter(avg_news, x=\"date\", y=\"avg\", color='avg')\n",
    "fig4.show()"
   ]
  },
  {
   "cell_type": "code",
   "execution_count": 68,
   "metadata": {},
   "outputs": [
    {
     "data": {
      "application/vnd.plotly.v1+json": {
       "config": {
        "plotlyServerURL": "https://plot.ly"
       },
       "data": [
        {
         "hovertemplate": "date=%{x}<br>cnt=%{marker.color}<extra></extra>",
         "legendgroup": "",
         "marker": {
          "color": [
           3,
           7,
           8,
           9,
           11,
           24,
           23,
           13,
           18,
           26,
           21,
           31,
           38,
           36,
           29,
           18,
           22,
           34,
           45,
           51,
           56,
           30,
           37,
           47,
           72,
           83,
           52,
           76,
           34,
           25,
           49,
           59,
           55,
           48,
           82,
           25,
           22,
           56,
           53,
           38,
           56,
           91,
           70,
           55,
           103,
           105,
           75,
           107,
           91,
           113,
           69,
           140,
           229,
           173,
           394,
           369,
           255,
           244,
           323,
           336,
           303,
           284,
           306,
           195,
           162,
           255,
           269,
           260,
           247,
           176,
           75,
           48,
           135,
           129,
           125,
           102,
           122,
           95,
           56,
           99,
           98,
           97,
           117,
           122,
           80,
           62,
           81,
           83,
           97,
           101,
           100,
           65,
           51,
           76,
           94,
           104,
           122,
           93,
           45,
           55,
           77,
           89,
           87,
           99,
           56,
           38,
           44,
           70,
           67,
           66,
           85,
           71,
           48,
           34,
           54,
           81,
           76,
           78,
           79,
           36,
           41,
           37,
           52,
           55,
           56,
           58,
           31,
           48,
           91,
           70,
           66,
           72,
           56,
           45,
           39,
           59,
           56,
           48,
           59,
           61,
           29,
           32,
           63,
           78,
           59,
           62,
           43,
           37,
           25,
           56,
           47,
           55,
           49,
           55,
           26,
           31,
           48,
           42,
           59,
           33,
           51,
           32,
           25,
           27,
           39,
           43,
           59,
           52,
           30,
           29,
           46,
           59,
           47,
           59,
           32,
           34,
           37,
           78,
           52,
           48,
           45,
           45,
           22,
           22,
           42,
           42,
           37,
           46,
           58,
           20,
           21,
           42,
           42,
           29,
           28,
           38,
           16,
           23,
           49,
           42,
           59,
           57,
           50,
           27,
           23,
           46,
           34,
           44,
           51,
           43,
           18,
           26,
           34,
           36,
           33,
           47,
           36,
           19,
           19,
           58,
           40,
           35,
           45,
           41,
           21,
           22,
           32,
           46,
           35,
           26,
           50,
           28,
           23,
           38,
           45,
           79,
           51,
           33,
           24,
           17,
           34,
           58,
           65,
           49,
           33,
           27,
           21,
           35,
           41,
           51,
           32,
           30,
           22,
           30,
           55,
           61,
           60,
           45,
           56,
           26,
           32,
           32,
           62,
           84,
           63,
           59,
           42,
           33,
           74,
           66,
           40,
           30,
           67,
           33,
           36,
           26,
           47,
           36,
           36,
           49,
           36,
           26,
           44,
           54,
           49,
           35,
           31,
           24,
           26,
           26,
           45,
           36,
           29,
           35,
           22,
           15,
           34,
           25,
           37,
           41,
           29,
           16,
           11,
           28,
           24,
           33,
           26,
           37,
           23,
           17,
           27,
           28,
           28,
           43,
           31,
           21,
           23,
           40,
           46,
           49,
           41,
           29,
           23,
           16,
           14,
           26,
           23,
           32,
           26,
           12,
           6,
           19,
           32,
           32,
           16,
           24,
           21,
           21,
           31,
           51,
           23,
           36,
           24,
           22,
           18,
           29,
           30,
           44,
           30,
           40,
           18,
           18,
           28,
           30,
           38,
           50,
           31,
           8,
           15,
           26,
           19,
           22,
           22,
           27,
           17,
           15,
           7,
           22,
           29,
           33,
           37,
           13,
           14,
           18,
           22,
           31,
           23,
           26,
           14,
           18,
           33,
           33,
           37,
           35,
           34,
           19,
           16,
           36,
           40,
           48,
           45,
           31,
           16,
           7,
           27,
           28,
           31,
           29,
           32,
           17,
           24,
           24,
           35,
           34,
           35,
           34,
           16,
           17,
           37,
           34,
           39,
           28,
           59,
           26,
           23,
           46,
           67,
           86,
           70,
           132,
           44,
           36,
           42,
           37,
           32,
           45,
           38,
           16,
           19,
           31,
           36,
           40,
           49,
           21,
           9,
           10,
           14,
           24,
           30,
           38,
           54,
           23,
           14,
           39,
           36,
           37,
           21,
           24,
           21,
           10,
           23,
           35,
           32,
           41,
           32,
           14,
           14,
           42,
           30,
           31,
           31,
           17,
           14,
           16,
           26,
           47,
           41,
           25,
           30,
           14,
           14,
           30,
           36,
           31,
           24,
           26,
           25,
           7,
           34,
           20,
           35,
           39,
           34,
           9
          ],
          "coloraxis": "coloraxis",
          "symbol": "circle"
         },
         "mode": "markers",
         "name": "",
         "orientation": "v",
         "showlegend": false,
         "type": "scatter",
         "x": [
          "2022-01-01 ",
          "2022-01-02 ",
          "2022-01-03 ",
          "2022-01-04 ",
          "2022-01-05 ",
          "2022-01-06 ",
          "2022-01-07 ",
          "2022-01-08 ",
          "2022-01-09 ",
          "2022-01-10 ",
          "2022-01-11 ",
          "2022-01-12 ",
          "2022-01-13 ",
          "2022-01-14 ",
          "2022-01-15 ",
          "2022-01-16 ",
          "2022-01-17 ",
          "2022-01-18 ",
          "2022-01-19 ",
          "2022-01-20 ",
          "2022-01-21 ",
          "2022-01-22 ",
          "2022-01-23 ",
          "2022-01-24 ",
          "2022-01-25 ",
          "2022-01-26 ",
          "2022-01-27 ",
          "2022-01-28 ",
          "2022-01-29 ",
          "2022-01-30 ",
          "2022-01-31 ",
          "2022-02-01 ",
          "2022-02-02 ",
          "2022-02-03 ",
          "2022-02-04 ",
          "2022-02-05 ",
          "2022-02-06 ",
          "2022-02-07 ",
          "2022-02-08 ",
          "2022-02-09 ",
          "2022-02-10 ",
          "2022-02-11 ",
          "2022-02-12 ",
          "2022-02-13 ",
          "2022-02-14 ",
          "2022-02-15 ",
          "2022-02-16 ",
          "2022-02-17 ",
          "2022-02-18 ",
          "2022-02-19 ",
          "2022-02-20 ",
          "2022-02-21 ",
          "2022-02-22 ",
          "2022-02-23 ",
          "2022-02-24 ",
          "2022-02-25 ",
          "2022-02-26 ",
          "2022-02-27 ",
          "2022-02-28 ",
          "2022-03-01 ",
          "2022-03-02 ",
          "2022-03-03 ",
          "2022-03-04 ",
          "2022-03-05 ",
          "2022-03-06 ",
          "2022-03-07 ",
          "2022-03-08 ",
          "2022-03-09 ",
          "2022-03-10 ",
          "2022-03-11 ",
          "2022-03-12 ",
          "2022-03-13 ",
          "2022-03-14 ",
          "2022-03-15 ",
          "2022-03-16 ",
          "2022-03-17 ",
          "2022-03-18 ",
          "2022-03-19 ",
          "2022-03-20 ",
          "2022-03-21 ",
          "2022-03-22 ",
          "2022-03-23 ",
          "2022-03-24 ",
          "2022-03-25 ",
          "2022-03-26 ",
          "2022-03-27 ",
          "2022-03-28 ",
          "2022-03-29 ",
          "2022-03-30 ",
          "2022-03-31 ",
          "2022-04-01 ",
          "2022-04-02 ",
          "2022-04-03 ",
          "2022-04-04 ",
          "2022-04-05 ",
          "2022-04-06 ",
          "2022-04-07 ",
          "2022-04-08 ",
          "2022-04-09 ",
          "2022-04-10 ",
          "2022-04-11 ",
          "2022-04-12 ",
          "2022-04-13 ",
          "2022-04-14 ",
          "2022-04-15 ",
          "2022-04-16 ",
          "2022-04-17 ",
          "2022-04-18 ",
          "2022-04-19 ",
          "2022-04-20 ",
          "2022-04-21 ",
          "2022-04-22 ",
          "2022-04-23 ",
          "2022-04-24 ",
          "2022-04-25 ",
          "2022-04-26 ",
          "2022-04-27 ",
          "2022-04-28 ",
          "2022-04-29 ",
          "2022-04-30 ",
          "2022-05-01 ",
          "2022-05-02 ",
          "2022-05-03 ",
          "2022-05-04 ",
          "2022-05-05 ",
          "2022-05-06 ",
          "2022-05-07 ",
          "2022-05-08 ",
          "2022-05-09 ",
          "2022-05-10 ",
          "2022-05-11 ",
          "2022-05-12 ",
          "2022-05-13 ",
          "2022-05-14 ",
          "2022-05-15 ",
          "2022-05-16 ",
          "2022-05-17 ",
          "2022-05-18 ",
          "2022-05-19 ",
          "2022-05-20 ",
          "2022-05-21 ",
          "2022-05-22 ",
          "2022-05-23 ",
          "2022-05-24 ",
          "2022-05-25 ",
          "2022-05-26 ",
          "2022-05-27 ",
          "2022-05-28 ",
          "2022-05-29 ",
          "2022-05-30 ",
          "2022-05-31 ",
          "2022-06-01 ",
          "2022-06-02 ",
          "2022-06-03 ",
          "2022-06-04 ",
          "2022-06-05 ",
          "2022-06-06 ",
          "2022-06-07 ",
          "2022-06-08 ",
          "2022-06-09 ",
          "2022-06-10 ",
          "2022-06-11 ",
          "2022-06-12 ",
          "2022-06-13 ",
          "2022-06-14 ",
          "2022-06-15 ",
          "2022-06-16 ",
          "2022-06-17 ",
          "2022-06-18 ",
          "2022-06-19 ",
          "2022-06-20 ",
          "2022-06-21 ",
          "2022-06-22 ",
          "2022-06-23 ",
          "2022-06-24 ",
          "2022-06-25 ",
          "2022-06-26 ",
          "2022-06-27 ",
          "2022-06-28 ",
          "2022-06-29 ",
          "2022-06-30 ",
          "2022-07-01 ",
          "2022-07-02 ",
          "2022-07-03 ",
          "2022-07-04 ",
          "2022-07-05 ",
          "2022-07-06 ",
          "2022-07-07 ",
          "2022-07-08 ",
          "2022-07-09 ",
          "2022-07-10 ",
          "2022-07-11 ",
          "2022-07-12 ",
          "2022-07-13 ",
          "2022-07-14 ",
          "2022-07-15 ",
          "2022-07-16 ",
          "2022-07-17 ",
          "2022-07-18 ",
          "2022-07-19 ",
          "2022-07-20 ",
          "2022-07-21 ",
          "2022-07-22 ",
          "2022-07-23 ",
          "2022-07-24 ",
          "2022-07-25 ",
          "2022-07-26 ",
          "2022-07-27 ",
          "2022-07-28 ",
          "2022-07-29 ",
          "2022-07-30 ",
          "2022-07-31 ",
          "2022-08-01 ",
          "2022-08-02 ",
          "2022-08-03 ",
          "2022-08-04 ",
          "2022-08-05 ",
          "2022-08-06 ",
          "2022-08-07 ",
          "2022-08-08 ",
          "2022-08-09 ",
          "2022-08-10 ",
          "2022-08-11 ",
          "2022-08-12 ",
          "2022-08-13 ",
          "2022-08-14 ",
          "2022-08-15 ",
          "2022-08-16 ",
          "2022-08-17 ",
          "2022-08-18 ",
          "2022-08-19 ",
          "2022-08-20 ",
          "2022-08-21 ",
          "2022-08-22 ",
          "2022-08-23 ",
          "2022-08-24 ",
          "2022-08-25 ",
          "2022-08-26 ",
          "2022-08-27 ",
          "2022-08-28 ",
          "2022-08-29 ",
          "2022-08-30 ",
          "2022-08-31 ",
          "2022-09-01 ",
          "2022-09-02 ",
          "2022-09-03 ",
          "2022-09-04 ",
          "2022-09-05 ",
          "2022-09-06 ",
          "2022-09-07 ",
          "2022-09-08 ",
          "2022-09-09 ",
          "2022-09-10 ",
          "2022-09-11 ",
          "2022-09-12 ",
          "2022-09-13 ",
          "2022-09-14 ",
          "2022-09-15 ",
          "2022-09-16 ",
          "2022-09-17 ",
          "2022-09-18 ",
          "2022-09-19 ",
          "2022-09-20 ",
          "2022-09-21 ",
          "2022-09-22 ",
          "2022-09-23 ",
          "2022-09-24 ",
          "2022-09-25 ",
          "2022-09-26 ",
          "2022-09-27 ",
          "2022-09-28 ",
          "2022-09-29 ",
          "2022-09-30 ",
          "2022-10-01 ",
          "2022-10-02 ",
          "2022-10-03 ",
          "2022-10-04 ",
          "2022-10-05 ",
          "2022-10-06 ",
          "2022-10-07 ",
          "2022-10-08 ",
          "2022-10-09 ",
          "2022-10-10 ",
          "2022-10-11 ",
          "2022-10-12 ",
          "2022-10-13 ",
          "2022-10-14 ",
          "2022-10-15 ",
          "2022-10-16 ",
          "2022-10-17 ",
          "2022-10-18 ",
          "2022-10-19 ",
          "2022-10-20 ",
          "2022-10-21 ",
          "2022-10-22 ",
          "2022-10-23 ",
          "2022-10-24 ",
          "2022-10-25 ",
          "2022-10-26 ",
          "2022-10-27 ",
          "2022-10-28 ",
          "2022-10-29 ",
          "2022-10-30 ",
          "2022-10-31 ",
          "2022-11-01 ",
          "2022-11-02 ",
          "2022-11-03 ",
          "2022-11-04 ",
          "2022-11-05 ",
          "2022-11-06 ",
          "2022-11-07 ",
          "2022-11-08 ",
          "2022-11-09 ",
          "2022-11-10 ",
          "2022-11-11 ",
          "2022-11-12 ",
          "2022-11-13 ",
          "2022-11-14 ",
          "2022-11-15 ",
          "2022-11-16 ",
          "2022-11-17 ",
          "2022-11-18 ",
          "2022-11-19 ",
          "2022-11-20 ",
          "2022-11-21 ",
          "2022-11-22 ",
          "2022-11-23 ",
          "2022-11-24 ",
          "2022-11-25 ",
          "2022-11-26 ",
          "2022-11-27 ",
          "2022-11-28 ",
          "2022-11-29 ",
          "2022-11-30 ",
          "2022-12-01 ",
          "2022-12-02 ",
          "2022-12-03 ",
          "2022-12-04 ",
          "2022-12-05 ",
          "2022-12-06 ",
          "2022-12-07 ",
          "2022-12-08 ",
          "2022-12-09 ",
          "2022-12-10 ",
          "2022-12-11 ",
          "2022-12-12 ",
          "2022-12-13 ",
          "2022-12-14 ",
          "2022-12-15 ",
          "2022-12-16 ",
          "2022-12-17 ",
          "2022-12-18 ",
          "2022-12-19 ",
          "2022-12-20 ",
          "2022-12-21 ",
          "2022-12-22 ",
          "2022-12-23 ",
          "2022-12-24 ",
          "2022-12-25 ",
          "2022-12-26 ",
          "2022-12-27 ",
          "2022-12-28 ",
          "2022-12-29 ",
          "2022-12-30 ",
          "2022-12-31 ",
          "2023-01-01 ",
          "2023-01-02 ",
          "2023-01-03 ",
          "2023-01-04 ",
          "2023-01-05 ",
          "2023-01-06 ",
          "2023-01-07 ",
          "2023-01-08 ",
          "2023-01-09 ",
          "2023-01-10 ",
          "2023-01-11 ",
          "2023-01-12 ",
          "2023-01-13 ",
          "2023-01-14 ",
          "2023-01-15 ",
          "2023-01-16 ",
          "2023-01-17 ",
          "2023-01-18 ",
          "2023-01-19 ",
          "2023-01-20 ",
          "2023-01-21 ",
          "2023-01-22 ",
          "2023-01-23 ",
          "2023-01-24 ",
          "2023-01-25 ",
          "2023-01-26 ",
          "2023-01-27 ",
          "2023-01-28 ",
          "2023-01-29 ",
          "2023-01-30 ",
          "2023-01-31 ",
          "2023-02-01 ",
          "2023-02-02 ",
          "2023-02-03 ",
          "2023-02-04 ",
          "2023-02-05 ",
          "2023-02-06 ",
          "2023-02-07 ",
          "2023-02-08 ",
          "2023-02-09 ",
          "2023-02-10 ",
          "2023-02-11 ",
          "2023-02-12 ",
          "2023-02-13 ",
          "2023-02-14 ",
          "2023-02-15 ",
          "2023-02-16 ",
          "2023-02-17 ",
          "2023-02-18 ",
          "2023-02-19 ",
          "2023-02-20 ",
          "2023-02-21 ",
          "2023-02-22 ",
          "2023-02-23 ",
          "2023-02-24 ",
          "2023-02-25 ",
          "2023-02-26 ",
          "2023-02-27 ",
          "2023-02-28 ",
          "2023-03-01 ",
          "2023-03-02 ",
          "2023-03-03 ",
          "2023-03-04 ",
          "2023-03-05 ",
          "2023-03-06 ",
          "2023-03-07 ",
          "2023-03-08 ",
          "2023-03-09 ",
          "2023-03-10 ",
          "2023-03-11 ",
          "2023-03-12 ",
          "2023-03-13 ",
          "2023-03-14 ",
          "2023-03-15 ",
          "2023-03-16 ",
          "2023-03-17 ",
          "2023-03-18 ",
          "2023-03-19 ",
          "2023-03-20 ",
          "2023-03-21 ",
          "2023-03-22 ",
          "2023-03-23 ",
          "2023-03-24 ",
          "2023-03-25 ",
          "2023-03-26 ",
          "2023-03-27 ",
          "2023-03-28 ",
          "2023-03-29 ",
          "2023-03-30 ",
          "2023-03-31 ",
          "2023-04-01 ",
          "2023-04-02 ",
          "2023-04-03 ",
          "2023-04-04 ",
          "2023-04-05 ",
          "2023-04-06 ",
          "2023-04-07 ",
          "2023-04-08 ",
          "2023-04-09 ",
          "2023-04-10 ",
          "2023-04-11 ",
          "2023-04-12 ",
          "2023-04-13 ",
          "2023-04-14 ",
          "2023-04-15 ",
          "2023-04-16 ",
          "2023-04-17 ",
          "2023-04-18 ",
          "2023-04-19 ",
          "2023-04-20 ",
          "2023-04-21 ",
          "2023-04-22 ",
          "2023-04-23 ",
          "2023-04-24 ",
          "2023-04-25 ",
          "2023-04-26 ",
          "2023-04-27 ",
          "2023-04-28 ",
          "2023-04-29 "
         ],
         "xaxis": "x",
         "y": [
          3,
          7,
          8,
          9,
          11,
          24,
          23,
          13,
          18,
          26,
          21,
          31,
          38,
          36,
          29,
          18,
          22,
          34,
          45,
          51,
          56,
          30,
          37,
          47,
          72,
          83,
          52,
          76,
          34,
          25,
          49,
          59,
          55,
          48,
          82,
          25,
          22,
          56,
          53,
          38,
          56,
          91,
          70,
          55,
          103,
          105,
          75,
          107,
          91,
          113,
          69,
          140,
          229,
          173,
          394,
          369,
          255,
          244,
          323,
          336,
          303,
          284,
          306,
          195,
          162,
          255,
          269,
          260,
          247,
          176,
          75,
          48,
          135,
          129,
          125,
          102,
          122,
          95,
          56,
          99,
          98,
          97,
          117,
          122,
          80,
          62,
          81,
          83,
          97,
          101,
          100,
          65,
          51,
          76,
          94,
          104,
          122,
          93,
          45,
          55,
          77,
          89,
          87,
          99,
          56,
          38,
          44,
          70,
          67,
          66,
          85,
          71,
          48,
          34,
          54,
          81,
          76,
          78,
          79,
          36,
          41,
          37,
          52,
          55,
          56,
          58,
          31,
          48,
          91,
          70,
          66,
          72,
          56,
          45,
          39,
          59,
          56,
          48,
          59,
          61,
          29,
          32,
          63,
          78,
          59,
          62,
          43,
          37,
          25,
          56,
          47,
          55,
          49,
          55,
          26,
          31,
          48,
          42,
          59,
          33,
          51,
          32,
          25,
          27,
          39,
          43,
          59,
          52,
          30,
          29,
          46,
          59,
          47,
          59,
          32,
          34,
          37,
          78,
          52,
          48,
          45,
          45,
          22,
          22,
          42,
          42,
          37,
          46,
          58,
          20,
          21,
          42,
          42,
          29,
          28,
          38,
          16,
          23,
          49,
          42,
          59,
          57,
          50,
          27,
          23,
          46,
          34,
          44,
          51,
          43,
          18,
          26,
          34,
          36,
          33,
          47,
          36,
          19,
          19,
          58,
          40,
          35,
          45,
          41,
          21,
          22,
          32,
          46,
          35,
          26,
          50,
          28,
          23,
          38,
          45,
          79,
          51,
          33,
          24,
          17,
          34,
          58,
          65,
          49,
          33,
          27,
          21,
          35,
          41,
          51,
          32,
          30,
          22,
          30,
          55,
          61,
          60,
          45,
          56,
          26,
          32,
          32,
          62,
          84,
          63,
          59,
          42,
          33,
          74,
          66,
          40,
          30,
          67,
          33,
          36,
          26,
          47,
          36,
          36,
          49,
          36,
          26,
          44,
          54,
          49,
          35,
          31,
          24,
          26,
          26,
          45,
          36,
          29,
          35,
          22,
          15,
          34,
          25,
          37,
          41,
          29,
          16,
          11,
          28,
          24,
          33,
          26,
          37,
          23,
          17,
          27,
          28,
          28,
          43,
          31,
          21,
          23,
          40,
          46,
          49,
          41,
          29,
          23,
          16,
          14,
          26,
          23,
          32,
          26,
          12,
          6,
          19,
          32,
          32,
          16,
          24,
          21,
          21,
          31,
          51,
          23,
          36,
          24,
          22,
          18,
          29,
          30,
          44,
          30,
          40,
          18,
          18,
          28,
          30,
          38,
          50,
          31,
          8,
          15,
          26,
          19,
          22,
          22,
          27,
          17,
          15,
          7,
          22,
          29,
          33,
          37,
          13,
          14,
          18,
          22,
          31,
          23,
          26,
          14,
          18,
          33,
          33,
          37,
          35,
          34,
          19,
          16,
          36,
          40,
          48,
          45,
          31,
          16,
          7,
          27,
          28,
          31,
          29,
          32,
          17,
          24,
          24,
          35,
          34,
          35,
          34,
          16,
          17,
          37,
          34,
          39,
          28,
          59,
          26,
          23,
          46,
          67,
          86,
          70,
          132,
          44,
          36,
          42,
          37,
          32,
          45,
          38,
          16,
          19,
          31,
          36,
          40,
          49,
          21,
          9,
          10,
          14,
          24,
          30,
          38,
          54,
          23,
          14,
          39,
          36,
          37,
          21,
          24,
          21,
          10,
          23,
          35,
          32,
          41,
          32,
          14,
          14,
          42,
          30,
          31,
          31,
          17,
          14,
          16,
          26,
          47,
          41,
          25,
          30,
          14,
          14,
          30,
          36,
          31,
          24,
          26,
          25,
          7,
          34,
          20,
          35,
          39,
          34,
          9
         ],
         "yaxis": "y"
        }
       ],
       "layout": {
        "coloraxis": {
         "colorbar": {
          "title": {
           "text": "cnt"
          }
         },
         "colorscale": [
          [
           0,
           "#0d0887"
          ],
          [
           0.1111111111111111,
           "#46039f"
          ],
          [
           0.2222222222222222,
           "#7201a8"
          ],
          [
           0.3333333333333333,
           "#9c179e"
          ],
          [
           0.4444444444444444,
           "#bd3786"
          ],
          [
           0.5555555555555556,
           "#d8576b"
          ],
          [
           0.6666666666666666,
           "#ed7953"
          ],
          [
           0.7777777777777778,
           "#fb9f3a"
          ],
          [
           0.8888888888888888,
           "#fdca26"
          ],
          [
           1,
           "#f0f921"
          ]
         ]
        },
        "legend": {
         "tracegroupgap": 0
        },
        "margin": {
         "t": 60
        },
        "template": {
         "data": {
          "bar": [
           {
            "error_x": {
             "color": "#2a3f5f"
            },
            "error_y": {
             "color": "#2a3f5f"
            },
            "marker": {
             "line": {
              "color": "#E5ECF6",
              "width": 0.5
             },
             "pattern": {
              "fillmode": "overlay",
              "size": 10,
              "solidity": 0.2
             }
            },
            "type": "bar"
           }
          ],
          "barpolar": [
           {
            "marker": {
             "line": {
              "color": "#E5ECF6",
              "width": 0.5
             },
             "pattern": {
              "fillmode": "overlay",
              "size": 10,
              "solidity": 0.2
             }
            },
            "type": "barpolar"
           }
          ],
          "carpet": [
           {
            "aaxis": {
             "endlinecolor": "#2a3f5f",
             "gridcolor": "white",
             "linecolor": "white",
             "minorgridcolor": "white",
             "startlinecolor": "#2a3f5f"
            },
            "baxis": {
             "endlinecolor": "#2a3f5f",
             "gridcolor": "white",
             "linecolor": "white",
             "minorgridcolor": "white",
             "startlinecolor": "#2a3f5f"
            },
            "type": "carpet"
           }
          ],
          "choropleth": [
           {
            "colorbar": {
             "outlinewidth": 0,
             "ticks": ""
            },
            "type": "choropleth"
           }
          ],
          "contour": [
           {
            "colorbar": {
             "outlinewidth": 0,
             "ticks": ""
            },
            "colorscale": [
             [
              0,
              "#0d0887"
             ],
             [
              0.1111111111111111,
              "#46039f"
             ],
             [
              0.2222222222222222,
              "#7201a8"
             ],
             [
              0.3333333333333333,
              "#9c179e"
             ],
             [
              0.4444444444444444,
              "#bd3786"
             ],
             [
              0.5555555555555556,
              "#d8576b"
             ],
             [
              0.6666666666666666,
              "#ed7953"
             ],
             [
              0.7777777777777778,
              "#fb9f3a"
             ],
             [
              0.8888888888888888,
              "#fdca26"
             ],
             [
              1,
              "#f0f921"
             ]
            ],
            "type": "contour"
           }
          ],
          "contourcarpet": [
           {
            "colorbar": {
             "outlinewidth": 0,
             "ticks": ""
            },
            "type": "contourcarpet"
           }
          ],
          "heatmap": [
           {
            "colorbar": {
             "outlinewidth": 0,
             "ticks": ""
            },
            "colorscale": [
             [
              0,
              "#0d0887"
             ],
             [
              0.1111111111111111,
              "#46039f"
             ],
             [
              0.2222222222222222,
              "#7201a8"
             ],
             [
              0.3333333333333333,
              "#9c179e"
             ],
             [
              0.4444444444444444,
              "#bd3786"
             ],
             [
              0.5555555555555556,
              "#d8576b"
             ],
             [
              0.6666666666666666,
              "#ed7953"
             ],
             [
              0.7777777777777778,
              "#fb9f3a"
             ],
             [
              0.8888888888888888,
              "#fdca26"
             ],
             [
              1,
              "#f0f921"
             ]
            ],
            "type": "heatmap"
           }
          ],
          "heatmapgl": [
           {
            "colorbar": {
             "outlinewidth": 0,
             "ticks": ""
            },
            "colorscale": [
             [
              0,
              "#0d0887"
             ],
             [
              0.1111111111111111,
              "#46039f"
             ],
             [
              0.2222222222222222,
              "#7201a8"
             ],
             [
              0.3333333333333333,
              "#9c179e"
             ],
             [
              0.4444444444444444,
              "#bd3786"
             ],
             [
              0.5555555555555556,
              "#d8576b"
             ],
             [
              0.6666666666666666,
              "#ed7953"
             ],
             [
              0.7777777777777778,
              "#fb9f3a"
             ],
             [
              0.8888888888888888,
              "#fdca26"
             ],
             [
              1,
              "#f0f921"
             ]
            ],
            "type": "heatmapgl"
           }
          ],
          "histogram": [
           {
            "marker": {
             "pattern": {
              "fillmode": "overlay",
              "size": 10,
              "solidity": 0.2
             }
            },
            "type": "histogram"
           }
          ],
          "histogram2d": [
           {
            "colorbar": {
             "outlinewidth": 0,
             "ticks": ""
            },
            "colorscale": [
             [
              0,
              "#0d0887"
             ],
             [
              0.1111111111111111,
              "#46039f"
             ],
             [
              0.2222222222222222,
              "#7201a8"
             ],
             [
              0.3333333333333333,
              "#9c179e"
             ],
             [
              0.4444444444444444,
              "#bd3786"
             ],
             [
              0.5555555555555556,
              "#d8576b"
             ],
             [
              0.6666666666666666,
              "#ed7953"
             ],
             [
              0.7777777777777778,
              "#fb9f3a"
             ],
             [
              0.8888888888888888,
              "#fdca26"
             ],
             [
              1,
              "#f0f921"
             ]
            ],
            "type": "histogram2d"
           }
          ],
          "histogram2dcontour": [
           {
            "colorbar": {
             "outlinewidth": 0,
             "ticks": ""
            },
            "colorscale": [
             [
              0,
              "#0d0887"
             ],
             [
              0.1111111111111111,
              "#46039f"
             ],
             [
              0.2222222222222222,
              "#7201a8"
             ],
             [
              0.3333333333333333,
              "#9c179e"
             ],
             [
              0.4444444444444444,
              "#bd3786"
             ],
             [
              0.5555555555555556,
              "#d8576b"
             ],
             [
              0.6666666666666666,
              "#ed7953"
             ],
             [
              0.7777777777777778,
              "#fb9f3a"
             ],
             [
              0.8888888888888888,
              "#fdca26"
             ],
             [
              1,
              "#f0f921"
             ]
            ],
            "type": "histogram2dcontour"
           }
          ],
          "mesh3d": [
           {
            "colorbar": {
             "outlinewidth": 0,
             "ticks": ""
            },
            "type": "mesh3d"
           }
          ],
          "parcoords": [
           {
            "line": {
             "colorbar": {
              "outlinewidth": 0,
              "ticks": ""
             }
            },
            "type": "parcoords"
           }
          ],
          "pie": [
           {
            "automargin": true,
            "type": "pie"
           }
          ],
          "scatter": [
           {
            "fillpattern": {
             "fillmode": "overlay",
             "size": 10,
             "solidity": 0.2
            },
            "type": "scatter"
           }
          ],
          "scatter3d": [
           {
            "line": {
             "colorbar": {
              "outlinewidth": 0,
              "ticks": ""
             }
            },
            "marker": {
             "colorbar": {
              "outlinewidth": 0,
              "ticks": ""
             }
            },
            "type": "scatter3d"
           }
          ],
          "scattercarpet": [
           {
            "marker": {
             "colorbar": {
              "outlinewidth": 0,
              "ticks": ""
             }
            },
            "type": "scattercarpet"
           }
          ],
          "scattergeo": [
           {
            "marker": {
             "colorbar": {
              "outlinewidth": 0,
              "ticks": ""
             }
            },
            "type": "scattergeo"
           }
          ],
          "scattergl": [
           {
            "marker": {
             "colorbar": {
              "outlinewidth": 0,
              "ticks": ""
             }
            },
            "type": "scattergl"
           }
          ],
          "scattermapbox": [
           {
            "marker": {
             "colorbar": {
              "outlinewidth": 0,
              "ticks": ""
             }
            },
            "type": "scattermapbox"
           }
          ],
          "scatterpolar": [
           {
            "marker": {
             "colorbar": {
              "outlinewidth": 0,
              "ticks": ""
             }
            },
            "type": "scatterpolar"
           }
          ],
          "scatterpolargl": [
           {
            "marker": {
             "colorbar": {
              "outlinewidth": 0,
              "ticks": ""
             }
            },
            "type": "scatterpolargl"
           }
          ],
          "scatterternary": [
           {
            "marker": {
             "colorbar": {
              "outlinewidth": 0,
              "ticks": ""
             }
            },
            "type": "scatterternary"
           }
          ],
          "surface": [
           {
            "colorbar": {
             "outlinewidth": 0,
             "ticks": ""
            },
            "colorscale": [
             [
              0,
              "#0d0887"
             ],
             [
              0.1111111111111111,
              "#46039f"
             ],
             [
              0.2222222222222222,
              "#7201a8"
             ],
             [
              0.3333333333333333,
              "#9c179e"
             ],
             [
              0.4444444444444444,
              "#bd3786"
             ],
             [
              0.5555555555555556,
              "#d8576b"
             ],
             [
              0.6666666666666666,
              "#ed7953"
             ],
             [
              0.7777777777777778,
              "#fb9f3a"
             ],
             [
              0.8888888888888888,
              "#fdca26"
             ],
             [
              1,
              "#f0f921"
             ]
            ],
            "type": "surface"
           }
          ],
          "table": [
           {
            "cells": {
             "fill": {
              "color": "#EBF0F8"
             },
             "line": {
              "color": "white"
             }
            },
            "header": {
             "fill": {
              "color": "#C8D4E3"
             },
             "line": {
              "color": "white"
             }
            },
            "type": "table"
           }
          ]
         },
         "layout": {
          "annotationdefaults": {
           "arrowcolor": "#2a3f5f",
           "arrowhead": 0,
           "arrowwidth": 1
          },
          "autotypenumbers": "strict",
          "coloraxis": {
           "colorbar": {
            "outlinewidth": 0,
            "ticks": ""
           }
          },
          "colorscale": {
           "diverging": [
            [
             0,
             "#8e0152"
            ],
            [
             0.1,
             "#c51b7d"
            ],
            [
             0.2,
             "#de77ae"
            ],
            [
             0.3,
             "#f1b6da"
            ],
            [
             0.4,
             "#fde0ef"
            ],
            [
             0.5,
             "#f7f7f7"
            ],
            [
             0.6,
             "#e6f5d0"
            ],
            [
             0.7,
             "#b8e186"
            ],
            [
             0.8,
             "#7fbc41"
            ],
            [
             0.9,
             "#4d9221"
            ],
            [
             1,
             "#276419"
            ]
           ],
           "sequential": [
            [
             0,
             "#0d0887"
            ],
            [
             0.1111111111111111,
             "#46039f"
            ],
            [
             0.2222222222222222,
             "#7201a8"
            ],
            [
             0.3333333333333333,
             "#9c179e"
            ],
            [
             0.4444444444444444,
             "#bd3786"
            ],
            [
             0.5555555555555556,
             "#d8576b"
            ],
            [
             0.6666666666666666,
             "#ed7953"
            ],
            [
             0.7777777777777778,
             "#fb9f3a"
            ],
            [
             0.8888888888888888,
             "#fdca26"
            ],
            [
             1,
             "#f0f921"
            ]
           ],
           "sequentialminus": [
            [
             0,
             "#0d0887"
            ],
            [
             0.1111111111111111,
             "#46039f"
            ],
            [
             0.2222222222222222,
             "#7201a8"
            ],
            [
             0.3333333333333333,
             "#9c179e"
            ],
            [
             0.4444444444444444,
             "#bd3786"
            ],
            [
             0.5555555555555556,
             "#d8576b"
            ],
            [
             0.6666666666666666,
             "#ed7953"
            ],
            [
             0.7777777777777778,
             "#fb9f3a"
            ],
            [
             0.8888888888888888,
             "#fdca26"
            ],
            [
             1,
             "#f0f921"
            ]
           ]
          },
          "colorway": [
           "#636efa",
           "#EF553B",
           "#00cc96",
           "#ab63fa",
           "#FFA15A",
           "#19d3f3",
           "#FF6692",
           "#B6E880",
           "#FF97FF",
           "#FECB52"
          ],
          "font": {
           "color": "#2a3f5f"
          },
          "geo": {
           "bgcolor": "white",
           "lakecolor": "white",
           "landcolor": "#E5ECF6",
           "showlakes": true,
           "showland": true,
           "subunitcolor": "white"
          },
          "hoverlabel": {
           "align": "left"
          },
          "hovermode": "closest",
          "mapbox": {
           "style": "light"
          },
          "paper_bgcolor": "white",
          "plot_bgcolor": "#E5ECF6",
          "polar": {
           "angularaxis": {
            "gridcolor": "white",
            "linecolor": "white",
            "ticks": ""
           },
           "bgcolor": "#E5ECF6",
           "radialaxis": {
            "gridcolor": "white",
            "linecolor": "white",
            "ticks": ""
           }
          },
          "scene": {
           "xaxis": {
            "backgroundcolor": "#E5ECF6",
            "gridcolor": "white",
            "gridwidth": 2,
            "linecolor": "white",
            "showbackground": true,
            "ticks": "",
            "zerolinecolor": "white"
           },
           "yaxis": {
            "backgroundcolor": "#E5ECF6",
            "gridcolor": "white",
            "gridwidth": 2,
            "linecolor": "white",
            "showbackground": true,
            "ticks": "",
            "zerolinecolor": "white"
           },
           "zaxis": {
            "backgroundcolor": "#E5ECF6",
            "gridcolor": "white",
            "gridwidth": 2,
            "linecolor": "white",
            "showbackground": true,
            "ticks": "",
            "zerolinecolor": "white"
           }
          },
          "shapedefaults": {
           "line": {
            "color": "#2a3f5f"
           }
          },
          "ternary": {
           "aaxis": {
            "gridcolor": "white",
            "linecolor": "white",
            "ticks": ""
           },
           "baxis": {
            "gridcolor": "white",
            "linecolor": "white",
            "ticks": ""
           },
           "bgcolor": "#E5ECF6",
           "caxis": {
            "gridcolor": "white",
            "linecolor": "white",
            "ticks": ""
           }
          },
          "title": {
           "x": 0.05
          },
          "xaxis": {
           "automargin": true,
           "gridcolor": "white",
           "linecolor": "white",
           "ticks": "",
           "title": {
            "standoff": 15
           },
           "zerolinecolor": "white",
           "zerolinewidth": 2
          },
          "yaxis": {
           "automargin": true,
           "gridcolor": "white",
           "linecolor": "white",
           "ticks": "",
           "title": {
            "standoff": 15
           },
           "zerolinecolor": "white",
           "zerolinewidth": 2
          }
         }
        },
        "xaxis": {
         "anchor": "y",
         "domain": [
          0,
          1
         ],
         "title": {
          "text": "date"
         }
        },
        "yaxis": {
         "anchor": "x",
         "domain": [
          0,
          1
         ],
         "title": {
          "text": "cnt"
         }
        }
       }
      }
     },
     "metadata": {},
     "output_type": "display_data"
    }
   ],
   "source": [
    "cnt_news = df_news_likes[['Date']].groupby(['Date'])['Date'].count()\n",
    "cnt_news = pd.DataFrame({'date':cnt_news.index, 'cnt':cnt_news.values})\n",
    "\n",
    "fig4 = px.scatter(cnt_news, x=\"date\", y=\"cnt\", color='cnt')\n",
    "fig4.show()"
   ]
  },
  {
   "cell_type": "code",
   "execution_count": 67,
   "metadata": {},
   "outputs": [
    {
     "data": {
      "application/vnd.plotly.v1+json": {
       "config": {
        "plotlyServerURL": "https://plot.ly"
       },
       "data": [
        {
         "name": "Hate Amount",
         "type": "scatter",
         "x": [
          "2022-01-01T00:00:00",
          "2022-01-02T00:00:00",
          "2022-01-03T00:00:00",
          "2022-01-04T00:00:00",
          "2022-01-05T00:00:00",
          "2022-01-06T00:00:00",
          "2022-01-07T00:00:00",
          "2022-01-08T00:00:00",
          "2022-01-09T00:00:00",
          "2022-01-10T00:00:00",
          "2022-01-11T00:00:00",
          "2022-01-12T00:00:00",
          "2022-01-13T00:00:00",
          "2022-01-14T00:00:00",
          "2022-01-15T00:00:00",
          "2022-01-16T00:00:00",
          "2022-01-17T00:00:00",
          "2022-01-18T00:00:00",
          "2022-01-19T00:00:00",
          "2022-01-20T00:00:00",
          "2022-01-21T00:00:00",
          "2022-01-22T00:00:00",
          "2022-01-23T00:00:00",
          "2022-01-24T00:00:00",
          "2022-01-25T00:00:00",
          "2022-01-26T00:00:00",
          "2022-01-27T00:00:00",
          "2022-01-28T00:00:00",
          "2022-01-29T00:00:00",
          "2022-01-30T00:00:00",
          "2022-01-31T00:00:00",
          "2022-02-01T00:00:00",
          "2022-02-02T00:00:00",
          "2022-02-03T00:00:00",
          "2022-02-04T00:00:00",
          "2022-02-05T00:00:00",
          "2022-02-06T00:00:00",
          "2022-02-07T00:00:00",
          "2022-02-08T00:00:00",
          "2022-02-09T00:00:00",
          "2022-02-10T00:00:00",
          "2022-02-11T00:00:00",
          "2022-02-12T00:00:00",
          "2022-02-13T00:00:00",
          "2022-02-14T00:00:00",
          "2022-02-15T00:00:00",
          "2022-02-16T00:00:00",
          "2022-02-17T00:00:00",
          "2022-02-18T00:00:00",
          "2022-02-19T00:00:00",
          "2022-02-20T00:00:00",
          "2022-02-21T00:00:00",
          "2022-02-22T00:00:00",
          "2022-02-23T00:00:00",
          "2022-02-24T00:00:00",
          "2022-02-25T00:00:00",
          "2022-02-26T00:00:00",
          "2022-02-27T00:00:00",
          "2022-02-28T00:00:00",
          "2022-03-01T00:00:00",
          "2022-03-02T00:00:00",
          "2022-03-03T00:00:00",
          "2022-03-04T00:00:00",
          "2022-03-05T00:00:00",
          "2022-03-06T00:00:00",
          "2022-03-07T00:00:00",
          "2022-03-08T00:00:00",
          "2022-03-09T00:00:00",
          "2022-03-10T00:00:00",
          "2022-03-11T00:00:00",
          "2022-03-12T00:00:00",
          "2022-03-13T00:00:00",
          "2022-03-14T00:00:00",
          "2022-03-15T00:00:00",
          "2022-03-16T00:00:00",
          "2022-03-17T00:00:00",
          "2022-03-18T00:00:00",
          "2022-03-19T00:00:00",
          "2022-03-20T00:00:00",
          "2022-03-21T00:00:00",
          "2022-03-22T00:00:00",
          "2022-03-23T00:00:00",
          "2022-03-24T00:00:00",
          "2022-03-25T00:00:00",
          "2022-03-26T00:00:00",
          "2022-03-27T00:00:00",
          "2022-03-28T00:00:00",
          "2022-03-29T00:00:00",
          "2022-03-30T00:00:00",
          "2022-03-31T00:00:00",
          "2022-04-01T00:00:00",
          "2022-04-02T00:00:00",
          "2022-04-03T00:00:00",
          "2022-04-04T00:00:00",
          "2022-04-05T00:00:00",
          "2022-04-06T00:00:00",
          "2022-04-07T00:00:00",
          "2022-04-08T00:00:00",
          "2022-04-09T00:00:00",
          "2022-04-10T00:00:00",
          "2022-04-11T00:00:00",
          "2022-04-12T00:00:00",
          "2022-04-13T00:00:00",
          "2022-04-14T00:00:00",
          "2022-04-15T00:00:00",
          "2022-04-16T00:00:00",
          "2022-04-17T00:00:00",
          "2022-04-18T00:00:00",
          "2022-04-19T00:00:00",
          "2022-04-20T00:00:00",
          "2022-04-21T00:00:00",
          "2022-04-22T00:00:00",
          "2022-04-23T00:00:00",
          "2022-04-24T00:00:00",
          "2022-04-25T00:00:00",
          "2022-04-26T00:00:00",
          "2022-04-27T00:00:00",
          "2022-04-28T00:00:00",
          "2022-04-29T00:00:00",
          "2022-04-30T00:00:00",
          "2022-05-01T00:00:00",
          "2022-05-02T00:00:00",
          "2022-05-03T00:00:00",
          "2022-05-04T00:00:00",
          "2022-05-05T00:00:00",
          "2022-05-06T00:00:00",
          "2022-05-07T00:00:00",
          "2022-05-08T00:00:00",
          "2022-05-09T00:00:00",
          "2022-05-10T00:00:00",
          "2022-05-11T00:00:00",
          "2022-05-12T00:00:00",
          "2022-05-13T00:00:00",
          "2022-05-14T00:00:00",
          "2022-05-15T00:00:00",
          "2022-05-16T00:00:00",
          "2022-05-17T00:00:00",
          "2022-05-18T00:00:00",
          "2022-05-19T00:00:00",
          "2022-05-20T00:00:00",
          "2022-05-21T00:00:00",
          "2022-05-22T00:00:00",
          "2022-05-23T00:00:00",
          "2022-05-24T00:00:00",
          "2022-05-25T00:00:00",
          "2022-05-26T00:00:00",
          "2022-05-27T00:00:00",
          "2022-05-28T00:00:00",
          "2022-05-29T00:00:00",
          "2022-05-30T00:00:00",
          "2022-05-31T00:00:00",
          "2022-06-01T00:00:00",
          "2022-06-02T00:00:00",
          "2022-06-03T00:00:00",
          "2022-06-04T00:00:00",
          "2022-06-05T00:00:00",
          "2022-06-06T00:00:00",
          "2022-06-07T00:00:00",
          "2022-06-08T00:00:00",
          "2022-06-09T00:00:00",
          "2022-06-10T00:00:00",
          "2022-06-11T00:00:00",
          "2022-06-12T00:00:00",
          "2022-06-13T00:00:00",
          "2022-06-14T00:00:00",
          "2022-06-15T00:00:00",
          "2022-06-16T00:00:00",
          "2022-06-17T00:00:00",
          "2022-06-18T00:00:00",
          "2022-06-19T00:00:00",
          "2022-06-20T00:00:00",
          "2022-06-21T00:00:00",
          "2022-06-22T00:00:00",
          "2022-06-23T00:00:00",
          "2022-06-24T00:00:00",
          "2022-06-25T00:00:00",
          "2022-06-26T00:00:00",
          "2022-06-27T00:00:00",
          "2022-06-28T00:00:00",
          "2022-06-29T00:00:00",
          "2022-06-30T00:00:00",
          "2022-07-01T00:00:00",
          "2022-07-02T00:00:00",
          "2022-07-03T00:00:00",
          "2022-07-04T00:00:00",
          "2022-07-05T00:00:00",
          "2022-07-06T00:00:00",
          "2022-07-07T00:00:00",
          "2022-07-08T00:00:00",
          "2022-07-09T00:00:00",
          "2022-07-10T00:00:00",
          "2022-07-11T00:00:00",
          "2022-07-12T00:00:00",
          "2022-07-13T00:00:00",
          "2022-07-14T00:00:00",
          "2022-07-15T00:00:00",
          "2022-07-16T00:00:00",
          "2022-07-17T00:00:00",
          "2022-07-18T00:00:00",
          "2022-07-19T00:00:00",
          "2022-07-20T00:00:00",
          "2022-07-21T00:00:00",
          "2022-07-22T00:00:00",
          "2022-07-23T00:00:00",
          "2022-07-24T00:00:00",
          "2022-07-25T00:00:00",
          "2022-07-26T00:00:00",
          "2022-07-27T00:00:00",
          "2022-07-28T00:00:00",
          "2022-07-29T00:00:00",
          "2022-07-30T00:00:00",
          "2022-07-31T00:00:00",
          "2022-08-01T00:00:00",
          "2022-08-02T00:00:00",
          "2022-08-03T00:00:00",
          "2022-08-04T00:00:00",
          "2022-08-05T00:00:00",
          "2022-08-06T00:00:00",
          "2022-08-07T00:00:00",
          "2022-08-08T00:00:00",
          "2022-08-09T00:00:00",
          "2022-08-10T00:00:00",
          "2022-08-11T00:00:00",
          "2022-08-12T00:00:00",
          "2022-08-13T00:00:00",
          "2022-08-14T00:00:00",
          "2022-08-15T00:00:00",
          "2022-08-16T00:00:00",
          "2022-08-17T00:00:00",
          "2022-08-18T00:00:00",
          "2022-08-19T00:00:00",
          "2022-08-20T00:00:00",
          "2022-08-21T00:00:00",
          "2022-08-22T00:00:00",
          "2022-08-23T00:00:00",
          "2022-08-24T00:00:00",
          "2022-08-25T00:00:00",
          "2022-08-26T00:00:00",
          "2022-08-27T00:00:00",
          "2022-08-28T00:00:00",
          "2022-08-29T00:00:00",
          "2022-08-30T00:00:00",
          "2022-08-31T00:00:00",
          "2022-09-01T00:00:00",
          "2022-09-02T00:00:00",
          "2022-09-03T00:00:00",
          "2022-09-04T00:00:00",
          "2022-09-05T00:00:00",
          "2022-09-06T00:00:00",
          "2022-09-07T00:00:00",
          "2022-09-08T00:00:00",
          "2022-09-09T00:00:00",
          "2022-09-10T00:00:00",
          "2022-09-11T00:00:00",
          "2022-09-12T00:00:00",
          "2022-09-13T00:00:00",
          "2022-09-14T00:00:00",
          "2022-09-15T00:00:00",
          "2022-09-16T00:00:00",
          "2022-09-17T00:00:00",
          "2022-09-18T00:00:00",
          "2022-09-19T00:00:00",
          "2022-09-20T00:00:00",
          "2022-09-21T00:00:00",
          "2022-09-22T00:00:00",
          "2022-09-23T00:00:00",
          "2022-09-24T00:00:00",
          "2022-09-25T00:00:00",
          "2022-09-26T00:00:00",
          "2022-09-27T00:00:00",
          "2022-09-28T00:00:00",
          "2022-09-29T00:00:00",
          "2022-09-30T00:00:00",
          "2022-10-01T00:00:00",
          "2022-10-02T00:00:00",
          "2022-10-03T00:00:00",
          "2022-10-04T00:00:00",
          "2022-10-05T00:00:00",
          "2022-10-06T00:00:00",
          "2022-10-07T00:00:00",
          "2022-10-08T00:00:00",
          "2022-10-09T00:00:00",
          "2022-10-10T00:00:00",
          "2022-10-11T00:00:00",
          "2022-10-12T00:00:00",
          "2022-10-13T00:00:00",
          "2022-10-14T00:00:00",
          "2022-10-15T00:00:00",
          "2022-10-16T00:00:00",
          "2022-10-17T00:00:00",
          "2022-10-18T00:00:00",
          "2022-10-19T00:00:00",
          "2022-10-20T00:00:00",
          "2022-10-21T00:00:00",
          "2022-10-22T00:00:00",
          "2022-10-23T00:00:00",
          "2022-10-24T00:00:00",
          "2022-10-25T00:00:00",
          "2022-10-26T00:00:00",
          "2022-10-27T00:00:00",
          "2022-10-28T00:00:00",
          "2022-10-29T00:00:00",
          "2022-10-30T00:00:00",
          "2022-10-31T00:00:00",
          "2022-11-01T00:00:00",
          "2022-11-02T00:00:00",
          "2022-11-03T00:00:00",
          "2022-11-04T00:00:00",
          "2022-11-05T00:00:00",
          "2022-11-06T00:00:00",
          "2022-11-07T00:00:00",
          "2022-11-08T00:00:00",
          "2022-11-09T00:00:00",
          "2022-11-10T00:00:00",
          "2022-11-11T00:00:00",
          "2022-11-12T00:00:00",
          "2022-11-13T00:00:00",
          "2022-11-14T00:00:00",
          "2022-11-15T00:00:00",
          "2022-11-16T00:00:00",
          "2022-11-17T00:00:00",
          "2022-11-18T00:00:00",
          "2022-11-19T00:00:00",
          "2022-11-20T00:00:00",
          "2022-11-21T00:00:00",
          "2022-11-22T00:00:00",
          "2022-11-23T00:00:00",
          "2022-11-24T00:00:00",
          "2022-11-25T00:00:00",
          "2022-11-26T00:00:00",
          "2022-11-27T00:00:00",
          "2022-11-28T00:00:00",
          "2022-11-29T00:00:00",
          "2022-11-30T00:00:00",
          "2022-12-01T00:00:00",
          "2022-12-02T00:00:00",
          "2022-12-03T00:00:00",
          "2022-12-04T00:00:00",
          "2022-12-05T00:00:00",
          "2022-12-06T00:00:00",
          "2022-12-07T00:00:00",
          "2022-12-08T00:00:00",
          "2022-12-09T00:00:00",
          "2022-12-10T00:00:00",
          "2022-12-11T00:00:00",
          "2022-12-12T00:00:00",
          "2022-12-13T00:00:00",
          "2022-12-14T00:00:00",
          "2022-12-15T00:00:00",
          "2022-12-16T00:00:00",
          "2022-12-17T00:00:00",
          "2022-12-18T00:00:00",
          "2022-12-19T00:00:00",
          "2022-12-20T00:00:00",
          "2022-12-21T00:00:00",
          "2022-12-22T00:00:00",
          "2022-12-23T00:00:00",
          "2022-12-24T00:00:00",
          "2022-12-25T00:00:00",
          "2022-12-26T00:00:00",
          "2022-12-27T00:00:00",
          "2022-12-28T00:00:00",
          "2022-12-29T00:00:00",
          "2022-12-30T00:00:00",
          "2022-12-31T00:00:00",
          "2023-01-01T00:00:00",
          "2023-01-02T00:00:00",
          "2023-01-03T00:00:00",
          "2023-01-04T00:00:00",
          "2023-01-05T00:00:00",
          "2023-01-06T00:00:00",
          "2023-01-07T00:00:00",
          "2023-01-08T00:00:00",
          "2023-01-09T00:00:00",
          "2023-01-10T00:00:00",
          "2023-01-11T00:00:00",
          "2023-01-12T00:00:00",
          "2023-01-13T00:00:00",
          "2023-01-14T00:00:00",
          "2023-01-15T00:00:00",
          "2023-01-16T00:00:00",
          "2023-01-17T00:00:00",
          "2023-01-18T00:00:00",
          "2023-01-19T00:00:00",
          "2023-01-20T00:00:00",
          "2023-01-21T00:00:00",
          "2023-01-22T00:00:00",
          "2023-01-23T00:00:00",
          "2023-01-24T00:00:00",
          "2023-01-25T00:00:00",
          "2023-01-26T00:00:00",
          "2023-01-27T00:00:00",
          "2023-01-28T00:00:00",
          "2023-01-29T00:00:00",
          "2023-01-30T00:00:00",
          "2023-01-31T00:00:00",
          "2023-02-01T00:00:00",
          "2023-02-02T00:00:00",
          "2023-02-03T00:00:00",
          "2023-02-04T00:00:00",
          "2023-02-05T00:00:00",
          "2023-02-06T00:00:00",
          "2023-02-07T00:00:00",
          "2023-02-08T00:00:00",
          "2023-02-09T00:00:00",
          "2023-02-10T00:00:00",
          "2023-02-11T00:00:00",
          "2023-02-12T00:00:00",
          "2023-02-13T00:00:00",
          "2023-02-14T00:00:00",
          "2023-02-15T00:00:00",
          "2023-02-16T00:00:00",
          "2023-02-17T00:00:00",
          "2023-02-18T00:00:00",
          "2023-02-19T00:00:00",
          "2023-02-20T00:00:00",
          "2023-02-21T00:00:00",
          "2023-02-22T00:00:00",
          "2023-02-23T00:00:00",
          "2023-02-24T00:00:00",
          "2023-02-25T00:00:00",
          "2023-02-26T00:00:00",
          "2023-02-27T00:00:00",
          "2023-02-28T00:00:00",
          "2023-03-01T00:00:00",
          "2023-03-02T00:00:00",
          "2023-03-03T00:00:00",
          "2023-03-04T00:00:00",
          "2023-03-05T00:00:00",
          "2023-03-06T00:00:00",
          "2023-03-07T00:00:00",
          "2023-03-08T00:00:00",
          "2023-03-09T00:00:00",
          "2023-03-10T00:00:00",
          "2023-03-11T00:00:00",
          "2023-03-12T00:00:00",
          "2023-03-13T00:00:00",
          "2023-03-14T00:00:00",
          "2023-03-15T00:00:00",
          "2023-03-16T00:00:00",
          "2023-03-17T00:00:00",
          "2023-03-18T00:00:00",
          "2023-03-19T00:00:00",
          "2023-03-20T00:00:00",
          "2023-03-21T00:00:00",
          "2023-03-22T00:00:00",
          "2023-03-23T00:00:00",
          "2023-03-24T00:00:00",
          "2023-03-25T00:00:00",
          "2023-03-26T00:00:00",
          "2023-03-27T00:00:00",
          "2023-03-28T00:00:00",
          "2023-03-29T00:00:00",
          "2023-03-30T00:00:00",
          "2023-03-31T00:00:00",
          "2023-04-01T00:00:00",
          "2023-04-02T00:00:00",
          "2023-04-03T00:00:00",
          "2023-04-04T00:00:00",
          "2023-04-05T00:00:00",
          "2023-04-06T00:00:00",
          "2023-04-07T00:00:00",
          "2023-04-08T00:00:00",
          "2023-04-09T00:00:00",
          "2023-04-10T00:00:00",
          "2023-04-11T00:00:00",
          "2023-04-12T00:00:00",
          "2023-04-13T00:00:00",
          "2023-04-14T00:00:00",
          "2023-04-15T00:00:00",
          "2023-04-16T00:00:00",
          "2023-04-17T00:00:00",
          "2023-04-18T00:00:00",
          "2023-04-19T00:00:00",
          "2023-04-20T00:00:00",
          "2023-04-21T00:00:00",
          "2023-04-22T00:00:00",
          "2023-04-23T00:00:00",
          "2023-04-24T00:00:00",
          "2023-04-25T00:00:00",
          "2023-04-26T00:00:00",
          "2023-04-27T00:00:00",
          "2023-04-28T00:00:00",
          "2023-04-29T00:00:00"
         ],
         "xaxis": "x",
         "y": [
          68,
          43,
          79,
          37,
          65,
          57,
          73,
          77,
          77,
          85,
          60,
          74,
          78,
          37,
          63,
          73,
          72,
          62,
          73,
          89,
          61,
          44,
          108,
          93,
          34,
          91,
          57,
          97,
          73,
          67,
          71,
          76,
          90,
          62,
          92,
          65,
          80,
          64,
          74,
          61,
          79,
          61,
          69,
          74,
          78,
          81,
          74,
          77,
          82,
          81,
          75,
          37,
          91,
          90,
          116,
          110,
          100,
          90,
          83,
          80,
          70,
          104,
          105,
          126,
          91,
          108,
          87,
          100,
          158,
          105,
          114,
          96,
          104,
          97,
          117,
          109,
          112,
          107,
          94,
          108,
          102,
          109,
          89,
          57,
          101,
          92,
          85,
          102,
          80,
          107,
          106,
          118,
          108,
          115,
          117,
          104,
          96,
          119,
          105,
          99,
          116,
          85,
          120,
          101,
          95,
          76,
          99,
          98,
          112,
          104,
          103,
          110,
          112,
          111,
          95,
          110,
          117,
          115,
          94,
          95,
          106,
          94,
          115,
          106,
          91,
          117,
          104,
          113,
          89,
          118,
          117,
          120,
          132,
          134,
          116,
          96,
          102,
          120,
          129,
          106,
          118,
          84,
          102,
          134,
          126,
          116,
          112,
          126,
          96,
          90,
          106,
          126,
          108,
          93,
          99,
          127,
          103,
          125,
          104,
          105,
          121,
          89,
          108,
          108,
          102,
          98,
          132,
          111,
          87,
          104,
          114,
          122,
          142,
          123,
          124,
          118,
          86,
          128,
          109,
          99,
          117,
          126,
          99,
          97,
          117,
          117,
          101,
          37,
          2,
          116,
          113,
          109,
          119,
          90,
          143,
          99,
          101,
          114,
          105,
          81,
          109,
          87,
          101,
          105,
          100,
          102,
          98,
          132,
          122,
          155,
          137,
          129,
          144,
          84,
          117,
          83,
          147,
          154,
          132,
          166,
          147,
          126,
          158,
          124,
          134,
          129,
          130,
          135,
          136,
          122,
          124,
          127,
          127,
          131,
          107,
          161,
          131,
          132,
          127,
          119,
          118,
          123,
          111,
          116,
          161,
          139,
          91,
          87,
          149,
          123,
          84,
          89,
          106,
          107,
          3,
          109,
          85,
          116,
          116,
          125,
          124,
          136,
          112,
          97,
          99,
          137,
          110,
          111,
          111,
          90,
          125,
          121,
          113,
          132,
          123,
          130,
          141,
          129,
          122,
          145,
          131,
          111,
          135,
          154,
          145,
          145,
          124,
          112,
          129,
          129,
          115,
          113,
          130,
          129,
          129,
          139,
          142,
          143,
          131,
          104,
          118,
          128,
          118,
          116,
          119,
          132,
          123,
          1,
          144,
          91,
          110,
          134,
          107,
          116,
          118,
          131,
          116,
          148,
          153,
          156,
          125,
          158,
          136,
          152,
          77,
          166,
          145,
          141,
          122,
          137,
          141,
          39,
          129,
          77,
          129,
          176,
          157,
          126,
          145,
          141,
          137,
          157,
          133,
          152,
          144,
          118,
          156,
          140,
          134,
          170,
          141,
          157,
          139,
          152,
          173,
          175,
          174,
          159,
          135,
          146,
          135,
          159,
          142,
          140,
          188,
          141,
          134,
          144,
          137,
          127,
          142,
          171,
          124,
          139,
          144,
          160,
          165,
          130,
          186,
          176,
          159,
          119,
          127,
          131,
          132,
          139,
          140,
          111,
          136,
          152,
          146,
          149,
          125,
          123,
          120,
          137,
          141,
          145,
          131,
          138,
          145,
          141,
          124,
          141,
          143,
          157,
          148,
          155,
          146,
          160,
          127,
          137,
          156,
          158,
          135,
          174,
          154,
          168,
          146,
          184,
          196,
          158,
          152,
          210,
          198,
          74,
          133,
          146,
          159,
          157,
          177,
          155,
          184,
          129,
          179,
          139,
          128,
          152,
          161,
          160,
          152,
          158,
          133,
          142,
          156,
          127,
          130,
          145,
          167,
          170,
          165,
          167,
          157,
          172,
          163,
          166,
          148,
          167,
          168,
          153,
          170,
          159,
          171,
          157,
          144,
          173,
          160,
          199,
          44,
          163,
          149,
          161,
          164,
          167,
          150,
          147,
          172,
          161,
          159,
          187,
          146,
          145,
          201,
          158
         ],
         "yaxis": "y"
        },
        {
         "name": "Max Likes News",
         "type": "scatter",
         "x": [
          "2022-01-01 ",
          "2022-01-02 ",
          "2022-01-03 ",
          "2022-01-04 ",
          "2022-01-05 ",
          "2022-01-06 ",
          "2022-01-07 ",
          "2022-01-08 ",
          "2022-01-09 ",
          "2022-01-10 ",
          "2022-01-11 ",
          "2022-01-12 ",
          "2022-01-13 ",
          "2022-01-14 ",
          "2022-01-15 ",
          "2022-01-16 ",
          "2022-01-17 ",
          "2022-01-18 ",
          "2022-01-19 ",
          "2022-01-20 ",
          "2022-01-21 ",
          "2022-01-22 ",
          "2022-01-23 ",
          "2022-01-24 ",
          "2022-01-25 ",
          "2022-01-26 ",
          "2022-01-27 ",
          "2022-01-28 ",
          "2022-01-29 ",
          "2022-01-30 ",
          "2022-01-31 ",
          "2022-02-01 ",
          "2022-02-02 ",
          "2022-02-03 ",
          "2022-02-04 ",
          "2022-02-05 ",
          "2022-02-06 ",
          "2022-02-07 ",
          "2022-02-08 ",
          "2022-02-09 ",
          "2022-02-10 ",
          "2022-02-11 ",
          "2022-02-12 ",
          "2022-02-13 ",
          "2022-02-14 ",
          "2022-02-15 ",
          "2022-02-16 ",
          "2022-02-17 ",
          "2022-02-18 ",
          "2022-02-19 ",
          "2022-02-20 ",
          "2022-02-21 ",
          "2022-02-22 ",
          "2022-02-23 ",
          "2022-02-24 ",
          "2022-02-25 ",
          "2022-02-26 ",
          "2022-02-27 ",
          "2022-02-28 ",
          "2022-03-01 ",
          "2022-03-02 ",
          "2022-03-03 ",
          "2022-03-04 ",
          "2022-03-05 ",
          "2022-03-06 ",
          "2022-03-07 ",
          "2022-03-08 ",
          "2022-03-09 ",
          "2022-03-10 ",
          "2022-03-11 ",
          "2022-03-12 ",
          "2022-03-13 ",
          "2022-03-14 ",
          "2022-03-15 ",
          "2022-03-16 ",
          "2022-03-17 ",
          "2022-03-18 ",
          "2022-03-19 ",
          "2022-03-20 ",
          "2022-03-21 ",
          "2022-03-22 ",
          "2022-03-23 ",
          "2022-03-24 ",
          "2022-03-25 ",
          "2022-03-26 ",
          "2022-03-27 ",
          "2022-03-28 ",
          "2022-03-29 ",
          "2022-03-30 ",
          "2022-03-31 ",
          "2022-04-01 ",
          "2022-04-02 ",
          "2022-04-03 ",
          "2022-04-04 ",
          "2022-04-05 ",
          "2022-04-06 ",
          "2022-04-07 ",
          "2022-04-08 ",
          "2022-04-09 ",
          "2022-04-10 ",
          "2022-04-11 ",
          "2022-04-12 ",
          "2022-04-13 ",
          "2022-04-14 ",
          "2022-04-15 ",
          "2022-04-16 ",
          "2022-04-17 ",
          "2022-04-18 ",
          "2022-04-19 ",
          "2022-04-20 ",
          "2022-04-21 ",
          "2022-04-22 ",
          "2022-04-23 ",
          "2022-04-24 ",
          "2022-04-25 ",
          "2022-04-26 ",
          "2022-04-27 ",
          "2022-04-28 ",
          "2022-04-29 ",
          "2022-04-30 ",
          "2022-05-01 ",
          "2022-05-02 ",
          "2022-05-03 ",
          "2022-05-04 ",
          "2022-05-05 ",
          "2022-05-06 ",
          "2022-05-07 ",
          "2022-05-08 ",
          "2022-05-09 ",
          "2022-05-10 ",
          "2022-05-11 ",
          "2022-05-12 ",
          "2022-05-13 ",
          "2022-05-14 ",
          "2022-05-15 ",
          "2022-05-16 ",
          "2022-05-17 ",
          "2022-05-18 ",
          "2022-05-19 ",
          "2022-05-20 ",
          "2022-05-21 ",
          "2022-05-22 ",
          "2022-05-23 ",
          "2022-05-24 ",
          "2022-05-25 ",
          "2022-05-26 ",
          "2022-05-27 ",
          "2022-05-28 ",
          "2022-05-29 ",
          "2022-05-30 ",
          "2022-05-31 ",
          "2022-06-01 ",
          "2022-06-02 ",
          "2022-06-03 ",
          "2022-06-04 ",
          "2022-06-05 ",
          "2022-06-06 ",
          "2022-06-07 ",
          "2022-06-08 ",
          "2022-06-09 ",
          "2022-06-10 ",
          "2022-06-11 ",
          "2022-06-12 ",
          "2022-06-13 ",
          "2022-06-14 ",
          "2022-06-15 ",
          "2022-06-16 ",
          "2022-06-17 ",
          "2022-06-18 ",
          "2022-06-19 ",
          "2022-06-20 ",
          "2022-06-21 ",
          "2022-06-22 ",
          "2022-06-23 ",
          "2022-06-24 ",
          "2022-06-25 ",
          "2022-06-26 ",
          "2022-06-27 ",
          "2022-06-28 ",
          "2022-06-29 ",
          "2022-06-30 ",
          "2022-07-01 ",
          "2022-07-02 ",
          "2022-07-03 ",
          "2022-07-04 ",
          "2022-07-05 ",
          "2022-07-06 ",
          "2022-07-07 ",
          "2022-07-08 ",
          "2022-07-09 ",
          "2022-07-10 ",
          "2022-07-11 ",
          "2022-07-12 ",
          "2022-07-13 ",
          "2022-07-14 ",
          "2022-07-15 ",
          "2022-07-16 ",
          "2022-07-17 ",
          "2022-07-18 ",
          "2022-07-19 ",
          "2022-07-20 ",
          "2022-07-21 ",
          "2022-07-22 ",
          "2022-07-23 ",
          "2022-07-24 ",
          "2022-07-25 ",
          "2022-07-26 ",
          "2022-07-27 ",
          "2022-07-28 ",
          "2022-07-29 ",
          "2022-07-30 ",
          "2022-07-31 ",
          "2022-08-01 ",
          "2022-08-02 ",
          "2022-08-03 ",
          "2022-08-04 ",
          "2022-08-05 ",
          "2022-08-06 ",
          "2022-08-07 ",
          "2022-08-08 ",
          "2022-08-09 ",
          "2022-08-10 ",
          "2022-08-11 ",
          "2022-08-12 ",
          "2022-08-13 ",
          "2022-08-14 ",
          "2022-08-15 ",
          "2022-08-16 ",
          "2022-08-17 ",
          "2022-08-18 ",
          "2022-08-19 ",
          "2022-08-20 ",
          "2022-08-21 ",
          "2022-08-22 ",
          "2022-08-23 ",
          "2022-08-24 ",
          "2022-08-25 ",
          "2022-08-26 ",
          "2022-08-27 ",
          "2022-08-28 ",
          "2022-08-29 ",
          "2022-08-30 ",
          "2022-08-31 ",
          "2022-09-01 ",
          "2022-09-02 ",
          "2022-09-03 ",
          "2022-09-04 ",
          "2022-09-05 ",
          "2022-09-06 ",
          "2022-09-07 ",
          "2022-09-08 ",
          "2022-09-09 ",
          "2022-09-10 ",
          "2022-09-11 ",
          "2022-09-12 ",
          "2022-09-13 ",
          "2022-09-14 ",
          "2022-09-15 ",
          "2022-09-16 ",
          "2022-09-17 ",
          "2022-09-18 ",
          "2022-09-19 ",
          "2022-09-20 ",
          "2022-09-21 ",
          "2022-09-22 ",
          "2022-09-23 ",
          "2022-09-24 ",
          "2022-09-25 ",
          "2022-09-26 ",
          "2022-09-27 ",
          "2022-09-28 ",
          "2022-09-29 ",
          "2022-09-30 ",
          "2022-10-01 ",
          "2022-10-02 ",
          "2022-10-03 ",
          "2022-10-04 ",
          "2022-10-05 ",
          "2022-10-06 ",
          "2022-10-07 ",
          "2022-10-08 ",
          "2022-10-09 ",
          "2022-10-10 ",
          "2022-10-11 ",
          "2022-10-12 ",
          "2022-10-13 ",
          "2022-10-14 ",
          "2022-10-15 ",
          "2022-10-16 ",
          "2022-10-17 ",
          "2022-10-18 ",
          "2022-10-19 ",
          "2022-10-20 ",
          "2022-10-21 ",
          "2022-10-22 ",
          "2022-10-23 ",
          "2022-10-24 ",
          "2022-10-25 ",
          "2022-10-26 ",
          "2022-10-27 ",
          "2022-10-28 ",
          "2022-10-29 ",
          "2022-10-30 ",
          "2022-10-31 ",
          "2022-11-01 ",
          "2022-11-02 ",
          "2022-11-03 ",
          "2022-11-04 ",
          "2022-11-05 ",
          "2022-11-06 ",
          "2022-11-07 ",
          "2022-11-08 ",
          "2022-11-09 ",
          "2022-11-10 ",
          "2022-11-11 ",
          "2022-11-12 ",
          "2022-11-13 ",
          "2022-11-14 ",
          "2022-11-15 ",
          "2022-11-16 ",
          "2022-11-17 ",
          "2022-11-18 ",
          "2022-11-19 ",
          "2022-11-20 ",
          "2022-11-21 ",
          "2022-11-22 ",
          "2022-11-23 ",
          "2022-11-24 ",
          "2022-11-25 ",
          "2022-11-26 ",
          "2022-11-27 ",
          "2022-11-28 ",
          "2022-11-29 ",
          "2022-11-30 ",
          "2022-12-01 ",
          "2022-12-02 ",
          "2022-12-03 ",
          "2022-12-04 ",
          "2022-12-05 ",
          "2022-12-06 ",
          "2022-12-07 ",
          "2022-12-08 ",
          "2022-12-09 ",
          "2022-12-10 ",
          "2022-12-11 ",
          "2022-12-12 ",
          "2022-12-13 ",
          "2022-12-14 ",
          "2022-12-15 ",
          "2022-12-16 ",
          "2022-12-17 ",
          "2022-12-18 ",
          "2022-12-19 ",
          "2022-12-20 ",
          "2022-12-21 ",
          "2022-12-22 ",
          "2022-12-23 ",
          "2022-12-24 ",
          "2022-12-25 ",
          "2022-12-26 ",
          "2022-12-27 ",
          "2022-12-28 ",
          "2022-12-29 ",
          "2022-12-30 ",
          "2022-12-31 ",
          "2023-01-01 ",
          "2023-01-02 ",
          "2023-01-03 ",
          "2023-01-04 ",
          "2023-01-05 ",
          "2023-01-06 ",
          "2023-01-07 ",
          "2023-01-08 ",
          "2023-01-09 ",
          "2023-01-10 ",
          "2023-01-11 ",
          "2023-01-12 ",
          "2023-01-13 ",
          "2023-01-14 ",
          "2023-01-15 ",
          "2023-01-16 ",
          "2023-01-17 ",
          "2023-01-18 ",
          "2023-01-19 ",
          "2023-01-20 ",
          "2023-01-21 ",
          "2023-01-22 ",
          "2023-01-23 ",
          "2023-01-24 ",
          "2023-01-25 ",
          "2023-01-26 ",
          "2023-01-27 ",
          "2023-01-28 ",
          "2023-01-29 ",
          "2023-01-30 ",
          "2023-01-31 ",
          "2023-02-01 ",
          "2023-02-02 ",
          "2023-02-03 ",
          "2023-02-04 ",
          "2023-02-05 ",
          "2023-02-06 ",
          "2023-02-07 ",
          "2023-02-08 ",
          "2023-02-09 ",
          "2023-02-10 ",
          "2023-02-11 ",
          "2023-02-12 ",
          "2023-02-13 ",
          "2023-02-14 ",
          "2023-02-15 ",
          "2023-02-16 ",
          "2023-02-17 ",
          "2023-02-18 ",
          "2023-02-19 ",
          "2023-02-20 ",
          "2023-02-21 ",
          "2023-02-22 ",
          "2023-02-23 ",
          "2023-02-24 ",
          "2023-02-25 ",
          "2023-02-26 ",
          "2023-02-27 ",
          "2023-02-28 ",
          "2023-03-01 ",
          "2023-03-02 ",
          "2023-03-03 ",
          "2023-03-04 ",
          "2023-03-05 ",
          "2023-03-06 ",
          "2023-03-07 ",
          "2023-03-08 ",
          "2023-03-09 ",
          "2023-03-10 ",
          "2023-03-11 ",
          "2023-03-12 ",
          "2023-03-13 ",
          "2023-03-14 ",
          "2023-03-15 ",
          "2023-03-16 ",
          "2023-03-17 ",
          "2023-03-18 ",
          "2023-03-19 ",
          "2023-03-20 ",
          "2023-03-21 ",
          "2023-03-22 ",
          "2023-03-23 ",
          "2023-03-24 ",
          "2023-03-25 ",
          "2023-03-26 ",
          "2023-03-27 ",
          "2023-03-28 ",
          "2023-03-29 ",
          "2023-03-30 ",
          "2023-03-31 ",
          "2023-04-01 ",
          "2023-04-02 ",
          "2023-04-03 ",
          "2023-04-04 ",
          "2023-04-05 ",
          "2023-04-06 ",
          "2023-04-07 ",
          "2023-04-08 ",
          "2023-04-09 ",
          "2023-04-10 ",
          "2023-04-11 ",
          "2023-04-12 ",
          "2023-04-13 ",
          "2023-04-14 ",
          "2023-04-15 ",
          "2023-04-16 ",
          "2023-04-17 ",
          "2023-04-18 ",
          "2023-04-19 ",
          "2023-04-20 ",
          "2023-04-21 ",
          "2023-04-22 ",
          "2023-04-23 ",
          "2023-04-24 ",
          "2023-04-25 ",
          "2023-04-26 ",
          "2023-04-27 ",
          "2023-04-28 ",
          "2023-04-29 "
         ],
         "xaxis": "x",
         "y": [
          266.3333333333333,
          234.85714285714286,
          137.375,
          98.55555555555556,
          69.9090909090909,
          162.20833333333334,
          77.6086956521739,
          55,
          46.27777777777778,
          53.96153846153846,
          86.95238095238095,
          100.03225806451613,
          70.1842105263158,
          83.19444444444444,
          97.06896551724138,
          85.44444444444444,
          151.45454545454547,
          112.11764705882354,
          81.33333333333333,
          102,
          172.96428571428572,
          136.33333333333334,
          133.7027027027027,
          220.87234042553192,
          171.69444444444446,
          137.83132530120483,
          121.84615384615384,
          189.67105263157896,
          152.1764705882353,
          136.64,
          81.91836734693878,
          113.61016949152543,
          189.98181818181817,
          104.64583333333333,
          143.96341463414635,
          110.64,
          197.5909090909091,
          156.03571428571428,
          103.84905660377359,
          84.92105263157895,
          112.625,
          196.78021978021977,
          149.02857142857144,
          170.1090909090909,
          136.81553398058253,
          149.98095238095237,
          141.26666666666668,
          139.20560747663552,
          120.47252747252747,
          185.69026548672565,
          228.05797101449275,
          214.4857142857143,
          328.1921397379913,
          206.1849710982659,
          848.5482233502538,
          818.2574525745257,
          1104.0862745098038,
          1126.4139344262296,
          706.2755417956656,
          687.9285714285714,
          598.9207920792079,
          666.3697183098592,
          607.1143790849674,
          754.5128205128206,
          736.9938271604939,
          452.74901960784314,
          464.81412639405204,
          409.95,
          372.3562753036437,
          408.72727272727275,
          422.97333333333336,
          594.9791666666666,
          401.18518518518516,
          458.3333333333333,
          641.648,
          443.2843137254902,
          422.89344262295083,
          575.3157894736842,
          707.2142857142857,
          386.8484848484849,
          464.92857142857144,
          403.91752577319585,
          420.9059829059829,
          335.6393442622951,
          513.175,
          517.241935483871,
          242.37037037037038,
          243.04819277108433,
          185.1958762886598,
          314.3762376237624,
          258.25,
          272.7846153846154,
          450.2156862745098,
          432.57894736842104,
          496.3191489361702,
          298.66346153846155,
          282.0983606557377,
          310.0967741935484,
          411.1777777777778,
          538.1636363636363,
          476.4805194805195,
          319.17977528089887,
          384.58620689655174,
          279.3030303030303,
          249.53571428571428,
          412.4736842105263,
          404.8181818181818,
          266.5571428571429,
          209.044776119403,
          197.87878787878788,
          304.91764705882355,
          267.61971830985914,
          301.6666666666667,
          236.52941176470588,
          241.72222222222223,
          318.1111111111111,
          137.8421052631579,
          346.9102564102564,
          201.35443037974684,
          472.19444444444446,
          378.7317073170732,
          146.83783783783784,
          252.32692307692307,
          358.27272727272725,
          152.82142857142858,
          309.7931034482759,
          372.61290322580646,
          546.0833333333334,
          358.95604395604397,
          204.24285714285713,
          183.5909090909091,
          326.77777777777777,
          188.82142857142858,
          443.77777777777777,
          279.5128205128205,
          564.5084745762712,
          261,
          195.625,
          688.0508474576271,
          114.50819672131148,
          343.48275862068965,
          314.34375,
          186.20634920634922,
          181.05128205128204,
          198.89830508474577,
          185.51612903225808,
          290.30232558139534,
          442.97297297297297,
          570.12,
          274.6607142857143,
          210.93617021276594,
          176.25454545454545,
          374.734693877551,
          200.23636363636365,
          459.34615384615387,
          211.93548387096774,
          403.9375,
          471.57142857142856,
          127.0677966101695,
          220,
          230.9607843137255,
          418.78125,
          251.56,
          173.4814814814815,
          230.84615384615384,
          123.67441860465117,
          193.88135593220338,
          206.98076923076923,
          492.2,
          249.13793103448276,
          310.3478260869565,
          257.3728813559322,
          238,
          192.135593220339,
          342.46875,
          228.2058823529412,
          270.2162162162162,
          201.5,
          160.28846153846155,
          209.5625,
          206.88888888888889,
          172.84444444444443,
          165.45454545454547,
          121.72727272727273,
          185.07142857142858,
          137.97619047619048,
          122.64864864864865,
          192.65217391304347,
          118.82758620689656,
          147.85,
          124.28571428571429,
          164.38095238095238,
          235.26190476190476,
          103.24137931034483,
          218.07142857142858,
          229.68421052631578,
          158.25,
          178.8695652173913,
          133,
          167.78571428571428,
          111.96610169491525,
          132.03508771929825,
          227.64,
          254.96296296296296,
          202.1304347826087,
          131.6086956521739,
          140.64705882352942,
          175.79545454545453,
          158.6078431372549,
          141,
          317.05555555555554,
          194.92307692307693,
          248.35294117647058,
          250.16666666666666,
          143.66666666666666,
          125.1063829787234,
          149.88888888888889,
          150.1578947368421,
          163.78947368421052,
          146.86206896551724,
          180.775,
          488.0857142857143,
          171.44444444444446,
          153.02439024390245,
          116.42857142857143,
          161,
          405.40625,
          162.2608695652174,
          168.5142857142857,
          92.76923076923077,
          447.84,
          201.53571428571428,
          168.7391304347826,
          143.23684210526315,
          206.17777777777778,
          174.65822784810126,
          176.09803921568627,
          286.72727272727275,
          146.58333333333334,
          44.1764705882353,
          107.61764705882354,
          220.91379310344828,
          154.66153846153847,
          123.57142857142857,
          56.18181818181818,
          127.37037037037037,
          207.8095238095238,
          171.88571428571427,
          140.5121951219512,
          180.49019607843138,
          217.78125,
          150.7,
          278.72727272727275,
          210.16666666666666,
          130.4181818181818,
          219.672131147541,
          567.55,
          218.6888888888889,
          237.96428571428572,
          220.65384615384616,
          247.03125,
          149.59375,
          234.03225806451613,
          242.35714285714286,
          306.53968253968253,
          248.83050847457628,
          309.0952380952381,
          424.2121212121212,
          216.63513513513513,
          165.1060606060606,
          192.475,
          169.03333333333333,
          242.98507462686567,
          179.8181818181818,
          184.11111111111111,
          652.1153846153846,
          193.82978723404256,
          239.19444444444446,
          100.25,
          285.61224489795916,
          347.27777777777777,
          222.92307692307693,
          485.77272727272725,
          189.6851851851852,
          140.71428571428572,
          223.0857142857143,
          195.4516129032258,
          407.9583333333333,
          137.46153846153845,
          122.53846153846153,
          190.8,
          140.25,
          175.93103448275863,
          158.85714285714286,
          67.95454545454545,
          136.53333333333333,
          78.11764705882354,
          111.08,
          290.6216216216216,
          217,
          95,
          39.3125,
          139.0909090909091,
          120.92857142857143,
          182.66666666666666,
          107.15151515151516,
          48.03846153846154,
          147.6216216216216,
          133.82608695652175,
          51.11764705882353,
          74.37037037037037,
          452.67857142857144,
          388.67857142857144,
          184,
          156.58064516129033,
          377.57142857142856,
          273.7391304347826,
          228.775,
          331.69565217391306,
          121.16326530612245,
          96.1951219512195,
          140.58620689655172,
          200.04347826086956,
          83.375,
          113.57142857142857,
          62.69230769230769,
          105.91304347826087,
          526.53125,
          176.1153846153846,
          141.58333333333334,
          149,
          89.78947368421052,
          75.125,
          69.0625,
          116.625,
          289.7083333333333,
          174.66666666666666,
          118.19047619047619,
          94.64516129032258,
          77.54901960784314,
          1661.1739130434783,
          180.25,
          176.79166666666666,
          99.18181818181819,
          149.61111111111111,
          170.89655172413794,
          86.5,
          81.47727272727273,
          60.8,
          111,
          240.16666666666666,
          216,
          102.17857142857143,
          101.16666666666667,
          324.6578947368421,
          335.62,
          97.58064516129032,
          73.375,
          445.26666666666665,
          100.57692307692308,
          92.47368421052632,
          93.0909090909091,
          92.4090909090909,
          93.51851851851852,
          140.11764705882354,
          460.53333333333336,
          239.57142857142858,
          124.18181818181819,
          93.41379310344827,
          88.27272727272727,
          103.37837837837837,
          109.76923076923077,
          164.35714285714286,
          66.55555555555556,
          53.27272727272727,
          59.225806451612904,
          66.34782608695652,
          62.38461538461539,
          174.07142857142858,
          97.22222222222223,
          59.96969696969697,
          88.0909090909091,
          63.86486486486486,
          70.82857142857142,
          77.3529411764706,
          41.31578947368421,
          132.4375,
          96.38888888888889,
          118.5,
          149.20833333333334,
          97,
          63.32258064516129,
          139.625,
          298.57142857142856,
          256.51851851851853,
          65.89285714285714,
          171.19354838709677,
          117.79310344827586,
          126.5,
          51.35294117647059,
          86.08333333333333,
          88.75,
          47.714285714285715,
          125.5,
          92.51428571428572,
          121.20588235294117,
          89.5625,
          92.76470588235294,
          81.91891891891892,
          98.79411764705883,
          68.46153846153847,
          144.17857142857142,
          138.32203389830508,
          268.65384615384613,
          312.2608695652174,
          252.41304347826087,
          199.08955223880596,
          99.90697674418605,
          294.72857142857146,
          185.04545454545453,
          168.8409090909091,
          205.77777777777777,
          75.28571428571429,
          111.16216216216216,
          67.65625,
          196.48888888888888,
          82.63157894736842,
          122.1875,
          275.10526315789474,
          70.51612903225806,
          98.80555555555556,
          103.5,
          157.9795918367347,
          120.9047619047619,
          115,
          86.2,
          176.64285714285714,
          105.54166666666667,
          83.73333333333333,
          124.63157894736842,
          461.35185185185185,
          301.9130434782609,
          150.35714285714286,
          166.33333333333334,
          335.3611111111111,
          144,
          121.0952380952381,
          76.66666666666667,
          160.04761904761904,
          221.9,
          800.304347826087,
          120,
          73.71875,
          145.26829268292684,
          100.40625,
          170.64285714285714,
          106,
          92,
          119.46666666666667,
          141.96774193548387,
          172.90322580645162,
          98.70588235294117,
          177.92857142857142,
          190.4375,
          107.1923076923077,
          108.38297872340425,
          116.2439024390244,
          88.6,
          143.43333333333334,
          66.14285714285714,
          126.85714285714286,
          108.03333333333333,
          126.11111111111111,
          161.58064516129033,
          76.33333333333333,
          197.03846153846155,
          74.72,
          46.57142857142857,
          65.70588235294117,
          61.15,
          98.71428571428571,
          86.71794871794872,
          74.55882352941177,
          225.44444444444446
         ],
         "yaxis": "y2"
        }
       ],
       "layout": {
        "template": {
         "data": {
          "bar": [
           {
            "error_x": {
             "color": "#2a3f5f"
            },
            "error_y": {
             "color": "#2a3f5f"
            },
            "marker": {
             "line": {
              "color": "#E5ECF6",
              "width": 0.5
             },
             "pattern": {
              "fillmode": "overlay",
              "size": 10,
              "solidity": 0.2
             }
            },
            "type": "bar"
           }
          ],
          "barpolar": [
           {
            "marker": {
             "line": {
              "color": "#E5ECF6",
              "width": 0.5
             },
             "pattern": {
              "fillmode": "overlay",
              "size": 10,
              "solidity": 0.2
             }
            },
            "type": "barpolar"
           }
          ],
          "carpet": [
           {
            "aaxis": {
             "endlinecolor": "#2a3f5f",
             "gridcolor": "white",
             "linecolor": "white",
             "minorgridcolor": "white",
             "startlinecolor": "#2a3f5f"
            },
            "baxis": {
             "endlinecolor": "#2a3f5f",
             "gridcolor": "white",
             "linecolor": "white",
             "minorgridcolor": "white",
             "startlinecolor": "#2a3f5f"
            },
            "type": "carpet"
           }
          ],
          "choropleth": [
           {
            "colorbar": {
             "outlinewidth": 0,
             "ticks": ""
            },
            "type": "choropleth"
           }
          ],
          "contour": [
           {
            "colorbar": {
             "outlinewidth": 0,
             "ticks": ""
            },
            "colorscale": [
             [
              0,
              "#0d0887"
             ],
             [
              0.1111111111111111,
              "#46039f"
             ],
             [
              0.2222222222222222,
              "#7201a8"
             ],
             [
              0.3333333333333333,
              "#9c179e"
             ],
             [
              0.4444444444444444,
              "#bd3786"
             ],
             [
              0.5555555555555556,
              "#d8576b"
             ],
             [
              0.6666666666666666,
              "#ed7953"
             ],
             [
              0.7777777777777778,
              "#fb9f3a"
             ],
             [
              0.8888888888888888,
              "#fdca26"
             ],
             [
              1,
              "#f0f921"
             ]
            ],
            "type": "contour"
           }
          ],
          "contourcarpet": [
           {
            "colorbar": {
             "outlinewidth": 0,
             "ticks": ""
            },
            "type": "contourcarpet"
           }
          ],
          "heatmap": [
           {
            "colorbar": {
             "outlinewidth": 0,
             "ticks": ""
            },
            "colorscale": [
             [
              0,
              "#0d0887"
             ],
             [
              0.1111111111111111,
              "#46039f"
             ],
             [
              0.2222222222222222,
              "#7201a8"
             ],
             [
              0.3333333333333333,
              "#9c179e"
             ],
             [
              0.4444444444444444,
              "#bd3786"
             ],
             [
              0.5555555555555556,
              "#d8576b"
             ],
             [
              0.6666666666666666,
              "#ed7953"
             ],
             [
              0.7777777777777778,
              "#fb9f3a"
             ],
             [
              0.8888888888888888,
              "#fdca26"
             ],
             [
              1,
              "#f0f921"
             ]
            ],
            "type": "heatmap"
           }
          ],
          "heatmapgl": [
           {
            "colorbar": {
             "outlinewidth": 0,
             "ticks": ""
            },
            "colorscale": [
             [
              0,
              "#0d0887"
             ],
             [
              0.1111111111111111,
              "#46039f"
             ],
             [
              0.2222222222222222,
              "#7201a8"
             ],
             [
              0.3333333333333333,
              "#9c179e"
             ],
             [
              0.4444444444444444,
              "#bd3786"
             ],
             [
              0.5555555555555556,
              "#d8576b"
             ],
             [
              0.6666666666666666,
              "#ed7953"
             ],
             [
              0.7777777777777778,
              "#fb9f3a"
             ],
             [
              0.8888888888888888,
              "#fdca26"
             ],
             [
              1,
              "#f0f921"
             ]
            ],
            "type": "heatmapgl"
           }
          ],
          "histogram": [
           {
            "marker": {
             "pattern": {
              "fillmode": "overlay",
              "size": 10,
              "solidity": 0.2
             }
            },
            "type": "histogram"
           }
          ],
          "histogram2d": [
           {
            "colorbar": {
             "outlinewidth": 0,
             "ticks": ""
            },
            "colorscale": [
             [
              0,
              "#0d0887"
             ],
             [
              0.1111111111111111,
              "#46039f"
             ],
             [
              0.2222222222222222,
              "#7201a8"
             ],
             [
              0.3333333333333333,
              "#9c179e"
             ],
             [
              0.4444444444444444,
              "#bd3786"
             ],
             [
              0.5555555555555556,
              "#d8576b"
             ],
             [
              0.6666666666666666,
              "#ed7953"
             ],
             [
              0.7777777777777778,
              "#fb9f3a"
             ],
             [
              0.8888888888888888,
              "#fdca26"
             ],
             [
              1,
              "#f0f921"
             ]
            ],
            "type": "histogram2d"
           }
          ],
          "histogram2dcontour": [
           {
            "colorbar": {
             "outlinewidth": 0,
             "ticks": ""
            },
            "colorscale": [
             [
              0,
              "#0d0887"
             ],
             [
              0.1111111111111111,
              "#46039f"
             ],
             [
              0.2222222222222222,
              "#7201a8"
             ],
             [
              0.3333333333333333,
              "#9c179e"
             ],
             [
              0.4444444444444444,
              "#bd3786"
             ],
             [
              0.5555555555555556,
              "#d8576b"
             ],
             [
              0.6666666666666666,
              "#ed7953"
             ],
             [
              0.7777777777777778,
              "#fb9f3a"
             ],
             [
              0.8888888888888888,
              "#fdca26"
             ],
             [
              1,
              "#f0f921"
             ]
            ],
            "type": "histogram2dcontour"
           }
          ],
          "mesh3d": [
           {
            "colorbar": {
             "outlinewidth": 0,
             "ticks": ""
            },
            "type": "mesh3d"
           }
          ],
          "parcoords": [
           {
            "line": {
             "colorbar": {
              "outlinewidth": 0,
              "ticks": ""
             }
            },
            "type": "parcoords"
           }
          ],
          "pie": [
           {
            "automargin": true,
            "type": "pie"
           }
          ],
          "scatter": [
           {
            "fillpattern": {
             "fillmode": "overlay",
             "size": 10,
             "solidity": 0.2
            },
            "type": "scatter"
           }
          ],
          "scatter3d": [
           {
            "line": {
             "colorbar": {
              "outlinewidth": 0,
              "ticks": ""
             }
            },
            "marker": {
             "colorbar": {
              "outlinewidth": 0,
              "ticks": ""
             }
            },
            "type": "scatter3d"
           }
          ],
          "scattercarpet": [
           {
            "marker": {
             "colorbar": {
              "outlinewidth": 0,
              "ticks": ""
             }
            },
            "type": "scattercarpet"
           }
          ],
          "scattergeo": [
           {
            "marker": {
             "colorbar": {
              "outlinewidth": 0,
              "ticks": ""
             }
            },
            "type": "scattergeo"
           }
          ],
          "scattergl": [
           {
            "marker": {
             "colorbar": {
              "outlinewidth": 0,
              "ticks": ""
             }
            },
            "type": "scattergl"
           }
          ],
          "scattermapbox": [
           {
            "marker": {
             "colorbar": {
              "outlinewidth": 0,
              "ticks": ""
             }
            },
            "type": "scattermapbox"
           }
          ],
          "scatterpolar": [
           {
            "marker": {
             "colorbar": {
              "outlinewidth": 0,
              "ticks": ""
             }
            },
            "type": "scatterpolar"
           }
          ],
          "scatterpolargl": [
           {
            "marker": {
             "colorbar": {
              "outlinewidth": 0,
              "ticks": ""
             }
            },
            "type": "scatterpolargl"
           }
          ],
          "scatterternary": [
           {
            "marker": {
             "colorbar": {
              "outlinewidth": 0,
              "ticks": ""
             }
            },
            "type": "scatterternary"
           }
          ],
          "surface": [
           {
            "colorbar": {
             "outlinewidth": 0,
             "ticks": ""
            },
            "colorscale": [
             [
              0,
              "#0d0887"
             ],
             [
              0.1111111111111111,
              "#46039f"
             ],
             [
              0.2222222222222222,
              "#7201a8"
             ],
             [
              0.3333333333333333,
              "#9c179e"
             ],
             [
              0.4444444444444444,
              "#bd3786"
             ],
             [
              0.5555555555555556,
              "#d8576b"
             ],
             [
              0.6666666666666666,
              "#ed7953"
             ],
             [
              0.7777777777777778,
              "#fb9f3a"
             ],
             [
              0.8888888888888888,
              "#fdca26"
             ],
             [
              1,
              "#f0f921"
             ]
            ],
            "type": "surface"
           }
          ],
          "table": [
           {
            "cells": {
             "fill": {
              "color": "#EBF0F8"
             },
             "line": {
              "color": "white"
             }
            },
            "header": {
             "fill": {
              "color": "#C8D4E3"
             },
             "line": {
              "color": "white"
             }
            },
            "type": "table"
           }
          ]
         },
         "layout": {
          "annotationdefaults": {
           "arrowcolor": "#2a3f5f",
           "arrowhead": 0,
           "arrowwidth": 1
          },
          "autotypenumbers": "strict",
          "coloraxis": {
           "colorbar": {
            "outlinewidth": 0,
            "ticks": ""
           }
          },
          "colorscale": {
           "diverging": [
            [
             0,
             "#8e0152"
            ],
            [
             0.1,
             "#c51b7d"
            ],
            [
             0.2,
             "#de77ae"
            ],
            [
             0.3,
             "#f1b6da"
            ],
            [
             0.4,
             "#fde0ef"
            ],
            [
             0.5,
             "#f7f7f7"
            ],
            [
             0.6,
             "#e6f5d0"
            ],
            [
             0.7,
             "#b8e186"
            ],
            [
             0.8,
             "#7fbc41"
            ],
            [
             0.9,
             "#4d9221"
            ],
            [
             1,
             "#276419"
            ]
           ],
           "sequential": [
            [
             0,
             "#0d0887"
            ],
            [
             0.1111111111111111,
             "#46039f"
            ],
            [
             0.2222222222222222,
             "#7201a8"
            ],
            [
             0.3333333333333333,
             "#9c179e"
            ],
            [
             0.4444444444444444,
             "#bd3786"
            ],
            [
             0.5555555555555556,
             "#d8576b"
            ],
            [
             0.6666666666666666,
             "#ed7953"
            ],
            [
             0.7777777777777778,
             "#fb9f3a"
            ],
            [
             0.8888888888888888,
             "#fdca26"
            ],
            [
             1,
             "#f0f921"
            ]
           ],
           "sequentialminus": [
            [
             0,
             "#0d0887"
            ],
            [
             0.1111111111111111,
             "#46039f"
            ],
            [
             0.2222222222222222,
             "#7201a8"
            ],
            [
             0.3333333333333333,
             "#9c179e"
            ],
            [
             0.4444444444444444,
             "#bd3786"
            ],
            [
             0.5555555555555556,
             "#d8576b"
            ],
            [
             0.6666666666666666,
             "#ed7953"
            ],
            [
             0.7777777777777778,
             "#fb9f3a"
            ],
            [
             0.8888888888888888,
             "#fdca26"
            ],
            [
             1,
             "#f0f921"
            ]
           ]
          },
          "colorway": [
           "#636efa",
           "#EF553B",
           "#00cc96",
           "#ab63fa",
           "#FFA15A",
           "#19d3f3",
           "#FF6692",
           "#B6E880",
           "#FF97FF",
           "#FECB52"
          ],
          "font": {
           "color": "#2a3f5f"
          },
          "geo": {
           "bgcolor": "white",
           "lakecolor": "white",
           "landcolor": "#E5ECF6",
           "showlakes": true,
           "showland": true,
           "subunitcolor": "white"
          },
          "hoverlabel": {
           "align": "left"
          },
          "hovermode": "closest",
          "mapbox": {
           "style": "light"
          },
          "paper_bgcolor": "white",
          "plot_bgcolor": "#E5ECF6",
          "polar": {
           "angularaxis": {
            "gridcolor": "white",
            "linecolor": "white",
            "ticks": ""
           },
           "bgcolor": "#E5ECF6",
           "radialaxis": {
            "gridcolor": "white",
            "linecolor": "white",
            "ticks": ""
           }
          },
          "scene": {
           "xaxis": {
            "backgroundcolor": "#E5ECF6",
            "gridcolor": "white",
            "gridwidth": 2,
            "linecolor": "white",
            "showbackground": true,
            "ticks": "",
            "zerolinecolor": "white"
           },
           "yaxis": {
            "backgroundcolor": "#E5ECF6",
            "gridcolor": "white",
            "gridwidth": 2,
            "linecolor": "white",
            "showbackground": true,
            "ticks": "",
            "zerolinecolor": "white"
           },
           "zaxis": {
            "backgroundcolor": "#E5ECF6",
            "gridcolor": "white",
            "gridwidth": 2,
            "linecolor": "white",
            "showbackground": true,
            "ticks": "",
            "zerolinecolor": "white"
           }
          },
          "shapedefaults": {
           "line": {
            "color": "#2a3f5f"
           }
          },
          "ternary": {
           "aaxis": {
            "gridcolor": "white",
            "linecolor": "white",
            "ticks": ""
           },
           "baxis": {
            "gridcolor": "white",
            "linecolor": "white",
            "ticks": ""
           },
           "bgcolor": "#E5ECF6",
           "caxis": {
            "gridcolor": "white",
            "linecolor": "white",
            "ticks": ""
           }
          },
          "title": {
           "x": 0.05
          },
          "xaxis": {
           "automargin": true,
           "gridcolor": "white",
           "linecolor": "white",
           "ticks": "",
           "title": {
            "standoff": 15
           },
           "zerolinecolor": "white",
           "zerolinewidth": 2
          },
          "yaxis": {
           "automargin": true,
           "gridcolor": "white",
           "linecolor": "white",
           "ticks": "",
           "title": {
            "standoff": 15
           },
           "zerolinecolor": "white",
           "zerolinewidth": 2
          }
         }
        },
        "xaxis": {
         "anchor": "y",
         "domain": [
          0,
          0.94
         ]
        },
        "yaxis": {
         "anchor": "x",
         "domain": [
          0,
          1
         ]
        },
        "yaxis2": {
         "anchor": "x",
         "overlaying": "y",
         "side": "right"
        }
       }
      }
     },
     "metadata": {},
     "output_type": "display_data"
    }
   ],
   "source": [
    "import plotly.graph_objects as go\n",
    "from plotly.subplots import make_subplots\n",
    "\n",
    "# Create figure with secondary y-axis\n",
    "fig_double = make_subplots(specs=[[{\"secondary_y\": True}]])\n",
    "\n",
    "# Add traces\n",
    "fig_double.add_trace(\n",
    "    go.Scatter(x=cnt['date'], y=cnt['cnt'], name=\"Hate Amount\"),\n",
    "    secondary_y=False,\n",
    ")\n",
    "\n",
    "fig_double.add_trace(\n",
    "    go.Scatter(x=avg_news['date'], y=avg_news['avg'], name=\"Max Likes News\"),\n",
    "    secondary_y=True,\n",
    ")\n",
    "\n",
    "fig_double.show()"
   ]
  }
 ],
 "metadata": {
  "kernelspec": {
   "display_name": "tr10",
   "language": "python",
   "name": "python3"
  },
  "language_info": {
   "codemirror_mode": {
    "name": "ipython",
    "version": 3
   },
   "file_extension": ".py",
   "mimetype": "text/x-python",
   "name": "python",
   "nbconvert_exporter": "python",
   "pygments_lexer": "ipython3",
   "version": "3.10.11"
  },
  "orig_nbformat": 4
 },
 "nbformat": 4,
 "nbformat_minor": 2
}
